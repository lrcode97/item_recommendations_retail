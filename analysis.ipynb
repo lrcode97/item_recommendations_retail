{
 "cells": [
  {
   "cell_type": "markdown",
   "metadata": {},
   "source": [
    "Imports"
   ]
  },
  {
   "cell_type": "code",
   "execution_count": 1,
   "metadata": {},
   "outputs": [],
   "source": [
    "from IPython.display import display, HTML\n",
    "import pandas as pd\n",
    "import numpy as np\n",
    "from pathlib import Path\n",
    "import plotly.express as px\n",
    "import plotly.graph_objects as go\n",
    "import plotly.io as pio\n",
    "\n",
    "pio.renderers.default = \"vscode\""
   ]
  },
  {
   "cell_type": "code",
   "execution_count": 2,
   "metadata": {},
   "outputs": [],
   "source": [
    "def table(df):\n",
    "    df_copy = df.head(300).copy()\n",
    "    display(HTML(\"\"\"\n",
    "        <style>\n",
    "            .dataframe-container {\n",
    "                height: 400px;\n",
    "                overflow: auto;\n",
    "                width: 100%;\n",
    "            }\n",
    "            .dataframe {\n",
    "                table-layout: fixed;\n",
    "                width: 100%;\n",
    "            }\n",
    "            .dataframe td, .dataframe th {\n",
    "                white-space: normal;\n",
    "                word-wrap: break-word;\n",
    "                word-break: break-word;\n",
    "                max-width: 150px; /* Adjust this value as needed */\n",
    "                overflow: hidden;\n",
    "                text-overflow: ellipsis;\n",
    "            }\n",
    "        </style>\n",
    "        <div class='dataframe-container'>\n",
    "            \"\"\" + df_copy.style.set_table_attributes(\"class='dataframe'\").to_html() + \"\"\"\n",
    "        </div>\n",
    "    \"\"\"))"
   ]
  },
  {
   "cell_type": "markdown",
   "metadata": {},
   "source": [
    "Loading data"
   ]
  },
  {
   "cell_type": "code",
   "execution_count": 3,
   "metadata": {},
   "outputs": [
    {
     "data": {
      "text/plain": [
       "PosixPath('/Users/lawrence/Documents/PYTHON/item_recommendations_retail/data')"
      ]
     },
     "execution_count": 3,
     "metadata": {},
     "output_type": "execute_result"
    }
   ],
   "source": [
    "data_dir = Path.cwd() / \"data\"\n",
    "data_dir"
   ]
  },
  {
   "cell_type": "code",
   "execution_count": 4,
   "metadata": {},
   "outputs": [
    {
     "data": {
      "text/plain": [
       "[PosixPath('/Users/lawrence/Documents/PYTHON/item_recommendations_retail/data/recommendations_main.csv'),\n",
       " PosixPath('/Users/lawrence/Documents/PYTHON/item_recommendations_retail/data/custs.csv'),\n",
       " PosixPath('/Users/lawrence/Documents/PYTHON/item_recommendations_retail/data/lift.csv'),\n",
       " PosixPath('/Users/lawrence/Documents/PYTHON/item_recommendations_retail/data/items.csv')]"
      ]
     },
     "execution_count": 4,
     "metadata": {},
     "output_type": "execute_result"
    }
   ],
   "source": [
    "files = list(data_dir.iterdir())\n",
    "files"
   ]
  },
  {
   "cell_type": "code",
   "execution_count": 5,
   "metadata": {},
   "outputs": [],
   "source": [
    "custs = pd.read_csv(data_dir / \"custs.csv\")\n",
    "items = pd.read_csv(data_dir / \"items.csv\")\n",
    "lift = pd.read_csv(data_dir / \"lift.csv\")"
   ]
  },
  {
   "cell_type": "markdown",
   "metadata": {},
   "source": [
    "Shape, Size, Structure analysis"
   ]
  },
  {
   "cell_type": "code",
   "execution_count": 6,
   "metadata": {},
   "outputs": [],
   "source": [
    "def analyse_dataframe(df, name=\"DataFrame\"):\n",
    "    print(f\"Analysing {name} Dataframe...\\n \")\n",
    "    print(f\"Shape of {name}: {df.shape}\")\n",
    "    print(f\"\\nFirst 3 rows of {name}:\\n{df.head(3)}\")\n",
    "    print(f\"\\nInformation about {name}:\\n\")\n",
    "    df.info()\n",
    "    print(f\"\\nSummary statistics for numeric columns in {name}:\\n{df.describe()}\")\n",
    "    print(f\"\\nSummary statistics for categorical/object columns in {name}:\\n{df.describe(include=['object'])}\")\n",
    "    print(\"\\nAnalysis complete.\\n\")"
   ]
  },
  {
   "cell_type": "code",
   "execution_count": 7,
   "metadata": {},
   "outputs": [
    {
     "name": "stdout",
     "output_type": "stream",
     "text": [
      "Analysing Customer Data Dataframe...\n",
      " \n",
      "Shape of Customer Data: (6087, 4)\n",
      "\n",
      "First 3 rows of Customer Data:\n",
      "                                            CUSTOMER  \\\n",
      "0  39e6f5b384950dfad8db11f24e34e854c2fe3760e609a4...   \n",
      "1  3882495289f74388061d3943dabd78f4cd2f2dafc049fe...   \n",
      "2  db084e5ff7617f94bbe9162b853409b03c5adc457a3f8f...   \n",
      "\n",
      "                                                ITEM  QUANTITY  TRANSACTIONS  \n",
      "0  bb3ce5f621f4b58b31290e459c3a5031eafddd471ca6a7...       2.0             2  \n",
      "1  58d295a9cc71686effccdca857ad965dd34a3b634c54f9...      23.0             3  \n",
      "2  9275d19e0cb75654954f5a5c86ec6cb03060f72c962e62...       3.0             3  \n",
      "\n",
      "Information about Customer Data:\n",
      "\n",
      "<class 'pandas.core.frame.DataFrame'>\n",
      "RangeIndex: 6087 entries, 0 to 6086\n",
      "Data columns (total 4 columns):\n",
      " #   Column        Non-Null Count  Dtype  \n",
      "---  ------        --------------  -----  \n",
      " 0   CUSTOMER      6087 non-null   object \n",
      " 1   ITEM          6087 non-null   object \n",
      " 2   QUANTITY      6087 non-null   float64\n",
      " 3   TRANSACTIONS  6087 non-null   int64  \n",
      "dtypes: float64(1), int64(1), object(2)\n",
      "memory usage: 190.3+ KB\n",
      "\n",
      "Summary statistics for numeric columns in Customer Data:\n",
      "          QUANTITY  TRANSACTIONS\n",
      "count  6087.000000   6087.000000\n",
      "mean      3.746016      1.824380\n",
      "std       4.478732      1.116252\n",
      "min       1.000000      1.000000\n",
      "25%       1.000000      1.000000\n",
      "50%       2.000000      1.000000\n",
      "75%       4.000000      2.000000\n",
      "max      24.000000     14.000000\n",
      "\n",
      "Summary statistics for categorical/object columns in Customer Data:\n",
      "                                                 CUSTOMER  \\\n",
      "count                                                6087   \n",
      "unique                                               1000   \n",
      "top     c1089dfb1281824d12ab00e307de240a396e3f70da98ce...   \n",
      "freq                                                   19   \n",
      "\n",
      "                                                     ITEM  \n",
      "count                                                6087  \n",
      "unique                                                386  \n",
      "top     58d295a9cc71686effccdca857ad965dd34a3b634c54f9...  \n",
      "freq                                                  137  \n",
      "\n",
      "Analysis complete.\n",
      "\n"
     ]
    }
   ],
   "source": [
    "analyse_dataframe(custs, \"Customer Data\")"
   ]
  },
  {
   "cell_type": "markdown",
   "metadata": {},
   "source": [
    "## Analysis of the items data"
   ]
  },
  {
   "cell_type": "code",
   "execution_count": 8,
   "metadata": {},
   "outputs": [
    {
     "name": "stdout",
     "output_type": "stream",
     "text": [
      "Analysing Lift Data Dataframe...\n",
      " \n",
      "Shape of Lift Data: (395, 9)\n",
      "\n",
      "First 3 rows of Lift Data:\n",
      "                                                ITEM  QUANTITY  TRANSACTIONS  \\\n",
      "0  6446506d5cf328e5e4e0b47f3a2914a86d55b95e8b24f6...    4527.0          3354   \n",
      "1  abc0c83eaef2366dbec3b35a478c81547fc451f3666347...    2557.0          2124   \n",
      "2  63f3da95314c90b3195468322b10677a17a43d92b4dddc...    2343.0          1847   \n",
      "\n",
      "                             ITEM_NAME  \\\n",
      "0  Tena lady - extra plus duo pack x16   \n",
      "1                   Tena Lady Mini X20   \n",
      "2       Tena lady - extra duo pack x20   \n",
      "\n",
      "                                             SEGMENT  \\\n",
      "0  47fc30d2dfeaba94b1b61322cb705babf98b120dab4c89...   \n",
      "1  47fc30d2dfeaba94b1b61322cb705babf98b120dab4c89...   \n",
      "2  47fc30d2dfeaba94b1b61322cb705babf98b120dab4c89...   \n",
      "\n",
      "                                             SUB_CAT  \\\n",
      "0  581a25a4ede6489bea182a647896302985576f54f040c4...   \n",
      "1  581a25a4ede6489bea182a647896302985576f54f040c4...   \n",
      "2  581a25a4ede6489bea182a647896302985576f54f040c4...   \n",
      "\n",
      "                                                 CAT  \\\n",
      "0  5a1f6e711a956a3d6246d6dbccf78ee28f12aeffc07f9d...   \n",
      "1  5a1f6e711a956a3d6246d6dbccf78ee28f12aeffc07f9d...   \n",
      "2  5a1f6e711a956a3d6246d6dbccf78ee28f12aeffc07f9d...   \n",
      "\n",
      "                                           SUPER_CAT  \\\n",
      "0  5df3e4da2395aef5c8b3267b7253bb118eae178abf3d68...   \n",
      "1  5df3e4da2395aef5c8b3267b7253bb118eae178abf3d68...   \n",
      "2  5df3e4da2395aef5c8b3267b7253bb118eae178abf3d68...   \n",
      "\n",
      "   ITEM_TOTAL_WEIGHT_OR_VOL_QTY  \n",
      "0                          16.0  \n",
      "1                         150.0  \n",
      "2                         512.0  \n",
      "\n",
      "Information about Lift Data:\n",
      "\n",
      "<class 'pandas.core.frame.DataFrame'>\n",
      "RangeIndex: 395 entries, 0 to 394\n",
      "Data columns (total 9 columns):\n",
      " #   Column                        Non-Null Count  Dtype  \n",
      "---  ------                        --------------  -----  \n",
      " 0   ITEM                          395 non-null    object \n",
      " 1   QUANTITY                      395 non-null    float64\n",
      " 2   TRANSACTIONS                  395 non-null    int64  \n",
      " 3   ITEM_NAME                     395 non-null    object \n",
      " 4   SEGMENT                       395 non-null    object \n",
      " 5   SUB_CAT                       395 non-null    object \n",
      " 6   CAT                           395 non-null    object \n",
      " 7   SUPER_CAT                     395 non-null    object \n",
      " 8   ITEM_TOTAL_WEIGHT_OR_VOL_QTY  395 non-null    float64\n",
      "dtypes: float64(2), int64(1), object(6)\n",
      "memory usage: 27.9+ KB\n",
      "\n",
      "Summary statistics for numeric columns in Lift Data:\n",
      "           QUANTITY  TRANSACTIONS  ITEM_TOTAL_WEIGHT_OR_VOL_QTY\n",
      "count    395.000000    395.000000                    395.000000\n",
      "mean    4714.860759   3279.772152                    679.962962\n",
      "std     6955.674446   3796.539464                   1374.679634\n",
      "min        1.000000      1.000000                      0.110000\n",
      "25%     1844.500000   1492.500000                     90.000000\n",
      "50%     2660.000000   2039.000000                    250.000000\n",
      "75%     4402.500000   3320.000000                    625.000000\n",
      "max    73572.000000  35972.000000                   7920.000000\n",
      "\n",
      "Summary statistics for categorical/object columns in Lift Data:\n",
      "                                                     ITEM  \\\n",
      "count                                                 395   \n",
      "unique                                                395   \n",
      "top     6446506d5cf328e5e4e0b47f3a2914a86d55b95e8b24f6...   \n",
      "freq                                                    1   \n",
      "\n",
      "                                  ITEM_NAME  \\\n",
      "count                                   395   \n",
      "unique                                  395   \n",
      "top     Tena lady - extra plus duo pack x16   \n",
      "freq                                      1   \n",
      "\n",
      "                                                  SEGMENT  \\\n",
      "count                                                 395   \n",
      "unique                                                180   \n",
      "top     ed3ff3ca1cbcd7165660213cb782f7a7d0e15b279a8d98...   \n",
      "freq                                                   42   \n",
      "\n",
      "                                                  SUB_CAT  \\\n",
      "count                                                 395   \n",
      "unique                                                116   \n",
      "top     5610be2b7e5bd6934eef1f4501d180bd1ef7d8834e8960...   \n",
      "freq                                                   47   \n",
      "\n",
      "                                                      CAT  \\\n",
      "count                                                 395   \n",
      "unique                                                 71   \n",
      "top     8bf754f57d95e45c904217a724480ad69378d5ab5a9f24...   \n",
      "freq                                                   95   \n",
      "\n",
      "                                                SUPER_CAT  \n",
      "count                                                 395  \n",
      "unique                                                 27  \n",
      "top     5ffc1f1d48e32ed011478c1f2824079746972ee0f82c7a...  \n",
      "freq                                                  156  \n",
      "\n",
      "Analysis complete.\n",
      "\n"
     ]
    }
   ],
   "source": [
    "analyse_dataframe(items, \"Lift Data\")"
   ]
  },
  {
   "cell_type": "code",
   "execution_count": 9,
   "metadata": {},
   "outputs": [],
   "source": [
    "sorted_items = items[['SUB_CAT', 'CAT', 'SEGMENT', 'SUPER_CAT', 'ITEM_NAME']].sort_values(by=['SUB_CAT', 'CAT', 'SEGMENT', 'SUPER_CAT', 'ITEM_NAME'])"
   ]
  },
  {
   "cell_type": "code",
   "execution_count": 10,
   "metadata": {},
   "outputs": [
    {
     "data": {
      "text/html": [
       "\n",
       "        <style>\n",
       "            .dataframe-container {\n",
       "                height: 400px;\n",
       "                overflow: auto;\n",
       "                width: 100%;\n",
       "            }\n",
       "            .dataframe {\n",
       "                table-layout: fixed;\n",
       "                width: 100%;\n",
       "            }\n",
       "            .dataframe td, .dataframe th {\n",
       "                white-space: normal;\n",
       "                word-wrap: break-word;\n",
       "                word-break: break-word;\n",
       "                max-width: 150px; /* Adjust this value as needed */\n",
       "                overflow: hidden;\n",
       "                text-overflow: ellipsis;\n",
       "            }\n",
       "        </style>\n",
       "        <div class='dataframe-container'>\n",
       "            <style type=\"text/css\">\n",
       "</style>\n",
       "<table id=\"T_bf4aa\" class='dataframe'>\n",
       "  <thead>\n",
       "    <tr>\n",
       "      <th class=\"blank level0\" >&nbsp;</th>\n",
       "      <th id=\"T_bf4aa_level0_col0\" class=\"col_heading level0 col0\" >SUB_CAT</th>\n",
       "      <th id=\"T_bf4aa_level0_col1\" class=\"col_heading level0 col1\" >CAT</th>\n",
       "      <th id=\"T_bf4aa_level0_col2\" class=\"col_heading level0 col2\" >SEGMENT</th>\n",
       "      <th id=\"T_bf4aa_level0_col3\" class=\"col_heading level0 col3\" >SUPER_CAT</th>\n",
       "      <th id=\"T_bf4aa_level0_col4\" class=\"col_heading level0 col4\" >ITEM_NAME</th>\n",
       "    </tr>\n",
       "  </thead>\n",
       "  <tbody>\n",
       "    <tr>\n",
       "      <th id=\"T_bf4aa_level0_row0\" class=\"row_heading level0 row0\" >172</th>\n",
       "      <td id=\"T_bf4aa_row0_col0\" class=\"data row0 col0\" >01a99839cb7000d43f4a130546b196186da5652d7e551f3482d4376ba0916673</td>\n",
       "      <td id=\"T_bf4aa_row0_col1\" class=\"data row0 col1\" >f25e3c742faa61549cad7ba0e9112dd8aaf9d249407e06df804d18437b1f6a3c</td>\n",
       "      <td id=\"T_bf4aa_row0_col2\" class=\"data row0 col2\" >9542f03d2b6a971b0ffcd77119ea7ba3bf2f27f8b90725c5a838670d1d971862</td>\n",
       "      <td id=\"T_bf4aa_row0_col3\" class=\"data row0 col3\" >303d3bff03929ff76928fccc756ab6aa76afaee83eebe69b8302ea8844f5ac1f</td>\n",
       "      <td id=\"T_bf4aa_row0_col4\" class=\"data row0 col4\" >Pot Noodle King Pot Beef & Tomato 114g</td>\n",
       "    </tr>\n",
       "    <tr>\n",
       "      <th id=\"T_bf4aa_level0_row1\" class=\"row_heading level0 row1\" >305</th>\n",
       "      <td id=\"T_bf4aa_row1_col0\" class=\"data row1 col0\" >07f2777628f6d30dfbdcade46a7913c2ea6cdf145abace6a89df2429241d7c22</td>\n",
       "      <td id=\"T_bf4aa_row1_col1\" class=\"data row1 col1\" >94541ccaff23cee3cec8c3c40ddae8ea0ffe0763462571ab1153e370aa63fd68</td>\n",
       "      <td id=\"T_bf4aa_row1_col2\" class=\"data row1 col2\" >35bf297b046d0436b551d492ea06869a9a6997bdb08adcf97008366ae0303987</td>\n",
       "      <td id=\"T_bf4aa_row1_col3\" class=\"data row1 col3\" >303d3bff03929ff76928fccc756ab6aa76afaee83eebe69b8302ea8844f5ac1f</td>\n",
       "      <td id=\"T_bf4aa_row1_col4\" class=\"data row1 col4\" >Hubbards Pasta Shapes 1kg</td>\n",
       "    </tr>\n",
       "    <tr>\n",
       "      <th id=\"T_bf4aa_level0_row2\" class=\"row_heading level0 row2\" >310</th>\n",
       "      <td id=\"T_bf4aa_row2_col0\" class=\"data row2 col0\" >083b1bcdf8604abe9ad073177f099c2c9e45361a3c62e3bbd54fd914d5546f90</td>\n",
       "      <td id=\"T_bf4aa_row2_col1\" class=\"data row2 col1\" >8bf754f57d95e45c904217a724480ad69378d5ab5a9f243a6ceeec62d8838662</td>\n",
       "      <td id=\"T_bf4aa_row2_col2\" class=\"data row2 col2\" >16be8024fb14038b5509cc9a49fa7ce40b5549c4e7694044b21803ab2db0cf1a</td>\n",
       "      <td id=\"T_bf4aa_row2_col3\" class=\"data row2 col3\" >5ffc1f1d48e32ed011478c1f2824079746972ee0f82c7ad844e10077e505597e</td>\n",
       "      <td id=\"T_bf4aa_row2_col4\" class=\"data row2 col4\" >Bio Catolet paper cat litter 12L</td>\n",
       "    </tr>\n",
       "    <tr>\n",
       "      <th id=\"T_bf4aa_level0_row3\" class=\"row_heading level0 row3\" >317</th>\n",
       "      <td id=\"T_bf4aa_row3_col0\" class=\"data row3 col0\" >083b1bcdf8604abe9ad073177f099c2c9e45361a3c62e3bbd54fd914d5546f90</td>\n",
       "      <td id=\"T_bf4aa_row3_col1\" class=\"data row3 col1\" >8bf754f57d95e45c904217a724480ad69378d5ab5a9f243a6ceeec62d8838662</td>\n",
       "      <td id=\"T_bf4aa_row3_col2\" class=\"data row3 col2\" >16be8024fb14038b5509cc9a49fa7ce40b5549c4e7694044b21803ab2db0cf1a</td>\n",
       "      <td id=\"T_bf4aa_row3_col3\" class=\"data row3 col3\" >5ffc1f1d48e32ed011478c1f2824079746972ee0f82c7ad844e10077e505597e</td>\n",
       "      <td id=\"T_bf4aa_row3_col4\" class=\"data row3 col4\" >Catsan hygiene cat litter 10L</td>\n",
       "    </tr>\n",
       "    <tr>\n",
       "      <th id=\"T_bf4aa_level0_row4\" class=\"row_heading level0 row4\" >312</th>\n",
       "      <td id=\"T_bf4aa_row4_col0\" class=\"data row4 col0\" >083b1bcdf8604abe9ad073177f099c2c9e45361a3c62e3bbd54fd914d5546f90</td>\n",
       "      <td id=\"T_bf4aa_row4_col1\" class=\"data row4 col1\" >8bf754f57d95e45c904217a724480ad69378d5ab5a9f243a6ceeec62d8838662</td>\n",
       "      <td id=\"T_bf4aa_row4_col2\" class=\"data row4 col2\" >16be8024fb14038b5509cc9a49fa7ce40b5549c4e7694044b21803ab2db0cf1a</td>\n",
       "      <td id=\"T_bf4aa_row4_col3\" class=\"data row4 col3\" >5ffc1f1d48e32ed011478c1f2824079746972ee0f82c7ad844e10077e505597e</td>\n",
       "      <td id=\"T_bf4aa_row4_col4\" class=\"data row4 col4\" >Catsan hygiene cat litter 20L</td>\n",
       "    </tr>\n",
       "    <tr>\n",
       "      <th id=\"T_bf4aa_level0_row5\" class=\"row_heading level0 row5\" >314</th>\n",
       "      <td id=\"T_bf4aa_row5_col0\" class=\"data row5 col0\" >083b1bcdf8604abe9ad073177f099c2c9e45361a3c62e3bbd54fd914d5546f90</td>\n",
       "      <td id=\"T_bf4aa_row5_col1\" class=\"data row5 col1\" >8bf754f57d95e45c904217a724480ad69378d5ab5a9f243a6ceeec62d8838662</td>\n",
       "      <td id=\"T_bf4aa_row5_col2\" class=\"data row5 col2\" >16be8024fb14038b5509cc9a49fa7ce40b5549c4e7694044b21803ab2db0cf1a</td>\n",
       "      <td id=\"T_bf4aa_row5_col3\" class=\"data row5 col3\" >5ffc1f1d48e32ed011478c1f2824079746972ee0f82c7ad844e10077e505597e</td>\n",
       "      <td id=\"T_bf4aa_row5_col4\" class=\"data row5 col4\" >Felight anti-bacterial cat litter 10L</td>\n",
       "    </tr>\n",
       "    <tr>\n",
       "      <th id=\"T_bf4aa_level0_row6\" class=\"row_heading level0 row6\" >316</th>\n",
       "      <td id=\"T_bf4aa_row6_col0\" class=\"data row6 col0\" >083b1bcdf8604abe9ad073177f099c2c9e45361a3c62e3bbd54fd914d5546f90</td>\n",
       "      <td id=\"T_bf4aa_row6_col1\" class=\"data row6 col1\" >8bf754f57d95e45c904217a724480ad69378d5ab5a9f243a6ceeec62d8838662</td>\n",
       "      <td id=\"T_bf4aa_row6_col2\" class=\"data row6 col2\" >16be8024fb14038b5509cc9a49fa7ce40b5549c4e7694044b21803ab2db0cf1a</td>\n",
       "      <td id=\"T_bf4aa_row6_col3\" class=\"data row6 col3\" >5ffc1f1d48e32ed011478c1f2824079746972ee0f82c7ad844e10077e505597e</td>\n",
       "      <td id=\"T_bf4aa_row6_col4\" class=\"data row6 col4\" >Felight anti-bacterial cat litter 20L</td>\n",
       "    </tr>\n",
       "    <tr>\n",
       "      <th id=\"T_bf4aa_level0_row7\" class=\"row_heading level0 row7\" >315</th>\n",
       "      <td id=\"T_bf4aa_row7_col0\" class=\"data row7 col0\" >083b1bcdf8604abe9ad073177f099c2c9e45361a3c62e3bbd54fd914d5546f90</td>\n",
       "      <td id=\"T_bf4aa_row7_col1\" class=\"data row7 col1\" >8bf754f57d95e45c904217a724480ad69378d5ab5a9f243a6ceeec62d8838662</td>\n",
       "      <td id=\"T_bf4aa_row7_col2\" class=\"data row7 col2\" >16be8024fb14038b5509cc9a49fa7ce40b5549c4e7694044b21803ab2db0cf1a</td>\n",
       "      <td id=\"T_bf4aa_row7_col3\" class=\"data row7 col3\" >5ffc1f1d48e32ed011478c1f2824079746972ee0f82c7ad844e10077e505597e</td>\n",
       "      <td id=\"T_bf4aa_row7_col4\" class=\"data row7 col4\" >JS anti-bac ultra clumping cat litter 8L</td>\n",
       "    </tr>\n",
       "    <tr>\n",
       "      <th id=\"T_bf4aa_level0_row8\" class=\"row_heading level0 row8\" >311</th>\n",
       "      <td id=\"T_bf4aa_row8_col0\" class=\"data row8 col0\" >083b1bcdf8604abe9ad073177f099c2c9e45361a3c62e3bbd54fd914d5546f90</td>\n",
       "      <td id=\"T_bf4aa_row8_col1\" class=\"data row8 col1\" >8bf754f57d95e45c904217a724480ad69378d5ab5a9f243a6ceeec62d8838662</td>\n",
       "      <td id=\"T_bf4aa_row8_col2\" class=\"data row8 col2\" >16be8024fb14038b5509cc9a49fa7ce40b5549c4e7694044b21803ab2db0cf1a</td>\n",
       "      <td id=\"T_bf4aa_row8_col3\" class=\"data row8 col3\" >5ffc1f1d48e32ed011478c1f2824079746972ee0f82c7ad844e10077e505597e</td>\n",
       "      <td id=\"T_bf4aa_row8_col4\" class=\"data row8 col4\" >JS odour control cat litter 10L</td>\n",
       "    </tr>\n",
       "    <tr>\n",
       "      <th id=\"T_bf4aa_level0_row9\" class=\"row_heading level0 row9\" >318</th>\n",
       "      <td id=\"T_bf4aa_row9_col0\" class=\"data row9 col0\" >083b1bcdf8604abe9ad073177f099c2c9e45361a3c62e3bbd54fd914d5546f90</td>\n",
       "      <td id=\"T_bf4aa_row9_col1\" class=\"data row9 col1\" >8bf754f57d95e45c904217a724480ad69378d5ab5a9f243a6ceeec62d8838662</td>\n",
       "      <td id=\"T_bf4aa_row9_col2\" class=\"data row9 col2\" >16be8024fb14038b5509cc9a49fa7ce40b5549c4e7694044b21803ab2db0cf1a</td>\n",
       "      <td id=\"T_bf4aa_row9_col3\" class=\"data row9 col3\" >5ffc1f1d48e32ed011478c1f2824079746972ee0f82c7ad844e10077e505597e</td>\n",
       "      <td id=\"T_bf4aa_row9_col4\" class=\"data row9 col4\" >JS recycled FSC wood cat litter 10L</td>\n",
       "    </tr>\n",
       "    <tr>\n",
       "      <th id=\"T_bf4aa_level0_row10\" class=\"row_heading level0 row10\" >313</th>\n",
       "      <td id=\"T_bf4aa_row10_col0\" class=\"data row10 col0\" >083b1bcdf8604abe9ad073177f099c2c9e45361a3c62e3bbd54fd914d5546f90</td>\n",
       "      <td id=\"T_bf4aa_row10_col1\" class=\"data row10 col1\" >8bf754f57d95e45c904217a724480ad69378d5ab5a9f243a6ceeec62d8838662</td>\n",
       "      <td id=\"T_bf4aa_row10_col2\" class=\"data row10 col2\" >16be8024fb14038b5509cc9a49fa7ce40b5549c4e7694044b21803ab2db0cf1a</td>\n",
       "      <td id=\"T_bf4aa_row10_col3\" class=\"data row10 col3\" >5ffc1f1d48e32ed011478c1f2824079746972ee0f82c7ad844e10077e505597e</td>\n",
       "      <td id=\"T_bf4aa_row10_col4\" class=\"data row10 col4\" >Stamford Street Cat Litter 10L</td>\n",
       "    </tr>\n",
       "    <tr>\n",
       "      <th id=\"T_bf4aa_level0_row11\" class=\"row_heading level0 row11\" >285</th>\n",
       "      <td id=\"T_bf4aa_row11_col0\" class=\"data row11 col0\" >0a4b6cd2b427bc78329f42eac120848baff9f7426ae6bae29a6f1e509204b60d</td>\n",
       "      <td id=\"T_bf4aa_row11_col1\" class=\"data row11 col1\" >d9e72a4f8767c58acd7fd34209dfa8a03f676322c37747609ed00c70d65bb84a</td>\n",
       "      <td id=\"T_bf4aa_row11_col2\" class=\"data row11 col2\" >39fd9f5edff1d9d3918c6db327ceb8bc7ad6145c18a36aa0ca8a1596e1c3440b</td>\n",
       "      <td id=\"T_bf4aa_row11_col3\" class=\"data row11 col3\" >a0ceb82a8f906b9a7c0de5f7b69ed8235abe4d17ad85291d01fa7e5d4fc2eb76</td>\n",
       "      <td id=\"T_bf4aa_row11_col4\" class=\"data row11 col4\" >Dickinson & Morris Single Pork Pie 140g</td>\n",
       "    </tr>\n",
       "    <tr>\n",
       "      <th id=\"T_bf4aa_level0_row12\" class=\"row_heading level0 row12\" >369</th>\n",
       "      <td id=\"T_bf4aa_row12_col0\" class=\"data row12 col0\" >0ad85331aa7ad3e8d3f0d35796b8fad864f2ef776cbfe85e89d0cec84d01c4b8</td>\n",
       "      <td id=\"T_bf4aa_row12_col1\" class=\"data row12 col1\" >5aa3f64d6cc1baa00b33490f1a4144a847c374a0ab8ee3b7acc31fee6f7513e5</td>\n",
       "      <td id=\"T_bf4aa_row12_col2\" class=\"data row12 col2\" >354c656ab28c85c76bad0aac2eb3219ac736af3ca141bb5ba23f73b05df7d4b0</td>\n",
       "      <td id=\"T_bf4aa_row12_col3\" class=\"data row12 col3\" >43223179daf7953df345450992ba73eed713013a875045a993e426445dcdd970</td>\n",
       "      <td id=\"T_bf4aa_row12_col4\" class=\"data row12 col4\" >Heineken 15x440ml</td>\n",
       "    </tr>\n",
       "    <tr>\n",
       "      <th id=\"T_bf4aa_level0_row13\" class=\"row_heading level0 row13\" >371</th>\n",
       "      <td id=\"T_bf4aa_row13_col0\" class=\"data row13 col0\" >0ad85331aa7ad3e8d3f0d35796b8fad864f2ef776cbfe85e89d0cec84d01c4b8</td>\n",
       "      <td id=\"T_bf4aa_row13_col1\" class=\"data row13 col1\" >5aa3f64d6cc1baa00b33490f1a4144a847c374a0ab8ee3b7acc31fee6f7513e5</td>\n",
       "      <td id=\"T_bf4aa_row13_col2\" class=\"data row13 col2\" >88eb2999454ddd068b547d4b3255efc2d6632360b81441e88793a39106a8787d</td>\n",
       "      <td id=\"T_bf4aa_row13_col3\" class=\"data row13 col3\" >43223179daf7953df345450992ba73eed713013a875045a993e426445dcdd970</td>\n",
       "      <td id=\"T_bf4aa_row13_col4\" class=\"data row13 col4\" >Budweiser 18x440ml</td>\n",
       "    </tr>\n",
       "    <tr>\n",
       "      <th id=\"T_bf4aa_level0_row14\" class=\"row_heading level0 row14\" >366</th>\n",
       "      <td id=\"T_bf4aa_row14_col0\" class=\"data row14 col0\" >0ad85331aa7ad3e8d3f0d35796b8fad864f2ef776cbfe85e89d0cec84d01c4b8</td>\n",
       "      <td id=\"T_bf4aa_row14_col1\" class=\"data row14 col1\" >5aa3f64d6cc1baa00b33490f1a4144a847c374a0ab8ee3b7acc31fee6f7513e5</td>\n",
       "      <td id=\"T_bf4aa_row14_col2\" class=\"data row14 col2\" >88eb2999454ddd068b547d4b3255efc2d6632360b81441e88793a39106a8787d</td>\n",
       "      <td id=\"T_bf4aa_row14_col3\" class=\"data row14 col3\" >43223179daf7953df345450992ba73eed713013a875045a993e426445dcdd970</td>\n",
       "      <td id=\"T_bf4aa_row14_col4\" class=\"data row14 col4\" >Kronenbourg 1664 15x440ml</td>\n",
       "    </tr>\n",
       "    <tr>\n",
       "      <th id=\"T_bf4aa_level0_row15\" class=\"row_heading level0 row15\" >372</th>\n",
       "      <td id=\"T_bf4aa_row15_col0\" class=\"data row15 col0\" >0ad85331aa7ad3e8d3f0d35796b8fad864f2ef776cbfe85e89d0cec84d01c4b8</td>\n",
       "      <td id=\"T_bf4aa_row15_col1\" class=\"data row15 col1\" >5aa3f64d6cc1baa00b33490f1a4144a847c374a0ab8ee3b7acc31fee6f7513e5</td>\n",
       "      <td id=\"T_bf4aa_row15_col2\" class=\"data row15 col2\" >88eb2999454ddd068b547d4b3255efc2d6632360b81441e88793a39106a8787d</td>\n",
       "      <td id=\"T_bf4aa_row15_col3\" class=\"data row15 col3\" >43223179daf7953df345450992ba73eed713013a875045a993e426445dcdd970</td>\n",
       "      <td id=\"T_bf4aa_row15_col4\" class=\"data row15 col4\" >Stella Artois 18x440ml</td>\n",
       "    </tr>\n",
       "    <tr>\n",
       "      <th id=\"T_bf4aa_level0_row16\" class=\"row_heading level0 row16\" >367</th>\n",
       "      <td id=\"T_bf4aa_row16_col0\" class=\"data row16 col0\" >0ad85331aa7ad3e8d3f0d35796b8fad864f2ef776cbfe85e89d0cec84d01c4b8</td>\n",
       "      <td id=\"T_bf4aa_row16_col1\" class=\"data row16 col1\" >5aa3f64d6cc1baa00b33490f1a4144a847c374a0ab8ee3b7acc31fee6f7513e5</td>\n",
       "      <td id=\"T_bf4aa_row16_col2\" class=\"data row16 col2\" >c586ffe82d1d944bd692e8cbf61112310929c5ade6688e4f5c2ecac3d7b538a9</td>\n",
       "      <td id=\"T_bf4aa_row16_col3\" class=\"data row16 col3\" >43223179daf7953df345450992ba73eed713013a875045a993e426445dcdd970</td>\n",
       "      <td id=\"T_bf4aa_row16_col4\" class=\"data row16 col4\" >Carling Lager 18x440ml</td>\n",
       "    </tr>\n",
       "    <tr>\n",
       "      <th id=\"T_bf4aa_level0_row17\" class=\"row_heading level0 row17\" >370</th>\n",
       "      <td id=\"T_bf4aa_row17_col0\" class=\"data row17 col0\" >0ad85331aa7ad3e8d3f0d35796b8fad864f2ef776cbfe85e89d0cec84d01c4b8</td>\n",
       "      <td id=\"T_bf4aa_row17_col1\" class=\"data row17 col1\" >5aa3f64d6cc1baa00b33490f1a4144a847c374a0ab8ee3b7acc31fee6f7513e5</td>\n",
       "      <td id=\"T_bf4aa_row17_col2\" class=\"data row17 col2\" >c586ffe82d1d944bd692e8cbf61112310929c5ade6688e4f5c2ecac3d7b538a9</td>\n",
       "      <td id=\"T_bf4aa_row17_col3\" class=\"data row17 col3\" >43223179daf7953df345450992ba73eed713013a875045a993e426445dcdd970</td>\n",
       "      <td id=\"T_bf4aa_row17_col4\" class=\"data row17 col4\" >Fosters 12x440ml</td>\n",
       "    </tr>\n",
       "    <tr>\n",
       "      <th id=\"T_bf4aa_level0_row18\" class=\"row_heading level0 row18\" >368</th>\n",
       "      <td id=\"T_bf4aa_row18_col0\" class=\"data row18 col0\" >0ad85331aa7ad3e8d3f0d35796b8fad864f2ef776cbfe85e89d0cec84d01c4b8</td>\n",
       "      <td id=\"T_bf4aa_row18_col1\" class=\"data row18 col1\" >5aa3f64d6cc1baa00b33490f1a4144a847c374a0ab8ee3b7acc31fee6f7513e5</td>\n",
       "      <td id=\"T_bf4aa_row18_col2\" class=\"data row18 col2\" >c586ffe82d1d944bd692e8cbf61112310929c5ade6688e4f5c2ecac3d7b538a9</td>\n",
       "      <td id=\"T_bf4aa_row18_col3\" class=\"data row18 col3\" >43223179daf7953df345450992ba73eed713013a875045a993e426445dcdd970</td>\n",
       "      <td id=\"T_bf4aa_row18_col4\" class=\"data row18 col4\" >Fosters 18x440ml</td>\n",
       "    </tr>\n",
       "    <tr>\n",
       "      <th id=\"T_bf4aa_level0_row19\" class=\"row_heading level0 row19\" >17</th>\n",
       "      <td id=\"T_bf4aa_row19_col0\" class=\"data row19 col0\" >0b44e87694f137cf63f13e284a5520a11feeb28425d26f63b6a75571dda3520c</td>\n",
       "      <td id=\"T_bf4aa_row19_col1\" class=\"data row19 col1\" >82d0ac32d4923570b515526d8c8e4877e558c8c6d199635b8b35200a826fbb11</td>\n",
       "      <td id=\"T_bf4aa_row19_col2\" class=\"data row19 col2\" >af6eeed95fe07595523a5400876180e8afdaeea848706b5860dfbbd9e664cceb</td>\n",
       "      <td id=\"T_bf4aa_row19_col3\" class=\"data row19 col3\" >7bac949c7751e676079835da84aebe8083fe5d6383e4057f6ab24fdcf9462ce6</td>\n",
       "      <td id=\"T_bf4aa_row19_col4\" class=\"data row19 col4\" >JS 6 Wholemeal Muffins</td>\n",
       "    </tr>\n",
       "    <tr>\n",
       "      <th id=\"T_bf4aa_level0_row20\" class=\"row_heading level0 row20\" >165</th>\n",
       "      <td id=\"T_bf4aa_row20_col0\" class=\"data row20 col0\" >0bc513923a01377ef5814b52c8fc84422eaa2d2c68741bde1eb93a578d1b8b15</td>\n",
       "      <td id=\"T_bf4aa_row20_col1\" class=\"data row20 col1\" >b9a341998c5eda7925647c0e3bb8fb9d6a8f5814eb7a6acf4a8c833c8174e6cf</td>\n",
       "      <td id=\"T_bf4aa_row20_col2\" class=\"data row20 col2\" >2f1fed213673e457cdf6ee18170e0a7b7c5a4131bfedfc8c232d2f2bc5b28ecb</td>\n",
       "      <td id=\"T_bf4aa_row20_col3\" class=\"data row20 col3\" >017ecbb9f5f6822972f54c720904a02672778e2faaa0e239a224fafe90a5617c</td>\n",
       "      <td id=\"T_bf4aa_row20_col4\" class=\"data row20 col4\" >JS Medium Dry Amontillado Sherry 1L</td>\n",
       "    </tr>\n",
       "    <tr>\n",
       "      <th id=\"T_bf4aa_level0_row21\" class=\"row_heading level0 row21\" >249</th>\n",
       "      <td id=\"T_bf4aa_row21_col0\" class=\"data row21 col0\" >0cf7d46b3fbce266e8767c622449ba7ab5298ec934d9299d34f8d6c003befead</td>\n",
       "      <td id=\"T_bf4aa_row21_col1\" class=\"data row21 col1\" >89de032557eb3ed53ce62813738d5de7829d6f18283a4d12dd6437ca0a1bf3e2</td>\n",
       "      <td id=\"T_bf4aa_row21_col2\" class=\"data row21 col2\" >4a72091a0d70476187335c045f2163698de8a344ad904a4ddf7ab45e50fc27b2</td>\n",
       "      <td id=\"T_bf4aa_row21_col3\" class=\"data row21 col3\" >303d3bff03929ff76928fccc756ab6aa76afaee83eebe69b8302ea8844f5ac1f</td>\n",
       "      <td id=\"T_bf4aa_row21_col4\" class=\"data row21 col4\" >Dole Peaches in Strawberry Jelly 4 x123g</td>\n",
       "    </tr>\n",
       "    <tr>\n",
       "      <th id=\"T_bf4aa_level0_row22\" class=\"row_heading level0 row22\" >248</th>\n",
       "      <td id=\"T_bf4aa_row22_col0\" class=\"data row22 col0\" >0cf7d46b3fbce266e8767c622449ba7ab5298ec934d9299d34f8d6c003befead</td>\n",
       "      <td id=\"T_bf4aa_row22_col1\" class=\"data row22 col1\" >89de032557eb3ed53ce62813738d5de7829d6f18283a4d12dd6437ca0a1bf3e2</td>\n",
       "      <td id=\"T_bf4aa_row22_col2\" class=\"data row22 col2\" >4a72091a0d70476187335c045f2163698de8a344ad904a4ddf7ab45e50fc27b2</td>\n",
       "      <td id=\"T_bf4aa_row22_col3\" class=\"data row22 col3\" >303d3bff03929ff76928fccc756ab6aa76afaee83eebe69b8302ea8844f5ac1f</td>\n",
       "      <td id=\"T_bf4aa_row22_col4\" class=\"data row22 col4\" >Hartleys Raspberry NAS Multi 6x115g</td>\n",
       "    </tr>\n",
       "    <tr>\n",
       "      <th id=\"T_bf4aa_level0_row23\" class=\"row_heading level0 row23\" >250</th>\n",
       "      <td id=\"T_bf4aa_row23_col0\" class=\"data row23 col0\" >0cf7d46b3fbce266e8767c622449ba7ab5298ec934d9299d34f8d6c003befead</td>\n",
       "      <td id=\"T_bf4aa_row23_col1\" class=\"data row23 col1\" >89de032557eb3ed53ce62813738d5de7829d6f18283a4d12dd6437ca0a1bf3e2</td>\n",
       "      <td id=\"T_bf4aa_row23_col2\" class=\"data row23 col2\" >e9a77029973f3dc6c61e4496de9b847e7a0a0f3af56ee7270314dc278d0dbf9f</td>\n",
       "      <td id=\"T_bf4aa_row23_col3\" class=\"data row23 col3\" >303d3bff03929ff76928fccc756ab6aa76afaee83eebe69b8302ea8844f5ac1f</td>\n",
       "      <td id=\"T_bf4aa_row23_col4\" class=\"data row23 col4\" >Hubbards Rice Pudding 400g</td>\n",
       "    </tr>\n",
       "    <tr>\n",
       "      <th id=\"T_bf4aa_level0_row24\" class=\"row_heading level0 row24\" >261</th>\n",
       "      <td id=\"T_bf4aa_row24_col0\" class=\"data row24 col0\" >0d7ae84723d512b1c2a1ee0e29c92005020e93b1b73a92ff792f990bebbffcd6</td>\n",
       "      <td id=\"T_bf4aa_row24_col1\" class=\"data row24 col1\" >64f807ba7011f3779d63073e6172b6c3ff9034e1146ac11173c640fbd01c3370</td>\n",
       "      <td id=\"T_bf4aa_row24_col2\" class=\"data row24 col2\" >ec5c32f003b117021f8f085c207d3eaee131e6c1d863319662311f3a08a17065</td>\n",
       "      <td id=\"T_bf4aa_row24_col3\" class=\"data row24 col3\" >74c1a1e360223d09e349364e20f179e68c673045857fb3e6f642ac84e81d40fa</td>\n",
       "      <td id=\"T_bf4aa_row24_col4\" class=\"data row24 col4\" >JS ADW Ultimate Lem 262g 20 washes</td>\n",
       "    </tr>\n",
       "    <tr>\n",
       "      <th id=\"T_bf4aa_level0_row25\" class=\"row_heading level0 row25\" >287</th>\n",
       "      <td id=\"T_bf4aa_row25_col0\" class=\"data row25 col0\" >108bea52c4fe988cac71128f717b8782dde2455c622a94af3a1a5d6a55024c97</td>\n",
       "      <td id=\"T_bf4aa_row25_col1\" class=\"data row25 col1\" >ae20e396f164eab3a9c70b51a259a1f00c2be82094cb3dc49bbe77dba2ce2d3b</td>\n",
       "      <td id=\"T_bf4aa_row25_col2\" class=\"data row25 col2\" >25a257f3b5f6fb91bbf7a643e617e8ffb802166283c80fa54dd3696fd80771dd</td>\n",
       "      <td id=\"T_bf4aa_row25_col3\" class=\"data row25 col3\" >dc3a1ea6c2749c1a91cb06167442c3e5d0dbf6107dc1b8caf13cb31b162c0aaa</td>\n",
       "      <td id=\"T_bf4aa_row25_col4\" class=\"data row25 col4\" >JS House Sauvignon Blanc 75cl</td>\n",
       "    </tr>\n",
       "    <tr>\n",
       "      <th id=\"T_bf4aa_level0_row26\" class=\"row_heading level0 row26\" >289</th>\n",
       "      <td id=\"T_bf4aa_row26_col0\" class=\"data row26 col0\" >108bea52c4fe988cac71128f717b8782dde2455c622a94af3a1a5d6a55024c97</td>\n",
       "      <td id=\"T_bf4aa_row26_col1\" class=\"data row26 col1\" >ae20e396f164eab3a9c70b51a259a1f00c2be82094cb3dc49bbe77dba2ce2d3b</td>\n",
       "      <td id=\"T_bf4aa_row26_col2\" class=\"data row26 col2\" >25a257f3b5f6fb91bbf7a643e617e8ffb802166283c80fa54dd3696fd80771dd</td>\n",
       "      <td id=\"T_bf4aa_row26_col3\" class=\"data row26 col3\" >dc3a1ea6c2749c1a91cb06167442c3e5d0dbf6107dc1b8caf13cb31b162c0aaa</td>\n",
       "      <td id=\"T_bf4aa_row26_col4\" class=\"data row26 col4\" >JS House Soave 75cl</td>\n",
       "    </tr>\n",
       "    <tr>\n",
       "      <th id=\"T_bf4aa_level0_row27\" class=\"row_heading level0 row27\" >290</th>\n",
       "      <td id=\"T_bf4aa_row27_col0\" class=\"data row27 col0\" >108bea52c4fe988cac71128f717b8782dde2455c622a94af3a1a5d6a55024c97</td>\n",
       "      <td id=\"T_bf4aa_row27_col1\" class=\"data row27 col1\" >ae20e396f164eab3a9c70b51a259a1f00c2be82094cb3dc49bbe77dba2ce2d3b</td>\n",
       "      <td id=\"T_bf4aa_row27_col2\" class=\"data row27 col2\" >90664a41c7c187b75dd77ff8fc1ac6a5047bf6f4cbc8b05337a6514bfaa736fa</td>\n",
       "      <td id=\"T_bf4aa_row27_col3\" class=\"data row27 col3\" >dc3a1ea6c2749c1a91cb06167442c3e5d0dbf6107dc1b8caf13cb31b162c0aaa</td>\n",
       "      <td id=\"T_bf4aa_row27_col4\" class=\"data row27 col4\" >JS House Cabernet Sauvignon 225cl</td>\n",
       "    </tr>\n",
       "    <tr>\n",
       "      <th id=\"T_bf4aa_level0_row28\" class=\"row_heading level0 row28\" >288</th>\n",
       "      <td id=\"T_bf4aa_row28_col0\" class=\"data row28 col0\" >108bea52c4fe988cac71128f717b8782dde2455c622a94af3a1a5d6a55024c97</td>\n",
       "      <td id=\"T_bf4aa_row28_col1\" class=\"data row28 col1\" >ae20e396f164eab3a9c70b51a259a1f00c2be82094cb3dc49bbe77dba2ce2d3b</td>\n",
       "      <td id=\"T_bf4aa_row28_col2\" class=\"data row28 col2\" >90664a41c7c187b75dd77ff8fc1ac6a5047bf6f4cbc8b05337a6514bfaa736fa</td>\n",
       "      <td id=\"T_bf4aa_row28_col3\" class=\"data row28 col3\" >dc3a1ea6c2749c1a91cb06167442c3e5d0dbf6107dc1b8caf13cb31b162c0aaa</td>\n",
       "      <td id=\"T_bf4aa_row28_col4\" class=\"data row28 col4\" >JS House Malbec 225cl</td>\n",
       "    </tr>\n",
       "    <tr>\n",
       "      <th id=\"T_bf4aa_level0_row29\" class=\"row_heading level0 row29\" >28</th>\n",
       "      <td id=\"T_bf4aa_row29_col0\" class=\"data row29 col0\" >12d54e77e6c0d05df40ee4effbb84b045695b744a8b540f4b6c25c90cac1075b</td>\n",
       "      <td id=\"T_bf4aa_row29_col1\" class=\"data row29 col1\" >e59f689e95101d6e632498e1b07d1fa2773413d80ea5555eb2c8952043c2287c</td>\n",
       "      <td id=\"T_bf4aa_row29_col2\" class=\"data row29 col2\" >6a7008569433570085b8c3bedbe4d5c3ac880b5dcf238c8c3f30a2a978076ee1</td>\n",
       "      <td id=\"T_bf4aa_row29_col3\" class=\"data row29 col3\" >3f3e52f9cec4a3ebe9636b5e483e3c220ba506b24257083cc10b48fb93f459d0</td>\n",
       "      <td id=\"T_bf4aa_row29_col4\" class=\"data row29 col4\" >Stamford Street Peas 850g</td>\n",
       "    </tr>\n",
       "    <tr>\n",
       "      <th id=\"T_bf4aa_level0_row30\" class=\"row_heading level0 row30\" >27</th>\n",
       "      <td id=\"T_bf4aa_row30_col0\" class=\"data row30 col0\" >12d54e77e6c0d05df40ee4effbb84b045695b744a8b540f4b6c25c90cac1075b</td>\n",
       "      <td id=\"T_bf4aa_row30_col1\" class=\"data row30 col1\" >e59f689e95101d6e632498e1b07d1fa2773413d80ea5555eb2c8952043c2287c</td>\n",
       "      <td id=\"T_bf4aa_row30_col2\" class=\"data row30 col2\" >bbab6b4fe17e1d806bd21a776d0486dfbba5f27c5381d417da8be58b55c23f67</td>\n",
       "      <td id=\"T_bf4aa_row30_col3\" class=\"data row30 col3\" >3f3e52f9cec4a3ebe9636b5e483e3c220ba506b24257083cc10b48fb93f459d0</td>\n",
       "      <td id=\"T_bf4aa_row30_col4\" class=\"data row30 col4\" >Stamford Street Mixed Vegetables 1kg</td>\n",
       "    </tr>\n",
       "    <tr>\n",
       "      <th id=\"T_bf4aa_level0_row31\" class=\"row_heading level0 row31\" >29</th>\n",
       "      <td id=\"T_bf4aa_row31_col0\" class=\"data row31 col0\" >12d54e77e6c0d05df40ee4effbb84b045695b744a8b540f4b6c25c90cac1075b</td>\n",
       "      <td id=\"T_bf4aa_row31_col1\" class=\"data row31 col1\" >e59f689e95101d6e632498e1b07d1fa2773413d80ea5555eb2c8952043c2287c</td>\n",
       "      <td id=\"T_bf4aa_row31_col2\" class=\"data row31 col2\" >d109d6ef43067d498d0da2f9199ef24b30916cf46ff54c6f698a87120b735ebb</td>\n",
       "      <td id=\"T_bf4aa_row31_col3\" class=\"data row31 col3\" >3f3e52f9cec4a3ebe9636b5e483e3c220ba506b24257083cc10b48fb93f459d0</td>\n",
       "      <td id=\"T_bf4aa_row31_col4\" class=\"data row31 col4\" >Stamford Street Sweetcorn 950g</td>\n",
       "    </tr>\n",
       "    <tr>\n",
       "      <th id=\"T_bf4aa_level0_row32\" class=\"row_heading level0 row32\" >295</th>\n",
       "      <td id=\"T_bf4aa_row32_col0\" class=\"data row32 col0\" >12d72d6a20d82aa59a67e6f872e879d1e69bc94278a48bd5f0645cd8cd586d78</td>\n",
       "      <td id=\"T_bf4aa_row32_col1\" class=\"data row32 col1\" >d9e72a4f8767c58acd7fd34209dfa8a03f676322c37747609ed00c70d65bb84a</td>\n",
       "      <td id=\"T_bf4aa_row32_col2\" class=\"data row32 col2\" >c3b86993e032d3ca29808af90971212a0e4315a2b9ec7c4ff5a9323da3be557c</td>\n",
       "      <td id=\"T_bf4aa_row32_col3\" class=\"data row32 col3\" >a0ceb82a8f906b9a7c0de5f7b69ed8235abe4d17ad85291d01fa7e5d4fc2eb76</td>\n",
       "      <td id=\"T_bf4aa_row32_col4\" class=\"data row32 col4\" >Stamford Street Houmous 200g</td>\n",
       "    </tr>\n",
       "    <tr>\n",
       "      <th id=\"T_bf4aa_level0_row33\" class=\"row_heading level0 row33\" >11</th>\n",
       "      <td id=\"T_bf4aa_row33_col0\" class=\"data row33 col0\" >15b6b7cf5233478ecfeb41343d1fe559186a8a1adaa52d51e8c9f87afaab74fd</td>\n",
       "      <td id=\"T_bf4aa_row33_col1\" class=\"data row33 col1\" >b57221ac437c57530ed471e12aa7df90e19f3b7f178fe966fb21982522a156c4</td>\n",
       "      <td id=\"T_bf4aa_row33_col2\" class=\"data row33 col2\" >dbd6160cefc78876164fec243ffa0e3e7ccf5210efebbdf389ed40c5b111f05b</td>\n",
       "      <td id=\"T_bf4aa_row33_col3\" class=\"data row33 col3\" >0d7eeabb4a81aec1080c87611310a6e5f80e04e7ea41796b4f3f295c9a083ff4</td>\n",
       "      <td id=\"T_bf4aa_row33_col4\" class=\"data row33 col4\" >JS Chicken Liver 400g</td>\n",
       "    </tr>\n",
       "    <tr>\n",
       "      <th id=\"T_bf4aa_level0_row34\" class=\"row_heading level0 row34\" >12</th>\n",
       "      <td id=\"T_bf4aa_row34_col0\" class=\"data row34 col0\" >15b6b7cf5233478ecfeb41343d1fe559186a8a1adaa52d51e8c9f87afaab74fd</td>\n",
       "      <td id=\"T_bf4aa_row34_col1\" class=\"data row34 col1\" >b57221ac437c57530ed471e12aa7df90e19f3b7f178fe966fb21982522a156c4</td>\n",
       "      <td id=\"T_bf4aa_row34_col2\" class=\"data row34 col2\" >dbd6160cefc78876164fec243ffa0e3e7ccf5210efebbdf389ed40c5b111f05b</td>\n",
       "      <td id=\"T_bf4aa_row34_col3\" class=\"data row34 col3\" >0d7eeabb4a81aec1080c87611310a6e5f80e04e7ea41796b4f3f295c9a083ff4</td>\n",
       "      <td id=\"T_bf4aa_row34_col4\" class=\"data row34 col4\" >JS FRESH PIGS LIVER CW</td>\n",
       "    </tr>\n",
       "    <tr>\n",
       "      <th id=\"T_bf4aa_level0_row35\" class=\"row_heading level0 row35\" >13</th>\n",
       "      <td id=\"T_bf4aa_row35_col0\" class=\"data row35 col0\" >15b6b7cf5233478ecfeb41343d1fe559186a8a1adaa52d51e8c9f87afaab74fd</td>\n",
       "      <td id=\"T_bf4aa_row35_col1\" class=\"data row35 col1\" >b57221ac437c57530ed471e12aa7df90e19f3b7f178fe966fb21982522a156c4</td>\n",
       "      <td id=\"T_bf4aa_row35_col2\" class=\"data row35 col2\" >dbd6160cefc78876164fec243ffa0e3e7ccf5210efebbdf389ed40c5b111f05b</td>\n",
       "      <td id=\"T_bf4aa_row35_col3\" class=\"data row35 col3\" >0d7eeabb4a81aec1080c87611310a6e5f80e04e7ea41796b4f3f295c9a083ff4</td>\n",
       "      <td id=\"T_bf4aa_row35_col4\" class=\"data row35 col4\" >JS Lambs Liver CW</td>\n",
       "    </tr>\n",
       "    <tr>\n",
       "      <th id=\"T_bf4aa_level0_row36\" class=\"row_heading level0 row36\" >389</th>\n",
       "      <td id=\"T_bf4aa_row36_col0\" class=\"data row36 col0\" >18ff2ea8a62f9c896072033325fea10407c4b045ba746953c9f8b9423ea84f23</td>\n",
       "      <td id=\"T_bf4aa_row36_col1\" class=\"data row36 col1\" >44000926ab02f20e7921c91c7571a84d1284f1685cc46b81a94baa5f8fc2dbde</td>\n",
       "      <td id=\"T_bf4aa_row36_col2\" class=\"data row36 col2\" >b2317aab6c52732f6f0b9427b9e531f9fd1cffb0972fb25a11ad9516b5ca9fd5</td>\n",
       "      <td id=\"T_bf4aa_row36_col3\" class=\"data row36 col3\" >43223179daf7953df345450992ba73eed713013a875045a993e426445dcdd970</td>\n",
       "      <td id=\"T_bf4aa_row36_col4\" class=\"data row36 col4\" >Landlord Pale Ale 500ml nrb</td>\n",
       "    </tr>\n",
       "    <tr>\n",
       "      <th id=\"T_bf4aa_level0_row37\" class=\"row_heading level0 row37\" >301</th>\n",
       "      <td id=\"T_bf4aa_row37_col0\" class=\"data row37 col0\" >19ca7cde91b11753df8c84c9cb0f89f64b11785e5abab9e670cbd70922f53e8e</td>\n",
       "      <td id=\"T_bf4aa_row37_col1\" class=\"data row37 col1\" >50e6fcc6b92f8b6c777f4f6b57af45c00acee4e8b200e33e3ced4585b0566f5f</td>\n",
       "      <td id=\"T_bf4aa_row37_col2\" class=\"data row37 col2\" >24c884cf08358ec75f27c1dc3ca9b33933e3cabe06e6837666d40175683096c2</td>\n",
       "      <td id=\"T_bf4aa_row37_col3\" class=\"data row37 col3\" >a0ceb82a8f906b9a7c0de5f7b69ed8235abe4d17ad85291d01fa7e5d4fc2eb76</td>\n",
       "      <td id=\"T_bf4aa_row37_col4\" class=\"data row37 col4\" >TTD Chicken & Bacon Pasta Bake 375g</td>\n",
       "    </tr>\n",
       "    <tr>\n",
       "      <th id=\"T_bf4aa_level0_row38\" class=\"row_heading level0 row38\" >22</th>\n",
       "      <td id=\"T_bf4aa_row38_col0\" class=\"data row38 col0\" >1b0e7b210e2c9f3ba176e413b444b94ddfc167e7a72b78884f5395158cdd0616</td>\n",
       "      <td id=\"T_bf4aa_row38_col1\" class=\"data row38 col1\" >bb58a5b6c1a3b29f059083981086eef4f957e85d279037023299b7215e69ef71</td>\n",
       "      <td id=\"T_bf4aa_row38_col2\" class=\"data row38 col2\" >2abd784fcf4467852f2b83f2337224bb580e978cddaddccba9bc4329e28ddf9d</td>\n",
       "      <td id=\"T_bf4aa_row38_col3\" class=\"data row38 col3\" >017ecbb9f5f6822972f54c720904a02672778e2faaa0e239a224fafe90a5617c</td>\n",
       "      <td id=\"T_bf4aa_row38_col4\" class=\"data row38 col4\" >Sainsburys Brandy 70cl</td>\n",
       "    </tr>\n",
       "    <tr>\n",
       "      <th id=\"T_bf4aa_level0_row39\" class=\"row_heading level0 row39\" >23</th>\n",
       "      <td id=\"T_bf4aa_row39_col0\" class=\"data row39 col0\" >1b0e7b210e2c9f3ba176e413b444b94ddfc167e7a72b78884f5395158cdd0616</td>\n",
       "      <td id=\"T_bf4aa_row39_col1\" class=\"data row39 col1\" >bb58a5b6c1a3b29f059083981086eef4f957e85d279037023299b7215e69ef71</td>\n",
       "      <td id=\"T_bf4aa_row39_col2\" class=\"data row39 col2\" >e69ee856711feab1848ae8651d6bd38b6b64c26715d79bf87014b930e00d68dc</td>\n",
       "      <td id=\"T_bf4aa_row39_col3\" class=\"data row39 col3\" >017ecbb9f5f6822972f54c720904a02672778e2faaa0e239a224fafe90a5617c</td>\n",
       "      <td id=\"T_bf4aa_row39_col4\" class=\"data row39 col4\" >Courvoisier VS Cognac 70cl</td>\n",
       "    </tr>\n",
       "    <tr>\n",
       "      <th id=\"T_bf4aa_level0_row40\" class=\"row_heading level0 row40\" >146</th>\n",
       "      <td id=\"T_bf4aa_row40_col0\" class=\"data row40 col0\" >1cdae4940f9f7b2a411e7d68e564def901716bdf97d3558082555116d5600f39</td>\n",
       "      <td id=\"T_bf4aa_row40_col1\" class=\"data row40 col1\" >5b314459a9766ab77d36b495c8ceb724e329c1713b209b52b96f132502522640</td>\n",
       "      <td id=\"T_bf4aa_row40_col2\" class=\"data row40 col2\" >c9a5753a9c0516c6cd4b6b41a04589c3b7ac874dbf4d51e0f584265d73f6c905</td>\n",
       "      <td id=\"T_bf4aa_row40_col3\" class=\"data row40 col3\" >3f3e52f9cec4a3ebe9636b5e483e3c220ba506b24257083cc10b48fb93f459d0</td>\n",
       "      <td id=\"T_bf4aa_row40_col4\" class=\"data row40 col4\" >JS Stuffed Crust Pepperoni Pizza 424g</td>\n",
       "    </tr>\n",
       "    <tr>\n",
       "      <th id=\"T_bf4aa_level0_row41\" class=\"row_heading level0 row41\" >352</th>\n",
       "      <td id=\"T_bf4aa_row41_col0\" class=\"data row41 col0\" >1dc45e33776a63bf856fe32325468c13c711f48ff5df9ce63b6932a47e34944a</td>\n",
       "      <td id=\"T_bf4aa_row41_col1\" class=\"data row41 col1\" >8bf754f57d95e45c904217a724480ad69378d5ab5a9f243a6ceeec62d8838662</td>\n",
       "      <td id=\"T_bf4aa_row41_col2\" class=\"data row41 col2\" >18b4fb08149ed055180fb387a87ffe1f4bbde5ba8e3aa74a4e784b53250b87cc</td>\n",
       "      <td id=\"T_bf4aa_row41_col3\" class=\"data row41 col3\" >5ffc1f1d48e32ed011478c1f2824079746972ee0f82c7ad844e10077e505597e</td>\n",
       "      <td id=\"T_bf4aa_row41_col4\" class=\"data row41 col4\" >JS wildbird peanuts 750g</td>\n",
       "    </tr>\n",
       "    <tr>\n",
       "      <th id=\"T_bf4aa_level0_row42\" class=\"row_heading level0 row42\" >350</th>\n",
       "      <td id=\"T_bf4aa_row42_col0\" class=\"data row42 col0\" >1dc45e33776a63bf856fe32325468c13c711f48ff5df9ce63b6932a47e34944a</td>\n",
       "      <td id=\"T_bf4aa_row42_col1\" class=\"data row42 col1\" >8bf754f57d95e45c904217a724480ad69378d5ab5a9f243a6ceeec62d8838662</td>\n",
       "      <td id=\"T_bf4aa_row42_col2\" class=\"data row42 col2\" >18b4fb08149ed055180fb387a87ffe1f4bbde5ba8e3aa74a4e784b53250b87cc</td>\n",
       "      <td id=\"T_bf4aa_row42_col3\" class=\"data row42 col3\" >5ffc1f1d48e32ed011478c1f2824079746972ee0f82c7ad844e10077e505597e</td>\n",
       "      <td id=\"T_bf4aa_row42_col4\" class=\"data row42 col4\" >JS wildbird seed mix 4kg</td>\n",
       "    </tr>\n",
       "    <tr>\n",
       "      <th id=\"T_bf4aa_level0_row43\" class=\"row_heading level0 row43\" >351</th>\n",
       "      <td id=\"T_bf4aa_row43_col0\" class=\"data row43 col0\" >1dc45e33776a63bf856fe32325468c13c711f48ff5df9ce63b6932a47e34944a</td>\n",
       "      <td id=\"T_bf4aa_row43_col1\" class=\"data row43 col1\" >8bf754f57d95e45c904217a724480ad69378d5ab5a9f243a6ceeec62d8838662</td>\n",
       "      <td id=\"T_bf4aa_row43_col2\" class=\"data row43 col2\" >18b4fb08149ed055180fb387a87ffe1f4bbde5ba8e3aa74a4e784b53250b87cc</td>\n",
       "      <td id=\"T_bf4aa_row43_col3\" class=\"data row43 col3\" >5ffc1f1d48e32ed011478c1f2824079746972ee0f82c7ad844e10077e505597e</td>\n",
       "      <td id=\"T_bf4aa_row43_col4\" class=\"data row43 col4\" >JS wildbird seed mix 750g</td>\n",
       "    </tr>\n",
       "    <tr>\n",
       "      <th id=\"T_bf4aa_level0_row44\" class=\"row_heading level0 row44\" >349</th>\n",
       "      <td id=\"T_bf4aa_row44_col0\" class=\"data row44 col0\" >1dc45e33776a63bf856fe32325468c13c711f48ff5df9ce63b6932a47e34944a</td>\n",
       "      <td id=\"T_bf4aa_row44_col1\" class=\"data row44 col1\" >8bf754f57d95e45c904217a724480ad69378d5ab5a9f243a6ceeec62d8838662</td>\n",
       "      <td id=\"T_bf4aa_row44_col2\" class=\"data row44 col2\" >18b4fb08149ed055180fb387a87ffe1f4bbde5ba8e3aa74a4e784b53250b87cc</td>\n",
       "      <td id=\"T_bf4aa_row44_col3\" class=\"data row44 col3\" >5ffc1f1d48e32ed011478c1f2824079746972ee0f82c7ad844e10077e505597e</td>\n",
       "      <td id=\"T_bf4aa_row44_col4\" class=\"data row44 col4\" >JS wildbird suet balls x10</td>\n",
       "    </tr>\n",
       "    <tr>\n",
       "      <th id=\"T_bf4aa_level0_row45\" class=\"row_heading level0 row45\" >15</th>\n",
       "      <td id=\"T_bf4aa_row45_col0\" class=\"data row45 col0\" >1e12b06cd7d2135cabf83dfae174a6c36404f725676dab5ade2c5a1a06305394</td>\n",
       "      <td id=\"T_bf4aa_row45_col1\" class=\"data row45 col1\" >c02f9b35e3543b88f063b31a638acbb99ea1d2eadbd86a1d2895046d531779bf</td>\n",
       "      <td id=\"T_bf4aa_row45_col2\" class=\"data row45 col2\" >afc37d53146c37b2b832dba92bdbc634fb2a46359c8c5d46c4e5ae041ed8f3d5</td>\n",
       "      <td id=\"T_bf4aa_row45_col3\" class=\"data row45 col3\" >dc3a1ea6c2749c1a91cb06167442c3e5d0dbf6107dc1b8caf13cb31b162c0aaa</td>\n",
       "      <td id=\"T_bf4aa_row45_col4\" class=\"data row45 col4\" >Caminada Malbec 75cl</td>\n",
       "    </tr>\n",
       "    <tr>\n",
       "      <th id=\"T_bf4aa_level0_row46\" class=\"row_heading level0 row46\" >266</th>\n",
       "      <td id=\"T_bf4aa_row46_col0\" class=\"data row46 col0\" >1e8ce27a0b16f7d47d659dc13d8b211aa598e2544335da51f8ba3cf8af8cf3e9</td>\n",
       "      <td id=\"T_bf4aa_row46_col1\" class=\"data row46 col1\" >f6ccf0078eb016c76496d0e656ae6cd1debdee0907395e5f94fd5a87cc2001cf</td>\n",
       "      <td id=\"T_bf4aa_row46_col2\" class=\"data row46 col2\" >6301ab5ad8122fec998c4c8c0f41f98adc211a27766d37f40202847cdb203932</td>\n",
       "      <td id=\"T_bf4aa_row46_col3\" class=\"data row46 col3\" >1d39f0169eaee3060a5d6610b59a9f99faf439acd09292661acc0fece1b2dfa1</td>\n",
       "      <td id=\"T_bf4aa_row46_col4\" class=\"data row46 col4\" >JS ROASTED SALTED PISTACHIOS 300G</td>\n",
       "    </tr>\n",
       "    <tr>\n",
       "      <th id=\"T_bf4aa_level0_row47\" class=\"row_heading level0 row47\" >265</th>\n",
       "      <td id=\"T_bf4aa_row47_col0\" class=\"data row47 col0\" >1e8ce27a0b16f7d47d659dc13d8b211aa598e2544335da51f8ba3cf8af8cf3e9</td>\n",
       "      <td id=\"T_bf4aa_row47_col1\" class=\"data row47 col1\" >f6ccf0078eb016c76496d0e656ae6cd1debdee0907395e5f94fd5a87cc2001cf</td>\n",
       "      <td id=\"T_bf4aa_row47_col2\" class=\"data row47 col2\" >6301ab5ad8122fec998c4c8c0f41f98adc211a27766d37f40202847cdb203932</td>\n",
       "      <td id=\"T_bf4aa_row47_col3\" class=\"data row47 col3\" >1d39f0169eaee3060a5d6610b59a9f99faf439acd09292661acc0fece1b2dfa1</td>\n",
       "      <td id=\"T_bf4aa_row47_col4\" class=\"data row47 col4\" >JS Roasted Salted Pistachio 150g</td>\n",
       "    </tr>\n",
       "    <tr>\n",
       "      <th id=\"T_bf4aa_level0_row48\" class=\"row_heading level0 row48\" >263</th>\n",
       "      <td id=\"T_bf4aa_row48_col0\" class=\"data row48 col0\" >1e8ce27a0b16f7d47d659dc13d8b211aa598e2544335da51f8ba3cf8af8cf3e9</td>\n",
       "      <td id=\"T_bf4aa_row48_col1\" class=\"data row48 col1\" >f6ccf0078eb016c76496d0e656ae6cd1debdee0907395e5f94fd5a87cc2001cf</td>\n",
       "      <td id=\"T_bf4aa_row48_col2\" class=\"data row48 col2\" >738b32393e34ceb0c30331accbb08ae39b6a290d31c67b13a489a57cace52028</td>\n",
       "      <td id=\"T_bf4aa_row48_col3\" class=\"data row48 col3\" >1d39f0169eaee3060a5d6610b59a9f99faf439acd09292661acc0fece1b2dfa1</td>\n",
       "      <td id=\"T_bf4aa_row48_col4\" class=\"data row48 col4\" >JS ROASTED MONKEY NUTS IN SHELLS 300G</td>\n",
       "    </tr>\n",
       "    <tr>\n",
       "      <th id=\"T_bf4aa_level0_row49\" class=\"row_heading level0 row49\" >264</th>\n",
       "      <td id=\"T_bf4aa_row49_col0\" class=\"data row49 col0\" >1e8ce27a0b16f7d47d659dc13d8b211aa598e2544335da51f8ba3cf8af8cf3e9</td>\n",
       "      <td id=\"T_bf4aa_row49_col1\" class=\"data row49 col1\" >f6ccf0078eb016c76496d0e656ae6cd1debdee0907395e5f94fd5a87cc2001cf</td>\n",
       "      <td id=\"T_bf4aa_row49_col2\" class=\"data row49 col2\" >9e6e267d249f8f561c8b58751b3665a7f1e15005870b679eb9325c6c193c5cea</td>\n",
       "      <td id=\"T_bf4aa_row49_col3\" class=\"data row49 col3\" >1d39f0169eaee3060a5d6610b59a9f99faf439acd09292661acc0fece1b2dfa1</td>\n",
       "      <td id=\"T_bf4aa_row49_col4\" class=\"data row49 col4\" >Mr Porky Scratchings 65g</td>\n",
       "    </tr>\n",
       "    <tr>\n",
       "      <th id=\"T_bf4aa_level0_row50\" class=\"row_heading level0 row50\" >77</th>\n",
       "      <td id=\"T_bf4aa_row50_col0\" class=\"data row50 col0\" >28ae9a4a9cf6acf793b7d29f1d9ce1dbefa73432880c7211924469c88216b161</td>\n",
       "      <td id=\"T_bf4aa_row50_col1\" class=\"data row50 col1\" >c02f9b35e3543b88f063b31a638acbb99ea1d2eadbd86a1d2895046d531779bf</td>\n",
       "      <td id=\"T_bf4aa_row50_col2\" class=\"data row50 col2\" >32a0a32693e6f2b566a43d01d32e3c1f7c334c40c84db02d4a9506252ce78f49</td>\n",
       "      <td id=\"T_bf4aa_row50_col3\" class=\"data row50 col3\" >dc3a1ea6c2749c1a91cb06167442c3e5d0dbf6107dc1b8caf13cb31b162c0aaa</td>\n",
       "      <td id=\"T_bf4aa_row50_col4\" class=\"data row50 col4\" >JS WS Mulled Wine 75cl</td>\n",
       "    </tr>\n",
       "    <tr>\n",
       "      <th id=\"T_bf4aa_level0_row51\" class=\"row_heading level0 row51\" >198</th>\n",
       "      <td id=\"T_bf4aa_row51_col0\" class=\"data row51 col0\" >28d80d92bca35c8ab108d3d72333f0374719a244f978a1698aca4d763c23906a</td>\n",
       "      <td id=\"T_bf4aa_row51_col1\" class=\"data row51 col1\" >2794ff1d0a8586ee24977f9eacc35f7814c1cbb850a5936814e62c61b3b62b6b</td>\n",
       "      <td id=\"T_bf4aa_row51_col2\" class=\"data row51 col2\" >425d55fa219a85d9c1e338f9cc3cbaeeb584ccaca0f709caa6952bb7db764c81</td>\n",
       "      <td id=\"T_bf4aa_row51_col3\" class=\"data row51 col3\" >c3be12edf9bea03da807647c489dcccd824f7a85f8f563d7e9f62a5209618578</td>\n",
       "      <td id=\"T_bf4aa_row51_col4\" class=\"data row51 col4\" >McVitie's Club  Mint x7</td>\n",
       "    </tr>\n",
       "    <tr>\n",
       "      <th id=\"T_bf4aa_level0_row52\" class=\"row_heading level0 row52\" >209</th>\n",
       "      <td id=\"T_bf4aa_row52_col0\" class=\"data row52 col0\" >28d80d92bca35c8ab108d3d72333f0374719a244f978a1698aca4d763c23906a</td>\n",
       "      <td id=\"T_bf4aa_row52_col1\" class=\"data row52 col1\" >2794ff1d0a8586ee24977f9eacc35f7814c1cbb850a5936814e62c61b3b62b6b</td>\n",
       "      <td id=\"T_bf4aa_row52_col2\" class=\"data row52 col2\" >425d55fa219a85d9c1e338f9cc3cbaeeb584ccaca0f709caa6952bb7db764c81</td>\n",
       "      <td id=\"T_bf4aa_row52_col3\" class=\"data row52 col3\" >c3be12edf9bea03da807647c489dcccd824f7a85f8f563d7e9f62a5209618578</td>\n",
       "      <td id=\"T_bf4aa_row52_col4\" class=\"data row52 col4\" >McVitie's Club Orange Chocolate Biscuit</td>\n",
       "    </tr>\n",
       "    <tr>\n",
       "      <th id=\"T_bf4aa_level0_row53\" class=\"row_heading level0 row53\" >203</th>\n",
       "      <td id=\"T_bf4aa_row53_col0\" class=\"data row53 col0\" >28d80d92bca35c8ab108d3d72333f0374719a244f978a1698aca4d763c23906a</td>\n",
       "      <td id=\"T_bf4aa_row53_col1\" class=\"data row53 col1\" >2794ff1d0a8586ee24977f9eacc35f7814c1cbb850a5936814e62c61b3b62b6b</td>\n",
       "      <td id=\"T_bf4aa_row53_col2\" class=\"data row53 col2\" >425d55fa219a85d9c1e338f9cc3cbaeeb584ccaca0f709caa6952bb7db764c81</td>\n",
       "      <td id=\"T_bf4aa_row53_col3\" class=\"data row53 col3\" >c3be12edf9bea03da807647c489dcccd824f7a85f8f563d7e9f62a5209618578</td>\n",
       "      <td id=\"T_bf4aa_row53_col4\" class=\"data row53 col4\" >McVitie's Club Salted Caramel x7</td>\n",
       "    </tr>\n",
       "    <tr>\n",
       "      <th id=\"T_bf4aa_level0_row54\" class=\"row_heading level0 row54\" >201</th>\n",
       "      <td id=\"T_bf4aa_row54_col0\" class=\"data row54 col0\" >28d80d92bca35c8ab108d3d72333f0374719a244f978a1698aca4d763c23906a</td>\n",
       "      <td id=\"T_bf4aa_row54_col1\" class=\"data row54 col1\" >2794ff1d0a8586ee24977f9eacc35f7814c1cbb850a5936814e62c61b3b62b6b</td>\n",
       "      <td id=\"T_bf4aa_row54_col2\" class=\"data row54 col2\" >425d55fa219a85d9c1e338f9cc3cbaeeb584ccaca0f709caa6952bb7db764c81</td>\n",
       "      <td id=\"T_bf4aa_row54_col3\" class=\"data row54 col3\" >c3be12edf9bea03da807647c489dcccd824f7a85f8f563d7e9f62a5209618578</td>\n",
       "      <td id=\"T_bf4aa_row54_col4\" class=\"data row54 col4\" >McVities Gold Bars 7pk</td>\n",
       "    </tr>\n",
       "    <tr>\n",
       "      <th id=\"T_bf4aa_level0_row55\" class=\"row_heading level0 row55\" >204</th>\n",
       "      <td id=\"T_bf4aa_row55_col0\" class=\"data row55 col0\" >28d80d92bca35c8ab108d3d72333f0374719a244f978a1698aca4d763c23906a</td>\n",
       "      <td id=\"T_bf4aa_row55_col1\" class=\"data row55 col1\" >2794ff1d0a8586ee24977f9eacc35f7814c1cbb850a5936814e62c61b3b62b6b</td>\n",
       "      <td id=\"T_bf4aa_row55_col2\" class=\"data row55 col2\" >425d55fa219a85d9c1e338f9cc3cbaeeb584ccaca0f709caa6952bb7db764c81</td>\n",
       "      <td id=\"T_bf4aa_row55_col3\" class=\"data row55 col3\" >c3be12edf9bea03da807647c489dcccd824f7a85f8f563d7e9f62a5209618578</td>\n",
       "      <td id=\"T_bf4aa_row55_col4\" class=\"data row55 col4\" >Pick Up Hazelnut</td>\n",
       "    </tr>\n",
       "    <tr>\n",
       "      <th id=\"T_bf4aa_level0_row56\" class=\"row_heading level0 row56\" >206</th>\n",
       "      <td id=\"T_bf4aa_row56_col0\" class=\"data row56 col0\" >28d80d92bca35c8ab108d3d72333f0374719a244f978a1698aca4d763c23906a</td>\n",
       "      <td id=\"T_bf4aa_row56_col1\" class=\"data row56 col1\" >2794ff1d0a8586ee24977f9eacc35f7814c1cbb850a5936814e62c61b3b62b6b</td>\n",
       "      <td id=\"T_bf4aa_row56_col2\" class=\"data row56 col2\" >468afbebdc4da4d5b724f7caff025d3a47d17ded4e1a750a82d681c1602d4033</td>\n",
       "      <td id=\"T_bf4aa_row56_col3\" class=\"data row56 col3\" >c3be12edf9bea03da807647c489dcccd824f7a85f8f563d7e9f62a5209618578</td>\n",
       "      <td id=\"T_bf4aa_row56_col4\" class=\"data row56 col4\" >Cadbury Timeout 6 pack</td>\n",
       "    </tr>\n",
       "    <tr>\n",
       "      <th id=\"T_bf4aa_level0_row57\" class=\"row_heading level0 row57\" >202</th>\n",
       "      <td id=\"T_bf4aa_row57_col0\" class=\"data row57 col0\" >28d80d92bca35c8ab108d3d72333f0374719a244f978a1698aca4d763c23906a</td>\n",
       "      <td id=\"T_bf4aa_row57_col1\" class=\"data row57 col1\" >2794ff1d0a8586ee24977f9eacc35f7814c1cbb850a5936814e62c61b3b62b6b</td>\n",
       "      <td id=\"T_bf4aa_row57_col2\" class=\"data row57 col2\" >9dfad106b09f00cb4b47e24469022ddcfa8c06b5cd81a65716ced880d1e6b2b9</td>\n",
       "      <td id=\"T_bf4aa_row57_col3\" class=\"data row57 col3\" >c3be12edf9bea03da807647c489dcccd824f7a85f8f563d7e9f62a5209618578</td>\n",
       "      <td id=\"T_bf4aa_row57_col4\" class=\"data row57 col4\" >Kit Kat 2 Finger Caramel Multipack X9</td>\n",
       "    </tr>\n",
       "    <tr>\n",
       "      <th id=\"T_bf4aa_level0_row58\" class=\"row_heading level0 row58\" >200</th>\n",
       "      <td id=\"T_bf4aa_row58_col0\" class=\"data row58 col0\" >28d80d92bca35c8ab108d3d72333f0374719a244f978a1698aca4d763c23906a</td>\n",
       "      <td id=\"T_bf4aa_row58_col1\" class=\"data row58 col1\" >2794ff1d0a8586ee24977f9eacc35f7814c1cbb850a5936814e62c61b3b62b6b</td>\n",
       "      <td id=\"T_bf4aa_row58_col2\" class=\"data row58 col2\" >9dfad106b09f00cb4b47e24469022ddcfa8c06b5cd81a65716ced880d1e6b2b9</td>\n",
       "      <td id=\"T_bf4aa_row58_col3\" class=\"data row58 col3\" >c3be12edf9bea03da807647c489dcccd824f7a85f8f563d7e9f62a5209618578</td>\n",
       "      <td id=\"T_bf4aa_row58_col4\" class=\"data row58 col4\" >Kit Kat 2 Finger Dark Mint 9x20.7g</td>\n",
       "    </tr>\n",
       "    <tr>\n",
       "      <th id=\"T_bf4aa_level0_row59\" class=\"row_heading level0 row59\" >210</th>\n",
       "      <td id=\"T_bf4aa_row59_col0\" class=\"data row59 col0\" >28d80d92bca35c8ab108d3d72333f0374719a244f978a1698aca4d763c23906a</td>\n",
       "      <td id=\"T_bf4aa_row59_col1\" class=\"data row59 col1\" >2794ff1d0a8586ee24977f9eacc35f7814c1cbb850a5936814e62c61b3b62b6b</td>\n",
       "      <td id=\"T_bf4aa_row59_col2\" class=\"data row59 col2\" >9dfad106b09f00cb4b47e24469022ddcfa8c06b5cd81a65716ced880d1e6b2b9</td>\n",
       "      <td id=\"T_bf4aa_row59_col3\" class=\"data row59 col3\" >c3be12edf9bea03da807647c489dcccd824f7a85f8f563d7e9f62a5209618578</td>\n",
       "      <td id=\"T_bf4aa_row59_col4\" class=\"data row59 col4\" >Kit Kat 2 Finger White MPK 9x20.7g</td>\n",
       "    </tr>\n",
       "    <tr>\n",
       "      <th id=\"T_bf4aa_level0_row60\" class=\"row_heading level0 row60\" >207</th>\n",
       "      <td id=\"T_bf4aa_row60_col0\" class=\"data row60 col0\" >28d80d92bca35c8ab108d3d72333f0374719a244f978a1698aca4d763c23906a</td>\n",
       "      <td id=\"T_bf4aa_row60_col1\" class=\"data row60 col1\" >2794ff1d0a8586ee24977f9eacc35f7814c1cbb850a5936814e62c61b3b62b6b</td>\n",
       "      <td id=\"T_bf4aa_row60_col2\" class=\"data row60 col2\" >9dfad106b09f00cb4b47e24469022ddcfa8c06b5cd81a65716ced880d1e6b2b9</td>\n",
       "      <td id=\"T_bf4aa_row60_col3\" class=\"data row60 col3\" >c3be12edf9bea03da807647c489dcccd824f7a85f8f563d7e9f62a5209618578</td>\n",
       "      <td id=\"T_bf4aa_row60_col4\" class=\"data row60 col4\" >Kit Kat choc orange 2 finger 9 pack</td>\n",
       "    </tr>\n",
       "    <tr>\n",
       "      <th id=\"T_bf4aa_level0_row61\" class=\"row_heading level0 row61\" >197</th>\n",
       "      <td id=\"T_bf4aa_row61_col0\" class=\"data row61 col0\" >28d80d92bca35c8ab108d3d72333f0374719a244f978a1698aca4d763c23906a</td>\n",
       "      <td id=\"T_bf4aa_row61_col1\" class=\"data row61 col1\" >2794ff1d0a8586ee24977f9eacc35f7814c1cbb850a5936814e62c61b3b62b6b</td>\n",
       "      <td id=\"T_bf4aa_row61_col2\" class=\"data row61 col2\" >9dfad106b09f00cb4b47e24469022ddcfa8c06b5cd81a65716ced880d1e6b2b9</td>\n",
       "      <td id=\"T_bf4aa_row61_col3\" class=\"data row61 col3\" >c3be12edf9bea03da807647c489dcccd824f7a85f8f563d7e9f62a5209618578</td>\n",
       "      <td id=\"T_bf4aa_row61_col4\" class=\"data row61 col4\" >Kit Kat dark choc 2 finger 9pk</td>\n",
       "    </tr>\n",
       "    <tr>\n",
       "      <th id=\"T_bf4aa_level0_row62\" class=\"row_heading level0 row62\" >199</th>\n",
       "      <td id=\"T_bf4aa_row62_col0\" class=\"data row62 col0\" >28d80d92bca35c8ab108d3d72333f0374719a244f978a1698aca4d763c23906a</td>\n",
       "      <td id=\"T_bf4aa_row62_col1\" class=\"data row62 col1\" >2794ff1d0a8586ee24977f9eacc35f7814c1cbb850a5936814e62c61b3b62b6b</td>\n",
       "      <td id=\"T_bf4aa_row62_col2\" class=\"data row62 col2\" >9dfad106b09f00cb4b47e24469022ddcfa8c06b5cd81a65716ced880d1e6b2b9</td>\n",
       "      <td id=\"T_bf4aa_row62_col3\" class=\"data row62 col3\" >c3be12edf9bea03da807647c489dcccd824f7a85f8f563d7e9f62a5209618578</td>\n",
       "      <td id=\"T_bf4aa_row62_col4\" class=\"data row62 col4\" >Kitkat 2 finger choc orange 14pk</td>\n",
       "    </tr>\n",
       "    <tr>\n",
       "      <th id=\"T_bf4aa_level0_row63\" class=\"row_heading level0 row63\" >205</th>\n",
       "      <td id=\"T_bf4aa_row63_col0\" class=\"data row63 col0\" >28d80d92bca35c8ab108d3d72333f0374719a244f978a1698aca4d763c23906a</td>\n",
       "      <td id=\"T_bf4aa_row63_col1\" class=\"data row63 col1\" >2794ff1d0a8586ee24977f9eacc35f7814c1cbb850a5936814e62c61b3b62b6b</td>\n",
       "      <td id=\"T_bf4aa_row63_col2\" class=\"data row63 col2\" >bd83e2d9962344f9ae2f29b92f95ffa8008b12a1af16bf209699fb818660d2f1</td>\n",
       "      <td id=\"T_bf4aa_row63_col3\" class=\"data row63 col3\" >c3be12edf9bea03da807647c489dcccd824f7a85f8f563d7e9f62a5209618578</td>\n",
       "      <td id=\"T_bf4aa_row63_col4\" class=\"data row63 col4\" >WAGON WHEELS JAMMIE 229g</td>\n",
       "    </tr>\n",
       "    <tr>\n",
       "      <th id=\"T_bf4aa_level0_row64\" class=\"row_heading level0 row64\" >208</th>\n",
       "      <td id=\"T_bf4aa_row64_col0\" class=\"data row64 col0\" >28d80d92bca35c8ab108d3d72333f0374719a244f978a1698aca4d763c23906a</td>\n",
       "      <td id=\"T_bf4aa_row64_col1\" class=\"data row64 col1\" >2794ff1d0a8586ee24977f9eacc35f7814c1cbb850a5936814e62c61b3b62b6b</td>\n",
       "      <td id=\"T_bf4aa_row64_col2\" class=\"data row64 col2\" >dbafb0e595b0bab4de5395d6776af8cb51773c6abd94437e4b0ba7fb9318adbb</td>\n",
       "      <td id=\"T_bf4aa_row64_col3\" class=\"data row64 col3\" >c3be12edf9bea03da807647c489dcccd824f7a85f8f563d7e9f62a5209618578</td>\n",
       "      <td id=\"T_bf4aa_row64_col4\" class=\"data row64 col4\" >Twix biscuit 16pkt 320g</td>\n",
       "    </tr>\n",
       "    <tr>\n",
       "      <th id=\"T_bf4aa_level0_row65\" class=\"row_heading level0 row65\" >253</th>\n",
       "      <td id=\"T_bf4aa_row65_col0\" class=\"data row65 col0\" >29181a678f4d0d2cbc77b08e1882bf6dce48bc057e89128768ed496eda8b5eec</td>\n",
       "      <td id=\"T_bf4aa_row65_col1\" class=\"data row65 col1\" >33f36edd103ba015314776f5762b0562801f9e7302b80144424a456289378763</td>\n",
       "      <td id=\"T_bf4aa_row65_col2\" class=\"data row65 col2\" >b927b9caa297396b04bab63930be730aac694f2198c401c65b3d36e58f8137d7</td>\n",
       "      <td id=\"T_bf4aa_row65_col3\" class=\"data row65 col3\" >c04d03b504e12833f503817a854224c0a03c27ce74c3aa1ebae6d8e0fc72e425</td>\n",
       "      <td id=\"T_bf4aa_row65_col4\" class=\"data row65 col4\" >Stamford Street Co. Carrots 1kg</td>\n",
       "    </tr>\n",
       "    <tr>\n",
       "      <th id=\"T_bf4aa_level0_row66\" class=\"row_heading level0 row66\" >178</th>\n",
       "      <td id=\"T_bf4aa_row66_col0\" class=\"data row66 col0\" >29239ba4007955317dd9fe0e0e0c0efb6beeddb6c10741f05bea2d90e451f95b</td>\n",
       "      <td id=\"T_bf4aa_row66_col1\" class=\"data row66 col1\" >12e38e2279b68df56e9af14ab08bd835c7c9e680654ccda2cbd7a05a5ffc5983</td>\n",
       "      <td id=\"T_bf4aa_row66_col2\" class=\"data row66 col2\" >38c721b52c8144aaea87b2cf51506c3ba505b0e2598f416f7f4cacc254a4f971</td>\n",
       "      <td id=\"T_bf4aa_row66_col3\" class=\"data row66 col3\" >c04d03b504e12833f503817a854224c0a03c27ce74c3aa1ebae6d8e0fc72e425</td>\n",
       "      <td id=\"T_bf4aa_row66_col4\" class=\"data row66 col4\" >JS ORANGES SINGLE</td>\n",
       "    </tr>\n",
       "    <tr>\n",
       "      <th id=\"T_bf4aa_level0_row67\" class=\"row_heading level0 row67\" >179</th>\n",
       "      <td id=\"T_bf4aa_row67_col0\" class=\"data row67 col0\" >29239ba4007955317dd9fe0e0e0c0efb6beeddb6c10741f05bea2d90e451f95b</td>\n",
       "      <td id=\"T_bf4aa_row67_col1\" class=\"data row67 col1\" >12e38e2279b68df56e9af14ab08bd835c7c9e680654ccda2cbd7a05a5ffc5983</td>\n",
       "      <td id=\"T_bf4aa_row67_col2\" class=\"data row67 col2\" >38c721b52c8144aaea87b2cf51506c3ba505b0e2598f416f7f4cacc254a4f971</td>\n",
       "      <td id=\"T_bf4aa_row67_col3\" class=\"data row67 col3\" >c04d03b504e12833f503817a854224c0a03c27ce74c3aa1ebae6d8e0fc72e425</td>\n",
       "      <td id=\"T_bf4aa_row67_col4\" class=\"data row67 col4\" >Stamford Street Oranges x5</td>\n",
       "    </tr>\n",
       "    <tr>\n",
       "      <th id=\"T_bf4aa_level0_row68\" class=\"row_heading level0 row68\" >177</th>\n",
       "      <td id=\"T_bf4aa_row68_col0\" class=\"data row68 col0\" >29239ba4007955317dd9fe0e0e0c0efb6beeddb6c10741f05bea2d90e451f95b</td>\n",
       "      <td id=\"T_bf4aa_row68_col1\" class=\"data row68 col1\" >12e38e2279b68df56e9af14ab08bd835c7c9e680654ccda2cbd7a05a5ffc5983</td>\n",
       "      <td id=\"T_bf4aa_row68_col2\" class=\"data row68 col2\" >dc01368cf65a388b8bb4d7c375660b0e6b1e364cb778c3f45c33acd67f787104</td>\n",
       "      <td id=\"T_bf4aa_row68_col3\" class=\"data row68 col3\" >c04d03b504e12833f503817a854224c0a03c27ce74c3aa1ebae6d8e0fc72e425</td>\n",
       "      <td id=\"T_bf4aa_row68_col4\" class=\"data row68 col4\" >JS Easy Peeler Single</td>\n",
       "    </tr>\n",
       "    <tr>\n",
       "      <th id=\"T_bf4aa_level0_row69\" class=\"row_heading level0 row69\" >176</th>\n",
       "      <td id=\"T_bf4aa_row69_col0\" class=\"data row69 col0\" >29239ba4007955317dd9fe0e0e0c0efb6beeddb6c10741f05bea2d90e451f95b</td>\n",
       "      <td id=\"T_bf4aa_row69_col1\" class=\"data row69 col1\" >12e38e2279b68df56e9af14ab08bd835c7c9e680654ccda2cbd7a05a5ffc5983</td>\n",
       "      <td id=\"T_bf4aa_row69_col2\" class=\"data row69 col2\" >dc01368cf65a388b8bb4d7c375660b0e6b1e364cb778c3f45c33acd67f787104</td>\n",
       "      <td id=\"T_bf4aa_row69_col3\" class=\"data row69 col3\" >c04d03b504e12833f503817a854224c0a03c27ce74c3aa1ebae6d8e0fc72e425</td>\n",
       "      <td id=\"T_bf4aa_row69_col4\" class=\"data row69 col4\" >Stamford Street Easy Peelers 600g</td>\n",
       "    </tr>\n",
       "    <tr>\n",
       "      <th id=\"T_bf4aa_level0_row70\" class=\"row_heading level0 row70\" >189</th>\n",
       "      <td id=\"T_bf4aa_row70_col0\" class=\"data row70 col0\" >29e3e9692304e98fc9f3373c9b57f90a1994774a1b80c4cfc7bbc321602bf384</td>\n",
       "      <td id=\"T_bf4aa_row70_col1\" class=\"data row70 col1\" >f6ccf0078eb016c76496d0e656ae6cd1debdee0907395e5f94fd5a87cc2001cf</td>\n",
       "      <td id=\"T_bf4aa_row70_col2\" class=\"data row70 col2\" >5c73b6329dbd1783ba3bf966c8d9bf9324f67a71de3cb424e2849f0f0372bdf0</td>\n",
       "      <td id=\"T_bf4aa_row70_col3\" class=\"data row70 col3\" >1d39f0169eaee3060a5d6610b59a9f99faf439acd09292661acc0fece1b2dfa1</td>\n",
       "      <td id=\"T_bf4aa_row70_col4\" class=\"data row70 col4\" >KP Hula Hoops Original 12x24g</td>\n",
       "    </tr>\n",
       "    <tr>\n",
       "      <th id=\"T_bf4aa_level0_row71\" class=\"row_heading level0 row71\" >190</th>\n",
       "      <td id=\"T_bf4aa_row71_col0\" class=\"data row71 col0\" >29e3e9692304e98fc9f3373c9b57f90a1994774a1b80c4cfc7bbc321602bf384</td>\n",
       "      <td id=\"T_bf4aa_row71_col1\" class=\"data row71 col1\" >f6ccf0078eb016c76496d0e656ae6cd1debdee0907395e5f94fd5a87cc2001cf</td>\n",
       "      <td id=\"T_bf4aa_row71_col2\" class=\"data row71 col2\" >5c73b6329dbd1783ba3bf966c8d9bf9324f67a71de3cb424e2849f0f0372bdf0</td>\n",
       "      <td id=\"T_bf4aa_row71_col3\" class=\"data row71 col3\" >1d39f0169eaee3060a5d6610b59a9f99faf439acd09292661acc0fece1b2dfa1</td>\n",
       "      <td id=\"T_bf4aa_row71_col4\" class=\"data row71 col4\" >KP Skips Prawn Cocktail 14x13.1g</td>\n",
       "    </tr>\n",
       "    <tr>\n",
       "      <th id=\"T_bf4aa_level0_row72\" class=\"row_heading level0 row72\" >191</th>\n",
       "      <td id=\"T_bf4aa_row72_col0\" class=\"data row72 col0\" >29e3e9692304e98fc9f3373c9b57f90a1994774a1b80c4cfc7bbc321602bf384</td>\n",
       "      <td id=\"T_bf4aa_row72_col1\" class=\"data row72 col1\" >f6ccf0078eb016c76496d0e656ae6cd1debdee0907395e5f94fd5a87cc2001cf</td>\n",
       "      <td id=\"T_bf4aa_row72_col2\" class=\"data row72 col2\" >5c73b6329dbd1783ba3bf966c8d9bf9324f67a71de3cb424e2849f0f0372bdf0</td>\n",
       "      <td id=\"T_bf4aa_row72_col3\" class=\"data row72 col3\" >1d39f0169eaee3060a5d6610b59a9f99faf439acd09292661acc0fece1b2dfa1</td>\n",
       "      <td id=\"T_bf4aa_row72_col4\" class=\"data row72 col4\" >WALKERS DORITOS MIXED 12X30G</td>\n",
       "    </tr>\n",
       "    <tr>\n",
       "      <th id=\"T_bf4aa_level0_row73\" class=\"row_heading level0 row73\" >187</th>\n",
       "      <td id=\"T_bf4aa_row73_col0\" class=\"data row73 col0\" >29e3e9692304e98fc9f3373c9b57f90a1994774a1b80c4cfc7bbc321602bf384</td>\n",
       "      <td id=\"T_bf4aa_row73_col1\" class=\"data row73 col1\" >f6ccf0078eb016c76496d0e656ae6cd1debdee0907395e5f94fd5a87cc2001cf</td>\n",
       "      <td id=\"T_bf4aa_row73_col2\" class=\"data row73 col2\" >5c73b6329dbd1783ba3bf966c8d9bf9324f67a71de3cb424e2849f0f0372bdf0</td>\n",
       "      <td id=\"T_bf4aa_row73_col3\" class=\"data row73 col3\" >1d39f0169eaee3060a5d6610b59a9f99faf439acd09292661acc0fece1b2dfa1</td>\n",
       "      <td id=\"T_bf4aa_row73_col4\" class=\"data row73 col4\" >WALKERS MONSTER MUNCH 12pk</td>\n",
       "    </tr>\n",
       "    <tr>\n",
       "      <th id=\"T_bf4aa_level0_row74\" class=\"row_heading level0 row74\" >193</th>\n",
       "      <td id=\"T_bf4aa_row74_col0\" class=\"data row74 col0\" >29e3e9692304e98fc9f3373c9b57f90a1994774a1b80c4cfc7bbc321602bf384</td>\n",
       "      <td id=\"T_bf4aa_row74_col1\" class=\"data row74 col1\" >f6ccf0078eb016c76496d0e656ae6cd1debdee0907395e5f94fd5a87cc2001cf</td>\n",
       "      <td id=\"T_bf4aa_row74_col2\" class=\"data row74 col2\" >5c73b6329dbd1783ba3bf966c8d9bf9324f67a71de3cb424e2849f0f0372bdf0</td>\n",
       "      <td id=\"T_bf4aa_row74_col3\" class=\"data row74 col3\" >1d39f0169eaee3060a5d6610b59a9f99faf439acd09292661acc0fece1b2dfa1</td>\n",
       "      <td id=\"T_bf4aa_row74_col4\" class=\"data row74 col4\" >WALKERS QUAVERS CHEESE 12x16g</td>\n",
       "    </tr>\n",
       "    <tr>\n",
       "      <th id=\"T_bf4aa_level0_row75\" class=\"row_heading level0 row75\" >188</th>\n",
       "      <td id=\"T_bf4aa_row75_col0\" class=\"data row75 col0\" >29e3e9692304e98fc9f3373c9b57f90a1994774a1b80c4cfc7bbc321602bf384</td>\n",
       "      <td id=\"T_bf4aa_row75_col1\" class=\"data row75 col1\" >f6ccf0078eb016c76496d0e656ae6cd1debdee0907395e5f94fd5a87cc2001cf</td>\n",
       "      <td id=\"T_bf4aa_row75_col2\" class=\"data row75 col2\" >5c73b6329dbd1783ba3bf966c8d9bf9324f67a71de3cb424e2849f0f0372bdf0</td>\n",
       "      <td id=\"T_bf4aa_row75_col3\" class=\"data row75 col3\" >1d39f0169eaee3060a5d6610b59a9f99faf439acd09292661acc0fece1b2dfa1</td>\n",
       "      <td id=\"T_bf4aa_row75_col4\" class=\"data row75 col4\" >Walkers Squares Variety pack 12pk</td>\n",
       "    </tr>\n",
       "    <tr>\n",
       "      <th id=\"T_bf4aa_level0_row76\" class=\"row_heading level0 row76\" >192</th>\n",
       "      <td id=\"T_bf4aa_row76_col0\" class=\"data row76 col0\" >29e3e9692304e98fc9f3373c9b57f90a1994774a1b80c4cfc7bbc321602bf384</td>\n",
       "      <td id=\"T_bf4aa_row76_col1\" class=\"data row76 col1\" >f6ccf0078eb016c76496d0e656ae6cd1debdee0907395e5f94fd5a87cc2001cf</td>\n",
       "      <td id=\"T_bf4aa_row76_col2\" class=\"data row76 col2\" >5c73b6329dbd1783ba3bf966c8d9bf9324f67a71de3cb424e2849f0f0372bdf0</td>\n",
       "      <td id=\"T_bf4aa_row76_col3\" class=\"data row76 col3\" >1d39f0169eaee3060a5d6610b59a9f99faf439acd09292661acc0fece1b2dfa1</td>\n",
       "      <td id=\"T_bf4aa_row76_col4\" class=\"data row76 col4\" >Wotsits 20pk</td>\n",
       "    </tr>\n",
       "    <tr>\n",
       "      <th id=\"T_bf4aa_level0_row77\" class=\"row_heading level0 row77\" >194</th>\n",
       "      <td id=\"T_bf4aa_row77_col0\" class=\"data row77 col0\" >29e3e9692304e98fc9f3373c9b57f90a1994774a1b80c4cfc7bbc321602bf384</td>\n",
       "      <td id=\"T_bf4aa_row77_col1\" class=\"data row77 col1\" >f6ccf0078eb016c76496d0e656ae6cd1debdee0907395e5f94fd5a87cc2001cf</td>\n",
       "      <td id=\"T_bf4aa_row77_col2\" class=\"data row77 col2\" >dc0d94c5d69489e76f28b5af44ff26018d0f99574e8092e84f72ce2f52515acc</td>\n",
       "      <td id=\"T_bf4aa_row77_col3\" class=\"data row77 col3\" >1d39f0169eaee3060a5d6610b59a9f99faf439acd09292661acc0fece1b2dfa1</td>\n",
       "      <td id=\"T_bf4aa_row77_col4\" class=\"data row77 col4\" >DORITOS TANGY CHEESE 5pk</td>\n",
       "    </tr>\n",
       "    <tr>\n",
       "      <th id=\"T_bf4aa_level0_row78\" class=\"row_heading level0 row78\" >186</th>\n",
       "      <td id=\"T_bf4aa_row78_col0\" class=\"data row78 col0\" >29e3e9692304e98fc9f3373c9b57f90a1994774a1b80c4cfc7bbc321602bf384</td>\n",
       "      <td id=\"T_bf4aa_row78_col1\" class=\"data row78 col1\" >f6ccf0078eb016c76496d0e656ae6cd1debdee0907395e5f94fd5a87cc2001cf</td>\n",
       "      <td id=\"T_bf4aa_row78_col2\" class=\"data row78 col2\" >dc0d94c5d69489e76f28b5af44ff26018d0f99574e8092e84f72ce2f52515acc</td>\n",
       "      <td id=\"T_bf4aa_row78_col3\" class=\"data row78 col3\" >1d39f0169eaee3060a5d6610b59a9f99faf439acd09292661acc0fece1b2dfa1</td>\n",
       "      <td id=\"T_bf4aa_row78_col4\" class=\"data row78 col4\" >Mini Cheds Nibblies Cheese & Chive 6pk</td>\n",
       "    </tr>\n",
       "    <tr>\n",
       "      <th id=\"T_bf4aa_level0_row79\" class=\"row_heading level0 row79\" >195</th>\n",
       "      <td id=\"T_bf4aa_row79_col0\" class=\"data row79 col0\" >29e3e9692304e98fc9f3373c9b57f90a1994774a1b80c4cfc7bbc321602bf384</td>\n",
       "      <td id=\"T_bf4aa_row79_col1\" class=\"data row79 col1\" >f6ccf0078eb016c76496d0e656ae6cd1debdee0907395e5f94fd5a87cc2001cf</td>\n",
       "      <td id=\"T_bf4aa_row79_col2\" class=\"data row79 col2\" >dc0d94c5d69489e76f28b5af44ff26018d0f99574e8092e84f72ce2f52515acc</td>\n",
       "      <td id=\"T_bf4aa_row79_col3\" class=\"data row79 col3\" >1d39f0169eaee3060a5d6610b59a9f99faf439acd09292661acc0fece1b2dfa1</td>\n",
       "      <td id=\"T_bf4aa_row79_col4\" class=\"data row79 col4\" >Monster Munch Roast Beef 6pk</td>\n",
       "    </tr>\n",
       "    <tr>\n",
       "      <th id=\"T_bf4aa_level0_row80\" class=\"row_heading level0 row80\" >243</th>\n",
       "      <td id=\"T_bf4aa_row80_col0\" class=\"data row80 col0\" >2a0b9613c41386a55f813722bb6aa85ec77a9e924a25e65fdda7bcc392e4df3a</td>\n",
       "      <td id=\"T_bf4aa_row80_col1\" class=\"data row80 col1\" >80709361302e338d0aadf7229289b6b6bce683f27d0f972c1615491b0127e4f3</td>\n",
       "      <td id=\"T_bf4aa_row80_col2\" class=\"data row80 col2\" >4be70a40c8ba1536e88e1b0ab53f9014237f10ddbc201228f319c014b97f8160</td>\n",
       "      <td id=\"T_bf4aa_row80_col3\" class=\"data row80 col3\" >62fdd249de742553d34dd123970d49a2aed30427dc0d6b8e1e4b6be2d65a069d</td>\n",
       "      <td id=\"T_bf4aa_row80_col4\" class=\"data row80 col4\" >JS Butterlicious 500g</td>\n",
       "    </tr>\n",
       "    <tr>\n",
       "      <th id=\"T_bf4aa_level0_row81\" class=\"row_heading level0 row81\" >244</th>\n",
       "      <td id=\"T_bf4aa_row81_col0\" class=\"data row81 col0\" >2a0b9613c41386a55f813722bb6aa85ec77a9e924a25e65fdda7bcc392e4df3a</td>\n",
       "      <td id=\"T_bf4aa_row81_col1\" class=\"data row81 col1\" >80709361302e338d0aadf7229289b6b6bce683f27d0f972c1615491b0127e4f3</td>\n",
       "      <td id=\"T_bf4aa_row81_col2\" class=\"data row81 col2\" >4be70a40c8ba1536e88e1b0ab53f9014237f10ddbc201228f319c014b97f8160</td>\n",
       "      <td id=\"T_bf4aa_row81_col3\" class=\"data row81 col3\" >62fdd249de742553d34dd123970d49a2aed30427dc0d6b8e1e4b6be2d65a069d</td>\n",
       "      <td id=\"T_bf4aa_row81_col4\" class=\"data row81 col4\" >Stamford St. Soft Spread 500g</td>\n",
       "    </tr>\n",
       "    <tr>\n",
       "      <th id=\"T_bf4aa_level0_row82\" class=\"row_heading level0 row82\" >161</th>\n",
       "      <td id=\"T_bf4aa_row82_col0\" class=\"data row82 col0\" >2c61c19c8262eefa6a1154ae9e0a4d304fccf49a44f06a7a7ca9c053fcc725fc</td>\n",
       "      <td id=\"T_bf4aa_row82_col1\" class=\"data row82 col1\" >f6ccf0078eb016c76496d0e656ae6cd1debdee0907395e5f94fd5a87cc2001cf</td>\n",
       "      <td id=\"T_bf4aa_row82_col2\" class=\"data row82 col2\" >db813ad09b781a70bd208a0c4adc818953ae5cb7ac4c89b340c031a6a5f933e7</td>\n",
       "      <td id=\"T_bf4aa_row82_col3\" class=\"data row82 col3\" >1d39f0169eaee3060a5d6610b59a9f99faf439acd09292661acc0fece1b2dfa1</td>\n",
       "      <td id=\"T_bf4aa_row82_col4\" class=\"data row82 col4\" >Walkers Cheese&Onion 12pk</td>\n",
       "    </tr>\n",
       "    <tr>\n",
       "      <th id=\"T_bf4aa_level0_row83\" class=\"row_heading level0 row83\" >159</th>\n",
       "      <td id=\"T_bf4aa_row83_col0\" class=\"data row83 col0\" >2c61c19c8262eefa6a1154ae9e0a4d304fccf49a44f06a7a7ca9c053fcc725fc</td>\n",
       "      <td id=\"T_bf4aa_row83_col1\" class=\"data row83 col1\" >f6ccf0078eb016c76496d0e656ae6cd1debdee0907395e5f94fd5a87cc2001cf</td>\n",
       "      <td id=\"T_bf4aa_row83_col2\" class=\"data row83 col2\" >db813ad09b781a70bd208a0c4adc818953ae5cb7ac4c89b340c031a6a5f933e7</td>\n",
       "      <td id=\"T_bf4aa_row83_col3\" class=\"data row83 col3\" >1d39f0169eaee3060a5d6610b59a9f99faf439acd09292661acc0fece1b2dfa1</td>\n",
       "      <td id=\"T_bf4aa_row83_col4\" class=\"data row83 col4\" >Walkers Meaty 20pk</td>\n",
       "    </tr>\n",
       "    <tr>\n",
       "      <th id=\"T_bf4aa_level0_row84\" class=\"row_heading level0 row84\" >160</th>\n",
       "      <td id=\"T_bf4aa_row84_col0\" class=\"data row84 col0\" >2c61c19c8262eefa6a1154ae9e0a4d304fccf49a44f06a7a7ca9c053fcc725fc</td>\n",
       "      <td id=\"T_bf4aa_row84_col1\" class=\"data row84 col1\" >f6ccf0078eb016c76496d0e656ae6cd1debdee0907395e5f94fd5a87cc2001cf</td>\n",
       "      <td id=\"T_bf4aa_row84_col2\" class=\"data row84 col2\" >db813ad09b781a70bd208a0c4adc818953ae5cb7ac4c89b340c031a6a5f933e7</td>\n",
       "      <td id=\"T_bf4aa_row84_col3\" class=\"data row84 col3\" >1d39f0169eaee3060a5d6610b59a9f99faf439acd09292661acc0fece1b2dfa1</td>\n",
       "      <td id=\"T_bf4aa_row84_col4\" class=\"data row84 col4\" >Walkers Variety 20pk</td>\n",
       "    </tr>\n",
       "    <tr>\n",
       "      <th id=\"T_bf4aa_level0_row85\" class=\"row_heading level0 row85\" >76</th>\n",
       "      <td id=\"T_bf4aa_row85_col0\" class=\"data row85 col0\" >320cfc257dad81301b7d9a6c29c9146563ed40799bdeedc8c4abe611584346c6</td>\n",
       "      <td id=\"T_bf4aa_row85_col1\" class=\"data row85 col1\" >b3dcad14543a88a0a2f4275e3c741b05efc23577f22f26d93d5346bf6c06d3bc</td>\n",
       "      <td id=\"T_bf4aa_row85_col2\" class=\"data row85 col2\" >6a52110f68f252d884a7e021e281ae3597ed1d4817ac6c7a33b3866f66cf52be</td>\n",
       "      <td id=\"T_bf4aa_row85_col3\" class=\"data row85 col3\" >c04d03b504e12833f503817a854224c0a03c27ce74c3aa1ebae6d8e0fc72e425</td>\n",
       "      <td id=\"T_bf4aa_row85_col4\" class=\"data row85 col4\" >JS Large Kiwi Fruit</td>\n",
       "    </tr>\n",
       "    <tr>\n",
       "      <th id=\"T_bf4aa_level0_row86\" class=\"row_heading level0 row86\" >147</th>\n",
       "      <td id=\"T_bf4aa_row86_col0\" class=\"data row86 col0\" >36b1b1b3bb3818c6786cb7cd84b90b88b7b2bd44f4ae6d3a40f99e0f5374f722</td>\n",
       "      <td id=\"T_bf4aa_row86_col1\" class=\"data row86 col1\" >a49deafc455e166d548111275e6bdc4e32743b1d2d559d5aab8512b8ccf731cd</td>\n",
       "      <td id=\"T_bf4aa_row86_col2\" class=\"data row86 col2\" >e5cd9789012c0da0312710cc2b36b1ea2b1a5840f3b7f5b52fc7eb9278a2a158</td>\n",
       "      <td id=\"T_bf4aa_row86_col3\" class=\"data row86 col3\" >16e07576851f55b4c8bf497b8ceaac92b9dbcd2f57dbbc2202f7315e334eecb1</td>\n",
       "      <td id=\"T_bf4aa_row86_col4\" class=\"data row86 col4\" >TV TIMES 22/23</td>\n",
       "    </tr>\n",
       "    <tr>\n",
       "      <th id=\"T_bf4aa_level0_row87\" class=\"row_heading level0 row87\" >185</th>\n",
       "      <td id=\"T_bf4aa_row87_col0\" class=\"data row87 col0\" >377ecabe682aa7469993ecfe12d07d16d7e27c1006fbffd1082be0afb1137652</td>\n",
       "      <td id=\"T_bf4aa_row87_col1\" class=\"data row87 col1\" >a7614d33ceb00c46b632be6874714d2def2aced4a4b360f70e5d71f30de191af</td>\n",
       "      <td id=\"T_bf4aa_row87_col2\" class=\"data row87 col2\" >089efbb4360710dbca252dc217f30901c73906abee492259b2166a14c42958bf</td>\n",
       "      <td id=\"T_bf4aa_row87_col3\" class=\"data row87 col3\" >303d3bff03929ff76928fccc756ab6aa76afaee83eebe69b8302ea8844f5ac1f</td>\n",
       "      <td id=\"T_bf4aa_row87_col4\" class=\"data row87 col4\" >Stamford Street Mayonnaise 500ml</td>\n",
       "    </tr>\n",
       "    <tr>\n",
       "      <th id=\"T_bf4aa_level0_row88\" class=\"row_heading level0 row88\" >258</th>\n",
       "      <td id=\"T_bf4aa_row88_col0\" class=\"data row88 col0\" >390eb62a94bbbddeede4528526e10a6cb3b93a7582c5d9af93610a64d159eec7</td>\n",
       "      <td id=\"T_bf4aa_row88_col1\" class=\"data row88 col1\" >19cd1105db57280fb6e5c35cd070e348f4d447905573fc30cda9b0aca7d0cf0a</td>\n",
       "      <td id=\"T_bf4aa_row88_col2\" class=\"data row88 col2\" >1812ae42e4e633306b3408234ec31e38aceab09782604e07e0c6f3044bd42715</td>\n",
       "      <td id=\"T_bf4aa_row88_col3\" class=\"data row88 col3\" >303d3bff03929ff76928fccc756ab6aa76afaee83eebe69b8302ea8844f5ac1f</td>\n",
       "      <td id=\"T_bf4aa_row88_col4\" class=\"data row88 col4\" >Hubbard'Orange Medium Cut Marmalade 454g</td>\n",
       "    </tr>\n",
       "    <tr>\n",
       "      <th id=\"T_bf4aa_level0_row89\" class=\"row_heading level0 row89\" >257</th>\n",
       "      <td id=\"T_bf4aa_row89_col0\" class=\"data row89 col0\" >390eb62a94bbbddeede4528526e10a6cb3b93a7582c5d9af93610a64d159eec7</td>\n",
       "      <td id=\"T_bf4aa_row89_col1\" class=\"data row89 col1\" >19cd1105db57280fb6e5c35cd070e348f4d447905573fc30cda9b0aca7d0cf0a</td>\n",
       "      <td id=\"T_bf4aa_row89_col2\" class=\"data row89 col2\" >835fd3ea7d1fb5934e6840f6b0a87a91cc0540171a32c6902281d223ef92c578</td>\n",
       "      <td id=\"T_bf4aa_row89_col3\" class=\"data row89 col3\" >303d3bff03929ff76928fccc756ab6aa76afaee83eebe69b8302ea8844f5ac1f</td>\n",
       "      <td id=\"T_bf4aa_row89_col4\" class=\"data row89 col4\" >Hubbards Peanut Butter 340g</td>\n",
       "    </tr>\n",
       "    <tr>\n",
       "      <th id=\"T_bf4aa_level0_row90\" class=\"row_heading level0 row90\" >256</th>\n",
       "      <td id=\"T_bf4aa_row90_col0\" class=\"data row90 col0\" >390eb62a94bbbddeede4528526e10a6cb3b93a7582c5d9af93610a64d159eec7</td>\n",
       "      <td id=\"T_bf4aa_row90_col1\" class=\"data row90 col1\" >19cd1105db57280fb6e5c35cd070e348f4d447905573fc30cda9b0aca7d0cf0a</td>\n",
       "      <td id=\"T_bf4aa_row90_col2\" class=\"data row90 col2\" >e86e48aa389255fa04a57ce7ae81f541fbaca86514970cc8a4770705f6ca18a5</td>\n",
       "      <td id=\"T_bf4aa_row90_col3\" class=\"data row90 col3\" >303d3bff03929ff76928fccc756ab6aa76afaee83eebe69b8302ea8844f5ac1f</td>\n",
       "      <td id=\"T_bf4aa_row90_col4\" class=\"data row90 col4\" >JS Reduced Salt Yeast Extract 225g</td>\n",
       "    </tr>\n",
       "    <tr>\n",
       "      <th id=\"T_bf4aa_level0_row91\" class=\"row_heading level0 row91\" >254</th>\n",
       "      <td id=\"T_bf4aa_row91_col0\" class=\"data row91 col0\" >390eb62a94bbbddeede4528526e10a6cb3b93a7582c5d9af93610a64d159eec7</td>\n",
       "      <td id=\"T_bf4aa_row91_col1\" class=\"data row91 col1\" >19cd1105db57280fb6e5c35cd070e348f4d447905573fc30cda9b0aca7d0cf0a</td>\n",
       "      <td id=\"T_bf4aa_row91_col2\" class=\"data row91 col2\" >f3f322e15039cf171281fd2fdcb1f84b3cbc623e3e84b5e235a7a69b423daff4</td>\n",
       "      <td id=\"T_bf4aa_row91_col3\" class=\"data row91 col3\" >303d3bff03929ff76928fccc756ab6aa76afaee83eebe69b8302ea8844f5ac1f</td>\n",
       "      <td id=\"T_bf4aa_row91_col4\" class=\"data row91 col4\" >Hubbard's Strawberry Jam 454g</td>\n",
       "    </tr>\n",
       "    <tr>\n",
       "      <th id=\"T_bf4aa_level0_row92\" class=\"row_heading level0 row92\" >255</th>\n",
       "      <td id=\"T_bf4aa_row92_col0\" class=\"data row92 col0\" >390eb62a94bbbddeede4528526e10a6cb3b93a7582c5d9af93610a64d159eec7</td>\n",
       "      <td id=\"T_bf4aa_row92_col1\" class=\"data row92 col1\" >19cd1105db57280fb6e5c35cd070e348f4d447905573fc30cda9b0aca7d0cf0a</td>\n",
       "      <td id=\"T_bf4aa_row92_col2\" class=\"data row92 col2\" >f3f322e15039cf171281fd2fdcb1f84b3cbc623e3e84b5e235a7a69b423daff4</td>\n",
       "      <td id=\"T_bf4aa_row92_col3\" class=\"data row92 col3\" >303d3bff03929ff76928fccc756ab6aa76afaee83eebe69b8302ea8844f5ac1f</td>\n",
       "      <td id=\"T_bf4aa_row92_col4\" class=\"data row92 col4\" >JS Reduced Sugar Strawberry Jam 415g</td>\n",
       "    </tr>\n",
       "    <tr>\n",
       "      <th id=\"T_bf4aa_level0_row93\" class=\"row_heading level0 row93\" >180</th>\n",
       "      <td id=\"T_bf4aa_row93_col0\" class=\"data row93 col0\" >397d99f6967e4fa0d0e050e4401a92f529e2571061beb0c2c3184aa557b901db</td>\n",
       "      <td id=\"T_bf4aa_row93_col1\" class=\"data row93 col1\" >bd1395c7e546d9d0efbf7a01f25d1a4999e484c0edd64cb4e8e2be2895ca1d2d</td>\n",
       "      <td id=\"T_bf4aa_row93_col2\" class=\"data row93 col2\" >fded57a8b7253a95b66ffcba81ce8db5d20f895380655774e6e5aa329456c6b0</td>\n",
       "      <td id=\"T_bf4aa_row93_col3\" class=\"data row93 col3\" >74c1a1e360223d09e349364e20f179e68c673045857fb3e6f642ac84e81d40fa</td>\n",
       "      <td id=\"T_bf4aa_row93_col4\" class=\"data row93 col4\" >Dettol antiseptic disinfectant 750ml</td>\n",
       "    </tr>\n",
       "    <tr>\n",
       "      <th id=\"T_bf4aa_level0_row94\" class=\"row_heading level0 row94\" >309</th>\n",
       "      <td id=\"T_bf4aa_row94_col0\" class=\"data row94 col0\" >3a444f565c057da936bd14107211b03d6ab7eb6c96615fb1aabab6e324d58b1f</td>\n",
       "      <td id=\"T_bf4aa_row94_col1\" class=\"data row94 col1\" >476f86cfc3bd7adf751f5949b67b5d7f93d00ecfe0df9aebe8617c411592f93b</td>\n",
       "      <td id=\"T_bf4aa_row94_col2\" class=\"data row94 col2\" >797710a6058e3918641c68cf3d677527aead02510a90b8241ea03dd1fc054ad8</td>\n",
       "      <td id=\"T_bf4aa_row94_col3\" class=\"data row94 col3\" >303d3bff03929ff76928fccc756ab6aa76afaee83eebe69b8302ea8844f5ac1f</td>\n",
       "      <td id=\"T_bf4aa_row94_col4\" class=\"data row94 col4\" >Hubbard's Peach Slices 411g</td>\n",
       "    </tr>\n",
       "    <tr>\n",
       "      <th id=\"T_bf4aa_level0_row95\" class=\"row_heading level0 row95\" >278</th>\n",
       "      <td id=\"T_bf4aa_row95_col0\" class=\"data row95 col0\" >3a733ed223650f20e703463e4eea95720ebdbb158072924cd58594a49665e4f3</td>\n",
       "      <td id=\"T_bf4aa_row95_col1\" class=\"data row95 col1\" >4a59f330b59ded91d91b3a62b252da59cc89e3659756286902cd6ac402ce8a25</td>\n",
       "      <td id=\"T_bf4aa_row95_col2\" class=\"data row95 col2\" >9b3185d46a3bb5d7101af3f8928325b45483e3837a51708a3303e64f6ff1601c</td>\n",
       "      <td id=\"T_bf4aa_row95_col3\" class=\"data row95 col3\" >1a51bb87d83a1e42f2a963ac1f8d6e8b6bd65c47136e6a952cade699e9001ce2</td>\n",
       "      <td id=\"T_bf4aa_row95_col4\" class=\"data row95 col4\" >GU CHOCOLATE GANACHE MOUSSE 2x70g</td>\n",
       "    </tr>\n",
       "    <tr>\n",
       "      <th id=\"T_bf4aa_level0_row96\" class=\"row_heading level0 row96\" >274</th>\n",
       "      <td id=\"T_bf4aa_row96_col0\" class=\"data row96 col0\" >3ca203b4765998f234331a3f97a4d2cd74418cd8c5327e22af8cf67e80b67bef</td>\n",
       "      <td id=\"T_bf4aa_row96_col1\" class=\"data row96 col1\" >61e07ad3567f592c2b8d9f61dcdb23c6a942e9ebcb6761d60080a789057ae880</td>\n",
       "      <td id=\"T_bf4aa_row96_col2\" class=\"data row96 col2\" >4ae3dd42567cab668c80375028095323015c9a20593c94b8616894a8288ff6e5</td>\n",
       "      <td id=\"T_bf4aa_row96_col3\" class=\"data row96 col3\" >1a51bb87d83a1e42f2a963ac1f8d6e8b6bd65c47136e6a952cade699e9001ce2</td>\n",
       "      <td id=\"T_bf4aa_row96_col4\" class=\"data row96 col4\" >Actimel Blueberry 8x100g</td>\n",
       "    </tr>\n",
       "    <tr>\n",
       "      <th id=\"T_bf4aa_level0_row97\" class=\"row_heading level0 row97\" >271</th>\n",
       "      <td id=\"T_bf4aa_row97_col0\" class=\"data row97 col0\" >3ca203b4765998f234331a3f97a4d2cd74418cd8c5327e22af8cf67e80b67bef</td>\n",
       "      <td id=\"T_bf4aa_row97_col1\" class=\"data row97 col1\" >61e07ad3567f592c2b8d9f61dcdb23c6a942e9ebcb6761d60080a789057ae880</td>\n",
       "      <td id=\"T_bf4aa_row97_col2\" class=\"data row97 col2\" >674d2928735b0911d49af364acd7a3a913a315192137a8c10cb953f8f3d68f9b</td>\n",
       "      <td id=\"T_bf4aa_row97_col3\" class=\"data row97 col3\" >1a51bb87d83a1e42f2a963ac1f8d6e8b6bd65c47136e6a952cade699e9001ce2</td>\n",
       "      <td id=\"T_bf4aa_row97_col4\" class=\"data row97 col4\" >Activia Fibre Apple Cereals Breakfast G</td>\n",
       "    </tr>\n",
       "    <tr>\n",
       "      <th id=\"T_bf4aa_level0_row98\" class=\"row_heading level0 row98\" >270</th>\n",
       "      <td id=\"T_bf4aa_row98_col0\" class=\"data row98 col0\" >3ca203b4765998f234331a3f97a4d2cd74418cd8c5327e22af8cf67e80b67bef</td>\n",
       "      <td id=\"T_bf4aa_row98_col1\" class=\"data row98 col1\" >61e07ad3567f592c2b8d9f61dcdb23c6a942e9ebcb6761d60080a789057ae880</td>\n",
       "      <td id=\"T_bf4aa_row98_col2\" class=\"data row98 col2\" >674d2928735b0911d49af364acd7a3a913a315192137a8c10cb953f8f3d68f9b</td>\n",
       "      <td id=\"T_bf4aa_row98_col3\" class=\"data row98 col3\" >1a51bb87d83a1e42f2a963ac1f8d6e8b6bd65c47136e6a952cade699e9001ce2</td>\n",
       "      <td id=\"T_bf4aa_row98_col4\" class=\"data row98 col4\" >Activia Fusion Blueberry 4x120g</td>\n",
       "    </tr>\n",
       "    <tr>\n",
       "      <th id=\"T_bf4aa_level0_row99\" class=\"row_heading level0 row99\" >272</th>\n",
       "      <td id=\"T_bf4aa_row99_col0\" class=\"data row99 col0\" >3ca203b4765998f234331a3f97a4d2cd74418cd8c5327e22af8cf67e80b67bef</td>\n",
       "      <td id=\"T_bf4aa_row99_col1\" class=\"data row99 col1\" >61e07ad3567f592c2b8d9f61dcdb23c6a942e9ebcb6761d60080a789057ae880</td>\n",
       "      <td id=\"T_bf4aa_row99_col2\" class=\"data row99 col2\" >6e2c29cdac0ae47cc9f7aa93f614be7ded8d6d025e0e408322b6612563f9bc83</td>\n",
       "      <td id=\"T_bf4aa_row99_col3\" class=\"data row99 col3\" >1a51bb87d83a1e42f2a963ac1f8d6e8b6bd65c47136e6a952cade699e9001ce2</td>\n",
       "      <td id=\"T_bf4aa_row99_col4\" class=\"data row99 col4\" >ACTIVIA FUSIONS PRUNE YOGURT 4x120g</td>\n",
       "    </tr>\n",
       "    <tr>\n",
       "      <th id=\"T_bf4aa_level0_row100\" class=\"row_heading level0 row100\" >273</th>\n",
       "      <td id=\"T_bf4aa_row100_col0\" class=\"data row100 col0\" >3ca203b4765998f234331a3f97a4d2cd74418cd8c5327e22af8cf67e80b67bef</td>\n",
       "      <td id=\"T_bf4aa_row100_col1\" class=\"data row100 col1\" >61e07ad3567f592c2b8d9f61dcdb23c6a942e9ebcb6761d60080a789057ae880</td>\n",
       "      <td id=\"T_bf4aa_row100_col2\" class=\"data row100 col2\" >6e2c29cdac0ae47cc9f7aa93f614be7ded8d6d025e0e408322b6612563f9bc83</td>\n",
       "      <td id=\"T_bf4aa_row100_col3\" class=\"data row100 col3\" >1a51bb87d83a1e42f2a963ac1f8d6e8b6bd65c47136e6a952cade699e9001ce2</td>\n",
       "      <td id=\"T_bf4aa_row100_col4\" class=\"data row100 col4\" >Yeo Valley Natural Kefir Yoghurt 950g</td>\n",
       "    </tr>\n",
       "    <tr>\n",
       "      <th id=\"T_bf4aa_level0_row101\" class=\"row_heading level0 row101\" >275</th>\n",
       "      <td id=\"T_bf4aa_row101_col0\" class=\"data row101 col0\" >3ca203b4765998f234331a3f97a4d2cd74418cd8c5327e22af8cf67e80b67bef</td>\n",
       "      <td id=\"T_bf4aa_row101_col1\" class=\"data row101 col1\" >61e07ad3567f592c2b8d9f61dcdb23c6a942e9ebcb6761d60080a789057ae880</td>\n",
       "      <td id=\"T_bf4aa_row101_col2\" class=\"data row101 col2\" >71acc4a4b736cc46de467c6631df2643dd9257b34da5b7208b18b292832f234c</td>\n",
       "      <td id=\"T_bf4aa_row101_col3\" class=\"data row101 col3\" >1a51bb87d83a1e42f2a963ac1f8d6e8b6bd65c47136e6a952cade699e9001ce2</td>\n",
       "      <td id=\"T_bf4aa_row101_col4\" class=\"data row101 col4\" >BENECOL BLUEBERRY 6X67.5G</td>\n",
       "    </tr>\n",
       "    <tr>\n",
       "      <th id=\"T_bf4aa_level0_row102\" class=\"row_heading level0 row102\" >20</th>\n",
       "      <td id=\"T_bf4aa_row102_col0\" class=\"data row102 col0\" >3e18a5a7b3b954ca54e73eab529fb5472e67baf407b40be0d67ad7c2a4790fa2</td>\n",
       "      <td id=\"T_bf4aa_row102_col1\" class=\"data row102 col1\" >3f0d2440090396f1c3ce5dbac7f4b531cf08e5ede14ca058cd1d39a88802303a</td>\n",
       "      <td id=\"T_bf4aa_row102_col2\" class=\"data row102 col2\" >05f5802492f872648c5affa9f6334c9d32a4e938842913ca32b2f4fc08326ff1</td>\n",
       "      <td id=\"T_bf4aa_row102_col3\" class=\"data row102 col3\" >7a5a5e180aa843f2bf55ba649d20145b799e432059079308da4c2fe4dadd8d58</td>\n",
       "      <td id=\"T_bf4aa_row102_col4\" class=\"data row102 col4\" >Rizla Regular Green x 5 Multi Pack</td>\n",
       "    </tr>\n",
       "    <tr>\n",
       "      <th id=\"T_bf4aa_level0_row103\" class=\"row_heading level0 row103\" >21</th>\n",
       "      <td id=\"T_bf4aa_row103_col0\" class=\"data row103 col0\" >3e18a5a7b3b954ca54e73eab529fb5472e67baf407b40be0d67ad7c2a4790fa2</td>\n",
       "      <td id=\"T_bf4aa_row103_col1\" class=\"data row103 col1\" >3f0d2440090396f1c3ce5dbac7f4b531cf08e5ede14ca058cd1d39a88802303a</td>\n",
       "      <td id=\"T_bf4aa_row103_col2\" class=\"data row103 col2\" >05f5802492f872648c5affa9f6334c9d32a4e938842913ca32b2f4fc08326ff1</td>\n",
       "      <td id=\"T_bf4aa_row103_col3\" class=\"data row103 col3\" >7a5a5e180aa843f2bf55ba649d20145b799e432059079308da4c2fe4dadd8d58</td>\n",
       "      <td id=\"T_bf4aa_row103_col4\" class=\"data row103 col4\" >Swan Extra Slim Filter Tips X120</td>\n",
       "    </tr>\n",
       "    <tr>\n",
       "      <th id=\"T_bf4aa_level0_row104\" class=\"row_heading level0 row104\" >152</th>\n",
       "      <td id=\"T_bf4aa_row104_col0\" class=\"data row104 col0\" >406a9267b9566ca9cc4e19e6c7246ca8dae949d9b275588c789918bdf1be6f95</td>\n",
       "      <td id=\"T_bf4aa_row104_col1\" class=\"data row104 col1\" >3eac562f4f335122312f0ddfb59d6ecaf26001ca77dbf96ffb5ce8115b64415c</td>\n",
       "      <td id=\"T_bf4aa_row104_col2\" class=\"data row104 col2\" >1781dd9c5a65ab276c544beb212786c0992e8fdf6862693ea686bf5b6a32b668</td>\n",
       "      <td id=\"T_bf4aa_row104_col3\" class=\"data row104 col3\" >303d3bff03929ff76928fccc756ab6aa76afaee83eebe69b8302ea8844f5ac1f</td>\n",
       "      <td id=\"T_bf4aa_row104_col4\" class=\"data row104 col4\" >JS Flame Grilled Pizza Bases x2 300g</td>\n",
       "    </tr>\n",
       "    <tr>\n",
       "      <th id=\"T_bf4aa_level0_row105\" class=\"row_heading level0 row105\" >151</th>\n",
       "      <td id=\"T_bf4aa_row105_col0\" class=\"data row105 col0\" >406a9267b9566ca9cc4e19e6c7246ca8dae949d9b275588c789918bdf1be6f95</td>\n",
       "      <td id=\"T_bf4aa_row105_col1\" class=\"data row105 col1\" >3eac562f4f335122312f0ddfb59d6ecaf26001ca77dbf96ffb5ce8115b64415c</td>\n",
       "      <td id=\"T_bf4aa_row105_col2\" class=\"data row105 col2\" >d486bfbe771add737ef4d692d8b10aad5f48327627462e5aa69141b3fc2d3ba6</td>\n",
       "      <td id=\"T_bf4aa_row105_col3\" class=\"data row105 col3\" >303d3bff03929ff76928fccc756ab6aa76afaee83eebe69b8302ea8844f5ac1f</td>\n",
       "      <td id=\"T_bf4aa_row105_col4\" class=\"data row105 col4\" >Hubbard's Pasta Sauce 440g</td>\n",
       "    </tr>\n",
       "    <tr>\n",
       "      <th id=\"T_bf4aa_level0_row106\" class=\"row_heading level0 row106\" >319</th>\n",
       "      <td id=\"T_bf4aa_row106_col0\" class=\"data row106 col0\" >41572b3083a3d3ce080c47469900c0573f367489f7ebe083fc78a48f009c2876</td>\n",
       "      <td id=\"T_bf4aa_row106_col1\" class=\"data row106 col1\" >2794ff1d0a8586ee24977f9eacc35f7814c1cbb850a5936814e62c61b3b62b6b</td>\n",
       "      <td id=\"T_bf4aa_row106_col2\" class=\"data row106 col2\" >cc1fedd641cf2ecdec55704ca5e33dbe3764d4015b795b9260cbf29d4ec58d4b</td>\n",
       "      <td id=\"T_bf4aa_row106_col3\" class=\"data row106 col3\" >c3be12edf9bea03da807647c489dcccd824f7a85f8f563d7e9f62a5209618578</td>\n",
       "      <td id=\"T_bf4aa_row106_col4\" class=\"data row106 col4\" >Stamford Street Digestive Biscuits 400g</td>\n",
       "    </tr>\n",
       "    <tr>\n",
       "      <th id=\"T_bf4aa_level0_row107\" class=\"row_heading level0 row107\" >382</th>\n",
       "      <td id=\"T_bf4aa_row107_col0\" class=\"data row107 col0\" >42d959d194405ca2fbb5f2ee96bb3f2c4646ebdc19a5bb0eb3005722a7475acf</td>\n",
       "      <td id=\"T_bf4aa_row107_col1\" class=\"data row107 col1\" >e611ab6d625e91105591844574480cfa9866d6508c6a325205f8b05e51e093d3</td>\n",
       "      <td id=\"T_bf4aa_row107_col2\" class=\"data row107 col2\" >117dc46fdbc10b5226fc2c7f6875ad18dee19778ef968829732d93d57aac2a03</td>\n",
       "      <td id=\"T_bf4aa_row107_col3\" class=\"data row107 col3\" >d7a0999920f6139b0eb50b75a58a373b41b30098394b4dff7678fe9907235a16</td>\n",
       "      <td id=\"T_bf4aa_row107_col4\" class=\"data row107 col4\" >Kellogg's Fruit n Fibre 375g</td>\n",
       "    </tr>\n",
       "    <tr>\n",
       "      <th id=\"T_bf4aa_level0_row108\" class=\"row_heading level0 row108\" >380</th>\n",
       "      <td id=\"T_bf4aa_row108_col0\" class=\"data row108 col0\" >42d959d194405ca2fbb5f2ee96bb3f2c4646ebdc19a5bb0eb3005722a7475acf</td>\n",
       "      <td id=\"T_bf4aa_row108_col1\" class=\"data row108 col1\" >e611ab6d625e91105591844574480cfa9866d6508c6a325205f8b05e51e093d3</td>\n",
       "      <td id=\"T_bf4aa_row108_col2\" class=\"data row108 col2\" >117dc46fdbc10b5226fc2c7f6875ad18dee19778ef968829732d93d57aac2a03</td>\n",
       "      <td id=\"T_bf4aa_row108_col3\" class=\"data row108 col3\" >d7a0999920f6139b0eb50b75a58a373b41b30098394b4dff7678fe9907235a16</td>\n",
       "      <td id=\"T_bf4aa_row108_col4\" class=\"data row108 col4\" >Kellogg's Just Right 500g</td>\n",
       "    </tr>\n",
       "    <tr>\n",
       "      <th id=\"T_bf4aa_level0_row109\" class=\"row_heading level0 row109\" >384</th>\n",
       "      <td id=\"T_bf4aa_row109_col0\" class=\"data row109 col0\" >42d959d194405ca2fbb5f2ee96bb3f2c4646ebdc19a5bb0eb3005722a7475acf</td>\n",
       "      <td id=\"T_bf4aa_row109_col1\" class=\"data row109 col1\" >e611ab6d625e91105591844574480cfa9866d6508c6a325205f8b05e51e093d3</td>\n",
       "      <td id=\"T_bf4aa_row109_col2\" class=\"data row109 col2\" >1462c7a8dba37827016170afb43f5da780a9f67268e8c9c90e700b49781cdba7</td>\n",
       "      <td id=\"T_bf4aa_row109_col3\" class=\"data row109 col3\" >d7a0999920f6139b0eb50b75a58a373b41b30098394b4dff7678fe9907235a16</td>\n",
       "      <td id=\"T_bf4aa_row109_col4\" class=\"data row109 col4\" >Kellogg's Wheats Apricot 500g</td>\n",
       "    </tr>\n",
       "    <tr>\n",
       "      <th id=\"T_bf4aa_level0_row110\" class=\"row_heading level0 row110\" >379</th>\n",
       "      <td id=\"T_bf4aa_row110_col0\" class=\"data row110 col0\" >42d959d194405ca2fbb5f2ee96bb3f2c4646ebdc19a5bb0eb3005722a7475acf</td>\n",
       "      <td id=\"T_bf4aa_row110_col1\" class=\"data row110 col1\" >e611ab6d625e91105591844574480cfa9866d6508c6a325205f8b05e51e093d3</td>\n",
       "      <td id=\"T_bf4aa_row110_col2\" class=\"data row110 col2\" >bc229915a128a9f2a9f894edd2ca7aba54a0876700b93686bcf536b43067ba1f</td>\n",
       "      <td id=\"T_bf4aa_row110_col3\" class=\"data row110 col3\" >d7a0999920f6139b0eb50b75a58a373b41b30098394b4dff7678fe9907235a16</td>\n",
       "      <td id=\"T_bf4aa_row110_col4\" class=\"data row110 col4\" >JS Balance Red Fruit 375g</td>\n",
       "    </tr>\n",
       "    <tr>\n",
       "      <th id=\"T_bf4aa_level0_row111\" class=\"row_heading level0 row111\" >385</th>\n",
       "      <td id=\"T_bf4aa_row111_col0\" class=\"data row111 col0\" >42d959d194405ca2fbb5f2ee96bb3f2c4646ebdc19a5bb0eb3005722a7475acf</td>\n",
       "      <td id=\"T_bf4aa_row111_col1\" class=\"data row111 col1\" >e611ab6d625e91105591844574480cfa9866d6508c6a325205f8b05e51e093d3</td>\n",
       "      <td id=\"T_bf4aa_row111_col2\" class=\"data row111 col2\" >bc229915a128a9f2a9f894edd2ca7aba54a0876700b93686bcf536b43067ba1f</td>\n",
       "      <td id=\"T_bf4aa_row111_col3\" class=\"data row111 col3\" >d7a0999920f6139b0eb50b75a58a373b41b30098394b4dff7678fe9907235a16</td>\n",
       "      <td id=\"T_bf4aa_row111_col4\" class=\"data row111 col4\" >Kellogg's Special K Red Berries 500g</td>\n",
       "    </tr>\n",
       "    <tr>\n",
       "      <th id=\"T_bf4aa_level0_row112\" class=\"row_heading level0 row112\" >383</th>\n",
       "      <td id=\"T_bf4aa_row112_col0\" class=\"data row112 col0\" >42d959d194405ca2fbb5f2ee96bb3f2c4646ebdc19a5bb0eb3005722a7475acf</td>\n",
       "      <td id=\"T_bf4aa_row112_col1\" class=\"data row112 col1\" >e611ab6d625e91105591844574480cfa9866d6508c6a325205f8b05e51e093d3</td>\n",
       "      <td id=\"T_bf4aa_row112_col2\" class=\"data row112 col2\" >bc229915a128a9f2a9f894edd2ca7aba54a0876700b93686bcf536b43067ba1f</td>\n",
       "      <td id=\"T_bf4aa_row112_col3\" class=\"data row112 col3\" >d7a0999920f6139b0eb50b75a58a373b41b30098394b4dff7678fe9907235a16</td>\n",
       "      <td id=\"T_bf4aa_row112_col4\" class=\"data row112 col4\" >Klg Spec K Peach & Apricot 360g</td>\n",
       "    </tr>\n",
       "    <tr>\n",
       "      <th id=\"T_bf4aa_level0_row113\" class=\"row_heading level0 row113\" >381</th>\n",
       "      <td id=\"T_bf4aa_row113_col0\" class=\"data row113 col0\" >42d959d194405ca2fbb5f2ee96bb3f2c4646ebdc19a5bb0eb3005722a7475acf</td>\n",
       "      <td id=\"T_bf4aa_row113_col1\" class=\"data row113 col1\" >e611ab6d625e91105591844574480cfa9866d6508c6a325205f8b05e51e093d3</td>\n",
       "      <td id=\"T_bf4aa_row113_col2\" class=\"data row113 col2\" >bc229915a128a9f2a9f894edd2ca7aba54a0876700b93686bcf536b43067ba1f</td>\n",
       "      <td id=\"T_bf4aa_row113_col3\" class=\"data row113 col3\" >d7a0999920f6139b0eb50b75a58a373b41b30098394b4dff7678fe9907235a16</td>\n",
       "      <td id=\"T_bf4aa_row113_col4\" class=\"data row113 col4\" >Klg Spec K Red Berries 330g</td>\n",
       "    </tr>\n",
       "    <tr>\n",
       "      <th id=\"T_bf4aa_level0_row114\" class=\"row_heading level0 row114\" >348</th>\n",
       "      <td id=\"T_bf4aa_row114_col0\" class=\"data row114 col0\" >471debb030cae8273d5d34713d93f57fd4c6a5ac9efc7d252e6091c7a6f7c09b</td>\n",
       "      <td id=\"T_bf4aa_row114_col1\" class=\"data row114 col1\" >a13e0450f4200cfc8fbb9278b28a0deadb6fcd81c479421ce34df93f79a162df</td>\n",
       "      <td id=\"T_bf4aa_row114_col2\" class=\"data row114 col2\" >9eed9da29b7562257ee495616a807d998cc379512d2aaa0d49785d9920f210a1</td>\n",
       "      <td id=\"T_bf4aa_row114_col3\" class=\"data row114 col3\" >74c1a1e360223d09e349364e20f179e68c673045857fb3e6f642ac84e81d40fa</td>\n",
       "      <td id=\"T_bf4aa_row114_col4\" class=\"data row114 col4\" >Regina Blitz x4</td>\n",
       "    </tr>\n",
       "    <tr>\n",
       "      <th id=\"T_bf4aa_level0_row115\" class=\"row_heading level0 row115\" >390</th>\n",
       "      <td id=\"T_bf4aa_row115_col0\" class=\"data row115 col0\" >4914e72d40087b6aeb394d98b1da861cf9f3bb741e3b66aa436462a96cfe7206</td>\n",
       "      <td id=\"T_bf4aa_row115_col1\" class=\"data row115 col1\" >3e1d75f4aa1ecc2e7186f84b8526fc783dd9be494ae1045c3bdc1b4767c53180</td>\n",
       "      <td id=\"T_bf4aa_row115_col2\" class=\"data row115 col2\" >0f8cbbfebb0c691320c5fd068ca200919612b65ac8604714e730dd38baca1cfd</td>\n",
       "      <td id=\"T_bf4aa_row115_col3\" class=\"data row115 col3\" >d7a0999920f6139b0eb50b75a58a373b41b30098394b4dff7678fe9907235a16</td>\n",
       "      <td id=\"T_bf4aa_row115_col4\" class=\"data row115 col4\" >NESCAFE ORIGINAL COFFEE 300G</td>\n",
       "    </tr>\n",
       "    <tr>\n",
       "      <th id=\"T_bf4aa_level0_row116\" class=\"row_heading level0 row116\" >391</th>\n",
       "      <td id=\"T_bf4aa_row116_col0\" class=\"data row116 col0\" >4914e72d40087b6aeb394d98b1da861cf9f3bb741e3b66aa436462a96cfe7206</td>\n",
       "      <td id=\"T_bf4aa_row116_col1\" class=\"data row116 col1\" >3e1d75f4aa1ecc2e7186f84b8526fc783dd9be494ae1045c3bdc1b4767c53180</td>\n",
       "      <td id=\"T_bf4aa_row116_col2\" class=\"data row116 col2\" >59114c66e1118846d237601e9bb65c3fe0743bc70ed6f32f33053d8ea683e44d</td>\n",
       "      <td id=\"T_bf4aa_row116_col3\" class=\"data row116 col3\" >d7a0999920f6139b0eb50b75a58a373b41b30098394b4dff7678fe9907235a16</td>\n",
       "      <td id=\"T_bf4aa_row116_col4\" class=\"data row116 col4\" >Nescafe Original 3in1 102g</td>\n",
       "    </tr>\n",
       "    <tr>\n",
       "      <th id=\"T_bf4aa_level0_row117\" class=\"row_heading level0 row117\" >393</th>\n",
       "      <td id=\"T_bf4aa_row117_col0\" class=\"data row117 col0\" >4914e72d40087b6aeb394d98b1da861cf9f3bb741e3b66aa436462a96cfe7206</td>\n",
       "      <td id=\"T_bf4aa_row117_col1\" class=\"data row117 col1\" >3e1d75f4aa1ecc2e7186f84b8526fc783dd9be494ae1045c3bdc1b4767c53180</td>\n",
       "      <td id=\"T_bf4aa_row117_col2\" class=\"data row117 col2\" >8843def33b0e8b5d98e3dd7aa11631e32cdd38f0bf8c6961c2e8de8e29448b45</td>\n",
       "      <td id=\"T_bf4aa_row117_col3\" class=\"data row117 col3\" >d7a0999920f6139b0eb50b75a58a373b41b30098394b4dff7678fe9907235a16</td>\n",
       "      <td id=\"T_bf4aa_row117_col4\" class=\"data row117 col4\" >L'OR Intense Coffee 150g</td>\n",
       "    </tr>\n",
       "    <tr>\n",
       "      <th id=\"T_bf4aa_level0_row118\" class=\"row_heading level0 row118\" >392</th>\n",
       "      <td id=\"T_bf4aa_row118_col0\" class=\"data row118 col0\" >4914e72d40087b6aeb394d98b1da861cf9f3bb741e3b66aa436462a96cfe7206</td>\n",
       "      <td id=\"T_bf4aa_row118_col1\" class=\"data row118 col1\" >3e1d75f4aa1ecc2e7186f84b8526fc783dd9be494ae1045c3bdc1b4767c53180</td>\n",
       "      <td id=\"T_bf4aa_row118_col2\" class=\"data row118 col2\" >fa61bb6fbc53df0d5ab65d0e552c318ff5430001db98daed71bb7a8be002f8dc</td>\n",
       "      <td id=\"T_bf4aa_row118_col3\" class=\"data row118 col3\" >d7a0999920f6139b0eb50b75a58a373b41b30098394b4dff7678fe9907235a16</td>\n",
       "      <td id=\"T_bf4aa_row118_col4\" class=\"data row118 col4\" >Nescafe Cafe Irish Cream Latte 158g</td>\n",
       "    </tr>\n",
       "    <tr>\n",
       "      <th id=\"T_bf4aa_level0_row119\" class=\"row_heading level0 row119\" >164</th>\n",
       "      <td id=\"T_bf4aa_row119_col0\" class=\"data row119 col0\" >4a3b6449faa0ff09e49106fcad055513193e45569428460b4de81c9b5016165c</td>\n",
       "      <td id=\"T_bf4aa_row119_col1\" class=\"data row119 col1\" >28061dbb5a2182eb811553d37271f1a5c376052f397ffbee61d920e8bf9e7392</td>\n",
       "      <td id=\"T_bf4aa_row119_col2\" class=\"data row119 col2\" >4a3b6449faa0ff09e49106fcad055513193e45569428460b4de81c9b5016165c</td>\n",
       "      <td id=\"T_bf4aa_row119_col3\" class=\"data row119 col3\" >06d2c2d77a6923df8f14ae34f3f6662bc20d1833ec3a623a7b7672e6b5f5d7be</td>\n",
       "      <td id=\"T_bf4aa_row119_col4\" class=\"data row119 col4\" >JS Lamb Breast CW</td>\n",
       "    </tr>\n",
       "    <tr>\n",
       "      <th id=\"T_bf4aa_level0_row120\" class=\"row_heading level0 row120\" >196</th>\n",
       "      <td id=\"T_bf4aa_row120_col0\" class=\"data row120 col0\" >50c1a77602764504d3087cae33472c6797eab6a22e47b43a1c9d8c66484517a0</td>\n",
       "      <td id=\"T_bf4aa_row120_col1\" class=\"data row120 col1\" >bbc2277acea63d8aa8d6165d078ca7705799075b61dbcf9c497e21f026ac5ac4</td>\n",
       "      <td id=\"T_bf4aa_row120_col2\" class=\"data row120 col2\" >305b0558fa9d43d7d292d0375efeea90f017fdef95bffa79ed3dc4fbd1828d5e</td>\n",
       "      <td id=\"T_bf4aa_row120_col3\" class=\"data row120 col3\" >06d2c2d77a6923df8f14ae34f3f6662bc20d1833ec3a623a7b7672e6b5f5d7be</td>\n",
       "      <td id=\"T_bf4aa_row120_col4\" class=\"data row120 col4\" >JS BRITISH LARGE PORK SHOULDER JOINT CW</td>\n",
       "    </tr>\n",
       "    <tr>\n",
       "      <th id=\"T_bf4aa_level0_row121\" class=\"row_heading level0 row121\" >364</th>\n",
       "      <td id=\"T_bf4aa_row121_col0\" class=\"data row121 col0\" >50e6fcc6b92f8b6c777f4f6b57af45c00acee4e8b200e33e3ced4585b0566f5f</td>\n",
       "      <td id=\"T_bf4aa_row121_col1\" class=\"data row121 col1\" >8a3145954d7ce64db5987cdae859f9ab9a8f350a5de9e50ef626a61cafe8228d</td>\n",
       "      <td id=\"T_bf4aa_row121_col2\" class=\"data row121 col2\" >fb516afcb9b5f098c9b76b62223a0aa4b47fa29b3f1406530062cde119277b12</td>\n",
       "      <td id=\"T_bf4aa_row121_col3\" class=\"data row121 col3\" >ba4bb830851d1dd99498995f47a53350622443f80688ea209b027b8aa4841452</td>\n",
       "      <td id=\"T_bf4aa_row121_col4\" class=\"data row121 col4\" >JS DIET INDIAN TONIC WATER 1L</td>\n",
       "    </tr>\n",
       "    <tr>\n",
       "      <th id=\"T_bf4aa_level0_row122\" class=\"row_heading level0 row122\" >167</th>\n",
       "      <td id=\"T_bf4aa_row122_col0\" class=\"data row122 col0\" >521071dbbe91418570f2e17af239b28c22b83695cafaff30845d743736288a44</td>\n",
       "      <td id=\"T_bf4aa_row122_col1\" class=\"data row122 col1\" >e611ab6d625e91105591844574480cfa9866d6508c6a325205f8b05e51e093d3</td>\n",
       "      <td id=\"T_bf4aa_row122_col2\" class=\"data row122 col2\" >61f58bdd08dd9bf03b83f486ae587b1f1bfa1b8bc6d99f35600ee98234a4e471</td>\n",
       "      <td id=\"T_bf4aa_row122_col3\" class=\"data row122 col3\" >d7a0999920f6139b0eb50b75a58a373b41b30098394b4dff7678fe9907235a16</td>\n",
       "      <td id=\"T_bf4aa_row122_col4\" class=\"data row122 col4\" >Daily's Oats 1kg</td>\n",
       "    </tr>\n",
       "    <tr>\n",
       "      <th id=\"T_bf4aa_level0_row123\" class=\"row_heading level0 row123\" >70</th>\n",
       "      <td id=\"T_bf4aa_row123_col0\" class=\"data row123 col0\" >5610be2b7e5bd6934eef1f4501d180bd1ef7d8834e89600b5b378ff6f1743609</td>\n",
       "      <td id=\"T_bf4aa_row123_col1\" class=\"data row123 col1\" >8bf754f57d95e45c904217a724480ad69378d5ab5a9f243a6ceeec62d8838662</td>\n",
       "      <td id=\"T_bf4aa_row123_col2\" class=\"data row123 col2\" >55c755086c12e995bcc794412f1d98be33be98a61f81285549c6fbbc100d262a</td>\n",
       "      <td id=\"T_bf4aa_row123_col3\" class=\"data row123 col3\" >5ffc1f1d48e32ed011478c1f2824079746972ee0f82c7ad844e10077e505597e</td>\n",
       "      <td id=\"T_bf4aa_row123_col4\" class=\"data row123 col4\" >Felix AGAIL d/delics fish selctn 12x100g</td>\n",
       "    </tr>\n",
       "    <tr>\n",
       "      <th id=\"T_bf4aa_level0_row124\" class=\"row_heading level0 row124\" >56</th>\n",
       "      <td id=\"T_bf4aa_row124_col0\" class=\"data row124 col0\" >5610be2b7e5bd6934eef1f4501d180bd1ef7d8834e89600b5b378ff6f1743609</td>\n",
       "      <td id=\"T_bf4aa_row124_col1\" class=\"data row124 col1\" >8bf754f57d95e45c904217a724480ad69378d5ab5a9f243a6ceeec62d8838662</td>\n",
       "      <td id=\"T_bf4aa_row124_col2\" class=\"data row124 col2\" >55c755086c12e995bcc794412f1d98be33be98a61f81285549c6fbbc100d262a</td>\n",
       "      <td id=\"T_bf4aa_row124_col3\" class=\"data row124 col3\" >5ffc1f1d48e32ed011478c1f2824079746972ee0f82c7ad844e10077e505597e</td>\n",
       "      <td id=\"T_bf4aa_row124_col4\" class=\"data row124 col4\" >Felix AGAIL d/delics meaty 12x100g</td>\n",
       "    </tr>\n",
       "    <tr>\n",
       "      <th id=\"T_bf4aa_level0_row125\" class=\"row_heading level0 row125\" >53</th>\n",
       "      <td id=\"T_bf4aa_row125_col0\" class=\"data row125 col0\" >5610be2b7e5bd6934eef1f4501d180bd1ef7d8834e89600b5b378ff6f1743609</td>\n",
       "      <td id=\"T_bf4aa_row125_col1\" class=\"data row125 col1\" >8bf754f57d95e45c904217a724480ad69378d5ab5a9f243a6ceeec62d8838662</td>\n",
       "      <td id=\"T_bf4aa_row125_col2\" class=\"data row125 col2\" >55c755086c12e995bcc794412f1d98be33be98a61f81285549c6fbbc100d262a</td>\n",
       "      <td id=\"T_bf4aa_row125_col3\" class=\"data row125 col3\" >5ffc1f1d48e32ed011478c1f2824079746972ee0f82c7ad844e10077e505597e</td>\n",
       "      <td id=\"T_bf4aa_row125_col4\" class=\"data row125 col4\" >Felix AGAIL d/delics ocean 12x100g</td>\n",
       "    </tr>\n",
       "    <tr>\n",
       "      <th id=\"T_bf4aa_level0_row126\" class=\"row_heading level0 row126\" >127</th>\n",
       "      <td id=\"T_bf4aa_row126_col0\" class=\"data row126 col0\" >5610be2b7e5bd6934eef1f4501d180bd1ef7d8834e89600b5b378ff6f1743609</td>\n",
       "      <td id=\"T_bf4aa_row126_col1\" class=\"data row126 col1\" >8bf754f57d95e45c904217a724480ad69378d5ab5a9f243a6ceeec62d8838662</td>\n",
       "      <td id=\"T_bf4aa_row126_col2\" class=\"data row126 col2\" >55c755086c12e995bcc794412f1d98be33be98a61f81285549c6fbbc100d262a</td>\n",
       "      <td id=\"T_bf4aa_row126_col3\" class=\"data row126 col3\" >5ffc1f1d48e32ed011478c1f2824079746972ee0f82c7ad844e10077e505597e</td>\n",
       "      <td id=\"T_bf4aa_row126_col4\" class=\"data row126 col4\" >Felix AGAIL d/delics senior 12x100g</td>\n",
       "    </tr>\n",
       "    <tr>\n",
       "      <th id=\"T_bf4aa_level0_row127\" class=\"row_heading level0 row127\" >128</th>\n",
       "      <td id=\"T_bf4aa_row127_col0\" class=\"data row127 col0\" >5610be2b7e5bd6934eef1f4501d180bd1ef7d8834e89600b5b378ff6f1743609</td>\n",
       "      <td id=\"T_bf4aa_row127_col1\" class=\"data row127 col1\" >8bf754f57d95e45c904217a724480ad69378d5ab5a9f243a6ceeec62d8838662</td>\n",
       "      <td id=\"T_bf4aa_row127_col2\" class=\"data row127 col2\" >55c755086c12e995bcc794412f1d98be33be98a61f81285549c6fbbc100d262a</td>\n",
       "      <td id=\"T_bf4aa_row127_col3\" class=\"data row127 col3\" >5ffc1f1d48e32ed011478c1f2824079746972ee0f82c7ad844e10077e505597e</td>\n",
       "      <td id=\"T_bf4aa_row127_col4\" class=\"data row127 col4\" >Felix AGAIL favourites selection 12x100g</td>\n",
       "    </tr>\n",
       "    <tr>\n",
       "      <th id=\"T_bf4aa_level0_row128\" class=\"row_heading level0 row128\" >124</th>\n",
       "      <td id=\"T_bf4aa_row128_col0\" class=\"data row128 col0\" >5610be2b7e5bd6934eef1f4501d180bd1ef7d8834e89600b5b378ff6f1743609</td>\n",
       "      <td id=\"T_bf4aa_row128_col1\" class=\"data row128 col1\" >8bf754f57d95e45c904217a724480ad69378d5ab5a9f243a6ceeec62d8838662</td>\n",
       "      <td id=\"T_bf4aa_row128_col2\" class=\"data row128 col2\" >55c755086c12e995bcc794412f1d98be33be98a61f81285549c6fbbc100d262a</td>\n",
       "      <td id=\"T_bf4aa_row128_col3\" class=\"data row128 col3\" >5ffc1f1d48e32ed011478c1f2824079746972ee0f82c7ad844e10077e505597e</td>\n",
       "      <td id=\"T_bf4aa_row128_col4\" class=\"data row128 col4\" >Felix AGAIL kitten mixed selectn 12x100g</td>\n",
       "    </tr>\n",
       "    <tr>\n",
       "      <th id=\"T_bf4aa_level0_row129\" class=\"row_heading level0 row129\" >123</th>\n",
       "      <td id=\"T_bf4aa_row129_col0\" class=\"data row129 col0\" >5610be2b7e5bd6934eef1f4501d180bd1ef7d8834e89600b5b378ff6f1743609</td>\n",
       "      <td id=\"T_bf4aa_row129_col1\" class=\"data row129 col1\" >8bf754f57d95e45c904217a724480ad69378d5ab5a9f243a6ceeec62d8838662</td>\n",
       "      <td id=\"T_bf4aa_row129_col2\" class=\"data row129 col2\" >55c755086c12e995bcc794412f1d98be33be98a61f81285549c6fbbc100d262a</td>\n",
       "      <td id=\"T_bf4aa_row129_col3\" class=\"data row129 col3\" >5ffc1f1d48e32ed011478c1f2824079746972ee0f82c7ad844e10077e505597e</td>\n",
       "      <td id=\"T_bf4aa_row129_col4\" class=\"data row129 col4\" >Felix AGAIL meat selct pork/duck 12x100g</td>\n",
       "    </tr>\n",
       "    <tr>\n",
       "      <th id=\"T_bf4aa_level0_row130\" class=\"row_heading level0 row130\" >71</th>\n",
       "      <td id=\"T_bf4aa_row130_col0\" class=\"data row130 col0\" >5610be2b7e5bd6934eef1f4501d180bd1ef7d8834e89600b5b378ff6f1743609</td>\n",
       "      <td id=\"T_bf4aa_row130_col1\" class=\"data row130 col1\" >8bf754f57d95e45c904217a724480ad69378d5ab5a9f243a6ceeec62d8838662</td>\n",
       "      <td id=\"T_bf4aa_row130_col2\" class=\"data row130 col2\" >55c755086c12e995bcc794412f1d98be33be98a61f81285549c6fbbc100d262a</td>\n",
       "      <td id=\"T_bf4aa_row130_col3\" class=\"data row130 col3\" >5ffc1f1d48e32ed011478c1f2824079746972ee0f82c7ad844e10077e505597e</td>\n",
       "      <td id=\"T_bf4aa_row130_col4\" class=\"data row130 col4\" >Felix AGAIL meaty selectn in jly 12x100g</td>\n",
       "    </tr>\n",
       "    <tr>\n",
       "      <th id=\"T_bf4aa_level0_row131\" class=\"row_heading level0 row131\" >74</th>\n",
       "      <td id=\"T_bf4aa_row131_col0\" class=\"data row131 col0\" >5610be2b7e5bd6934eef1f4501d180bd1ef7d8834e89600b5b378ff6f1743609</td>\n",
       "      <td id=\"T_bf4aa_row131_col1\" class=\"data row131 col1\" >8bf754f57d95e45c904217a724480ad69378d5ab5a9f243a6ceeec62d8838662</td>\n",
       "      <td id=\"T_bf4aa_row131_col2\" class=\"data row131 col2\" >55c755086c12e995bcc794412f1d98be33be98a61f81285549c6fbbc100d262a</td>\n",
       "      <td id=\"T_bf4aa_row131_col3\" class=\"data row131 col3\" >5ffc1f1d48e32ed011478c1f2824079746972ee0f82c7ad844e10077e505597e</td>\n",
       "      <td id=\"T_bf4aa_row131_col4\" class=\"data row131 col4\" >Felix AGAIL mixed selectn jelly 40x100g</td>\n",
       "    </tr>\n",
       "    <tr>\n",
       "      <th id=\"T_bf4aa_level0_row132\" class=\"row_heading level0 row132\" >68</th>\n",
       "      <td id=\"T_bf4aa_row132_col0\" class=\"data row132 col0\" >5610be2b7e5bd6934eef1f4501d180bd1ef7d8834e89600b5b378ff6f1743609</td>\n",
       "      <td id=\"T_bf4aa_row132_col1\" class=\"data row132 col1\" >8bf754f57d95e45c904217a724480ad69378d5ab5a9f243a6ceeec62d8838662</td>\n",
       "      <td id=\"T_bf4aa_row132_col2\" class=\"data row132 col2\" >55c755086c12e995bcc794412f1d98be33be98a61f81285549c6fbbc100d262a</td>\n",
       "      <td id=\"T_bf4aa_row132_col3\" class=\"data row132 col3\" >5ffc1f1d48e32ed011478c1f2824079746972ee0f82c7ad844e10077e505597e</td>\n",
       "      <td id=\"T_bf4aa_row132_col4\" class=\"data row132 col4\" >Felix AGAIL ocean feasts 40x100g</td>\n",
       "    </tr>\n",
       "    <tr>\n",
       "      <th id=\"T_bf4aa_level0_row133\" class=\"row_heading level0 row133\" >54</th>\n",
       "      <td id=\"T_bf4aa_row133_col0\" class=\"data row133 col0\" >5610be2b7e5bd6934eef1f4501d180bd1ef7d8834e89600b5b378ff6f1743609</td>\n",
       "      <td id=\"T_bf4aa_row133_col1\" class=\"data row133 col1\" >8bf754f57d95e45c904217a724480ad69378d5ab5a9f243a6ceeec62d8838662</td>\n",
       "      <td id=\"T_bf4aa_row133_col2\" class=\"data row133 col2\" >55c755086c12e995bcc794412f1d98be33be98a61f81285549c6fbbc100d262a</td>\n",
       "      <td id=\"T_bf4aa_row133_col3\" class=\"data row133 col3\" >5ffc1f1d48e32ed011478c1f2824079746972ee0f82c7ad844e10077e505597e</td>\n",
       "      <td id=\"T_bf4aa_row133_col4\" class=\"data row133 col4\" >Felix AGAIL ocean feasts jelly 12x100g</td>\n",
       "    </tr>\n",
       "    <tr>\n",
       "      <th id=\"T_bf4aa_level0_row134\" class=\"row_heading level0 row134\" >63</th>\n",
       "      <td id=\"T_bf4aa_row134_col0\" class=\"data row134 col0\" >5610be2b7e5bd6934eef1f4501d180bd1ef7d8834e89600b5b378ff6f1743609</td>\n",
       "      <td id=\"T_bf4aa_row134_col1\" class=\"data row134 col1\" >8bf754f57d95e45c904217a724480ad69378d5ab5a9f243a6ceeec62d8838662</td>\n",
       "      <td id=\"T_bf4aa_row134_col2\" class=\"data row134 col2\" >55c755086c12e995bcc794412f1d98be33be98a61f81285549c6fbbc100d262a</td>\n",
       "      <td id=\"T_bf4aa_row134_col3\" class=\"data row134 col3\" >5ffc1f1d48e32ed011478c1f2824079746972ee0f82c7ad844e10077e505597e</td>\n",
       "      <td id=\"T_bf4aa_row134_col4\" class=\"data row134 col4\" >Felix AGAIL senior 40x100g</td>\n",
       "    </tr>\n",
       "    <tr>\n",
       "      <th id=\"T_bf4aa_level0_row135\" class=\"row_heading level0 row135\" >72</th>\n",
       "      <td id=\"T_bf4aa_row135_col0\" class=\"data row135 col0\" >5610be2b7e5bd6934eef1f4501d180bd1ef7d8834e89600b5b378ff6f1743609</td>\n",
       "      <td id=\"T_bf4aa_row135_col1\" class=\"data row135 col1\" >8bf754f57d95e45c904217a724480ad69378d5ab5a9f243a6ceeec62d8838662</td>\n",
       "      <td id=\"T_bf4aa_row135_col2\" class=\"data row135 col2\" >55c755086c12e995bcc794412f1d98be33be98a61f81285549c6fbbc100d262a</td>\n",
       "      <td id=\"T_bf4aa_row135_col3\" class=\"data row135 col3\" >5ffc1f1d48e32ed011478c1f2824079746972ee0f82c7ad844e10077e505597e</td>\n",
       "      <td id=\"T_bf4aa_row135_col4\" class=\"data row135 col4\" >Felix AGAIL senior fish selectn 12x100g</td>\n",
       "    </tr>\n",
       "    <tr>\n",
       "      <th id=\"T_bf4aa_level0_row136\" class=\"row_heading level0 row136\" >36</th>\n",
       "      <td id=\"T_bf4aa_row136_col0\" class=\"data row136 col0\" >5610be2b7e5bd6934eef1f4501d180bd1ef7d8834e89600b5b378ff6f1743609</td>\n",
       "      <td id=\"T_bf4aa_row136_col1\" class=\"data row136 col1\" >8bf754f57d95e45c904217a724480ad69378d5ab5a9f243a6ceeec62d8838662</td>\n",
       "      <td id=\"T_bf4aa_row136_col2\" class=\"data row136 col2\" >55c755086c12e995bcc794412f1d98be33be98a61f81285549c6fbbc100d262a</td>\n",
       "      <td id=\"T_bf4aa_row136_col3\" class=\"data row136 col3\" >5ffc1f1d48e32ed011478c1f2824079746972ee0f82c7ad844e10077e505597e</td>\n",
       "      <td id=\"T_bf4aa_row136_col4\" class=\"data row136 col4\" >Felix AGAIL senior meat selectn 12x100g</td>\n",
       "    </tr>\n",
       "    <tr>\n",
       "      <th id=\"T_bf4aa_level0_row137\" class=\"row_heading level0 row137\" >61</th>\n",
       "      <td id=\"T_bf4aa_row137_col0\" class=\"data row137 col0\" >5610be2b7e5bd6934eef1f4501d180bd1ef7d8834e89600b5b378ff6f1743609</td>\n",
       "      <td id=\"T_bf4aa_row137_col1\" class=\"data row137 col1\" >8bf754f57d95e45c904217a724480ad69378d5ab5a9f243a6ceeec62d8838662</td>\n",
       "      <td id=\"T_bf4aa_row137_col2\" class=\"data row137 col2\" >55c755086c12e995bcc794412f1d98be33be98a61f81285549c6fbbc100d262a</td>\n",
       "      <td id=\"T_bf4aa_row137_col3\" class=\"data row137 col3\" >5ffc1f1d48e32ed011478c1f2824079746972ee0f82c7ad844e10077e505597e</td>\n",
       "      <td id=\"T_bf4aa_row137_col4\" class=\"data row137 col4\" >Felix AGAIL vegetable selection 12x100g</td>\n",
       "    </tr>\n",
       "    <tr>\n",
       "      <th id=\"T_bf4aa_level0_row138\" class=\"row_heading level0 row138\" >126</th>\n",
       "      <td id=\"T_bf4aa_row138_col0\" class=\"data row138 col0\" >5610be2b7e5bd6934eef1f4501d180bd1ef7d8834e89600b5b378ff6f1743609</td>\n",
       "      <td id=\"T_bf4aa_row138_col1\" class=\"data row138 col1\" >8bf754f57d95e45c904217a724480ad69378d5ab5a9f243a6ceeec62d8838662</td>\n",
       "      <td id=\"T_bf4aa_row138_col2\" class=\"data row138 col2\" >55c755086c12e995bcc794412f1d98be33be98a61f81285549c6fbbc100d262a</td>\n",
       "      <td id=\"T_bf4aa_row138_col3\" class=\"data row138 col3\" >5ffc1f1d48e32ed011478c1f2824079746972ee0f82c7ad844e10077e505597e</td>\n",
       "      <td id=\"T_bf4aa_row138_col4\" class=\"data row138 col4\" >Felix mixed selection jelly 40x100g</td>\n",
       "    </tr>\n",
       "    <tr>\n",
       "      <th id=\"T_bf4aa_level0_row139\" class=\"row_heading level0 row139\" >37</th>\n",
       "      <td id=\"T_bf4aa_row139_col0\" class=\"data row139 col0\" >5610be2b7e5bd6934eef1f4501d180bd1ef7d8834e89600b5b378ff6f1743609</td>\n",
       "      <td id=\"T_bf4aa_row139_col1\" class=\"data row139 col1\" >8bf754f57d95e45c904217a724480ad69378d5ab5a9f243a6ceeec62d8838662</td>\n",
       "      <td id=\"T_bf4aa_row139_col2\" class=\"data row139 col2\" >55c755086c12e995bcc794412f1d98be33be98a61f81285549c6fbbc100d262a</td>\n",
       "      <td id=\"T_bf4aa_row139_col3\" class=\"data row139 col3\" >5ffc1f1d48e32ed011478c1f2824079746972ee0f82c7ad844e10077e505597e</td>\n",
       "      <td id=\"T_bf4aa_row139_col4\" class=\"data row139 col4\" >Felix soup farm selection 6x48g</td>\n",
       "    </tr>\n",
       "    <tr>\n",
       "      <th id=\"T_bf4aa_level0_row140\" class=\"row_heading level0 row140\" >50</th>\n",
       "      <td id=\"T_bf4aa_row140_col0\" class=\"data row140 col0\" >5610be2b7e5bd6934eef1f4501d180bd1ef7d8834e89600b5b378ff6f1743609</td>\n",
       "      <td id=\"T_bf4aa_row140_col1\" class=\"data row140 col1\" >8bf754f57d95e45c904217a724480ad69378d5ab5a9f243a6ceeec62d8838662</td>\n",
       "      <td id=\"T_bf4aa_row140_col2\" class=\"data row140 col2\" >55c755086c12e995bcc794412f1d98be33be98a61f81285549c6fbbc100d262a</td>\n",
       "      <td id=\"T_bf4aa_row140_col3\" class=\"data row140 col3\" >5ffc1f1d48e32ed011478c1f2824079746972ee0f82c7ad844e10077e505597e</td>\n",
       "      <td id=\"T_bf4aa_row140_col4\" class=\"data row140 col4\" >Felix soup fish selection 6x48g</td>\n",
       "    </tr>\n",
       "    <tr>\n",
       "      <th id=\"T_bf4aa_level0_row141\" class=\"row_heading level0 row141\" >39</th>\n",
       "      <td id=\"T_bf4aa_row141_col0\" class=\"data row141 col0\" >5610be2b7e5bd6934eef1f4501d180bd1ef7d8834e89600b5b378ff6f1743609</td>\n",
       "      <td id=\"T_bf4aa_row141_col1\" class=\"data row141 col1\" >8bf754f57d95e45c904217a724480ad69378d5ab5a9f243a6ceeec62d8838662</td>\n",
       "      <td id=\"T_bf4aa_row141_col2\" class=\"data row141 col2\" >55c755086c12e995bcc794412f1d98be33be98a61f81285549c6fbbc100d262a</td>\n",
       "      <td id=\"T_bf4aa_row141_col3\" class=\"data row141 col3\" >5ffc1f1d48e32ed011478c1f2824079746972ee0f82c7ad844e10077e505597e</td>\n",
       "      <td id=\"T_bf4aa_row141_col4\" class=\"data row141 col4\" >Purina One senior cat beef/chkn 8x85g</td>\n",
       "    </tr>\n",
       "    <tr>\n",
       "      <th id=\"T_bf4aa_level0_row142\" class=\"row_heading level0 row142\" >47</th>\n",
       "      <td id=\"T_bf4aa_row142_col0\" class=\"data row142 col0\" >5610be2b7e5bd6934eef1f4501d180bd1ef7d8834e89600b5b378ff6f1743609</td>\n",
       "      <td id=\"T_bf4aa_row142_col1\" class=\"data row142 col1\" >8bf754f57d95e45c904217a724480ad69378d5ab5a9f243a6ceeec62d8838662</td>\n",
       "      <td id=\"T_bf4aa_row142_col2\" class=\"data row142 col2\" >7d769a7898623a873855ea9672ffddfd3e185d216b71fc3b5a8dc3996e78aae5</td>\n",
       "      <td id=\"T_bf4aa_row142_col3\" class=\"data row142 col3\" >5ffc1f1d48e32ed011478c1f2824079746972ee0f82c7ad844e10077e505597e</td>\n",
       "      <td id=\"T_bf4aa_row142_col4\" class=\"data row142 col4\" >Gourmet Gold Delights chicken 8x85g</td>\n",
       "    </tr>\n",
       "    <tr>\n",
       "      <th id=\"T_bf4aa_level0_row143\" class=\"row_heading level0 row143\" >44</th>\n",
       "      <td id=\"T_bf4aa_row143_col0\" class=\"data row143 col0\" >5610be2b7e5bd6934eef1f4501d180bd1ef7d8834e89600b5b378ff6f1743609</td>\n",
       "      <td id=\"T_bf4aa_row143_col1\" class=\"data row143 col1\" >8bf754f57d95e45c904217a724480ad69378d5ab5a9f243a6ceeec62d8838662</td>\n",
       "      <td id=\"T_bf4aa_row143_col2\" class=\"data row143 col2\" >7d769a7898623a873855ea9672ffddfd3e185d216b71fc3b5a8dc3996e78aae5</td>\n",
       "      <td id=\"T_bf4aa_row143_col3\" class=\"data row143 col3\" >5ffc1f1d48e32ed011478c1f2824079746972ee0f82c7ad844e10077e505597e</td>\n",
       "      <td id=\"T_bf4aa_row143_col4\" class=\"data row143 col4\" >Gourmet Gold ocean fish paté 85g</td>\n",
       "    </tr>\n",
       "    <tr>\n",
       "      <th id=\"T_bf4aa_level0_row144\" class=\"row_heading level0 row144\" >48</th>\n",
       "      <td id=\"T_bf4aa_row144_col0\" class=\"data row144 col0\" >5610be2b7e5bd6934eef1f4501d180bd1ef7d8834e89600b5b378ff6f1743609</td>\n",
       "      <td id=\"T_bf4aa_row144_col1\" class=\"data row144 col1\" >8bf754f57d95e45c904217a724480ad69378d5ab5a9f243a6ceeec62d8838662</td>\n",
       "      <td id=\"T_bf4aa_row144_col2\" class=\"data row144 col2\" >7d769a7898623a873855ea9672ffddfd3e185d216b71fc3b5a8dc3996e78aae5</td>\n",
       "      <td id=\"T_bf4aa_row144_col3\" class=\"data row144 col3\" >5ffc1f1d48e32ed011478c1f2824079746972ee0f82c7ad844e10077e505597e</td>\n",
       "      <td id=\"T_bf4aa_row144_col4\" class=\"data row144 col4\" >Gourmet Gold savoury cake meat/fsh 8x85g</td>\n",
       "    </tr>\n",
       "    <tr>\n",
       "      <th id=\"T_bf4aa_level0_row145\" class=\"row_heading level0 row145\" >49</th>\n",
       "      <td id=\"T_bf4aa_row145_col0\" class=\"data row145 col0\" >5610be2b7e5bd6934eef1f4501d180bd1ef7d8834e89600b5b378ff6f1743609</td>\n",
       "      <td id=\"T_bf4aa_row145_col1\" class=\"data row145 col1\" >8bf754f57d95e45c904217a724480ad69378d5ab5a9f243a6ceeec62d8838662</td>\n",
       "      <td id=\"T_bf4aa_row145_col2\" class=\"data row145 col2\" >7d769a7898623a873855ea9672ffddfd3e185d216b71fc3b5a8dc3996e78aae5</td>\n",
       "      <td id=\"T_bf4aa_row145_col3\" class=\"data row145 col3\" >5ffc1f1d48e32ed011478c1f2824079746972ee0f82c7ad844e10077e505597e</td>\n",
       "      <td id=\"T_bf4aa_row145_col4\" class=\"data row145 col4\" >Gourmet Gold senior salmon 8x85g</td>\n",
       "    </tr>\n",
       "    <tr>\n",
       "      <th id=\"T_bf4aa_level0_row146\" class=\"row_heading level0 row146\" >40</th>\n",
       "      <td id=\"T_bf4aa_row146_col0\" class=\"data row146 col0\" >5610be2b7e5bd6934eef1f4501d180bd1ef7d8834e89600b5b378ff6f1743609</td>\n",
       "      <td id=\"T_bf4aa_row146_col1\" class=\"data row146 col1\" >8bf754f57d95e45c904217a724480ad69378d5ab5a9f243a6ceeec62d8838662</td>\n",
       "      <td id=\"T_bf4aa_row146_col2\" class=\"data row146 col2\" >7d769a7898623a873855ea9672ffddfd3e185d216b71fc3b5a8dc3996e78aae5</td>\n",
       "      <td id=\"T_bf4aa_row146_col3\" class=\"data row146 col3\" >5ffc1f1d48e32ed011478c1f2824079746972ee0f82c7ad844e10077e505597e</td>\n",
       "      <td id=\"T_bf4aa_row146_col4\" class=\"data row146 col4\" >Gourmet Perle chef's collection 12x85g</td>\n",
       "    </tr>\n",
       "    <tr>\n",
       "      <th id=\"T_bf4aa_level0_row147\" class=\"row_heading level0 row147\" >46</th>\n",
       "      <td id=\"T_bf4aa_row147_col0\" class=\"data row147 col0\" >5610be2b7e5bd6934eef1f4501d180bd1ef7d8834e89600b5b378ff6f1743609</td>\n",
       "      <td id=\"T_bf4aa_row147_col1\" class=\"data row147 col1\" >8bf754f57d95e45c904217a724480ad69378d5ab5a9f243a6ceeec62d8838662</td>\n",
       "      <td id=\"T_bf4aa_row147_col2\" class=\"data row147 col2\" >7d769a7898623a873855ea9672ffddfd3e185d216b71fc3b5a8dc3996e78aae5</td>\n",
       "      <td id=\"T_bf4aa_row147_col3\" class=\"data row147 col3\" >5ffc1f1d48e32ed011478c1f2824079746972ee0f82c7ad844e10077e505597e</td>\n",
       "      <td id=\"T_bf4aa_row147_col4\" class=\"data row147 col4\" >Gourmet Perle connoisseur's duo 12x85g</td>\n",
       "    </tr>\n",
       "    <tr>\n",
       "      <th id=\"T_bf4aa_level0_row148\" class=\"row_heading level0 row148\" >45</th>\n",
       "      <td id=\"T_bf4aa_row148_col0\" class=\"data row148 col0\" >5610be2b7e5bd6934eef1f4501d180bd1ef7d8834e89600b5b378ff6f1743609</td>\n",
       "      <td id=\"T_bf4aa_row148_col1\" class=\"data row148 col1\" >8bf754f57d95e45c904217a724480ad69378d5ab5a9f243a6ceeec62d8838662</td>\n",
       "      <td id=\"T_bf4aa_row148_col2\" class=\"data row148 col2\" >7d769a7898623a873855ea9672ffddfd3e185d216b71fc3b5a8dc3996e78aae5</td>\n",
       "      <td id=\"T_bf4aa_row148_col3\" class=\"data row148 col3\" >5ffc1f1d48e32ed011478c1f2824079746972ee0f82c7ad844e10077e505597e</td>\n",
       "      <td id=\"T_bf4aa_row148_col4\" class=\"data row148 col4\" >Gourmet Perle country medley 12x85g</td>\n",
       "    </tr>\n",
       "    <tr>\n",
       "      <th id=\"T_bf4aa_level0_row149\" class=\"row_heading level0 row149\" >41</th>\n",
       "      <td id=\"T_bf4aa_row149_col0\" class=\"data row149 col0\" >5610be2b7e5bd6934eef1f4501d180bd1ef7d8834e89600b5b378ff6f1743609</td>\n",
       "      <td id=\"T_bf4aa_row149_col1\" class=\"data row149 col1\" >8bf754f57d95e45c904217a724480ad69378d5ab5a9f243a6ceeec62d8838662</td>\n",
       "      <td id=\"T_bf4aa_row149_col2\" class=\"data row149 col2\" >7d769a7898623a873855ea9672ffddfd3e185d216b71fc3b5a8dc3996e78aae5</td>\n",
       "      <td id=\"T_bf4aa_row149_col3\" class=\"data row149 col3\" >5ffc1f1d48e32ed011478c1f2824079746972ee0f82c7ad844e10077e505597e</td>\n",
       "      <td id=\"T_bf4aa_row149_col4\" class=\"data row149 col4\" >Gourmet Perle ocean delicacies 12x85g</td>\n",
       "    </tr>\n",
       "    <tr>\n",
       "      <th id=\"T_bf4aa_level0_row150\" class=\"row_heading level0 row150\" >129</th>\n",
       "      <td id=\"T_bf4aa_row150_col0\" class=\"data row150 col0\" >5610be2b7e5bd6934eef1f4501d180bd1ef7d8834e89600b5b378ff6f1743609</td>\n",
       "      <td id=\"T_bf4aa_row150_col1\" class=\"data row150 col1\" >8bf754f57d95e45c904217a724480ad69378d5ab5a9f243a6ceeec62d8838662</td>\n",
       "      <td id=\"T_bf4aa_row150_col2\" class=\"data row150 col2\" >7d769a7898623a873855ea9672ffddfd3e185d216b71fc3b5a8dc3996e78aae5</td>\n",
       "      <td id=\"T_bf4aa_row150_col3\" class=\"data row150 col3\" >5ffc1f1d48e32ed011478c1f2824079746972ee0f82c7ad844e10077e505597e</td>\n",
       "      <td id=\"T_bf4aa_row150_col4\" class=\"data row150 col4\" >Gourmet Revelations mousse chicken 4x57g</td>\n",
       "    </tr>\n",
       "    <tr>\n",
       "      <th id=\"T_bf4aa_level0_row151\" class=\"row_heading level0 row151\" >66</th>\n",
       "      <td id=\"T_bf4aa_row151_col0\" class=\"data row151 col0\" >5610be2b7e5bd6934eef1f4501d180bd1ef7d8834e89600b5b378ff6f1743609</td>\n",
       "      <td id=\"T_bf4aa_row151_col1\" class=\"data row151 col1\" >8bf754f57d95e45c904217a724480ad69378d5ab5a9f243a6ceeec62d8838662</td>\n",
       "      <td id=\"T_bf4aa_row151_col2\" class=\"data row151 col2\" >7d769a7898623a873855ea9672ffddfd3e185d216b71fc3b5a8dc3996e78aae5</td>\n",
       "      <td id=\"T_bf4aa_row151_col3\" class=\"data row151 col3\" >5ffc1f1d48e32ed011478c1f2824079746972ee0f82c7ad844e10077e505597e</td>\n",
       "      <td id=\"T_bf4aa_row151_col4\" class=\"data row151 col4\" >Gourmet mon petit beef/chkn/lamb 6x50g</td>\n",
       "    </tr>\n",
       "    <tr>\n",
       "      <th id=\"T_bf4aa_level0_row152\" class=\"row_heading level0 row152\" >42</th>\n",
       "      <td id=\"T_bf4aa_row152_col0\" class=\"data row152 col0\" >5610be2b7e5bd6934eef1f4501d180bd1ef7d8834e89600b5b378ff6f1743609</td>\n",
       "      <td id=\"T_bf4aa_row152_col1\" class=\"data row152 col1\" >8bf754f57d95e45c904217a724480ad69378d5ab5a9f243a6ceeec62d8838662</td>\n",
       "      <td id=\"T_bf4aa_row152_col2\" class=\"data row152 col2\" >7d769a7898623a873855ea9672ffddfd3e185d216b71fc3b5a8dc3996e78aae5</td>\n",
       "      <td id=\"T_bf4aa_row152_col3\" class=\"data row152 col3\" >5ffc1f1d48e32ed011478c1f2824079746972ee0f82c7ad844e10077e505597e</td>\n",
       "      <td id=\"T_bf4aa_row152_col4\" class=\"data row152 col4\" >Gourmet mon petit cod/sard/salmon 6x50g</td>\n",
       "    </tr>\n",
       "    <tr>\n",
       "      <th id=\"T_bf4aa_level0_row153\" class=\"row_heading level0 row153\" >55</th>\n",
       "      <td id=\"T_bf4aa_row153_col0\" class=\"data row153 col0\" >5610be2b7e5bd6934eef1f4501d180bd1ef7d8834e89600b5b378ff6f1743609</td>\n",
       "      <td id=\"T_bf4aa_row153_col1\" class=\"data row153 col1\" >8bf754f57d95e45c904217a724480ad69378d5ab5a9f243a6ceeec62d8838662</td>\n",
       "      <td id=\"T_bf4aa_row153_col2\" class=\"data row153 col2\" >7d769a7898623a873855ea9672ffddfd3e185d216b71fc3b5a8dc3996e78aae5</td>\n",
       "      <td id=\"T_bf4aa_row153_col3\" class=\"data row153 col3\" >5ffc1f1d48e32ed011478c1f2824079746972ee0f82c7ad844e10077e505597e</td>\n",
       "      <td id=\"T_bf4aa_row153_col4\" class=\"data row153 col4\" >Gourmet mon petit poultry 6x50g</td>\n",
       "    </tr>\n",
       "    <tr>\n",
       "      <th id=\"T_bf4aa_level0_row154\" class=\"row_heading level0 row154\" >73</th>\n",
       "      <td id=\"T_bf4aa_row154_col0\" class=\"data row154 col0\" >5610be2b7e5bd6934eef1f4501d180bd1ef7d8834e89600b5b378ff6f1743609</td>\n",
       "      <td id=\"T_bf4aa_row154_col1\" class=\"data row154 col1\" >8bf754f57d95e45c904217a724480ad69378d5ab5a9f243a6ceeec62d8838662</td>\n",
       "      <td id=\"T_bf4aa_row154_col2\" class=\"data row154 col2\" >7d769a7898623a873855ea9672ffddfd3e185d216b71fc3b5a8dc3996e78aae5</td>\n",
       "      <td id=\"T_bf4aa_row154_col3\" class=\"data row154 col3\" >5ffc1f1d48e32ed011478c1f2824079746972ee0f82c7ad844e10077e505597e</td>\n",
       "      <td id=\"T_bf4aa_row154_col4\" class=\"data row154 col4\" >Gourmet mon petit tuna/salmn/trout 6x50g</td>\n",
       "    </tr>\n",
       "    <tr>\n",
       "      <th id=\"T_bf4aa_level0_row155\" class=\"row_heading level0 row155\" >62</th>\n",
       "      <td id=\"T_bf4aa_row155_col0\" class=\"data row155 col0\" >5610be2b7e5bd6934eef1f4501d180bd1ef7d8834e89600b5b378ff6f1743609</td>\n",
       "      <td id=\"T_bf4aa_row155_col1\" class=\"data row155 col1\" >8bf754f57d95e45c904217a724480ad69378d5ab5a9f243a6ceeec62d8838662</td>\n",
       "      <td id=\"T_bf4aa_row155_col2\" class=\"data row155 col2\" >7d769a7898623a873855ea9672ffddfd3e185d216b71fc3b5a8dc3996e78aae5</td>\n",
       "      <td id=\"T_bf4aa_row155_col3\" class=\"data row155 col3\" >5ffc1f1d48e32ed011478c1f2824079746972ee0f82c7ad844e10077e505597e</td>\n",
       "      <td id=\"T_bf4aa_row155_col4\" class=\"data row155 col4\" >Sheba fine flakes fish selectn ij 12x85g</td>\n",
       "    </tr>\n",
       "    <tr>\n",
       "      <th id=\"T_bf4aa_level0_row156\" class=\"row_heading level0 row156\" >67</th>\n",
       "      <td id=\"T_bf4aa_row156_col0\" class=\"data row156 col0\" >5610be2b7e5bd6934eef1f4501d180bd1ef7d8834e89600b5b378ff6f1743609</td>\n",
       "      <td id=\"T_bf4aa_row156_col1\" class=\"data row156 col1\" >8bf754f57d95e45c904217a724480ad69378d5ab5a9f243a6ceeec62d8838662</td>\n",
       "      <td id=\"T_bf4aa_row156_col2\" class=\"data row156 col2\" >7d769a7898623a873855ea9672ffddfd3e185d216b71fc3b5a8dc3996e78aae5</td>\n",
       "      <td id=\"T_bf4aa_row156_col3\" class=\"data row156 col3\" >5ffc1f1d48e32ed011478c1f2824079746972ee0f82c7ad844e10077e505597e</td>\n",
       "      <td id=\"T_bf4aa_row156_col4\" class=\"data row156 col4\" >Sheba fine flakes poultry collctn 12x85g</td>\n",
       "    </tr>\n",
       "    <tr>\n",
       "      <th id=\"T_bf4aa_level0_row157\" class=\"row_heading level0 row157\" >64</th>\n",
       "      <td id=\"T_bf4aa_row157_col0\" class=\"data row157 col0\" >5610be2b7e5bd6934eef1f4501d180bd1ef7d8834e89600b5b378ff6f1743609</td>\n",
       "      <td id=\"T_bf4aa_row157_col1\" class=\"data row157 col1\" >8bf754f57d95e45c904217a724480ad69378d5ab5a9f243a6ceeec62d8838662</td>\n",
       "      <td id=\"T_bf4aa_row157_col2\" class=\"data row157 col2\" >7d769a7898623a873855ea9672ffddfd3e185d216b71fc3b5a8dc3996e78aae5</td>\n",
       "      <td id=\"T_bf4aa_row157_col3\" class=\"data row157 col3\" >5ffc1f1d48e32ed011478c1f2824079746972ee0f82c7ad844e10077e505597e</td>\n",
       "      <td id=\"T_bf4aa_row157_col4\" class=\"data row157 col4\" >Sheba fresh & fine fish in gravy 6x50g</td>\n",
       "    </tr>\n",
       "    <tr>\n",
       "      <th id=\"T_bf4aa_level0_row158\" class=\"row_heading level0 row158\" >51</th>\n",
       "      <td id=\"T_bf4aa_row158_col0\" class=\"data row158 col0\" >5610be2b7e5bd6934eef1f4501d180bd1ef7d8834e89600b5b378ff6f1743609</td>\n",
       "      <td id=\"T_bf4aa_row158_col1\" class=\"data row158 col1\" >8bf754f57d95e45c904217a724480ad69378d5ab5a9f243a6ceeec62d8838662</td>\n",
       "      <td id=\"T_bf4aa_row158_col2\" class=\"data row158 col2\" >7d769a7898623a873855ea9672ffddfd3e185d216b71fc3b5a8dc3996e78aae5</td>\n",
       "      <td id=\"T_bf4aa_row158_col3\" class=\"data row158 col3\" >5ffc1f1d48e32ed011478c1f2824079746972ee0f82c7ad844e10077e505597e</td>\n",
       "      <td id=\"T_bf4aa_row158_col4\" class=\"data row158 col4\" >Sheba select slices gravy collctn 12x85g</td>\n",
       "    </tr>\n",
       "    <tr>\n",
       "      <th id=\"T_bf4aa_level0_row159\" class=\"row_heading level0 row159\" >58</th>\n",
       "      <td id=\"T_bf4aa_row159_col0\" class=\"data row159 col0\" >5610be2b7e5bd6934eef1f4501d180bd1ef7d8834e89600b5b378ff6f1743609</td>\n",
       "      <td id=\"T_bf4aa_row159_col1\" class=\"data row159 col1\" >8bf754f57d95e45c904217a724480ad69378d5ab5a9f243a6ceeec62d8838662</td>\n",
       "      <td id=\"T_bf4aa_row159_col2\" class=\"data row159 col2\" >b5e8517d2ab416d2d26fdebba487a0f9f8da64215c9b47307c96e30bcddc503b</td>\n",
       "      <td id=\"T_bf4aa_row159_col3\" class=\"data row159 col3\" >5ffc1f1d48e32ed011478c1f2824079746972ee0f82c7ad844e10077e505597e</td>\n",
       "      <td id=\"T_bf4aa_row159_col4\" class=\"data row159 col4\" >JS 1+ comn fish selectn in jelly 6x400g</td>\n",
       "    </tr>\n",
       "    <tr>\n",
       "      <th id=\"T_bf4aa_level0_row160\" class=\"row_heading level0 row160\" >75</th>\n",
       "      <td id=\"T_bf4aa_row160_col0\" class=\"data row160 col0\" >5610be2b7e5bd6934eef1f4501d180bd1ef7d8834e89600b5b378ff6f1743609</td>\n",
       "      <td id=\"T_bf4aa_row160_col1\" class=\"data row160 col1\" >8bf754f57d95e45c904217a724480ad69378d5ab5a9f243a6ceeec62d8838662</td>\n",
       "      <td id=\"T_bf4aa_row160_col2\" class=\"data row160 col2\" >b5e8517d2ab416d2d26fdebba487a0f9f8da64215c9b47307c96e30bcddc503b</td>\n",
       "      <td id=\"T_bf4aa_row160_col3\" class=\"data row160 col3\" >5ffc1f1d48e32ed011478c1f2824079746972ee0f82c7ad844e10077e505597e</td>\n",
       "      <td id=\"T_bf4aa_row160_col4\" class=\"data row160 col4\" >JS 1+ comn meat selectn in jelly 6x400g</td>\n",
       "    </tr>\n",
       "    <tr>\n",
       "      <th id=\"T_bf4aa_level0_row161\" class=\"row_heading level0 row161\" >69</th>\n",
       "      <td id=\"T_bf4aa_row161_col0\" class=\"data row161 col0\" >5610be2b7e5bd6934eef1f4501d180bd1ef7d8834e89600b5b378ff6f1743609</td>\n",
       "      <td id=\"T_bf4aa_row161_col1\" class=\"data row161 col1\" >8bf754f57d95e45c904217a724480ad69378d5ab5a9f243a6ceeec62d8838662</td>\n",
       "      <td id=\"T_bf4aa_row161_col2\" class=\"data row161 col2\" >d73c702859f430f489868ba4728c557296ce1b8015409af46a52e9bd8f1e39dc</td>\n",
       "      <td id=\"T_bf4aa_row161_col3\" class=\"data row161 col3\" >5ffc1f1d48e32ed011478c1f2824079746972ee0f82c7ad844e10077e505597e</td>\n",
       "      <td id=\"T_bf4aa_row161_col4\" class=\"data row161 col4\" >JS 1+ comn meat & fish in jelly 12x100g</td>\n",
       "    </tr>\n",
       "    <tr>\n",
       "      <th id=\"T_bf4aa_level0_row162\" class=\"row_heading level0 row162\" >43</th>\n",
       "      <td id=\"T_bf4aa_row162_col0\" class=\"data row162 col0\" >5610be2b7e5bd6934eef1f4501d180bd1ef7d8834e89600b5b378ff6f1743609</td>\n",
       "      <td id=\"T_bf4aa_row162_col1\" class=\"data row162 col1\" >8bf754f57d95e45c904217a724480ad69378d5ab5a9f243a6ceeec62d8838662</td>\n",
       "      <td id=\"T_bf4aa_row162_col2\" class=\"data row162 col2\" >d73c702859f430f489868ba4728c557296ce1b8015409af46a52e9bd8f1e39dc</td>\n",
       "      <td id=\"T_bf4aa_row162_col3\" class=\"data row162 col3\" >5ffc1f1d48e32ed011478c1f2824079746972ee0f82c7ad844e10077e505597e</td>\n",
       "      <td id=\"T_bf4aa_row162_col4\" class=\"data row162 col4\" >JS 1+ meat &fish selctn in jelly 48x100g</td>\n",
       "    </tr>\n",
       "    <tr>\n",
       "      <th id=\"T_bf4aa_level0_row163\" class=\"row_heading level0 row163\" >57</th>\n",
       "      <td id=\"T_bf4aa_row163_col0\" class=\"data row163 col0\" >5610be2b7e5bd6934eef1f4501d180bd1ef7d8834e89600b5b378ff6f1743609</td>\n",
       "      <td id=\"T_bf4aa_row163_col1\" class=\"data row163 col1\" >8bf754f57d95e45c904217a724480ad69378d5ab5a9f243a6ceeec62d8838662</td>\n",
       "      <td id=\"T_bf4aa_row163_col2\" class=\"data row163 col2\" >d73c702859f430f489868ba4728c557296ce1b8015409af46a52e9bd8f1e39dc</td>\n",
       "      <td id=\"T_bf4aa_row163_col3\" class=\"data row163 col3\" >5ffc1f1d48e32ed011478c1f2824079746972ee0f82c7ad844e10077e505597e</td>\n",
       "      <td id=\"T_bf4aa_row163_col4\" class=\"data row163 col4\" >JS 7+ meat&fish selctn in jelly 12x100g</td>\n",
       "    </tr>\n",
       "    <tr>\n",
       "      <th id=\"T_bf4aa_level0_row164\" class=\"row_heading level0 row164\" >60</th>\n",
       "      <td id=\"T_bf4aa_row164_col0\" class=\"data row164 col0\" >5610be2b7e5bd6934eef1f4501d180bd1ef7d8834e89600b5b378ff6f1743609</td>\n",
       "      <td id=\"T_bf4aa_row164_col1\" class=\"data row164 col1\" >8bf754f57d95e45c904217a724480ad69378d5ab5a9f243a6ceeec62d8838662</td>\n",
       "      <td id=\"T_bf4aa_row164_col2\" class=\"data row164 col2\" >d73c702859f430f489868ba4728c557296ce1b8015409af46a52e9bd8f1e39dc</td>\n",
       "      <td id=\"T_bf4aa_row164_col3\" class=\"data row164 col3\" >5ffc1f1d48e32ed011478c1f2824079746972ee0f82c7ad844e10077e505597e</td>\n",
       "      <td id=\"T_bf4aa_row164_col4\" class=\"data row164 col4\" >Whiskas 1+ Cat Pouch Fish jelly 40x85g</td>\n",
       "    </tr>\n",
       "    <tr>\n",
       "      <th id=\"T_bf4aa_level0_row165\" class=\"row_heading level0 row165\" >125</th>\n",
       "      <td id=\"T_bf4aa_row165_col0\" class=\"data row165 col0\" >5610be2b7e5bd6934eef1f4501d180bd1ef7d8834e89600b5b378ff6f1743609</td>\n",
       "      <td id=\"T_bf4aa_row165_col1\" class=\"data row165 col1\" >8bf754f57d95e45c904217a724480ad69378d5ab5a9f243a6ceeec62d8838662</td>\n",
       "      <td id=\"T_bf4aa_row165_col2\" class=\"data row165 col2\" >d73c702859f430f489868ba4728c557296ce1b8015409af46a52e9bd8f1e39dc</td>\n",
       "      <td id=\"T_bf4aa_row165_col3\" class=\"data row165 col3\" >5ffc1f1d48e32ed011478c1f2824079746972ee0f82c7ad844e10077e505597e</td>\n",
       "      <td id=\"T_bf4aa_row165_col4\" class=\"data row165 col4\" >Whiskas 1+ Cat Pouch Poultry jel 12x85g</td>\n",
       "    </tr>\n",
       "    <tr>\n",
       "      <th id=\"T_bf4aa_level0_row166\" class=\"row_heading level0 row166\" >59</th>\n",
       "      <td id=\"T_bf4aa_row166_col0\" class=\"data row166 col0\" >5610be2b7e5bd6934eef1f4501d180bd1ef7d8834e89600b5b378ff6f1743609</td>\n",
       "      <td id=\"T_bf4aa_row166_col1\" class=\"data row166 col1\" >8bf754f57d95e45c904217a724480ad69378d5ab5a9f243a6ceeec62d8838662</td>\n",
       "      <td id=\"T_bf4aa_row166_col2\" class=\"data row166 col2\" >d73c702859f430f489868ba4728c557296ce1b8015409af46a52e9bd8f1e39dc</td>\n",
       "      <td id=\"T_bf4aa_row166_col3\" class=\"data row166 col3\" >5ffc1f1d48e32ed011478c1f2824079746972ee0f82c7ad844e10077e505597e</td>\n",
       "      <td id=\"T_bf4aa_row166_col4\" class=\"data row166 col4\" >Whiskas 1+ Cat Pouch Poultry jel 40x85g</td>\n",
       "    </tr>\n",
       "    <tr>\n",
       "      <th id=\"T_bf4aa_level0_row167\" class=\"row_heading level0 row167\" >38</th>\n",
       "      <td id=\"T_bf4aa_row167_col0\" class=\"data row167 col0\" >5610be2b7e5bd6934eef1f4501d180bd1ef7d8834e89600b5b378ff6f1743609</td>\n",
       "      <td id=\"T_bf4aa_row167_col1\" class=\"data row167 col1\" >8bf754f57d95e45c904217a724480ad69378d5ab5a9f243a6ceeec62d8838662</td>\n",
       "      <td id=\"T_bf4aa_row167_col2\" class=\"data row167 col2\" >d73c702859f430f489868ba4728c557296ce1b8015409af46a52e9bd8f1e39dc</td>\n",
       "      <td id=\"T_bf4aa_row167_col3\" class=\"data row167 col3\" >5ffc1f1d48e32ed011478c1f2824079746972ee0f82c7ad844e10077e505597e</td>\n",
       "      <td id=\"T_bf4aa_row167_col4\" class=\"data row167 col4\" >Whiskas 2-12mths Kit Pouch fish 12x85g</td>\n",
       "    </tr>\n",
       "    <tr>\n",
       "      <th id=\"T_bf4aa_level0_row168\" class=\"row_heading level0 row168\" >52</th>\n",
       "      <td id=\"T_bf4aa_row168_col0\" class=\"data row168 col0\" >5610be2b7e5bd6934eef1f4501d180bd1ef7d8834e89600b5b378ff6f1743609</td>\n",
       "      <td id=\"T_bf4aa_row168_col1\" class=\"data row168 col1\" >8bf754f57d95e45c904217a724480ad69378d5ab5a9f243a6ceeec62d8838662</td>\n",
       "      <td id=\"T_bf4aa_row168_col2\" class=\"data row168 col2\" >d73c702859f430f489868ba4728c557296ce1b8015409af46a52e9bd8f1e39dc</td>\n",
       "      <td id=\"T_bf4aa_row168_col3\" class=\"data row168 col3\" >5ffc1f1d48e32ed011478c1f2824079746972ee0f82c7ad844e10077e505597e</td>\n",
       "      <td id=\"T_bf4aa_row168_col4\" class=\"data row168 col4\" >Whiskas 7+ Cat Pouch Poultry JEL 12x85g</td>\n",
       "    </tr>\n",
       "    <tr>\n",
       "      <th id=\"T_bf4aa_level0_row169\" class=\"row_heading level0 row169\" >65</th>\n",
       "      <td id=\"T_bf4aa_row169_col0\" class=\"data row169 col0\" >5610be2b7e5bd6934eef1f4501d180bd1ef7d8834e89600b5b378ff6f1743609</td>\n",
       "      <td id=\"T_bf4aa_row169_col1\" class=\"data row169 col1\" >8bf754f57d95e45c904217a724480ad69378d5ab5a9f243a6ceeec62d8838662</td>\n",
       "      <td id=\"T_bf4aa_row169_col2\" class=\"data row169 col2\" >d73c702859f430f489868ba4728c557296ce1b8015409af46a52e9bd8f1e39dc</td>\n",
       "      <td id=\"T_bf4aa_row169_col3\" class=\"data row169 col3\" >5ffc1f1d48e32ed011478c1f2824079746972ee0f82c7ad844e10077e505597e</td>\n",
       "      <td id=\"T_bf4aa_row169_col4\" class=\"data row169 col4\" >Whiskas 7+ Cat Pouch fish jelly 12x85g</td>\n",
       "    </tr>\n",
       "    <tr>\n",
       "      <th id=\"T_bf4aa_level0_row170\" class=\"row_heading level0 row170\" >299</th>\n",
       "      <td id=\"T_bf4aa_row170_col0\" class=\"data row170 col0\" >577d2f7bea6b6d16dddcb7518bc68b31f78f3f8475fecb2386a8d62d52b82483</td>\n",
       "      <td id=\"T_bf4aa_row170_col1\" class=\"data row170 col1\" >8bfa6e538f4f31a800d745bfd5419ecbdb35b1b2e7033a0c350572bda612b2a1</td>\n",
       "      <td id=\"T_bf4aa_row170_col2\" class=\"data row170 col2\" >994fa2d8010638fb354a73a1d747f646625e4c57c564e617936f939e32aa54ed</td>\n",
       "      <td id=\"T_bf4aa_row170_col3\" class=\"data row170 col3\" >c04d03b504e12833f503817a854224c0a03c27ce74c3aa1ebae6d8e0fc72e425</td>\n",
       "      <td id=\"T_bf4aa_row170_col4\" class=\"data row170 col4\" >JS Xmas Brazil Nuts 250g</td>\n",
       "    </tr>\n",
       "    <tr>\n",
       "      <th id=\"T_bf4aa_level0_row171\" class=\"row_heading level0 row171\" >298</th>\n",
       "      <td id=\"T_bf4aa_row171_col0\" class=\"data row171 col0\" >577d2f7bea6b6d16dddcb7518bc68b31f78f3f8475fecb2386a8d62d52b82483</td>\n",
       "      <td id=\"T_bf4aa_row171_col1\" class=\"data row171 col1\" >8bfa6e538f4f31a800d745bfd5419ecbdb35b1b2e7033a0c350572bda612b2a1</td>\n",
       "      <td id=\"T_bf4aa_row171_col2\" class=\"data row171 col2\" >994fa2d8010638fb354a73a1d747f646625e4c57c564e617936f939e32aa54ed</td>\n",
       "      <td id=\"T_bf4aa_row171_col3\" class=\"data row171 col3\" >c04d03b504e12833f503817a854224c0a03c27ce74c3aa1ebae6d8e0fc72e425</td>\n",
       "      <td id=\"T_bf4aa_row171_col4\" class=\"data row171 col4\" >JS Xmas Mixed Nuts 225g</td>\n",
       "    </tr>\n",
       "    <tr>\n",
       "      <th id=\"T_bf4aa_level0_row172\" class=\"row_heading level0 row172\" >8</th>\n",
       "      <td id=\"T_bf4aa_row172_col0\" class=\"data row172 col0\" >581a25a4ede6489bea182a647896302985576f54f040c455773902d26916d7db</td>\n",
       "      <td id=\"T_bf4aa_row172_col1\" class=\"data row172 col1\" >5a1f6e711a956a3d6246d6dbccf78ee28f12aeffc07f9d6e7bc8e23ca668cfa2</td>\n",
       "      <td id=\"T_bf4aa_row172_col2\" class=\"data row172 col2\" >010ef02e933cee6cf17a225ac38d7d40a7286c096f01150c9c551aaa50e2593d</td>\n",
       "      <td id=\"T_bf4aa_row172_col3\" class=\"data row172 col3\" >5df3e4da2395aef5c8b3267b7253bb118eae178abf3d68425e25476c9adc12cb</td>\n",
       "      <td id=\"T_bf4aa_row172_col4\" class=\"data row172 col4\" >JS Comfort Pad Long Plus x8</td>\n",
       "    </tr>\n",
       "    <tr>\n",
       "      <th id=\"T_bf4aa_level0_row173\" class=\"row_heading level0 row173\" >6</th>\n",
       "      <td id=\"T_bf4aa_row173_col0\" class=\"data row173 col0\" >581a25a4ede6489bea182a647896302985576f54f040c455773902d26916d7db</td>\n",
       "      <td id=\"T_bf4aa_row173_col1\" class=\"data row173 col1\" >5a1f6e711a956a3d6246d6dbccf78ee28f12aeffc07f9d6e7bc8e23ca668cfa2</td>\n",
       "      <td id=\"T_bf4aa_row173_col2\" class=\"data row173 col2\" >47fc30d2dfeaba94b1b61322cb705babf98b120dab4c891b4136620d15b5f367</td>\n",
       "      <td id=\"T_bf4aa_row173_col3\" class=\"data row173 col3\" >5df3e4da2395aef5c8b3267b7253bb118eae178abf3d68425e25476c9adc12cb</td>\n",
       "      <td id=\"T_bf4aa_row173_col4\" class=\"data row173 col4\" >TENA LADY EXTRA X10</td>\n",
       "    </tr>\n",
       "    <tr>\n",
       "      <th id=\"T_bf4aa_level0_row174\" class=\"row_heading level0 row174\" >3</th>\n",
       "      <td id=\"T_bf4aa_row174_col0\" class=\"data row174 col0\" >581a25a4ede6489bea182a647896302985576f54f040c455773902d26916d7db</td>\n",
       "      <td id=\"T_bf4aa_row174_col1\" class=\"data row174 col1\" >5a1f6e711a956a3d6246d6dbccf78ee28f12aeffc07f9d6e7bc8e23ca668cfa2</td>\n",
       "      <td id=\"T_bf4aa_row174_col2\" class=\"data row174 col2\" >47fc30d2dfeaba94b1b61322cb705babf98b120dab4c891b4136620d15b5f367</td>\n",
       "      <td id=\"T_bf4aa_row174_col3\" class=\"data row174 col3\" >5df3e4da2395aef5c8b3267b7253bb118eae178abf3d68425e25476c9adc12cb</td>\n",
       "      <td id=\"T_bf4aa_row174_col4\" class=\"data row174 col4\" >TENA LADY MAXI NIGHT x6</td>\n",
       "    </tr>\n",
       "    <tr>\n",
       "      <th id=\"T_bf4aa_level0_row175\" class=\"row_heading level0 row175\" >5</th>\n",
       "      <td id=\"T_bf4aa_row175_col0\" class=\"data row175 col0\" >581a25a4ede6489bea182a647896302985576f54f040c455773902d26916d7db</td>\n",
       "      <td id=\"T_bf4aa_row175_col1\" class=\"data row175 col1\" >5a1f6e711a956a3d6246d6dbccf78ee28f12aeffc07f9d6e7bc8e23ca668cfa2</td>\n",
       "      <td id=\"T_bf4aa_row175_col2\" class=\"data row175 col2\" >47fc30d2dfeaba94b1b61322cb705babf98b120dab4c891b4136620d15b5f367</td>\n",
       "      <td id=\"T_bf4aa_row175_col3\" class=\"data row175 col3\" >5df3e4da2395aef5c8b3267b7253bb118eae178abf3d68425e25476c9adc12cb</td>\n",
       "      <td id=\"T_bf4aa_row175_col4\" class=\"data row175 col4\" >TENA Lady Discreet Normal Pads x12</td>\n",
       "    </tr>\n",
       "    <tr>\n",
       "      <th id=\"T_bf4aa_level0_row176\" class=\"row_heading level0 row176\" >9</th>\n",
       "      <td id=\"T_bf4aa_row176_col0\" class=\"data row176 col0\" >581a25a4ede6489bea182a647896302985576f54f040c455773902d26916d7db</td>\n",
       "      <td id=\"T_bf4aa_row176_col1\" class=\"data row176 col1\" >5a1f6e711a956a3d6246d6dbccf78ee28f12aeffc07f9d6e7bc8e23ca668cfa2</td>\n",
       "      <td id=\"T_bf4aa_row176_col2\" class=\"data row176 col2\" >47fc30d2dfeaba94b1b61322cb705babf98b120dab4c891b4136620d15b5f367</td>\n",
       "      <td id=\"T_bf4aa_row176_col3\" class=\"data row176 col3\" >5df3e4da2395aef5c8b3267b7253bb118eae178abf3d68425e25476c9adc12cb</td>\n",
       "      <td id=\"T_bf4aa_row176_col4\" class=\"data row176 col4\" >TENA Lady Maxi Night x 12 Duo</td>\n",
       "    </tr>\n",
       "    <tr>\n",
       "      <th id=\"T_bf4aa_level0_row177\" class=\"row_heading level0 row177\" >4</th>\n",
       "      <td id=\"T_bf4aa_row177_col0\" class=\"data row177 col0\" >581a25a4ede6489bea182a647896302985576f54f040c455773902d26916d7db</td>\n",
       "      <td id=\"T_bf4aa_row177_col1\" class=\"data row177 col1\" >5a1f6e711a956a3d6246d6dbccf78ee28f12aeffc07f9d6e7bc8e23ca668cfa2</td>\n",
       "      <td id=\"T_bf4aa_row177_col2\" class=\"data row177 col2\" >47fc30d2dfeaba94b1b61322cb705babf98b120dab4c891b4136620d15b5f367</td>\n",
       "      <td id=\"T_bf4aa_row177_col3\" class=\"data row177 col3\" >5df3e4da2395aef5c8b3267b7253bb118eae178abf3d68425e25476c9adc12cb</td>\n",
       "      <td id=\"T_bf4aa_row177_col4\" class=\"data row177 col4\" >Tena Lady Discreet Normal x16pc</td>\n",
       "    </tr>\n",
       "    <tr>\n",
       "      <th id=\"T_bf4aa_level0_row178\" class=\"row_heading level0 row178\" >1</th>\n",
       "      <td id=\"T_bf4aa_row178_col0\" class=\"data row178 col0\" >581a25a4ede6489bea182a647896302985576f54f040c455773902d26916d7db</td>\n",
       "      <td id=\"T_bf4aa_row178_col1\" class=\"data row178 col1\" >5a1f6e711a956a3d6246d6dbccf78ee28f12aeffc07f9d6e7bc8e23ca668cfa2</td>\n",
       "      <td id=\"T_bf4aa_row178_col2\" class=\"data row178 col2\" >47fc30d2dfeaba94b1b61322cb705babf98b120dab4c891b4136620d15b5f367</td>\n",
       "      <td id=\"T_bf4aa_row178_col3\" class=\"data row178 col3\" >5df3e4da2395aef5c8b3267b7253bb118eae178abf3d68425e25476c9adc12cb</td>\n",
       "      <td id=\"T_bf4aa_row178_col4\" class=\"data row178 col4\" >Tena Lady Mini X20</td>\n",
       "    </tr>\n",
       "    <tr>\n",
       "      <th id=\"T_bf4aa_level0_row179\" class=\"row_heading level0 row179\" >2</th>\n",
       "      <td id=\"T_bf4aa_row179_col0\" class=\"data row179 col0\" >581a25a4ede6489bea182a647896302985576f54f040c455773902d26916d7db</td>\n",
       "      <td id=\"T_bf4aa_row179_col1\" class=\"data row179 col1\" >5a1f6e711a956a3d6246d6dbccf78ee28f12aeffc07f9d6e7bc8e23ca668cfa2</td>\n",
       "      <td id=\"T_bf4aa_row179_col2\" class=\"data row179 col2\" >47fc30d2dfeaba94b1b61322cb705babf98b120dab4c891b4136620d15b5f367</td>\n",
       "      <td id=\"T_bf4aa_row179_col3\" class=\"data row179 col3\" >5df3e4da2395aef5c8b3267b7253bb118eae178abf3d68425e25476c9adc12cb</td>\n",
       "      <td id=\"T_bf4aa_row179_col4\" class=\"data row179 col4\" >Tena lady - extra duo pack x20</td>\n",
       "    </tr>\n",
       "    <tr>\n",
       "      <th id=\"T_bf4aa_level0_row180\" class=\"row_heading level0 row180\" >0</th>\n",
       "      <td id=\"T_bf4aa_row180_col0\" class=\"data row180 col0\" >581a25a4ede6489bea182a647896302985576f54f040c455773902d26916d7db</td>\n",
       "      <td id=\"T_bf4aa_row180_col1\" class=\"data row180 col1\" >5a1f6e711a956a3d6246d6dbccf78ee28f12aeffc07f9d6e7bc8e23ca668cfa2</td>\n",
       "      <td id=\"T_bf4aa_row180_col2\" class=\"data row180 col2\" >47fc30d2dfeaba94b1b61322cb705babf98b120dab4c891b4136620d15b5f367</td>\n",
       "      <td id=\"T_bf4aa_row180_col3\" class=\"data row180 col3\" >5df3e4da2395aef5c8b3267b7253bb118eae178abf3d68425e25476c9adc12cb</td>\n",
       "      <td id=\"T_bf4aa_row180_col4\" class=\"data row180 col4\" >Tena lady - extra plus duo pack x16</td>\n",
       "    </tr>\n",
       "    <tr>\n",
       "      <th id=\"T_bf4aa_level0_row181\" class=\"row_heading level0 row181\" >7</th>\n",
       "      <td id=\"T_bf4aa_row181_col0\" class=\"data row181 col0\" >581a25a4ede6489bea182a647896302985576f54f040c455773902d26916d7db</td>\n",
       "      <td id=\"T_bf4aa_row181_col1\" class=\"data row181 col1\" >5a1f6e711a956a3d6246d6dbccf78ee28f12aeffc07f9d6e7bc8e23ca668cfa2</td>\n",
       "      <td id=\"T_bf4aa_row181_col2\" class=\"data row181 col2\" >91ebab1130442fd7b84db25d55c72703b5f63e0a885a26dd8e306afc1ee05229</td>\n",
       "      <td id=\"T_bf4aa_row181_col3\" class=\"data row181 col3\" >5df3e4da2395aef5c8b3267b7253bb118eae178abf3d68425e25476c9adc12cb</td>\n",
       "      <td id=\"T_bf4aa_row181_col4\" class=\"data row181 col4\" >Always Discreet Sensitv Bladder Pad L+ 8</td>\n",
       "    </tr>\n",
       "    <tr>\n",
       "      <th id=\"T_bf4aa_level0_row182\" class=\"row_heading level0 row182\" >10</th>\n",
       "      <td id=\"T_bf4aa_row182_col0\" class=\"data row182 col0\" >581a25a4ede6489bea182a647896302985576f54f040c455773902d26916d7db</td>\n",
       "      <td id=\"T_bf4aa_row182_col1\" class=\"data row182 col1\" >5a1f6e711a956a3d6246d6dbccf78ee28f12aeffc07f9d6e7bc8e23ca668cfa2</td>\n",
       "      <td id=\"T_bf4aa_row182_col2\" class=\"data row182 col2\" >d39911d0b3f615fab5c036c3cd8ccdaed84afb0631fc1d12386a8d8fd486e73c</td>\n",
       "      <td id=\"T_bf4aa_row182_col3\" class=\"data row182 col3\" >5df3e4da2395aef5c8b3267b7253bb118eae178abf3d68425e25476c9adc12cb</td>\n",
       "      <td id=\"T_bf4aa_row182_col4\" class=\"data row182 col4\" >lights by TENA Long Liner Duo x40</td>\n",
       "    </tr>\n",
       "    <tr>\n",
       "      <th id=\"T_bf4aa_level0_row183\" class=\"row_heading level0 row183\" >262</th>\n",
       "      <td id=\"T_bf4aa_row183_col0\" class=\"data row183 col0\" >58b9ffa3b65d37503ad40228e4c6bd1601527f03bc1667fd65cb5259876c8751</td>\n",
       "      <td id=\"T_bf4aa_row183_col1\" class=\"data row183 col1\" >4c17f065e2f9b50c75c2a792881afef37838fee64dadf1260f1626ed9bfd7fdc</td>\n",
       "      <td id=\"T_bf4aa_row183_col2\" class=\"data row183 col2\" >7b64f2085a93fff3b875fae4244601eb44fc4d3fc01ba4adeabd855aa8e35df5</td>\n",
       "      <td id=\"T_bf4aa_row183_col3\" class=\"data row183 col3\" >303d3bff03929ff76928fccc756ab6aa76afaee83eebe69b8302ea8844f5ac1f</td>\n",
       "      <td id=\"T_bf4aa_row183_col4\" class=\"data row183 col4\" >Hz Mushroom Soup 4 x 400g</td>\n",
       "    </tr>\n",
       "    <tr>\n",
       "      <th id=\"T_bf4aa_level0_row184\" class=\"row_heading level0 row184\" >30</th>\n",
       "      <td id=\"T_bf4aa_row184_col0\" class=\"data row184 col0\" >58e29c5f6da1a1ad4d96fe2edf58bb84956d7aae1790ee8a39bb0d7ce887ea69</td>\n",
       "      <td id=\"T_bf4aa_row184_col1\" class=\"data row184 col1\" >8a3145954d7ce64db5987cdae859f9ab9a8f350a5de9e50ef626a61cafe8228d</td>\n",
       "      <td id=\"T_bf4aa_row184_col2\" class=\"data row184 col2\" >7b95602b449e014f0d8d1e4cf02c0770ebb0edbaf01863953b897c48e28c0ec3</td>\n",
       "      <td id=\"T_bf4aa_row184_col3\" class=\"data row184 col3\" >ba4bb830851d1dd99498995f47a53350622443f80688ea209b027b8aa4841452</td>\n",
       "      <td id=\"T_bf4aa_row184_col4\" class=\"data row184 col4\" >Diet Pepsi Caffeine Free 2L</td>\n",
       "    </tr>\n",
       "    <tr>\n",
       "      <th id=\"T_bf4aa_level0_row185\" class=\"row_heading level0 row185\" >33</th>\n",
       "      <td id=\"T_bf4aa_row185_col0\" class=\"data row185 col0\" >58e29c5f6da1a1ad4d96fe2edf58bb84956d7aae1790ee8a39bb0d7ce887ea69</td>\n",
       "      <td id=\"T_bf4aa_row185_col1\" class=\"data row185 col1\" >8a3145954d7ce64db5987cdae859f9ab9a8f350a5de9e50ef626a61cafe8228d</td>\n",
       "      <td id=\"T_bf4aa_row185_col2\" class=\"data row185 col2\" >7b95602b449e014f0d8d1e4cf02c0770ebb0edbaf01863953b897c48e28c0ec3</td>\n",
       "      <td id=\"T_bf4aa_row185_col3\" class=\"data row185 col3\" >ba4bb830851d1dd99498995f47a53350622443f80688ea209b027b8aa4841452</td>\n",
       "      <td id=\"T_bf4aa_row185_col4\" class=\"data row185 col4\" >Pepsi Max cherry 1.25L</td>\n",
       "    </tr>\n",
       "    <tr>\n",
       "      <th id=\"T_bf4aa_level0_row186\" class=\"row_heading level0 row186\" >31</th>\n",
       "      <td id=\"T_bf4aa_row186_col0\" class=\"data row186 col0\" >58e29c5f6da1a1ad4d96fe2edf58bb84956d7aae1790ee8a39bb0d7ce887ea69</td>\n",
       "      <td id=\"T_bf4aa_row186_col1\" class=\"data row186 col1\" >8a3145954d7ce64db5987cdae859f9ab9a8f350a5de9e50ef626a61cafe8228d</td>\n",
       "      <td id=\"T_bf4aa_row186_col2\" class=\"data row186 col2\" >c5d807b8890cb59cf285a01254a11b435a8c4b02f0cc46ca26cf6b2a1d670464</td>\n",
       "      <td id=\"T_bf4aa_row186_col3\" class=\"data row186 col3\" >ba4bb830851d1dd99498995f47a53350622443f80688ea209b027b8aa4841452</td>\n",
       "      <td id=\"T_bf4aa_row186_col4\" class=\"data row186 col4\" >Coke 24x330ml</td>\n",
       "    </tr>\n",
       "    <tr>\n",
       "      <th id=\"T_bf4aa_level0_row187\" class=\"row_heading level0 row187\" >32</th>\n",
       "      <td id=\"T_bf4aa_row187_col0\" class=\"data row187 col0\" >58e29c5f6da1a1ad4d96fe2edf58bb84956d7aae1790ee8a39bb0d7ce887ea69</td>\n",
       "      <td id=\"T_bf4aa_row187_col1\" class=\"data row187 col1\" >8a3145954d7ce64db5987cdae859f9ab9a8f350a5de9e50ef626a61cafe8228d</td>\n",
       "      <td id=\"T_bf4aa_row187_col2\" class=\"data row187 col2\" >ecb969525be3c7486eba8e6600554c8508320c360efeda0a5966af430bba80d2</td>\n",
       "      <td id=\"T_bf4aa_row187_col3\" class=\"data row187 col3\" >ba4bb830851d1dd99498995f47a53350622443f80688ea209b027b8aa4841452</td>\n",
       "      <td id=\"T_bf4aa_row187_col4\" class=\"data row187 col4\" >Pepsi Max Cherry 24x330ml</td>\n",
       "    </tr>\n",
       "    <tr>\n",
       "      <th id=\"T_bf4aa_level0_row188\" class=\"row_heading level0 row188\" >245</th>\n",
       "      <td id=\"T_bf4aa_row188_col0\" class=\"data row188 col0\" >5ba36b30325e3ab0661818ce2ce772975f3b2fba35d12a2702ac29db4acc61b2</td>\n",
       "      <td id=\"T_bf4aa_row188_col1\" class=\"data row188 col1\" >8a3145954d7ce64db5987cdae859f9ab9a8f350a5de9e50ef626a61cafe8228d</td>\n",
       "      <td id=\"T_bf4aa_row188_col2\" class=\"data row188 col2\" >87007efe57dd77de0df505f65dcede9b05fe1273d4634f62ba983b0d069601d6</td>\n",
       "      <td id=\"T_bf4aa_row188_col3\" class=\"data row188 col3\" >ba4bb830851d1dd99498995f47a53350622443f80688ea209b027b8aa4841452</td>\n",
       "      <td id=\"T_bf4aa_row188_col4\" class=\"data row188 col4\" >Red Bull energy drink 4x250ml</td>\n",
       "    </tr>\n",
       "    <tr>\n",
       "      <th id=\"T_bf4aa_level0_row189\" class=\"row_heading level0 row189\" >281</th>\n",
       "      <td id=\"T_bf4aa_row189_col0\" class=\"data row189 col0\" >5c16bdd26b6a69f66f1397f81715d218562617b78fd7585a2ba6410bf8b912f0</td>\n",
       "      <td id=\"T_bf4aa_row189_col1\" class=\"data row189 col1\" >e611ab6d625e91105591844574480cfa9866d6508c6a325205f8b05e51e093d3</td>\n",
       "      <td id=\"T_bf4aa_row189_col2\" class=\"data row189 col2\" >5123b72ea6ae9ce48e8522bd9c5115d55b33f1a69d342fa1c8de89185159e1c8</td>\n",
       "      <td id=\"T_bf4aa_row189_col3\" class=\"data row189 col3\" >d7a0999920f6139b0eb50b75a58a373b41b30098394b4dff7678fe9907235a16</td>\n",
       "      <td id=\"T_bf4aa_row189_col4\" class=\"data row189 col4\" >Jordans Country Crisp Raspberry 500g</td>\n",
       "    </tr>\n",
       "    <tr>\n",
       "      <th id=\"T_bf4aa_level0_row190\" class=\"row_heading level0 row190\" >279</th>\n",
       "      <td id=\"T_bf4aa_row190_col0\" class=\"data row190 col0\" >5c16bdd26b6a69f66f1397f81715d218562617b78fd7585a2ba6410bf8b912f0</td>\n",
       "      <td id=\"T_bf4aa_row190_col1\" class=\"data row190 col1\" >e611ab6d625e91105591844574480cfa9866d6508c6a325205f8b05e51e093d3</td>\n",
       "      <td id=\"T_bf4aa_row190_col2\" class=\"data row190 col2\" >5123b72ea6ae9ce48e8522bd9c5115d55b33f1a69d342fa1c8de89185159e1c8</td>\n",
       "      <td id=\"T_bf4aa_row190_col3\" class=\"data row190 col3\" >d7a0999920f6139b0eb50b75a58a373b41b30098394b4dff7678fe9907235a16</td>\n",
       "      <td id=\"T_bf4aa_row190_col4\" class=\"data row190 col4\" >Jordans Country Crisp Strawberries 500g</td>\n",
       "    </tr>\n",
       "    <tr>\n",
       "      <th id=\"T_bf4aa_level0_row191\" class=\"row_heading level0 row191\" >280</th>\n",
       "      <td id=\"T_bf4aa_row191_col0\" class=\"data row191 col0\" >5c16bdd26b6a69f66f1397f81715d218562617b78fd7585a2ba6410bf8b912f0</td>\n",
       "      <td id=\"T_bf4aa_row191_col1\" class=\"data row191 col1\" >e611ab6d625e91105591844574480cfa9866d6508c6a325205f8b05e51e093d3</td>\n",
       "      <td id=\"T_bf4aa_row191_col2\" class=\"data row191 col2\" >8b0e9440186cb11eb50630cfe871052a601571382b5b90c6c61cb4fefd02f3a2</td>\n",
       "      <td id=\"T_bf4aa_row191_col3\" class=\"data row191 col3\" >d7a0999920f6139b0eb50b75a58a373b41b30098394b4dff7678fe9907235a16</td>\n",
       "      <td id=\"T_bf4aa_row191_col4\" class=\"data row191 col4\" >Daily's Simply Muesli 1kg</td>\n",
       "    </tr>\n",
       "    <tr>\n",
       "      <th id=\"T_bf4aa_level0_row192\" class=\"row_heading level0 row192\" >184</th>\n",
       "      <td id=\"T_bf4aa_row192_col0\" class=\"data row192 col0\" >5d2f1d48b0377f3b2d9eda21d1ba3d3dbc532ed4da28824a46b4cf93bd1dfc93</td>\n",
       "      <td id=\"T_bf4aa_row192_col1\" class=\"data row192 col1\" >80709361302e338d0aadf7229289b6b6bce683f27d0f972c1615491b0127e4f3</td>\n",
       "      <td id=\"T_bf4aa_row192_col2\" class=\"data row192 col2\" >3b2fa6ee8d7e3668ca4f754b3fe1677a85f3ce16e55b453a61f5cba736441ea2</td>\n",
       "      <td id=\"T_bf4aa_row192_col3\" class=\"data row192 col3\" >62fdd249de742553d34dd123970d49a2aed30427dc0d6b8e1e4b6be2d65a069d</td>\n",
       "      <td id=\"T_bf4aa_row192_col4\" class=\"data row192 col4\" >Anchor Spreadable 250G</td>\n",
       "    </tr>\n",
       "    <tr>\n",
       "      <th id=\"T_bf4aa_level0_row193\" class=\"row_heading level0 row193\" >291</th>\n",
       "      <td id=\"T_bf4aa_row193_col0\" class=\"data row193 col0\" >63d36a94b35b051e0aa041ca86b1b9b0615f3a6ec21c74fed6a0fedd28abce8b</td>\n",
       "      <td id=\"T_bf4aa_row193_col1\" class=\"data row193 col1\" >be1087c7b22009ea350a1d5e748a5987a5aaa6e327342bb07887f3b931b3c533</td>\n",
       "      <td id=\"T_bf4aa_row193_col2\" class=\"data row193 col2\" >9a385379379eeb1370faccba229b62b957936daa5d5ae9359b3019256949ae42</td>\n",
       "      <td id=\"T_bf4aa_row193_col3\" class=\"data row193 col3\" >3f7b2207bad71d03813ba16857e15f95259c820696203c97e51192ff6fd9c03d</td>\n",
       "      <td id=\"T_bf4aa_row193_col4\" class=\"data row193 col4\" >Comfort creations strawberry lily 30w</td>\n",
       "    </tr>\n",
       "    <tr>\n",
       "      <th id=\"T_bf4aa_level0_row194\" class=\"row_heading level0 row194\" >345</th>\n",
       "      <td id=\"T_bf4aa_row194_col0\" class=\"data row194 col0\" >679913ee931f6ced8e1f6b8dc8403e8bd8925f113bc6c5314e8a66e53ae74e35</td>\n",
       "      <td id=\"T_bf4aa_row194_col1\" class=\"data row194 col1\" >8bf754f57d95e45c904217a724480ad69378d5ab5a9f243a6ceeec62d8838662</td>\n",
       "      <td id=\"T_bf4aa_row194_col2\" class=\"data row194 col2\" >fa5ac9c733215c712a4cbd4ee484090b990169196a7ad0d7ff1bdf4483b9bbea</td>\n",
       "      <td id=\"T_bf4aa_row194_col3\" class=\"data row194 col3\" >5ffc1f1d48e32ed011478c1f2824079746972ee0f82c7ad844e10077e505597e</td>\n",
       "      <td id=\"T_bf4aa_row194_col4\" class=\"data row194 col4\" >Dreamies cat treats beef 60g</td>\n",
       "    </tr>\n",
       "    <tr>\n",
       "      <th id=\"T_bf4aa_level0_row195\" class=\"row_heading level0 row195\" >344</th>\n",
       "      <td id=\"T_bf4aa_row195_col0\" class=\"data row195 col0\" >679913ee931f6ced8e1f6b8dc8403e8bd8925f113bc6c5314e8a66e53ae74e35</td>\n",
       "      <td id=\"T_bf4aa_row195_col1\" class=\"data row195 col1\" >8bf754f57d95e45c904217a724480ad69378d5ab5a9f243a6ceeec62d8838662</td>\n",
       "      <td id=\"T_bf4aa_row195_col2\" class=\"data row195 col2\" >fa5ac9c733215c712a4cbd4ee484090b990169196a7ad0d7ff1bdf4483b9bbea</td>\n",
       "      <td id=\"T_bf4aa_row195_col3\" class=\"data row195 col3\" >5ffc1f1d48e32ed011478c1f2824079746972ee0f82c7ad844e10077e505597e</td>\n",
       "      <td id=\"T_bf4aa_row195_col4\" class=\"data row195 col4\" >Dreamies cat treats cheese 60g</td>\n",
       "    </tr>\n",
       "    <tr>\n",
       "      <th id=\"T_bf4aa_level0_row196\" class=\"row_heading level0 row196\" >331</th>\n",
       "      <td id=\"T_bf4aa_row196_col0\" class=\"data row196 col0\" >679913ee931f6ced8e1f6b8dc8403e8bd8925f113bc6c5314e8a66e53ae74e35</td>\n",
       "      <td id=\"T_bf4aa_row196_col1\" class=\"data row196 col1\" >8bf754f57d95e45c904217a724480ad69378d5ab5a9f243a6ceeec62d8838662</td>\n",
       "      <td id=\"T_bf4aa_row196_col2\" class=\"data row196 col2\" >fa5ac9c733215c712a4cbd4ee484090b990169196a7ad0d7ff1bdf4483b9bbea</td>\n",
       "      <td id=\"T_bf4aa_row196_col3\" class=\"data row196 col3\" >5ffc1f1d48e32ed011478c1f2824079746972ee0f82c7ad844e10077e505597e</td>\n",
       "      <td id=\"T_bf4aa_row196_col4\" class=\"data row196 col4\" >Dreamies cat treats chicken & duck 60g</td>\n",
       "    </tr>\n",
       "    <tr>\n",
       "      <th id=\"T_bf4aa_level0_row197\" class=\"row_heading level0 row197\" >324</th>\n",
       "      <td id=\"T_bf4aa_row197_col0\" class=\"data row197 col0\" >679913ee931f6ced8e1f6b8dc8403e8bd8925f113bc6c5314e8a66e53ae74e35</td>\n",
       "      <td id=\"T_bf4aa_row197_col1\" class=\"data row197 col1\" >8bf754f57d95e45c904217a724480ad69378d5ab5a9f243a6ceeec62d8838662</td>\n",
       "      <td id=\"T_bf4aa_row197_col2\" class=\"data row197 col2\" >fa5ac9c733215c712a4cbd4ee484090b990169196a7ad0d7ff1bdf4483b9bbea</td>\n",
       "      <td id=\"T_bf4aa_row197_col3\" class=\"data row197 col3\" >5ffc1f1d48e32ed011478c1f2824079746972ee0f82c7ad844e10077e505597e</td>\n",
       "      <td id=\"T_bf4aa_row197_col4\" class=\"data row197 col4\" >Dreamies cat treats chicken 60g</td>\n",
       "    </tr>\n",
       "    <tr>\n",
       "      <th id=\"T_bf4aa_level0_row198\" class=\"row_heading level0 row198\" >346</th>\n",
       "      <td id=\"T_bf4aa_row198_col0\" class=\"data row198 col0\" >679913ee931f6ced8e1f6b8dc8403e8bd8925f113bc6c5314e8a66e53ae74e35</td>\n",
       "      <td id=\"T_bf4aa_row198_col1\" class=\"data row198 col1\" >8bf754f57d95e45c904217a724480ad69378d5ab5a9f243a6ceeec62d8838662</td>\n",
       "      <td id=\"T_bf4aa_row198_col2\" class=\"data row198 col2\" >fa5ac9c733215c712a4cbd4ee484090b990169196a7ad0d7ff1bdf4483b9bbea</td>\n",
       "      <td id=\"T_bf4aa_row198_col3\" class=\"data row198 col3\" >5ffc1f1d48e32ed011478c1f2824079746972ee0f82c7ad844e10077e505597e</td>\n",
       "      <td id=\"T_bf4aa_row198_col4\" class=\"data row198 col4\" >Dreamies cat treats salmon 60g</td>\n",
       "    </tr>\n",
       "    <tr>\n",
       "      <th id=\"T_bf4aa_level0_row199\" class=\"row_heading level0 row199\" >333</th>\n",
       "      <td id=\"T_bf4aa_row199_col0\" class=\"data row199 col0\" >679913ee931f6ced8e1f6b8dc8403e8bd8925f113bc6c5314e8a66e53ae74e35</td>\n",
       "      <td id=\"T_bf4aa_row199_col1\" class=\"data row199 col1\" >8bf754f57d95e45c904217a724480ad69378d5ab5a9f243a6ceeec62d8838662</td>\n",
       "      <td id=\"T_bf4aa_row199_col2\" class=\"data row199 col2\" >fa5ac9c733215c712a4cbd4ee484090b990169196a7ad0d7ff1bdf4483b9bbea</td>\n",
       "      <td id=\"T_bf4aa_row199_col3\" class=\"data row199 col3\" >5ffc1f1d48e32ed011478c1f2824079746972ee0f82c7ad844e10077e505597e</td>\n",
       "      <td id=\"T_bf4aa_row199_col4\" class=\"data row199 col4\" >Dreamies cat treats tuna salmon mix 60g</td>\n",
       "    </tr>\n",
       "    <tr>\n",
       "      <th id=\"T_bf4aa_level0_row200\" class=\"row_heading level0 row200\" >339</th>\n",
       "      <td id=\"T_bf4aa_row200_col0\" class=\"data row200 col0\" >679913ee931f6ced8e1f6b8dc8403e8bd8925f113bc6c5314e8a66e53ae74e35</td>\n",
       "      <td id=\"T_bf4aa_row200_col1\" class=\"data row200 col1\" >8bf754f57d95e45c904217a724480ad69378d5ab5a9f243a6ceeec62d8838662</td>\n",
       "      <td id=\"T_bf4aa_row200_col2\" class=\"data row200 col2\" >fa5ac9c733215c712a4cbd4ee484090b990169196a7ad0d7ff1bdf4483b9bbea</td>\n",
       "      <td id=\"T_bf4aa_row200_col3\" class=\"data row200 col3\" >5ffc1f1d48e32ed011478c1f2824079746972ee0f82c7ad844e10077e505597e</td>\n",
       "      <td id=\"T_bf4aa_row200_col4\" class=\"data row200 col4\" >Felix goody bag mixed grill 60g</td>\n",
       "    </tr>\n",
       "    <tr>\n",
       "      <th id=\"T_bf4aa_level0_row201\" class=\"row_heading level0 row201\" >328</th>\n",
       "      <td id=\"T_bf4aa_row201_col0\" class=\"data row201 col0\" >679913ee931f6ced8e1f6b8dc8403e8bd8925f113bc6c5314e8a66e53ae74e35</td>\n",
       "      <td id=\"T_bf4aa_row201_col1\" class=\"data row201 col1\" >8bf754f57d95e45c904217a724480ad69378d5ab5a9f243a6ceeec62d8838662</td>\n",
       "      <td id=\"T_bf4aa_row201_col2\" class=\"data row201 col2\" >fa5ac9c733215c712a4cbd4ee484090b990169196a7ad0d7ff1bdf4483b9bbea</td>\n",
       "      <td id=\"T_bf4aa_row201_col3\" class=\"data row201 col3\" >5ffc1f1d48e32ed011478c1f2824079746972ee0f82c7ad844e10077e505597e</td>\n",
       "      <td id=\"T_bf4aa_row201_col4\" class=\"data row201 col4\" >Felix goody bag original/party mix 200g</td>\n",
       "    </tr>\n",
       "    <tr>\n",
       "      <th id=\"T_bf4aa_level0_row202\" class=\"row_heading level0 row202\" >338</th>\n",
       "      <td id=\"T_bf4aa_row202_col0\" class=\"data row202 col0\" >679913ee931f6ced8e1f6b8dc8403e8bd8925f113bc6c5314e8a66e53ae74e35</td>\n",
       "      <td id=\"T_bf4aa_row202_col1\" class=\"data row202 col1\" >8bf754f57d95e45c904217a724480ad69378d5ab5a9f243a6ceeec62d8838662</td>\n",
       "      <td id=\"T_bf4aa_row202_col2\" class=\"data row202 col2\" >fa5ac9c733215c712a4cbd4ee484090b990169196a7ad0d7ff1bdf4483b9bbea</td>\n",
       "      <td id=\"T_bf4aa_row202_col3\" class=\"data row202 col3\" >5ffc1f1d48e32ed011478c1f2824079746972ee0f82c7ad844e10077e505597e</td>\n",
       "      <td id=\"T_bf4aa_row202_col4\" class=\"data row202 col4\" >Felix goody bag seaside mix 200g</td>\n",
       "    </tr>\n",
       "    <tr>\n",
       "      <th id=\"T_bf4aa_level0_row203\" class=\"row_heading level0 row203\" >334</th>\n",
       "      <td id=\"T_bf4aa_row203_col0\" class=\"data row203 col0\" >679913ee931f6ced8e1f6b8dc8403e8bd8925f113bc6c5314e8a66e53ae74e35</td>\n",
       "      <td id=\"T_bf4aa_row203_col1\" class=\"data row203 col1\" >8bf754f57d95e45c904217a724480ad69378d5ab5a9f243a6ceeec62d8838662</td>\n",
       "      <td id=\"T_bf4aa_row203_col2\" class=\"data row203 col2\" >fa5ac9c733215c712a4cbd4ee484090b990169196a7ad0d7ff1bdf4483b9bbea</td>\n",
       "      <td id=\"T_bf4aa_row203_col3\" class=\"data row203 col3\" >5ffc1f1d48e32ed011478c1f2824079746972ee0f82c7ad844e10077e505597e</td>\n",
       "      <td id=\"T_bf4aa_row203_col4\" class=\"data row203 col4\" >Felix goody bag seaside/ocean mix 60g</td>\n",
       "    </tr>\n",
       "    <tr>\n",
       "      <th id=\"T_bf4aa_level0_row204\" class=\"row_heading level0 row204\" >342</th>\n",
       "      <td id=\"T_bf4aa_row204_col0\" class=\"data row204 col0\" >679913ee931f6ced8e1f6b8dc8403e8bd8925f113bc6c5314e8a66e53ae74e35</td>\n",
       "      <td id=\"T_bf4aa_row204_col1\" class=\"data row204 col1\" >8bf754f57d95e45c904217a724480ad69378d5ab5a9f243a6ceeec62d8838662</td>\n",
       "      <td id=\"T_bf4aa_row204_col2\" class=\"data row204 col2\" >fa5ac9c733215c712a4cbd4ee484090b990169196a7ad0d7ff1bdf4483b9bbea</td>\n",
       "      <td id=\"T_bf4aa_row204_col3\" class=\"data row204 col3\" >5ffc1f1d48e32ed011478c1f2824079746972ee0f82c7ad844e10077e505597e</td>\n",
       "      <td id=\"T_bf4aa_row204_col4\" class=\"data row204 col4\" >JS cat milk 3x200ml</td>\n",
       "    </tr>\n",
       "    <tr>\n",
       "      <th id=\"T_bf4aa_level0_row205\" class=\"row_heading level0 row205\" >347</th>\n",
       "      <td id=\"T_bf4aa_row205_col0\" class=\"data row205 col0\" >679913ee931f6ced8e1f6b8dc8403e8bd8925f113bc6c5314e8a66e53ae74e35</td>\n",
       "      <td id=\"T_bf4aa_row205_col1\" class=\"data row205 col1\" >8bf754f57d95e45c904217a724480ad69378d5ab5a9f243a6ceeec62d8838662</td>\n",
       "      <td id=\"T_bf4aa_row205_col2\" class=\"data row205 col2\" >fa5ac9c733215c712a4cbd4ee484090b990169196a7ad0d7ff1bdf4483b9bbea</td>\n",
       "      <td id=\"T_bf4aa_row205_col3\" class=\"data row205 col3\" >5ffc1f1d48e32ed011478c1f2824079746972ee0f82c7ad844e10077e505597e</td>\n",
       "      <td id=\"T_bf4aa_row205_col4\" class=\"data row205 col4\" >JS deli sticks chicken & liver x10 50g</td>\n",
       "    </tr>\n",
       "    <tr>\n",
       "      <th id=\"T_bf4aa_level0_row206\" class=\"row_heading level0 row206\" >329</th>\n",
       "      <td id=\"T_bf4aa_row206_col0\" class=\"data row206 col0\" >679913ee931f6ced8e1f6b8dc8403e8bd8925f113bc6c5314e8a66e53ae74e35</td>\n",
       "      <td id=\"T_bf4aa_row206_col1\" class=\"data row206 col1\" >8bf754f57d95e45c904217a724480ad69378d5ab5a9f243a6ceeec62d8838662</td>\n",
       "      <td id=\"T_bf4aa_row206_col2\" class=\"data row206 col2\" >fa5ac9c733215c712a4cbd4ee484090b990169196a7ad0d7ff1bdf4483b9bbea</td>\n",
       "      <td id=\"T_bf4aa_row206_col3\" class=\"data row206 col3\" >5ffc1f1d48e32ed011478c1f2824079746972ee0f82c7ad844e10077e505597e</td>\n",
       "      <td id=\"T_bf4aa_row206_col4\" class=\"data row206 col4\" >JS deli sticks salmon & trout x10 50g</td>\n",
       "    </tr>\n",
       "    <tr>\n",
       "      <th id=\"T_bf4aa_level0_row207\" class=\"row_heading level0 row207\" >337</th>\n",
       "      <td id=\"T_bf4aa_row207_col0\" class=\"data row207 col0\" >679913ee931f6ced8e1f6b8dc8403e8bd8925f113bc6c5314e8a66e53ae74e35</td>\n",
       "      <td id=\"T_bf4aa_row207_col1\" class=\"data row207 col1\" >8bf754f57d95e45c904217a724480ad69378d5ab5a9f243a6ceeec62d8838662</td>\n",
       "      <td id=\"T_bf4aa_row207_col2\" class=\"data row207 col2\" >fa5ac9c733215c712a4cbd4ee484090b990169196a7ad0d7ff1bdf4483b9bbea</td>\n",
       "      <td id=\"T_bf4aa_row207_col3\" class=\"data row207 col3\" >5ffc1f1d48e32ed011478c1f2824079746972ee0f82c7ad844e10077e505597e</td>\n",
       "      <td id=\"T_bf4aa_row207_col4\" class=\"data row207 col4\" >JS snack pockets catnip 65g</td>\n",
       "    </tr>\n",
       "    <tr>\n",
       "      <th id=\"T_bf4aa_level0_row208\" class=\"row_heading level0 row208\" >327</th>\n",
       "      <td id=\"T_bf4aa_row208_col0\" class=\"data row208 col0\" >679913ee931f6ced8e1f6b8dc8403e8bd8925f113bc6c5314e8a66e53ae74e35</td>\n",
       "      <td id=\"T_bf4aa_row208_col1\" class=\"data row208 col1\" >8bf754f57d95e45c904217a724480ad69378d5ab5a9f243a6ceeec62d8838662</td>\n",
       "      <td id=\"T_bf4aa_row208_col2\" class=\"data row208 col2\" >fa5ac9c733215c712a4cbd4ee484090b990169196a7ad0d7ff1bdf4483b9bbea</td>\n",
       "      <td id=\"T_bf4aa_row208_col3\" class=\"data row208 col3\" >5ffc1f1d48e32ed011478c1f2824079746972ee0f82c7ad844e10077e505597e</td>\n",
       "      <td id=\"T_bf4aa_row208_col4\" class=\"data row208 col4\" >JS snack pockets cheese 65g</td>\n",
       "    </tr>\n",
       "    <tr>\n",
       "      <th id=\"T_bf4aa_level0_row209\" class=\"row_heading level0 row209\" >335</th>\n",
       "      <td id=\"T_bf4aa_row209_col0\" class=\"data row209 col0\" >679913ee931f6ced8e1f6b8dc8403e8bd8925f113bc6c5314e8a66e53ae74e35</td>\n",
       "      <td id=\"T_bf4aa_row209_col1\" class=\"data row209 col1\" >8bf754f57d95e45c904217a724480ad69378d5ab5a9f243a6ceeec62d8838662</td>\n",
       "      <td id=\"T_bf4aa_row209_col2\" class=\"data row209 col2\" >fa5ac9c733215c712a4cbd4ee484090b990169196a7ad0d7ff1bdf4483b9bbea</td>\n",
       "      <td id=\"T_bf4aa_row209_col3\" class=\"data row209 col3\" >5ffc1f1d48e32ed011478c1f2824079746972ee0f82c7ad844e10077e505597e</td>\n",
       "      <td id=\"T_bf4aa_row209_col4\" class=\"data row209 col4\" >JS snack pockets with chicken 65g</td>\n",
       "    </tr>\n",
       "    <tr>\n",
       "      <th id=\"T_bf4aa_level0_row210\" class=\"row_heading level0 row210\" >341</th>\n",
       "      <td id=\"T_bf4aa_row210_col0\" class=\"data row210 col0\" >679913ee931f6ced8e1f6b8dc8403e8bd8925f113bc6c5314e8a66e53ae74e35</td>\n",
       "      <td id=\"T_bf4aa_row210_col1\" class=\"data row210 col1\" >8bf754f57d95e45c904217a724480ad69378d5ab5a9f243a6ceeec62d8838662</td>\n",
       "      <td id=\"T_bf4aa_row210_col2\" class=\"data row210 col2\" >fa5ac9c733215c712a4cbd4ee484090b990169196a7ad0d7ff1bdf4483b9bbea</td>\n",
       "      <td id=\"T_bf4aa_row210_col3\" class=\"data row210 col3\" >5ffc1f1d48e32ed011478c1f2824079746972ee0f82c7ad844e10077e505597e</td>\n",
       "      <td id=\"T_bf4aa_row210_col4\" class=\"data row210 col4\" >JS snack pockets with salmon 65g</td>\n",
       "    </tr>\n",
       "    <tr>\n",
       "      <th id=\"T_bf4aa_level0_row211\" class=\"row_heading level0 row211\" >336</th>\n",
       "      <td id=\"T_bf4aa_row211_col0\" class=\"data row211 col0\" >679913ee931f6ced8e1f6b8dc8403e8bd8925f113bc6c5314e8a66e53ae74e35</td>\n",
       "      <td id=\"T_bf4aa_row211_col1\" class=\"data row211 col1\" >8bf754f57d95e45c904217a724480ad69378d5ab5a9f243a6ceeec62d8838662</td>\n",
       "      <td id=\"T_bf4aa_row211_col2\" class=\"data row211 col2\" >fa5ac9c733215c712a4cbd4ee484090b990169196a7ad0d7ff1bdf4483b9bbea</td>\n",
       "      <td id=\"T_bf4aa_row211_col3\" class=\"data row211 col3\" >5ffc1f1d48e32ed011478c1f2824079746972ee0f82c7ad844e10077e505597e</td>\n",
       "      <td id=\"T_bf4aa_row211_col4\" class=\"data row211 col4\" >JS snack pockets with trky/beef/duck 65g</td>\n",
       "    </tr>\n",
       "    <tr>\n",
       "      <th id=\"T_bf4aa_level0_row212\" class=\"row_heading level0 row212\" >321</th>\n",
       "      <td id=\"T_bf4aa_row212_col0\" class=\"data row212 col0\" >679913ee931f6ced8e1f6b8dc8403e8bd8925f113bc6c5314e8a66e53ae74e35</td>\n",
       "      <td id=\"T_bf4aa_row212_col1\" class=\"data row212 col1\" >8bf754f57d95e45c904217a724480ad69378d5ab5a9f243a6ceeec62d8838662</td>\n",
       "      <td id=\"T_bf4aa_row212_col2\" class=\"data row212 col2\" >fa5ac9c733215c712a4cbd4ee484090b990169196a7ad0d7ff1bdf4483b9bbea</td>\n",
       "      <td id=\"T_bf4aa_row212_col3\" class=\"data row212 col3\" >5ffc1f1d48e32ed011478c1f2824079746972ee0f82c7ad844e10077e505597e</td>\n",
       "      <td id=\"T_bf4aa_row212_col4\" class=\"data row212 col4\" >Webbox Lick-e-Lix liver & grass 5x15g</td>\n",
       "    </tr>\n",
       "    <tr>\n",
       "      <th id=\"T_bf4aa_level0_row213\" class=\"row_heading level0 row213\" >326</th>\n",
       "      <td id=\"T_bf4aa_row213_col0\" class=\"data row213 col0\" >679913ee931f6ced8e1f6b8dc8403e8bd8925f113bc6c5314e8a66e53ae74e35</td>\n",
       "      <td id=\"T_bf4aa_row213_col1\" class=\"data row213 col1\" >8bf754f57d95e45c904217a724480ad69378d5ab5a9f243a6ceeec62d8838662</td>\n",
       "      <td id=\"T_bf4aa_row213_col2\" class=\"data row213 col2\" >fa5ac9c733215c712a4cbd4ee484090b990169196a7ad0d7ff1bdf4483b9bbea</td>\n",
       "      <td id=\"T_bf4aa_row213_col3\" class=\"data row213 col3\" >5ffc1f1d48e32ed011478c1f2824079746972ee0f82c7ad844e10077e505597e</td>\n",
       "      <td id=\"T_bf4aa_row213_col4\" class=\"data row213 col4\" >Webbox cat sticks with duck x6 30g</td>\n",
       "    </tr>\n",
       "    <tr>\n",
       "      <th id=\"T_bf4aa_level0_row214\" class=\"row_heading level0 row214\" >323</th>\n",
       "      <td id=\"T_bf4aa_row214_col0\" class=\"data row214 col0\" >679913ee931f6ced8e1f6b8dc8403e8bd8925f113bc6c5314e8a66e53ae74e35</td>\n",
       "      <td id=\"T_bf4aa_row214_col1\" class=\"data row214 col1\" >8bf754f57d95e45c904217a724480ad69378d5ab5a9f243a6ceeec62d8838662</td>\n",
       "      <td id=\"T_bf4aa_row214_col2\" class=\"data row214 col2\" >fa5ac9c733215c712a4cbd4ee484090b990169196a7ad0d7ff1bdf4483b9bbea</td>\n",
       "      <td id=\"T_bf4aa_row214_col3\" class=\"data row214 col3\" >5ffc1f1d48e32ed011478c1f2824079746972ee0f82c7ad844e10077e505597e</td>\n",
       "      <td id=\"T_bf4aa_row214_col4\" class=\"data row214 col4\" >Webbox chckn & liver tasty sticks x6 30g</td>\n",
       "    </tr>\n",
       "    <tr>\n",
       "      <th id=\"T_bf4aa_level0_row215\" class=\"row_heading level0 row215\" >332</th>\n",
       "      <td id=\"T_bf4aa_row215_col0\" class=\"data row215 col0\" >679913ee931f6ced8e1f6b8dc8403e8bd8925f113bc6c5314e8a66e53ae74e35</td>\n",
       "      <td id=\"T_bf4aa_row215_col1\" class=\"data row215 col1\" >8bf754f57d95e45c904217a724480ad69378d5ab5a9f243a6ceeec62d8838662</td>\n",
       "      <td id=\"T_bf4aa_row215_col2\" class=\"data row215 col2\" >fa5ac9c733215c712a4cbd4ee484090b990169196a7ad0d7ff1bdf4483b9bbea</td>\n",
       "      <td id=\"T_bf4aa_row215_col3\" class=\"data row215 col3\" >5ffc1f1d48e32ed011478c1f2824079746972ee0f82c7ad844e10077e505597e</td>\n",
       "      <td id=\"T_bf4aa_row215_col4\" class=\"data row215 col4\" >Webbox lick-e-lix chicken 5x15g</td>\n",
       "    </tr>\n",
       "    <tr>\n",
       "      <th id=\"T_bf4aa_level0_row216\" class=\"row_heading level0 row216\" >343</th>\n",
       "      <td id=\"T_bf4aa_row216_col0\" class=\"data row216 col0\" >679913ee931f6ced8e1f6b8dc8403e8bd8925f113bc6c5314e8a66e53ae74e35</td>\n",
       "      <td id=\"T_bf4aa_row216_col1\" class=\"data row216 col1\" >8bf754f57d95e45c904217a724480ad69378d5ab5a9f243a6ceeec62d8838662</td>\n",
       "      <td id=\"T_bf4aa_row216_col2\" class=\"data row216 col2\" >fa5ac9c733215c712a4cbd4ee484090b990169196a7ad0d7ff1bdf4483b9bbea</td>\n",
       "      <td id=\"T_bf4aa_row216_col3\" class=\"data row216 col3\" >5ffc1f1d48e32ed011478c1f2824079746972ee0f82c7ad844e10077e505597e</td>\n",
       "      <td id=\"T_bf4aa_row216_col4\" class=\"data row216 col4\" >Webbox lick-e-lix salmon 5x15g</td>\n",
       "    </tr>\n",
       "    <tr>\n",
       "      <th id=\"T_bf4aa_level0_row217\" class=\"row_heading level0 row217\" >330</th>\n",
       "      <td id=\"T_bf4aa_row217_col0\" class=\"data row217 col0\" >679913ee931f6ced8e1f6b8dc8403e8bd8925f113bc6c5314e8a66e53ae74e35</td>\n",
       "      <td id=\"T_bf4aa_row217_col1\" class=\"data row217 col1\" >8bf754f57d95e45c904217a724480ad69378d5ab5a9f243a6ceeec62d8838662</td>\n",
       "      <td id=\"T_bf4aa_row217_col2\" class=\"data row217 col2\" >fa5ac9c733215c712a4cbd4ee484090b990169196a7ad0d7ff1bdf4483b9bbea</td>\n",
       "      <td id=\"T_bf4aa_row217_col3\" class=\"data row217 col3\" >5ffc1f1d48e32ed011478c1f2824079746972ee0f82c7ad844e10077e505597e</td>\n",
       "      <td id=\"T_bf4aa_row217_col4\" class=\"data row217 col4\" >Webbox salmon & trout tasty stick x6 30g</td>\n",
       "    </tr>\n",
       "    <tr>\n",
       "      <th id=\"T_bf4aa_level0_row218\" class=\"row_heading level0 row218\" >325</th>\n",
       "      <td id=\"T_bf4aa_row218_col0\" class=\"data row218 col0\" >679913ee931f6ced8e1f6b8dc8403e8bd8925f113bc6c5314e8a66e53ae74e35</td>\n",
       "      <td id=\"T_bf4aa_row218_col1\" class=\"data row218 col1\" >8bf754f57d95e45c904217a724480ad69378d5ab5a9f243a6ceeec62d8838662</td>\n",
       "      <td id=\"T_bf4aa_row218_col2\" class=\"data row218 col2\" >fa5ac9c733215c712a4cbd4ee484090b990169196a7ad0d7ff1bdf4483b9bbea</td>\n",
       "      <td id=\"T_bf4aa_row218_col3\" class=\"data row218 col3\" >5ffc1f1d48e32ed011478c1f2824079746972ee0f82c7ad844e10077e505597e</td>\n",
       "      <td id=\"T_bf4aa_row218_col4\" class=\"data row218 col4\" >Webbox turkey & lamb tasty sticks x6 30g</td>\n",
       "    </tr>\n",
       "    <tr>\n",
       "      <th id=\"T_bf4aa_level0_row219\" class=\"row_heading level0 row219\" >340</th>\n",
       "      <td id=\"T_bf4aa_row219_col0\" class=\"data row219 col0\" >679913ee931f6ced8e1f6b8dc8403e8bd8925f113bc6c5314e8a66e53ae74e35</td>\n",
       "      <td id=\"T_bf4aa_row219_col1\" class=\"data row219 col1\" >8bf754f57d95e45c904217a724480ad69378d5ab5a9f243a6ceeec62d8838662</td>\n",
       "      <td id=\"T_bf4aa_row219_col2\" class=\"data row219 col2\" >fa5ac9c733215c712a4cbd4ee484090b990169196a7ad0d7ff1bdf4483b9bbea</td>\n",
       "      <td id=\"T_bf4aa_row219_col3\" class=\"data row219 col3\" >5ffc1f1d48e32ed011478c1f2824079746972ee0f82c7ad844e10077e505597e</td>\n",
       "      <td id=\"T_bf4aa_row219_col4\" class=\"data row219 col4\" >Whiskas dentabites chicken 50g</td>\n",
       "    </tr>\n",
       "    <tr>\n",
       "      <th id=\"T_bf4aa_level0_row220\" class=\"row_heading level0 row220\" >322</th>\n",
       "      <td id=\"T_bf4aa_row220_col0\" class=\"data row220 col0\" >679913ee931f6ced8e1f6b8dc8403e8bd8925f113bc6c5314e8a66e53ae74e35</td>\n",
       "      <td id=\"T_bf4aa_row220_col1\" class=\"data row220 col1\" >8bf754f57d95e45c904217a724480ad69378d5ab5a9f243a6ceeec62d8838662</td>\n",
       "      <td id=\"T_bf4aa_row220_col2\" class=\"data row220 col2\" >fa5ac9c733215c712a4cbd4ee484090b990169196a7ad0d7ff1bdf4483b9bbea</td>\n",
       "      <td id=\"T_bf4aa_row220_col3\" class=\"data row220 col3\" >5ffc1f1d48e32ed011478c1f2824079746972ee0f82c7ad844e10077e505597e</td>\n",
       "      <td id=\"T_bf4aa_row220_col4\" class=\"data row220 col4\" >Whiskas temptations chicken & cheese 60g</td>\n",
       "    </tr>\n",
       "    <tr>\n",
       "      <th id=\"T_bf4aa_level0_row221\" class=\"row_heading level0 row221\" >222</th>\n",
       "      <td id=\"T_bf4aa_row221_col0\" class=\"data row221 col0\" >69f3d2435cb9461c95e30d440fd2c05c074760ea23833a2e860bb31fdea77583</td>\n",
       "      <td id=\"T_bf4aa_row221_col1\" class=\"data row221 col1\" >e611ab6d625e91105591844574480cfa9866d6508c6a325205f8b05e51e093d3</td>\n",
       "      <td id=\"T_bf4aa_row221_col2\" class=\"data row221 col2\" >6bc24f6e69c5f8754bf6d0999136e3b99719b8c27460dee7745fa9db81a69b25</td>\n",
       "      <td id=\"T_bf4aa_row221_col3\" class=\"data row221 col3\" >d7a0999920f6139b0eb50b75a58a373b41b30098394b4dff7678fe9907235a16</td>\n",
       "      <td id=\"T_bf4aa_row221_col4\" class=\"data row221 col4\" >Nestle Cheerios Honey 370g</td>\n",
       "    </tr>\n",
       "    <tr>\n",
       "      <th id=\"T_bf4aa_level0_row222\" class=\"row_heading level0 row222\" >220</th>\n",
       "      <td id=\"T_bf4aa_row222_col0\" class=\"data row222 col0\" >69f3d2435cb9461c95e30d440fd2c05c074760ea23833a2e860bb31fdea77583</td>\n",
       "      <td id=\"T_bf4aa_row222_col1\" class=\"data row222 col1\" >e611ab6d625e91105591844574480cfa9866d6508c6a325205f8b05e51e093d3</td>\n",
       "      <td id=\"T_bf4aa_row222_col2\" class=\"data row222 col2\" >7111ff1a267e7a0c25f95864221f28cd663d21b2c08f3652d1bc5b546a10ede0</td>\n",
       "      <td id=\"T_bf4aa_row222_col3\" class=\"data row222 col3\" >d7a0999920f6139b0eb50b75a58a373b41b30098394b4dff7678fe9907235a16</td>\n",
       "      <td id=\"T_bf4aa_row222_col4\" class=\"data row222 col4\" >JS Rice Pops 375g</td>\n",
       "    </tr>\n",
       "    <tr>\n",
       "      <th id=\"T_bf4aa_level0_row223\" class=\"row_heading level0 row223\" >221</th>\n",
       "      <td id=\"T_bf4aa_row223_col0\" class=\"data row223 col0\" >69f3d2435cb9461c95e30d440fd2c05c074760ea23833a2e860bb31fdea77583</td>\n",
       "      <td id=\"T_bf4aa_row223_col1\" class=\"data row223 col1\" >e611ab6d625e91105591844574480cfa9866d6508c6a325205f8b05e51e093d3</td>\n",
       "      <td id=\"T_bf4aa_row223_col2\" class=\"data row223 col2\" >d37f26f159bc8b68eef22fb3b2167a938edebf43e3b1001833105ed9b5bd9b68</td>\n",
       "      <td id=\"T_bf4aa_row223_col3\" class=\"data row223 col3\" >d7a0999920f6139b0eb50b75a58a373b41b30098394b4dff7678fe9907235a16</td>\n",
       "      <td id=\"T_bf4aa_row223_col4\" class=\"data row223 col4\" >JS Corn Flakes 500g</td>\n",
       "    </tr>\n",
       "    <tr>\n",
       "      <th id=\"T_bf4aa_level0_row224\" class=\"row_heading level0 row224\" >174</th>\n",
       "      <td id=\"T_bf4aa_row224_col0\" class=\"data row224 col0\" >6a7847f1f2c2bf7c4fbbabad18291b6d50a231b8cb1466eaa10ea761cde08c66</td>\n",
       "      <td id=\"T_bf4aa_row224_col1\" class=\"data row224 col1\" >bb58a5b6c1a3b29f059083981086eef4f957e85d279037023299b7215e69ef71</td>\n",
       "      <td id=\"T_bf4aa_row224_col2\" class=\"data row224 col2\" >416ed71e22444a968cabbda2ecc9d8e7aafbe2f61bad08bead225db422b28cb5</td>\n",
       "      <td id=\"T_bf4aa_row224_col3\" class=\"data row224 col3\" >017ecbb9f5f6822972f54c720904a02672778e2faaa0e239a224fafe90a5617c</td>\n",
       "      <td id=\"T_bf4aa_row224_col4\" class=\"data row224 col4\" >Sainsbury's Vodka 70cl</td>\n",
       "    </tr>\n",
       "    <tr>\n",
       "      <th id=\"T_bf4aa_level0_row225\" class=\"row_heading level0 row225\" >175</th>\n",
       "      <td id=\"T_bf4aa_row225_col0\" class=\"data row225 col0\" >6a7847f1f2c2bf7c4fbbabad18291b6d50a231b8cb1466eaa10ea761cde08c66</td>\n",
       "      <td id=\"T_bf4aa_row225_col1\" class=\"data row225 col1\" >bb58a5b6c1a3b29f059083981086eef4f957e85d279037023299b7215e69ef71</td>\n",
       "      <td id=\"T_bf4aa_row225_col2\" class=\"data row225 col2\" >416ed71e22444a968cabbda2ecc9d8e7aafbe2f61bad08bead225db422b28cb5</td>\n",
       "      <td id=\"T_bf4aa_row225_col3\" class=\"data row225 col3\" >017ecbb9f5f6822972f54c720904a02672778e2faaa0e239a224fafe90a5617c</td>\n",
       "      <td id=\"T_bf4aa_row225_col4\" class=\"data row225 col4\" >Triple Distilled British Vodka 1.5L</td>\n",
       "    </tr>\n",
       "    <tr>\n",
       "      <th id=\"T_bf4aa_level0_row226\" class=\"row_heading level0 row226\" >173</th>\n",
       "      <td id=\"T_bf4aa_row226_col0\" class=\"data row226 col0\" >6a7847f1f2c2bf7c4fbbabad18291b6d50a231b8cb1466eaa10ea761cde08c66</td>\n",
       "      <td id=\"T_bf4aa_row226_col1\" class=\"data row226 col1\" >bb58a5b6c1a3b29f059083981086eef4f957e85d279037023299b7215e69ef71</td>\n",
       "      <td id=\"T_bf4aa_row226_col2\" class=\"data row226 col2\" >416ed71e22444a968cabbda2ecc9d8e7aafbe2f61bad08bead225db422b28cb5</td>\n",
       "      <td id=\"T_bf4aa_row226_col3\" class=\"data row226 col3\" >017ecbb9f5f6822972f54c720904a02672778e2faaa0e239a224fafe90a5617c</td>\n",
       "      <td id=\"T_bf4aa_row226_col4\" class=\"data row226 col4\" >Triple Distilled British Vodka 1L</td>\n",
       "    </tr>\n",
       "    <tr>\n",
       "      <th id=\"T_bf4aa_level0_row227\" class=\"row_heading level0 row227\" >373</th>\n",
       "      <td id=\"T_bf4aa_row227_col0\" class=\"data row227 col0\" >6aba37f90d325e654ef793a7fc1f6b3d400e45bddbf28dd3aef5d35eaa0ddd41</td>\n",
       "      <td id=\"T_bf4aa_row227_col1\" class=\"data row227 col1\" >5ea5bb241f5f6c24cea39e063836ed4a7586bb3b163e706e1ef4c9d1a752683c</td>\n",
       "      <td id=\"T_bf4aa_row227_col2\" class=\"data row227 col2\" >a6181c9e38eb40f352755545b5ab93dad0ac5882b5d973a078f895e167ec4acb</td>\n",
       "      <td id=\"T_bf4aa_row227_col3\" class=\"data row227 col3\" >5ffc1f1d48e32ed011478c1f2824079746972ee0f82c7ad844e10077e505597e</td>\n",
       "      <td id=\"T_bf4aa_row227_col4\" class=\"data row227 col4\" >JS adult comn with chicken & veg 2.5kg</td>\n",
       "    </tr>\n",
       "    <tr>\n",
       "      <th id=\"T_bf4aa_level0_row228\" class=\"row_heading level0 row228\" >374</th>\n",
       "      <td id=\"T_bf4aa_row228_col0\" class=\"data row228 col0\" >6aba37f90d325e654ef793a7fc1f6b3d400e45bddbf28dd3aef5d35eaa0ddd41</td>\n",
       "      <td id=\"T_bf4aa_row228_col1\" class=\"data row228 col1\" >5ea5bb241f5f6c24cea39e063836ed4a7586bb3b163e706e1ef4c9d1a752683c</td>\n",
       "      <td id=\"T_bf4aa_row228_col2\" class=\"data row228 col2\" >a6181c9e38eb40f352755545b5ab93dad0ac5882b5d973a078f895e167ec4acb</td>\n",
       "      <td id=\"T_bf4aa_row228_col3\" class=\"data row228 col3\" >5ffc1f1d48e32ed011478c1f2824079746972ee0f82c7ad844e10077e505597e</td>\n",
       "      <td id=\"T_bf4aa_row228_col4\" class=\"data row228 col4\" >JS adult comn with chicken & veg 5kg</td>\n",
       "    </tr>\n",
       "    <tr>\n",
       "      <th id=\"T_bf4aa_level0_row229\" class=\"row_heading level0 row229\" >375</th>\n",
       "      <td id=\"T_bf4aa_row229_col0\" class=\"data row229 col0\" >6aba37f90d325e654ef793a7fc1f6b3d400e45bddbf28dd3aef5d35eaa0ddd41</td>\n",
       "      <td id=\"T_bf4aa_row229_col1\" class=\"data row229 col1\" >5ea5bb241f5f6c24cea39e063836ed4a7586bb3b163e706e1ef4c9d1a752683c</td>\n",
       "      <td id=\"T_bf4aa_row229_col2\" class=\"data row229 col2\" >a6181c9e38eb40f352755545b5ab93dad0ac5882b5d973a078f895e167ec4acb</td>\n",
       "      <td id=\"T_bf4aa_row229_col3\" class=\"data row229 col3\" >5ffc1f1d48e32ed011478c1f2824079746972ee0f82c7ad844e10077e505597e</td>\n",
       "      <td id=\"T_bf4aa_row229_col4\" class=\"data row229 col4\" >JS senior comn with chicken & rice 2.5kg</td>\n",
       "    </tr>\n",
       "    <tr>\n",
       "      <th id=\"T_bf4aa_level0_row230\" class=\"row_heading level0 row230\" >157</th>\n",
       "      <td id=\"T_bf4aa_row230_col0\" class=\"data row230 col0\" >6ea59b71e53fa2519ceee618f926ceb0099105dc0a5cd4a32985154348fa9ca5</td>\n",
       "      <td id=\"T_bf4aa_row230_col1\" class=\"data row230 col1\" >20f2db59b49ea2d6c7f6da776b616adf0529737c4e7b478dbcee786c7f793303</td>\n",
       "      <td id=\"T_bf4aa_row230_col2\" class=\"data row230 col2\" >2eb7be5ae96761ec4390386904b23cd5cfd5525da96d7365efaf14505dd5caf8</td>\n",
       "      <td id=\"T_bf4aa_row230_col3\" class=\"data row230 col3\" >43223179daf7953df345450992ba73eed713013a875045a993e426445dcdd970</td>\n",
       "      <td id=\"T_bf4aa_row230_col4\" class=\"data row230 col4\" >Strongbow 18x440ml</td>\n",
       "    </tr>\n",
       "    <tr>\n",
       "      <th id=\"T_bf4aa_level0_row231\" class=\"row_heading level0 row231\" >154</th>\n",
       "      <td id=\"T_bf4aa_row231_col0\" class=\"data row231 col0\" >6ea59b71e53fa2519ceee618f926ceb0099105dc0a5cd4a32985154348fa9ca5</td>\n",
       "      <td id=\"T_bf4aa_row231_col1\" class=\"data row231 col1\" >20f2db59b49ea2d6c7f6da776b616adf0529737c4e7b478dbcee786c7f793303</td>\n",
       "      <td id=\"T_bf4aa_row231_col2\" class=\"data row231 col2\" >af3576e42466f26377e06aff5f04a75fd0ad36ce22899dd9bcd19049007ca808</td>\n",
       "      <td id=\"T_bf4aa_row231_col3\" class=\"data row231 col3\" >43223179daf7953df345450992ba73eed713013a875045a993e426445dcdd970</td>\n",
       "      <td id=\"T_bf4aa_row231_col4\" class=\"data row231 col4\" >JS Original Dry Cider 2lt</td>\n",
       "    </tr>\n",
       "    <tr>\n",
       "      <th id=\"T_bf4aa_level0_row232\" class=\"row_heading level0 row232\" >155</th>\n",
       "      <td id=\"T_bf4aa_row232_col0\" class=\"data row232 col0\" >6ea59b71e53fa2519ceee618f926ceb0099105dc0a5cd4a32985154348fa9ca5</td>\n",
       "      <td id=\"T_bf4aa_row232_col1\" class=\"data row232 col1\" >20f2db59b49ea2d6c7f6da776b616adf0529737c4e7b478dbcee786c7f793303</td>\n",
       "      <td id=\"T_bf4aa_row232_col2\" class=\"data row232 col2\" >d26af679b80a6afc13126f039f6d5b5979b676488ee45c3196bba7ac5d8fa2f3</td>\n",
       "      <td id=\"T_bf4aa_row232_col3\" class=\"data row232 col3\" >43223179daf7953df345450992ba73eed713013a875045a993e426445dcdd970</td>\n",
       "      <td id=\"T_bf4aa_row232_col4\" class=\"data row232 col4\" >JS Original Dry Cider 4x440ml</td>\n",
       "    </tr>\n",
       "    <tr>\n",
       "      <th id=\"T_bf4aa_level0_row233\" class=\"row_heading level0 row233\" >156</th>\n",
       "      <td id=\"T_bf4aa_row233_col0\" class=\"data row233 col0\" >6ea59b71e53fa2519ceee618f926ceb0099105dc0a5cd4a32985154348fa9ca5</td>\n",
       "      <td id=\"T_bf4aa_row233_col1\" class=\"data row233 col1\" >20f2db59b49ea2d6c7f6da776b616adf0529737c4e7b478dbcee786c7f793303</td>\n",
       "      <td id=\"T_bf4aa_row233_col2\" class=\"data row233 col2\" >e2c2486cf3d88490213323264aaa08a76bcd6b2aa218bec05ff3e0883227604d</td>\n",
       "      <td id=\"T_bf4aa_row233_col3\" class=\"data row233 col3\" >43223179daf7953df345450992ba73eed713013a875045a993e426445dcdd970</td>\n",
       "      <td id=\"T_bf4aa_row233_col4\" class=\"data row233 col4\" >Thatchers Gold 10x440ml</td>\n",
       "    </tr>\n",
       "    <tr>\n",
       "      <th id=\"T_bf4aa_level0_row234\" class=\"row_heading level0 row234\" >224</th>\n",
       "      <td id=\"T_bf4aa_row234_col0\" class=\"data row234 col0\" >77f6926db2cca8f30c9ee2d266409fd233d022e98be6299ba3edd4ea7b7c243a</td>\n",
       "      <td id=\"T_bf4aa_row234_col1\" class=\"data row234 col1\" >fe38ba148db17c7b23b1529d6417661687b3094d6160db7f8e7a7036398c1478</td>\n",
       "      <td id=\"T_bf4aa_row234_col2\" class=\"data row234 col2\" >a0d32fd41044ab1cea19dd13efea6180a74741376fbfd02ed45e341aa767540c</td>\n",
       "      <td id=\"T_bf4aa_row234_col3\" class=\"data row234 col3\" >d7a0999920f6139b0eb50b75a58a373b41b30098394b4dff7678fe9907235a16</td>\n",
       "      <td id=\"T_bf4aa_row234_col4\" class=\"data row234 col4\" >Twinings Everyday 80 Tea Bags 232g</td>\n",
       "    </tr>\n",
       "    <tr>\n",
       "      <th id=\"T_bf4aa_level0_row235\" class=\"row_heading level0 row235\" >293</th>\n",
       "      <td id=\"T_bf4aa_row235_col0\" class=\"data row235 col0\" >7c351d1eebd4b9622bc1122d964ed290c56dcd59959bd5ebfdd9d4ee302d374d</td>\n",
       "      <td id=\"T_bf4aa_row235_col1\" class=\"data row235 col1\" >5ea5bb241f5f6c24cea39e063836ed4a7586bb3b163e706e1ef4c9d1a752683c</td>\n",
       "      <td id=\"T_bf4aa_row235_col2\" class=\"data row235 col2\" >816bf3fa756d6d4aa47b5866261a3d1eec63fe9f83ec2400f15e425d536da460</td>\n",
       "      <td id=\"T_bf4aa_row235_col3\" class=\"data row235 col3\" >5ffc1f1d48e32ed011478c1f2824079746972ee0f82c7ad844e10077e505597e</td>\n",
       "      <td id=\"T_bf4aa_row235_col4\" class=\"data row235 col4\" >GoodBoy compostable poop bags x50</td>\n",
       "    </tr>\n",
       "    <tr>\n",
       "      <th id=\"T_bf4aa_level0_row236\" class=\"row_heading level0 row236\" >294</th>\n",
       "      <td id=\"T_bf4aa_row236_col0\" class=\"data row236 col0\" >7c351d1eebd4b9622bc1122d964ed290c56dcd59959bd5ebfdd9d4ee302d374d</td>\n",
       "      <td id=\"T_bf4aa_row236_col1\" class=\"data row236 col1\" >5ea5bb241f5f6c24cea39e063836ed4a7586bb3b163e706e1ef4c9d1a752683c</td>\n",
       "      <td id=\"T_bf4aa_row236_col2\" class=\"data row236 col2\" >816bf3fa756d6d4aa47b5866261a3d1eec63fe9f83ec2400f15e425d536da460</td>\n",
       "      <td id=\"T_bf4aa_row236_col3\" class=\"data row236 col3\" >5ffc1f1d48e32ed011478c1f2824079746972ee0f82c7ad844e10077e505597e</td>\n",
       "      <td id=\"T_bf4aa_row236_col4\" class=\"data row236 col4\" >JS dog waste bags x75</td>\n",
       "    </tr>\n",
       "    <tr>\n",
       "      <th id=\"T_bf4aa_level0_row237\" class=\"row_heading level0 row237\" >306</th>\n",
       "      <td id=\"T_bf4aa_row237_col0\" class=\"data row237 col0\" >7d2dc3b131872bab93bf548f4eaa2f1bb8d828661773c1fd4ac3dc21d21ed480</td>\n",
       "      <td id=\"T_bf4aa_row237_col1\" class=\"data row237 col1\" >2794ff1d0a8586ee24977f9eacc35f7814c1cbb850a5936814e62c61b3b62b6b</td>\n",
       "      <td id=\"T_bf4aa_row237_col2\" class=\"data row237 col2\" >b4ae75df5ceddf33fb6e9bfc1e9f99fcd6942f7d6de57aff1bf814a3d632efa8</td>\n",
       "      <td id=\"T_bf4aa_row237_col3\" class=\"data row237 col3\" >c3be12edf9bea03da807647c489dcccd824f7a85f8f563d7e9f62a5209618578</td>\n",
       "      <td id=\"T_bf4aa_row237_col4\" class=\"data row237 col4\" >JS CREAM CRACKER 300G</td>\n",
       "    </tr>\n",
       "    <tr>\n",
       "      <th id=\"T_bf4aa_level0_row238\" class=\"row_heading level0 row238\" >376</th>\n",
       "      <td id=\"T_bf4aa_row238_col0\" class=\"data row238 col0\" >7f14a9c0c489ba36a49062f8e19ef89d12d3a462f043d86ed3487452c6c48446</td>\n",
       "      <td id=\"T_bf4aa_row238_col1\" class=\"data row238 col1\" >6137761d624106cde67924882f531c15a64e728a88b5688c822898e4203b7dc7</td>\n",
       "      <td id=\"T_bf4aa_row238_col2\" class=\"data row238 col2\" >28a10eaa5b33c56ff2311e1ce1c30515b76309c129fc686253d2b047bf10a726</td>\n",
       "      <td id=\"T_bf4aa_row238_col3\" class=\"data row238 col3\" >74990c8ce7f380a02207f6756cd556f9ce0c78ffb2ccabc583f3bf6a17bd1c4c</td>\n",
       "      <td id=\"T_bf4aa_row238_col4\" class=\"data row238 col4\" >PREMIER DELI OX TONGUE 125g</td>\n",
       "    </tr>\n",
       "    <tr>\n",
       "      <th id=\"T_bf4aa_level0_row239\" class=\"row_heading level0 row239\" >378</th>\n",
       "      <td id=\"T_bf4aa_row239_col0\" class=\"data row239 col0\" >7f14a9c0c489ba36a49062f8e19ef89d12d3a462f043d86ed3487452c6c48446</td>\n",
       "      <td id=\"T_bf4aa_row239_col1\" class=\"data row239 col1\" >6137761d624106cde67924882f531c15a64e728a88b5688c822898e4203b7dc7</td>\n",
       "      <td id=\"T_bf4aa_row239_col2\" class=\"data row239 col2\" >f7cf72e8b87aec53498e996e98814fccc6cc44e10fc4643b3de655d73e51ddee</td>\n",
       "      <td id=\"T_bf4aa_row239_col3\" class=\"data row239 col3\" >74990c8ce7f380a02207f6756cd556f9ce0c78ffb2ccabc583f3bf6a17bd1c4c</td>\n",
       "      <td id=\"T_bf4aa_row239_col4\" class=\"data row239 col4\" >JS 10 British beef slices 115g</td>\n",
       "    </tr>\n",
       "    <tr>\n",
       "      <th id=\"T_bf4aa_level0_row240\" class=\"row_heading level0 row240\" >377</th>\n",
       "      <td id=\"T_bf4aa_row240_col0\" class=\"data row240 col0\" >7f14a9c0c489ba36a49062f8e19ef89d12d3a462f043d86ed3487452c6c48446</td>\n",
       "      <td id=\"T_bf4aa_row240_col1\" class=\"data row240 col1\" >6137761d624106cde67924882f531c15a64e728a88b5688c822898e4203b7dc7</td>\n",
       "      <td id=\"T_bf4aa_row240_col2\" class=\"data row240 col2\" >f7cf72e8b87aec53498e996e98814fccc6cc44e10fc4643b3de655d73e51ddee</td>\n",
       "      <td id=\"T_bf4aa_row240_col3\" class=\"data row240 col3\" >74990c8ce7f380a02207f6756cd556f9ce0c78ffb2ccabc583f3bf6a17bd1c4c</td>\n",
       "      <td id=\"T_bf4aa_row240_col4\" class=\"data row240 col4\" >JS 10 British chicken breast slices 115g</td>\n",
       "    </tr>\n",
       "    <tr>\n",
       "      <th id=\"T_bf4aa_level0_row241\" class=\"row_heading level0 row241\" >81</th>\n",
       "      <td id=\"T_bf4aa_row241_col0\" class=\"data row241 col0\" >7f318ec71cd9b9b9dc16db83447d789092b8454fec21fa6e4a4f09ef22eb7e3e</td>\n",
       "      <td id=\"T_bf4aa_row241_col1\" class=\"data row241 col1\" >5aa3f64d6cc1baa00b33490f1a4144a847c374a0ab8ee3b7acc31fee6f7513e5</td>\n",
       "      <td id=\"T_bf4aa_row241_col2\" class=\"data row241 col2\" >12e38e2279b68df56e9af14ab08bd835c7c9e680654ccda2cbd7a05a5ffc5983</td>\n",
       "      <td id=\"T_bf4aa_row241_col3\" class=\"data row241 col3\" >43223179daf7953df345450992ba73eed713013a875045a993e426445dcdd970</td>\n",
       "      <td id=\"T_bf4aa_row241_col4\" class=\"data row241 col4\" >Birra Moretti Can 10x330ml</td>\n",
       "    </tr>\n",
       "    <tr>\n",
       "      <th id=\"T_bf4aa_level0_row242\" class=\"row_heading level0 row242\" >80</th>\n",
       "      <td id=\"T_bf4aa_row242_col0\" class=\"data row242 col0\" >7f318ec71cd9b9b9dc16db83447d789092b8454fec21fa6e4a4f09ef22eb7e3e</td>\n",
       "      <td id=\"T_bf4aa_row242_col1\" class=\"data row242 col1\" >5aa3f64d6cc1baa00b33490f1a4144a847c374a0ab8ee3b7acc31fee6f7513e5</td>\n",
       "      <td id=\"T_bf4aa_row242_col2\" class=\"data row242 col2\" >12e38e2279b68df56e9af14ab08bd835c7c9e680654ccda2cbd7a05a5ffc5983</td>\n",
       "      <td id=\"T_bf4aa_row242_col3\" class=\"data row242 col3\" >43223179daf7953df345450992ba73eed713013a875045a993e426445dcdd970</td>\n",
       "      <td id=\"T_bf4aa_row242_col4\" class=\"data row242 col4\" >Peroni 18x330ml</td>\n",
       "    </tr>\n",
       "    <tr>\n",
       "      <th id=\"T_bf4aa_level0_row243\" class=\"row_heading level0 row243\" >78</th>\n",
       "      <td id=\"T_bf4aa_row243_col0\" class=\"data row243 col0\" >7f318ec71cd9b9b9dc16db83447d789092b8454fec21fa6e4a4f09ef22eb7e3e</td>\n",
       "      <td id=\"T_bf4aa_row243_col1\" class=\"data row243 col1\" >5aa3f64d6cc1baa00b33490f1a4144a847c374a0ab8ee3b7acc31fee6f7513e5</td>\n",
       "      <td id=\"T_bf4aa_row243_col2\" class=\"data row243 col2\" >91ee8fd800bde8d244aba587e2a03f43f4bf029fa7598b5ec450890c95ab60b0</td>\n",
       "      <td id=\"T_bf4aa_row243_col3\" class=\"data row243 col3\" >43223179daf7953df345450992ba73eed713013a875045a993e426445dcdd970</td>\n",
       "      <td id=\"T_bf4aa_row243_col4\" class=\"data row243 col4\" >Birra Moretti 660ml</td>\n",
       "    </tr>\n",
       "    <tr>\n",
       "      <th id=\"T_bf4aa_level0_row244\" class=\"row_heading level0 row244\" >79</th>\n",
       "      <td id=\"T_bf4aa_row244_col0\" class=\"data row244 col0\" >7f318ec71cd9b9b9dc16db83447d789092b8454fec21fa6e4a4f09ef22eb7e3e</td>\n",
       "      <td id=\"T_bf4aa_row244_col1\" class=\"data row244 col1\" >5aa3f64d6cc1baa00b33490f1a4144a847c374a0ab8ee3b7acc31fee6f7513e5</td>\n",
       "      <td id=\"T_bf4aa_row244_col2\" class=\"data row244 col2\" >91ee8fd800bde8d244aba587e2a03f43f4bf029fa7598b5ec450890c95ab60b0</td>\n",
       "      <td id=\"T_bf4aa_row244_col3\" class=\"data row244 col3\" >43223179daf7953df345450992ba73eed713013a875045a993e426445dcdd970</td>\n",
       "      <td id=\"T_bf4aa_row244_col4\" class=\"data row244 col4\" >Peroni Nastro Azzurro 620ml</td>\n",
       "    </tr>\n",
       "    <tr>\n",
       "      <th id=\"T_bf4aa_level0_row245\" class=\"row_heading level0 row245\" >251</th>\n",
       "      <td id=\"T_bf4aa_row245_col0\" class=\"data row245 col0\" >8565517528ae7c3ff01249f3355a9d1168caf9cef01259066d7a9c72431a3a3f</td>\n",
       "      <td id=\"T_bf4aa_row245_col1\" class=\"data row245 col1\" >635d89954b25fe908393979de43a63f3f7f7ae86262ac2b14928ff752f7e1d11</td>\n",
       "      <td id=\"T_bf4aa_row245_col2\" class=\"data row245 col2\" >18829284a64650f7437367710f88934ce951f6cd0b258eb222281ef126d35585</td>\n",
       "      <td id=\"T_bf4aa_row245_col3\" class=\"data row245 col3\" >c04d03b504e12833f503817a854224c0a03c27ce74c3aa1ebae6d8e0fc72e425</td>\n",
       "      <td id=\"T_bf4aa_row245_col4\" class=\"data row245 col4\" >JS Conference Pear Single</td>\n",
       "    </tr>\n",
       "    <tr>\n",
       "      <th id=\"T_bf4aa_level0_row246\" class=\"row_heading level0 row246\" >252</th>\n",
       "      <td id=\"T_bf4aa_row246_col0\" class=\"data row246 col0\" >8565517528ae7c3ff01249f3355a9d1168caf9cef01259066d7a9c72431a3a3f</td>\n",
       "      <td id=\"T_bf4aa_row246_col1\" class=\"data row246 col1\" >635d89954b25fe908393979de43a63f3f7f7ae86262ac2b14928ff752f7e1d11</td>\n",
       "      <td id=\"T_bf4aa_row246_col2\" class=\"data row246 col2\" >18829284a64650f7437367710f88934ce951f6cd0b258eb222281ef126d35585</td>\n",
       "      <td id=\"T_bf4aa_row246_col3\" class=\"data row246 col3\" >c04d03b504e12833f503817a854224c0a03c27ce74c3aa1ebae6d8e0fc72e425</td>\n",
       "      <td id=\"T_bf4aa_row246_col4\" class=\"data row246 col4\" >JS Mini Pears 550g</td>\n",
       "    </tr>\n",
       "    <tr>\n",
       "      <th id=\"T_bf4aa_level0_row247\" class=\"row_heading level0 row247\" >284</th>\n",
       "      <td id=\"T_bf4aa_row247_col0\" class=\"data row247 col0\" >85c90d2e8642516b9a83070d2f22e1c974c43bf16cee292494dd4baf344b2bad</td>\n",
       "      <td id=\"T_bf4aa_row247_col1\" class=\"data row247 col1\" >cc5d9b52e0413df048465174983148e4686ec3704cee52a045ff1aac8598297d</td>\n",
       "      <td id=\"T_bf4aa_row247_col2\" class=\"data row247 col2\" >cd0dacb11ad108acf7c7fbc32707ccb366dd84f0b8432df30931e319dc22dfff</td>\n",
       "      <td id=\"T_bf4aa_row247_col3\" class=\"data row247 col3\" >5df3e4da2395aef5c8b3267b7253bb118eae178abf3d68425e25476c9adc12cb</td>\n",
       "      <td id=\"T_bf4aa_row247_col4\" class=\"data row247 col4\" >Panadol Advance tablets x16</td>\n",
       "    </tr>\n",
       "    <tr>\n",
       "      <th id=\"T_bf4aa_level0_row248\" class=\"row_heading level0 row248\" >282</th>\n",
       "      <td id=\"T_bf4aa_row248_col0\" class=\"data row248 col0\" >85c90d2e8642516b9a83070d2f22e1c974c43bf16cee292494dd4baf344b2bad</td>\n",
       "      <td id=\"T_bf4aa_row248_col1\" class=\"data row248 col1\" >cc5d9b52e0413df048465174983148e4686ec3704cee52a045ff1aac8598297d</td>\n",
       "      <td id=\"T_bf4aa_row248_col2\" class=\"data row248 col2\" >cd0dacb11ad108acf7c7fbc32707ccb366dd84f0b8432df30931e319dc22dfff</td>\n",
       "      <td id=\"T_bf4aa_row248_col3\" class=\"data row248 col3\" >5df3e4da2395aef5c8b3267b7253bb118eae178abf3d68425e25476c9adc12cb</td>\n",
       "      <td id=\"T_bf4aa_row248_col4\" class=\"data row248 col4\" >Panadol Extra Advance x14</td>\n",
       "    </tr>\n",
       "    <tr>\n",
       "      <th id=\"T_bf4aa_level0_row249\" class=\"row_heading level0 row249\" >283</th>\n",
       "      <td id=\"T_bf4aa_row249_col0\" class=\"data row249 col0\" >85c90d2e8642516b9a83070d2f22e1c974c43bf16cee292494dd4baf344b2bad</td>\n",
       "      <td id=\"T_bf4aa_row249_col1\" class=\"data row249 col1\" >cc5d9b52e0413df048465174983148e4686ec3704cee52a045ff1aac8598297d</td>\n",
       "      <td id=\"T_bf4aa_row249_col2\" class=\"data row249 col2\" >cd0dacb11ad108acf7c7fbc32707ccb366dd84f0b8432df30931e319dc22dfff</td>\n",
       "      <td id=\"T_bf4aa_row249_col3\" class=\"data row249 col3\" >5df3e4da2395aef5c8b3267b7253bb118eae178abf3d68425e25476c9adc12cb</td>\n",
       "      <td id=\"T_bf4aa_row249_col4\" class=\"data row249 col4\" >Panadol Extra soluble x24</td>\n",
       "    </tr>\n",
       "    <tr>\n",
       "      <th id=\"T_bf4aa_level0_row250\" class=\"row_heading level0 row250\" >26</th>\n",
       "      <td id=\"T_bf4aa_row250_col0\" class=\"data row250 col0\" >875a81faa157089c2d714749f17d618b453078d2dfdfc9e0fdb446c42b286709</td>\n",
       "      <td id=\"T_bf4aa_row250_col1\" class=\"data row250 col1\" >5d3d12cd373d19e7c99640c1b46e15271fc5c9619d69e767df98841d678cf2fa</td>\n",
       "      <td id=\"T_bf4aa_row250_col2\" class=\"data row250 col2\" >ff38ba09503623a8edff7e8b20ef647e533fe737512fbf737bd237535ded6c58</td>\n",
       "      <td id=\"T_bf4aa_row250_col3\" class=\"data row250 col3\" >c3be12edf9bea03da807647c489dcccd824f7a85f8f563d7e9f62a5209618578</td>\n",
       "      <td id=\"T_bf4aa_row250_col4\" class=\"data row250 col4\" >Mentos Mint 5pk</td>\n",
       "    </tr>\n",
       "    <tr>\n",
       "      <th id=\"T_bf4aa_level0_row251\" class=\"row_heading level0 row251\" >25</th>\n",
       "      <td id=\"T_bf4aa_row251_col0\" class=\"data row251 col0\" >875a81faa157089c2d714749f17d618b453078d2dfdfc9e0fdb446c42b286709</td>\n",
       "      <td id=\"T_bf4aa_row251_col1\" class=\"data row251 col1\" >5d3d12cd373d19e7c99640c1b46e15271fc5c9619d69e767df98841d678cf2fa</td>\n",
       "      <td id=\"T_bf4aa_row251_col2\" class=\"data row251 col2\" >ff38ba09503623a8edff7e8b20ef647e533fe737512fbf737bd237535ded6c58</td>\n",
       "      <td id=\"T_bf4aa_row251_col3\" class=\"data row251 col3\" >c3be12edf9bea03da807647c489dcccd824f7a85f8f563d7e9f62a5209618578</td>\n",
       "      <td id=\"T_bf4aa_row251_col4\" class=\"data row251 col4\" >Trebor Softmints Spearmint Mints 4x44.9g</td>\n",
       "    </tr>\n",
       "    <tr>\n",
       "      <th id=\"T_bf4aa_level0_row252\" class=\"row_heading level0 row252\" >19</th>\n",
       "      <td id=\"T_bf4aa_row252_col0\" class=\"data row252 col0\" >88c02080da0e3eb7d3e792ce036742f9c3874b4c49069b2af9926484f966249d</td>\n",
       "      <td id=\"T_bf4aa_row252_col1\" class=\"data row252 col1\" >5b787bc1bab07d06a7731795ccc002cd63d08b1731ea9c61957fd880a8454da1</td>\n",
       "      <td id=\"T_bf4aa_row252_col2\" class=\"data row252 col2\" >8134119ad0ab6c51e7b12d2c25220bb252594d88e177681072827e92346bff1a</td>\n",
       "      <td id=\"T_bf4aa_row252_col3\" class=\"data row252 col3\" >042a172740f7b6de757d54c5c8ae417f4af70326caf49174e3daec81d6f29a8e</td>\n",
       "      <td id=\"T_bf4aa_row252_col4\" class=\"data row252 col4\" >Dairy Pride Semi Skimmed UHT Milk 1ltr</td>\n",
       "    </tr>\n",
       "    <tr>\n",
       "      <th id=\"T_bf4aa_level0_row253\" class=\"row_heading level0 row253\" >18</th>\n",
       "      <td id=\"T_bf4aa_row253_col0\" class=\"data row253 col0\" >88c02080da0e3eb7d3e792ce036742f9c3874b4c49069b2af9926484f966249d</td>\n",
       "      <td id=\"T_bf4aa_row253_col1\" class=\"data row253 col1\" >5b787bc1bab07d06a7731795ccc002cd63d08b1731ea9c61957fd880a8454da1</td>\n",
       "      <td id=\"T_bf4aa_row253_col2\" class=\"data row253 col2\" >8134119ad0ab6c51e7b12d2c25220bb252594d88e177681072827e92346bff1a</td>\n",
       "      <td id=\"T_bf4aa_row253_col3\" class=\"data row253 col3\" >042a172740f7b6de757d54c5c8ae417f4af70326caf49174e3daec81d6f29a8e</td>\n",
       "      <td id=\"T_bf4aa_row253_col4\" class=\"data row253 col4\" >Dairy Pride UHT Skimmed Milk 1l</td>\n",
       "    </tr>\n",
       "    <tr>\n",
       "      <th id=\"T_bf4aa_level0_row254\" class=\"row_heading level0 row254\" >16</th>\n",
       "      <td id=\"T_bf4aa_row254_col0\" class=\"data row254 col0\" >8a73d0ee544797c6d969d41067aae1fda0d65b8ac7f828a41f40d91de10415aa</td>\n",
       "      <td id=\"T_bf4aa_row254_col1\" class=\"data row254 col1\" >e0cde6bbce524881956da0957a66ddaff143f9ad7c7a2d4d8af626dd76485745</td>\n",
       "      <td id=\"T_bf4aa_row254_col2\" class=\"data row254 col2\" >ddbaa0b42bb7bc44d3383658cab5c5c0348ffbe1642ff57a407d877e5bcf753b</td>\n",
       "      <td id=\"T_bf4aa_row254_col3\" class=\"data row254 col3\" >d7a0999920f6139b0eb50b75a58a373b41b30098394b4dff7678fe9907235a16</td>\n",
       "      <td id=\"T_bf4aa_row254_col4\" class=\"data row254 col4\" >Ovaltine Malted Original Drink 300g</td>\n",
       "    </tr>\n",
       "    <tr>\n",
       "      <th id=\"T_bf4aa_level0_row255\" class=\"row_heading level0 row255\" >34</th>\n",
       "      <td id=\"T_bf4aa_row255_col0\" class=\"data row255 col0\" >8de94fb840543c6d2b521b015303e8eb38ec8bcb2984279a9892e0f0975d70e2</td>\n",
       "      <td id=\"T_bf4aa_row255_col1\" class=\"data row255 col1\" >d6fd93bffa371fd4835bb323b6e6c84ff8fb693abe05cb4c74a18b79c4d1399f</td>\n",
       "      <td id=\"T_bf4aa_row255_col2\" class=\"data row255 col2\" >15624de34ee3e81d9bda6f98f989769782d64d482d10edaec552fde632cd69aa</td>\n",
       "      <td id=\"T_bf4aa_row255_col3\" class=\"data row255 col3\" >303d3bff03929ff76928fccc756ab6aa76afaee83eebe69b8302ea8844f5ac1f</td>\n",
       "      <td id=\"T_bf4aa_row255_col4\" class=\"data row255 col4\" >JS BEANS IN TOMATO SAUCE 400G</td>\n",
       "    </tr>\n",
       "    <tr>\n",
       "      <th id=\"T_bf4aa_level0_row256\" class=\"row_heading level0 row256\" >35</th>\n",
       "      <td id=\"T_bf4aa_row256_col0\" class=\"data row256 col0\" >8de94fb840543c6d2b521b015303e8eb38ec8bcb2984279a9892e0f0975d70e2</td>\n",
       "      <td id=\"T_bf4aa_row256_col1\" class=\"data row256 col1\" >d6fd93bffa371fd4835bb323b6e6c84ff8fb693abe05cb4c74a18b79c4d1399f</td>\n",
       "      <td id=\"T_bf4aa_row256_col2\" class=\"data row256 col2\" >e53c276d764e4083a256c26b280ce183a862205882d87c8f8610bab4ba1a35cb</td>\n",
       "      <td id=\"T_bf4aa_row256_col3\" class=\"data row256 col3\" >303d3bff03929ff76928fccc756ab6aa76afaee83eebe69b8302ea8844f5ac1f</td>\n",
       "      <td id=\"T_bf4aa_row256_col4\" class=\"data row256 col4\" >Hubbards Spaghetti Rings 400g</td>\n",
       "    </tr>\n",
       "    <tr>\n",
       "      <th id=\"T_bf4aa_level0_row257\" class=\"row_heading level0 row257\" >87</th>\n",
       "      <td id=\"T_bf4aa_row257_col0\" class=\"data row257 col0\" >8f178858267b3c6eefdc75ccbf9f1e9db9f25379f6e3274f1c5a04006d8c0770</td>\n",
       "      <td id=\"T_bf4aa_row257_col1\" class=\"data row257 col1\" >5ea5bb241f5f6c24cea39e063836ed4a7586bb3b163e706e1ef4c9d1a752683c</td>\n",
       "      <td id=\"T_bf4aa_row257_col2\" class=\"data row257 col2\" >ed3ff3ca1cbcd7165660213cb782f7a7d0e15b279a8d9874172f8d1267f5d427</td>\n",
       "      <td id=\"T_bf4aa_row257_col3\" class=\"data row257 col3\" >5ffc1f1d48e32ed011478c1f2824079746972ee0f82c7ad844e10077e505597e</td>\n",
       "      <td id=\"T_bf4aa_row257_col4\" class=\"data row257 col4\" >Bakers allsorts 98g</td>\n",
       "    </tr>\n",
       "    <tr>\n",
       "      <th id=\"T_bf4aa_level0_row258\" class=\"row_heading level0 row258\" >89</th>\n",
       "      <td id=\"T_bf4aa_row258_col0\" class=\"data row258 col0\" >8f178858267b3c6eefdc75ccbf9f1e9db9f25379f6e3274f1c5a04006d8c0770</td>\n",
       "      <td id=\"T_bf4aa_row258_col1\" class=\"data row258 col1\" >5ea5bb241f5f6c24cea39e063836ed4a7586bb3b163e706e1ef4c9d1a752683c</td>\n",
       "      <td id=\"T_bf4aa_row258_col2\" class=\"data row258 col2\" >ed3ff3ca1cbcd7165660213cb782f7a7d0e15b279a8d9874172f8d1267f5d427</td>\n",
       "      <td id=\"T_bf4aa_row258_col3\" class=\"data row258 col3\" >5ffc1f1d48e32ed011478c1f2824079746972ee0f82c7ad844e10077e505597e</td>\n",
       "      <td id=\"T_bf4aa_row258_col4\" class=\"data row258 col4\" >Bakers sizzlers bacon 90g</td>\n",
       "    </tr>\n",
       "    <tr>\n",
       "      <th id=\"T_bf4aa_level0_row259\" class=\"row_heading level0 row259\" >109</th>\n",
       "      <td id=\"T_bf4aa_row259_col0\" class=\"data row259 col0\" >8f178858267b3c6eefdc75ccbf9f1e9db9f25379f6e3274f1c5a04006d8c0770</td>\n",
       "      <td id=\"T_bf4aa_row259_col1\" class=\"data row259 col1\" >5ea5bb241f5f6c24cea39e063836ed4a7586bb3b163e706e1ef4c9d1a752683c</td>\n",
       "      <td id=\"T_bf4aa_row259_col2\" class=\"data row259 col2\" >ed3ff3ca1cbcd7165660213cb782f7a7d0e15b279a8d9874172f8d1267f5d427</td>\n",
       "      <td id=\"T_bf4aa_row259_col3\" class=\"data row259 col3\" >5ffc1f1d48e32ed011478c1f2824079746972ee0f82c7ad844e10077e505597e</td>\n",
       "      <td id=\"T_bf4aa_row259_col4\" class=\"data row259 col4\" >Bakers whirlers 130g</td>\n",
       "    </tr>\n",
       "    <tr>\n",
       "      <th id=\"T_bf4aa_level0_row260\" class=\"row_heading level0 row260\" >98</th>\n",
       "      <td id=\"T_bf4aa_row260_col0\" class=\"data row260 col0\" >8f178858267b3c6eefdc75ccbf9f1e9db9f25379f6e3274f1c5a04006d8c0770</td>\n",
       "      <td id=\"T_bf4aa_row260_col1\" class=\"data row260 col1\" >5ea5bb241f5f6c24cea39e063836ed4a7586bb3b163e706e1ef4c9d1a752683c</td>\n",
       "      <td id=\"T_bf4aa_row260_col2\" class=\"data row260 col2\" >ed3ff3ca1cbcd7165660213cb782f7a7d0e15b279a8d9874172f8d1267f5d427</td>\n",
       "      <td id=\"T_bf4aa_row260_col3\" class=\"data row260 col3\" >5ffc1f1d48e32ed011478c1f2824079746972ee0f82c7ad844e10077e505597e</td>\n",
       "      <td id=\"T_bf4aa_row260_col4\" class=\"data row260 col4\" >Dentalife ActivFresh dental small x7</td>\n",
       "    </tr>\n",
       "    <tr>\n",
       "      <th id=\"T_bf4aa_level0_row261\" class=\"row_heading level0 row261\" >94</th>\n",
       "      <td id=\"T_bf4aa_row261_col0\" class=\"data row261 col0\" >8f178858267b3c6eefdc75ccbf9f1e9db9f25379f6e3274f1c5a04006d8c0770</td>\n",
       "      <td id=\"T_bf4aa_row261_col1\" class=\"data row261 col1\" >5ea5bb241f5f6c24cea39e063836ed4a7586bb3b163e706e1ef4c9d1a752683c</td>\n",
       "      <td id=\"T_bf4aa_row261_col2\" class=\"data row261 col2\" >ed3ff3ca1cbcd7165660213cb782f7a7d0e15b279a8d9874172f8d1267f5d427</td>\n",
       "      <td id=\"T_bf4aa_row261_col3\" class=\"data row261 col3\" >5ffc1f1d48e32ed011478c1f2824079746972ee0f82c7ad844e10077e505597e</td>\n",
       "      <td id=\"T_bf4aa_row261_col4\" class=\"data row261 col4\" >Good Boy chewy chicken dumbbells 100g</td>\n",
       "    </tr>\n",
       "    <tr>\n",
       "      <th id=\"T_bf4aa_level0_row262\" class=\"row_heading level0 row262\" >139</th>\n",
       "      <td id=\"T_bf4aa_row262_col0\" class=\"data row262 col0\" >8f178858267b3c6eefdc75ccbf9f1e9db9f25379f6e3274f1c5a04006d8c0770</td>\n",
       "      <td id=\"T_bf4aa_row262_col1\" class=\"data row262 col1\" >5ea5bb241f5f6c24cea39e063836ed4a7586bb3b163e706e1ef4c9d1a752683c</td>\n",
       "      <td id=\"T_bf4aa_row262_col2\" class=\"data row262 col2\" >ed3ff3ca1cbcd7165660213cb782f7a7d0e15b279a8d9874172f8d1267f5d427</td>\n",
       "      <td id=\"T_bf4aa_row262_col3\" class=\"data row262 col3\" >5ffc1f1d48e32ed011478c1f2824079746972ee0f82c7ad844e10077e505597e</td>\n",
       "      <td id=\"T_bf4aa_row262_col4\" class=\"data row262 col4\" >Good Boy chewy lamb strips 80g</td>\n",
       "    </tr>\n",
       "    <tr>\n",
       "      <th id=\"T_bf4aa_level0_row263\" class=\"row_heading level0 row263\" >142</th>\n",
       "      <td id=\"T_bf4aa_row263_col0\" class=\"data row263 col0\" >8f178858267b3c6eefdc75ccbf9f1e9db9f25379f6e3274f1c5a04006d8c0770</td>\n",
       "      <td id=\"T_bf4aa_row263_col1\" class=\"data row263 col1\" >5ea5bb241f5f6c24cea39e063836ed4a7586bb3b163e706e1ef4c9d1a752683c</td>\n",
       "      <td id=\"T_bf4aa_row263_col2\" class=\"data row263 col2\" >ed3ff3ca1cbcd7165660213cb782f7a7d0e15b279a8d9874172f8d1267f5d427</td>\n",
       "      <td id=\"T_bf4aa_row263_col3\" class=\"data row263 col3\" >5ffc1f1d48e32ed011478c1f2824079746972ee0f82c7ad844e10077e505597e</td>\n",
       "      <td id=\"T_bf4aa_row263_col4\" class=\"data row263 col4\" >Good Boy chewy twists with chicken 90g</td>\n",
       "    </tr>\n",
       "    <tr>\n",
       "      <th id=\"T_bf4aa_level0_row264\" class=\"row_heading level0 row264\" >116</th>\n",
       "      <td id=\"T_bf4aa_row264_col0\" class=\"data row264 col0\" >8f178858267b3c6eefdc75ccbf9f1e9db9f25379f6e3274f1c5a04006d8c0770</td>\n",
       "      <td id=\"T_bf4aa_row264_col1\" class=\"data row264 col1\" >5ea5bb241f5f6c24cea39e063836ed4a7586bb3b163e706e1ef4c9d1a752683c</td>\n",
       "      <td id=\"T_bf4aa_row264_col2\" class=\"data row264 col2\" >ed3ff3ca1cbcd7165660213cb782f7a7d0e15b279a8d9874172f8d1267f5d427</td>\n",
       "      <td id=\"T_bf4aa_row264_col3\" class=\"data row264 col3\" >5ffc1f1d48e32ed011478c1f2824079746972ee0f82c7ad844e10077e505597e</td>\n",
       "      <td id=\"T_bf4aa_row264_col4\" class=\"data row264 col4\" >Good Boy chicken & calcium bones 100g</td>\n",
       "    </tr>\n",
       "    <tr>\n",
       "      <th id=\"T_bf4aa_level0_row265\" class=\"row_heading level0 row265\" >83</th>\n",
       "      <td id=\"T_bf4aa_row265_col0\" class=\"data row265 col0\" >8f178858267b3c6eefdc75ccbf9f1e9db9f25379f6e3274f1c5a04006d8c0770</td>\n",
       "      <td id=\"T_bf4aa_row265_col1\" class=\"data row265 col1\" >5ea5bb241f5f6c24cea39e063836ed4a7586bb3b163e706e1ef4c9d1a752683c</td>\n",
       "      <td id=\"T_bf4aa_row265_col2\" class=\"data row265 col2\" >ed3ff3ca1cbcd7165660213cb782f7a7d0e15b279a8d9874172f8d1267f5d427</td>\n",
       "      <td id=\"T_bf4aa_row265_col3\" class=\"data row265 col3\" >5ffc1f1d48e32ed011478c1f2824079746972ee0f82c7ad844e10077e505597e</td>\n",
       "      <td id=\"T_bf4aa_row265_col4\" class=\"data row265 col4\" >Good Boy chicken bites 65g</td>\n",
       "    </tr>\n",
       "    <tr>\n",
       "      <th id=\"T_bf4aa_level0_row266\" class=\"row_heading level0 row266\" >110</th>\n",
       "      <td id=\"T_bf4aa_row266_col0\" class=\"data row266 col0\" >8f178858267b3c6eefdc75ccbf9f1e9db9f25379f6e3274f1c5a04006d8c0770</td>\n",
       "      <td id=\"T_bf4aa_row266_col1\" class=\"data row266 col1\" >5ea5bb241f5f6c24cea39e063836ed4a7586bb3b163e706e1ef4c9d1a752683c</td>\n",
       "      <td id=\"T_bf4aa_row266_col2\" class=\"data row266 col2\" >ed3ff3ca1cbcd7165660213cb782f7a7d0e15b279a8d9874172f8d1267f5d427</td>\n",
       "      <td id=\"T_bf4aa_row266_col3\" class=\"data row266 col3\" >5ffc1f1d48e32ed011478c1f2824079746972ee0f82c7ad844e10077e505597e</td>\n",
       "      <td id=\"T_bf4aa_row266_col4\" class=\"data row266 col4\" >Good Boy chicken strips 100g</td>\n",
       "    </tr>\n",
       "    <tr>\n",
       "      <th id=\"T_bf4aa_level0_row267\" class=\"row_heading level0 row267\" >143</th>\n",
       "      <td id=\"T_bf4aa_row267_col0\" class=\"data row267 col0\" >8f178858267b3c6eefdc75ccbf9f1e9db9f25379f6e3274f1c5a04006d8c0770</td>\n",
       "      <td id=\"T_bf4aa_row267_col1\" class=\"data row267 col1\" >5ea5bb241f5f6c24cea39e063836ed4a7586bb3b163e706e1ef4c9d1a752683c</td>\n",
       "      <td id=\"T_bf4aa_row267_col2\" class=\"data row267 col2\" >ed3ff3ca1cbcd7165660213cb782f7a7d0e15b279a8d9874172f8d1267f5d427</td>\n",
       "      <td id=\"T_bf4aa_row267_col3\" class=\"data row267 col3\" >5ffc1f1d48e32ed011478c1f2824079746972ee0f82c7ad844e10077e505597e</td>\n",
       "      <td id=\"T_bf4aa_row267_col4\" class=\"data row267 col4\" >Good Boy pigs in blankets 80g</td>\n",
       "    </tr>\n",
       "    <tr>\n",
       "      <th id=\"T_bf4aa_level0_row268\" class=\"row_heading level0 row268\" >85</th>\n",
       "      <td id=\"T_bf4aa_row268_col0\" class=\"data row268 col0\" >8f178858267b3c6eefdc75ccbf9f1e9db9f25379f6e3274f1c5a04006d8c0770</td>\n",
       "      <td id=\"T_bf4aa_row268_col1\" class=\"data row268 col1\" >5ea5bb241f5f6c24cea39e063836ed4a7586bb3b163e706e1ef4c9d1a752683c</td>\n",
       "      <td id=\"T_bf4aa_row268_col2\" class=\"data row268 col2\" >ed3ff3ca1cbcd7165660213cb782f7a7d0e15b279a8d9874172f8d1267f5d427</td>\n",
       "      <td id=\"T_bf4aa_row268_col3\" class=\"data row268 col3\" >5ffc1f1d48e32ed011478c1f2824079746972ee0f82c7ad844e10077e505597e</td>\n",
       "      <td id=\"T_bf4aa_row268_col4\" class=\"data row268 col4\" >JS biscuit rolls with beef 550g</td>\n",
       "    </tr>\n",
       "    <tr>\n",
       "      <th id=\"T_bf4aa_level0_row269\" class=\"row_heading level0 row269\" >114</th>\n",
       "      <td id=\"T_bf4aa_row269_col0\" class=\"data row269 col0\" >8f178858267b3c6eefdc75ccbf9f1e9db9f25379f6e3274f1c5a04006d8c0770</td>\n",
       "      <td id=\"T_bf4aa_row269_col1\" class=\"data row269 col1\" >5ea5bb241f5f6c24cea39e063836ed4a7586bb3b163e706e1ef4c9d1a752683c</td>\n",
       "      <td id=\"T_bf4aa_row269_col2\" class=\"data row269 col2\" >ed3ff3ca1cbcd7165660213cb782f7a7d0e15b279a8d9874172f8d1267f5d427</td>\n",
       "      <td id=\"T_bf4aa_row269_col3\" class=\"data row269 col3\" >5ffc1f1d48e32ed011478c1f2824079746972ee0f82c7ad844e10077e505597e</td>\n",
       "      <td id=\"T_bf4aa_row269_col4\" class=\"data row269 col4\" >JS deli sausages for dogs x8 60g</td>\n",
       "    </tr>\n",
       "    <tr>\n",
       "      <th id=\"T_bf4aa_level0_row270\" class=\"row_heading level0 row270\" >90</th>\n",
       "      <td id=\"T_bf4aa_row270_col0\" class=\"data row270 col0\" >8f178858267b3c6eefdc75ccbf9f1e9db9f25379f6e3274f1c5a04006d8c0770</td>\n",
       "      <td id=\"T_bf4aa_row270_col1\" class=\"data row270 col1\" >5ea5bb241f5f6c24cea39e063836ed4a7586bb3b163e706e1ef4c9d1a752683c</td>\n",
       "      <td id=\"T_bf4aa_row270_col2\" class=\"data row270 col2\" >ed3ff3ca1cbcd7165660213cb782f7a7d0e15b279a8d9874172f8d1267f5d427</td>\n",
       "      <td id=\"T_bf4aa_row270_col3\" class=\"data row270 col3\" >5ffc1f1d48e32ed011478c1f2824079746972ee0f82c7ad844e10077e505597e</td>\n",
       "      <td id=\"T_bf4aa_row270_col4\" class=\"data row270 col4\" >JS deli tripe sticks x15 90g</td>\n",
       "    </tr>\n",
       "    <tr>\n",
       "      <th id=\"T_bf4aa_level0_row271\" class=\"row_heading level0 row271\" >93</th>\n",
       "      <td id=\"T_bf4aa_row271_col0\" class=\"data row271 col0\" >8f178858267b3c6eefdc75ccbf9f1e9db9f25379f6e3274f1c5a04006d8c0770</td>\n",
       "      <td id=\"T_bf4aa_row271_col1\" class=\"data row271 col1\" >5ea5bb241f5f6c24cea39e063836ed4a7586bb3b163e706e1ef4c9d1a752683c</td>\n",
       "      <td id=\"T_bf4aa_row271_col2\" class=\"data row271 col2\" >ed3ff3ca1cbcd7165660213cb782f7a7d0e15b279a8d9874172f8d1267f5d427</td>\n",
       "      <td id=\"T_bf4aa_row271_col3\" class=\"data row271 col3\" >5ffc1f1d48e32ed011478c1f2824079746972ee0f82c7ad844e10077e505597e</td>\n",
       "      <td id=\"T_bf4aa_row271_col4\" class=\"data row271 col4\" >JS dental sticks for large dogs x14 540g</td>\n",
       "    </tr>\n",
       "    <tr>\n",
       "      <th id=\"T_bf4aa_level0_row272\" class=\"row_heading level0 row272\" >96</th>\n",
       "      <td id=\"T_bf4aa_row272_col0\" class=\"data row272 col0\" >8f178858267b3c6eefdc75ccbf9f1e9db9f25379f6e3274f1c5a04006d8c0770</td>\n",
       "      <td id=\"T_bf4aa_row272_col1\" class=\"data row272 col1\" >5ea5bb241f5f6c24cea39e063836ed4a7586bb3b163e706e1ef4c9d1a752683c</td>\n",
       "      <td id=\"T_bf4aa_row272_col2\" class=\"data row272 col2\" >ed3ff3ca1cbcd7165660213cb782f7a7d0e15b279a8d9874172f8d1267f5d427</td>\n",
       "      <td id=\"T_bf4aa_row272_col3\" class=\"data row272 col3\" >5ffc1f1d48e32ed011478c1f2824079746972ee0f82c7ad844e10077e505597e</td>\n",
       "      <td id=\"T_bf4aa_row272_col4\" class=\"data row272 col4\" >JS dental sticks for small dogs x14 220g</td>\n",
       "    </tr>\n",
       "    <tr>\n",
       "      <th id=\"T_bf4aa_level0_row273\" class=\"row_heading level0 row273\" >141</th>\n",
       "      <td id=\"T_bf4aa_row273_col0\" class=\"data row273 col0\" >8f178858267b3c6eefdc75ccbf9f1e9db9f25379f6e3274f1c5a04006d8c0770</td>\n",
       "      <td id=\"T_bf4aa_row273_col1\" class=\"data row273 col1\" >5ea5bb241f5f6c24cea39e063836ed4a7586bb3b163e706e1ef4c9d1a752683c</td>\n",
       "      <td id=\"T_bf4aa_row273_col2\" class=\"data row273 col2\" >ed3ff3ca1cbcd7165660213cb782f7a7d0e15b279a8d9874172f8d1267f5d427</td>\n",
       "      <td id=\"T_bf4aa_row273_col3\" class=\"data row273 col3\" >5ffc1f1d48e32ed011478c1f2824079746972ee0f82c7ad844e10077e505597e</td>\n",
       "      <td id=\"T_bf4aa_row273_col4\" class=\"data row273 col4\" >JS dental sticks medium dogs x14 360g</td>\n",
       "    </tr>\n",
       "    <tr>\n",
       "      <th id=\"T_bf4aa_level0_row274\" class=\"row_heading level0 row274\" >99</th>\n",
       "      <td id=\"T_bf4aa_row274_col0\" class=\"data row274 col0\" >8f178858267b3c6eefdc75ccbf9f1e9db9f25379f6e3274f1c5a04006d8c0770</td>\n",
       "      <td id=\"T_bf4aa_row274_col1\" class=\"data row274 col1\" >5ea5bb241f5f6c24cea39e063836ed4a7586bb3b163e706e1ef4c9d1a752683c</td>\n",
       "      <td id=\"T_bf4aa_row274_col2\" class=\"data row274 col2\" >ed3ff3ca1cbcd7165660213cb782f7a7d0e15b279a8d9874172f8d1267f5d427</td>\n",
       "      <td id=\"T_bf4aa_row274_col3\" class=\"data row274 col3\" >5ffc1f1d48e32ed011478c1f2824079746972ee0f82c7ad844e10077e505597e</td>\n",
       "      <td id=\"T_bf4aa_row274_col4\" class=\"data row274 col4\" >JS dog biscuits bone selection 650g</td>\n",
       "    </tr>\n",
       "    <tr>\n",
       "      <th id=\"T_bf4aa_level0_row275\" class=\"row_heading level0 row275\" >84</th>\n",
       "      <td id=\"T_bf4aa_row275_col0\" class=\"data row275 col0\" >8f178858267b3c6eefdc75ccbf9f1e9db9f25379f6e3274f1c5a04006d8c0770</td>\n",
       "      <td id=\"T_bf4aa_row275_col1\" class=\"data row275 col1\" >5ea5bb241f5f6c24cea39e063836ed4a7586bb3b163e706e1ef4c9d1a752683c</td>\n",
       "      <td id=\"T_bf4aa_row275_col2\" class=\"data row275 col2\" >ed3ff3ca1cbcd7165660213cb782f7a7d0e15b279a8d9874172f8d1267f5d427</td>\n",
       "      <td id=\"T_bf4aa_row275_col3\" class=\"data row275 col3\" >5ffc1f1d48e32ed011478c1f2824079746972ee0f82c7ad844e10077e505597e</td>\n",
       "      <td id=\"T_bf4aa_row275_col4\" class=\"data row275 col4\" >JS doggy donuts with chicken 200g</td>\n",
       "    </tr>\n",
       "    <tr>\n",
       "      <th id=\"T_bf4aa_level0_row276\" class=\"row_heading level0 row276\" >108</th>\n",
       "      <td id=\"T_bf4aa_row276_col0\" class=\"data row276 col0\" >8f178858267b3c6eefdc75ccbf9f1e9db9f25379f6e3274f1c5a04006d8c0770</td>\n",
       "      <td id=\"T_bf4aa_row276_col1\" class=\"data row276 col1\" >5ea5bb241f5f6c24cea39e063836ed4a7586bb3b163e706e1ef4c9d1a752683c</td>\n",
       "      <td id=\"T_bf4aa_row276_col2\" class=\"data row276 col2\" >ed3ff3ca1cbcd7165660213cb782f7a7d0e15b279a8d9874172f8d1267f5d427</td>\n",
       "      <td id=\"T_bf4aa_row276_col3\" class=\"data row276 col3\" >5ffc1f1d48e32ed011478c1f2824079746972ee0f82c7ad844e10077e505597e</td>\n",
       "      <td id=\"T_bf4aa_row276_col4\" class=\"data row276 col4\" >JS gravy bones 400g</td>\n",
       "    </tr>\n",
       "    <tr>\n",
       "      <th id=\"T_bf4aa_level0_row277\" class=\"row_heading level0 row277\" >97</th>\n",
       "      <td id=\"T_bf4aa_row277_col0\" class=\"data row277 col0\" >8f178858267b3c6eefdc75ccbf9f1e9db9f25379f6e3274f1c5a04006d8c0770</td>\n",
       "      <td id=\"T_bf4aa_row277_col1\" class=\"data row277 col1\" >5ea5bb241f5f6c24cea39e063836ed4a7586bb3b163e706e1ef4c9d1a752683c</td>\n",
       "      <td id=\"T_bf4aa_row277_col2\" class=\"data row277 col2\" >ed3ff3ca1cbcd7165660213cb782f7a7d0e15b279a8d9874172f8d1267f5d427</td>\n",
       "      <td id=\"T_bf4aa_row277_col3\" class=\"data row277 col3\" >5ffc1f1d48e32ed011478c1f2824079746972ee0f82c7ad844e10077e505597e</td>\n",
       "      <td id=\"T_bf4aa_row277_col4\" class=\"data row277 col4\" >JS log bones with chicken x2 200g</td>\n",
       "    </tr>\n",
       "    <tr>\n",
       "      <th id=\"T_bf4aa_level0_row278\" class=\"row_heading level0 row278\" >82</th>\n",
       "      <td id=\"T_bf4aa_row278_col0\" class=\"data row278 col0\" >8f178858267b3c6eefdc75ccbf9f1e9db9f25379f6e3274f1c5a04006d8c0770</td>\n",
       "      <td id=\"T_bf4aa_row278_col1\" class=\"data row278 col1\" >5ea5bb241f5f6c24cea39e063836ed4a7586bb3b163e706e1ef4c9d1a752683c</td>\n",
       "      <td id=\"T_bf4aa_row278_col2\" class=\"data row278 col2\" >ed3ff3ca1cbcd7165660213cb782f7a7d0e15b279a8d9874172f8d1267f5d427</td>\n",
       "      <td id=\"T_bf4aa_row278_col3\" class=\"data row278 col3\" >5ffc1f1d48e32ed011478c1f2824079746972ee0f82c7ad844e10077e505597e</td>\n",
       "      <td id=\"T_bf4aa_row278_col4\" class=\"data row278 col4\" >JS meaty rolls x15 135g</td>\n",
       "    </tr>\n",
       "    <tr>\n",
       "      <th id=\"T_bf4aa_level0_row279\" class=\"row_heading level0 row279\" >101</th>\n",
       "      <td id=\"T_bf4aa_row279_col0\" class=\"data row279 col0\" >8f178858267b3c6eefdc75ccbf9f1e9db9f25379f6e3274f1c5a04006d8c0770</td>\n",
       "      <td id=\"T_bf4aa_row279_col1\" class=\"data row279 col1\" >5ea5bb241f5f6c24cea39e063836ed4a7586bb3b163e706e1ef4c9d1a752683c</td>\n",
       "      <td id=\"T_bf4aa_row279_col2\" class=\"data row279 col2\" >ed3ff3ca1cbcd7165660213cb782f7a7d0e15b279a8d9874172f8d1267f5d427</td>\n",
       "      <td id=\"T_bf4aa_row279_col3\" class=\"data row279 col3\" >5ffc1f1d48e32ed011478c1f2824079746972ee0f82c7ad844e10077e505597e</td>\n",
       "      <td id=\"T_bf4aa_row279_col4\" class=\"data row279 col4\" >JS meaty strips beef x20 200g</td>\n",
       "    </tr>\n",
       "    <tr>\n",
       "      <th id=\"T_bf4aa_level0_row280\" class=\"row_heading level0 row280\" >145</th>\n",
       "      <td id=\"T_bf4aa_row280_col0\" class=\"data row280 col0\" >8f178858267b3c6eefdc75ccbf9f1e9db9f25379f6e3274f1c5a04006d8c0770</td>\n",
       "      <td id=\"T_bf4aa_row280_col1\" class=\"data row280 col1\" >5ea5bb241f5f6c24cea39e063836ed4a7586bb3b163e706e1ef4c9d1a752683c</td>\n",
       "      <td id=\"T_bf4aa_row280_col2\" class=\"data row280 col2\" >ed3ff3ca1cbcd7165660213cb782f7a7d0e15b279a8d9874172f8d1267f5d427</td>\n",
       "      <td id=\"T_bf4aa_row280_col3\" class=\"data row280 col3\" >5ffc1f1d48e32ed011478c1f2824079746972ee0f82c7ad844e10077e505597e</td>\n",
       "      <td id=\"T_bf4aa_row280_col4\" class=\"data row280 col4\" >JS meaty strips chicken x20 200g</td>\n",
       "    </tr>\n",
       "    <tr>\n",
       "      <th id=\"T_bf4aa_level0_row281\" class=\"row_heading level0 row281\" >138</th>\n",
       "      <td id=\"T_bf4aa_row281_col0\" class=\"data row281 col0\" >8f178858267b3c6eefdc75ccbf9f1e9db9f25379f6e3274f1c5a04006d8c0770</td>\n",
       "      <td id=\"T_bf4aa_row281_col1\" class=\"data row281 col1\" >5ea5bb241f5f6c24cea39e063836ed4a7586bb3b163e706e1ef4c9d1a752683c</td>\n",
       "      <td id=\"T_bf4aa_row281_col2\" class=\"data row281 col2\" >ed3ff3ca1cbcd7165660213cb782f7a7d0e15b279a8d9874172f8d1267f5d427</td>\n",
       "      <td id=\"T_bf4aa_row281_col3\" class=\"data row281 col3\" >5ffc1f1d48e32ed011478c1f2824079746972ee0f82c7ad844e10077e505597e</td>\n",
       "      <td id=\"T_bf4aa_row281_col4\" class=\"data row281 col4\" >JS milky bones for small dogs 400g</td>\n",
       "    </tr>\n",
       "    <tr>\n",
       "      <th id=\"T_bf4aa_level0_row282\" class=\"row_heading level0 row282\" >86</th>\n",
       "      <td id=\"T_bf4aa_row282_col0\" class=\"data row282 col0\" >8f178858267b3c6eefdc75ccbf9f1e9db9f25379f6e3274f1c5a04006d8c0770</td>\n",
       "      <td id=\"T_bf4aa_row282_col1\" class=\"data row282 col1\" >5ea5bb241f5f6c24cea39e063836ed4a7586bb3b163e706e1ef4c9d1a752683c</td>\n",
       "      <td id=\"T_bf4aa_row282_col2\" class=\"data row282 col2\" >ed3ff3ca1cbcd7165660213cb782f7a7d0e15b279a8d9874172f8d1267f5d427</td>\n",
       "      <td id=\"T_bf4aa_row282_col3\" class=\"data row282 col3\" >5ffc1f1d48e32ed011478c1f2824079746972ee0f82c7ad844e10077e505597e</td>\n",
       "      <td id=\"T_bf4aa_row282_col4\" class=\"data row282 col4\" >JS mini log bones with chicken 200g</td>\n",
       "    </tr>\n",
       "    <tr>\n",
       "      <th id=\"T_bf4aa_level0_row283\" class=\"row_heading level0 row283\" >112</th>\n",
       "      <td id=\"T_bf4aa_row283_col0\" class=\"data row283 col0\" >8f178858267b3c6eefdc75ccbf9f1e9db9f25379f6e3274f1c5a04006d8c0770</td>\n",
       "      <td id=\"T_bf4aa_row283_col1\" class=\"data row283 col1\" >5ea5bb241f5f6c24cea39e063836ed4a7586bb3b163e706e1ef4c9d1a752683c</td>\n",
       "      <td id=\"T_bf4aa_row283_col2\" class=\"data row283 col2\" >ed3ff3ca1cbcd7165660213cb782f7a7d0e15b279a8d9874172f8d1267f5d427</td>\n",
       "      <td id=\"T_bf4aa_row283_col3\" class=\"data row283 col3\" >5ffc1f1d48e32ed011478c1f2824079746972ee0f82c7ad844e10077e505597e</td>\n",
       "      <td id=\"T_bf4aa_row283_col4\" class=\"data row283 col4\" >JS mini log bones with chicken x4 180g</td>\n",
       "    </tr>\n",
       "    <tr>\n",
       "      <th id=\"T_bf4aa_level0_row284\" class=\"row_heading level0 row284\" >95</th>\n",
       "      <td id=\"T_bf4aa_row284_col0\" class=\"data row284 col0\" >8f178858267b3c6eefdc75ccbf9f1e9db9f25379f6e3274f1c5a04006d8c0770</td>\n",
       "      <td id=\"T_bf4aa_row284_col1\" class=\"data row284 col1\" >5ea5bb241f5f6c24cea39e063836ed4a7586bb3b163e706e1ef4c9d1a752683c</td>\n",
       "      <td id=\"T_bf4aa_row284_col2\" class=\"data row284 col2\" >ed3ff3ca1cbcd7165660213cb782f7a7d0e15b279a8d9874172f8d1267f5d427</td>\n",
       "      <td id=\"T_bf4aa_row284_col3\" class=\"data row284 col3\" >5ffc1f1d48e32ed011478c1f2824079746972ee0f82c7ad844e10077e505597e</td>\n",
       "      <td id=\"T_bf4aa_row284_col4\" class=\"data row284 col4\" >JS minty fresh dental sticks large 540g</td>\n",
       "    </tr>\n",
       "    <tr>\n",
       "      <th id=\"T_bf4aa_level0_row285\" class=\"row_heading level0 row285\" >107</th>\n",
       "      <td id=\"T_bf4aa_row285_col0\" class=\"data row285 col0\" >8f178858267b3c6eefdc75ccbf9f1e9db9f25379f6e3274f1c5a04006d8c0770</td>\n",
       "      <td id=\"T_bf4aa_row285_col1\" class=\"data row285 col1\" >5ea5bb241f5f6c24cea39e063836ed4a7586bb3b163e706e1ef4c9d1a752683c</td>\n",
       "      <td id=\"T_bf4aa_row285_col2\" class=\"data row285 col2\" >ed3ff3ca1cbcd7165660213cb782f7a7d0e15b279a8d9874172f8d1267f5d427</td>\n",
       "      <td id=\"T_bf4aa_row285_col3\" class=\"data row285 col3\" >5ffc1f1d48e32ed011478c1f2824079746972ee0f82c7ad844e10077e505597e</td>\n",
       "      <td id=\"T_bf4aa_row285_col4\" class=\"data row285 col4\" >JS minty fresh dental sticks medium 360g</td>\n",
       "    </tr>\n",
       "    <tr>\n",
       "      <th id=\"T_bf4aa_level0_row286\" class=\"row_heading level0 row286\" >144</th>\n",
       "      <td id=\"T_bf4aa_row286_col0\" class=\"data row286 col0\" >8f178858267b3c6eefdc75ccbf9f1e9db9f25379f6e3274f1c5a04006d8c0770</td>\n",
       "      <td id=\"T_bf4aa_row286_col1\" class=\"data row286 col1\" >5ea5bb241f5f6c24cea39e063836ed4a7586bb3b163e706e1ef4c9d1a752683c</td>\n",
       "      <td id=\"T_bf4aa_row286_col2\" class=\"data row286 col2\" >ed3ff3ca1cbcd7165660213cb782f7a7d0e15b279a8d9874172f8d1267f5d427</td>\n",
       "      <td id=\"T_bf4aa_row286_col3\" class=\"data row286 col3\" >5ffc1f1d48e32ed011478c1f2824079746972ee0f82c7ad844e10077e505597e</td>\n",
       "      <td id=\"T_bf4aa_row286_col4\" class=\"data row286 col4\" >JS small biscuit bones for dogs 800g</td>\n",
       "    </tr>\n",
       "    <tr>\n",
       "      <th id=\"T_bf4aa_level0_row287\" class=\"row_heading level0 row287\" >105</th>\n",
       "      <td id=\"T_bf4aa_row287_col0\" class=\"data row287 col0\" >8f178858267b3c6eefdc75ccbf9f1e9db9f25379f6e3274f1c5a04006d8c0770</td>\n",
       "      <td id=\"T_bf4aa_row287_col1\" class=\"data row287 col1\" >5ea5bb241f5f6c24cea39e063836ed4a7586bb3b163e706e1ef4c9d1a752683c</td>\n",
       "      <td id=\"T_bf4aa_row287_col2\" class=\"data row287 col2\" >ed3ff3ca1cbcd7165660213cb782f7a7d0e15b279a8d9874172f8d1267f5d427</td>\n",
       "      <td id=\"T_bf4aa_row287_col3\" class=\"data row287 col3\" >5ffc1f1d48e32ed011478c1f2824079746972ee0f82c7ad844e10077e505597e</td>\n",
       "      <td id=\"T_bf4aa_row287_col4\" class=\"data row287 col4\" >JS training treats rich in chicken 125g</td>\n",
       "    </tr>\n",
       "    <tr>\n",
       "      <th id=\"T_bf4aa_level0_row288\" class=\"row_heading level0 row288\" >102</th>\n",
       "      <td id=\"T_bf4aa_row288_col0\" class=\"data row288 col0\" >8f178858267b3c6eefdc75ccbf9f1e9db9f25379f6e3274f1c5a04006d8c0770</td>\n",
       "      <td id=\"T_bf4aa_row288_col1\" class=\"data row288 col1\" >5ea5bb241f5f6c24cea39e063836ed4a7586bb3b163e706e1ef4c9d1a752683c</td>\n",
       "      <td id=\"T_bf4aa_row288_col2\" class=\"data row288 col2\" >ed3ff3ca1cbcd7165660213cb782f7a7d0e15b279a8d9874172f8d1267f5d427</td>\n",
       "      <td id=\"T_bf4aa_row288_col3\" class=\"data row288 col3\" >5ffc1f1d48e32ed011478c1f2824079746972ee0f82c7ad844e10077e505597e</td>\n",
       "      <td id=\"T_bf4aa_row288_col4\" class=\"data row288 col4\" >JS twister with chicken & game x8 120g</td>\n",
       "    </tr>\n",
       "    <tr>\n",
       "      <th id=\"T_bf4aa_level0_row289\" class=\"row_heading level0 row289\" >100</th>\n",
       "      <td id=\"T_bf4aa_row289_col0\" class=\"data row289 col0\" >8f178858267b3c6eefdc75ccbf9f1e9db9f25379f6e3274f1c5a04006d8c0770</td>\n",
       "      <td id=\"T_bf4aa_row289_col1\" class=\"data row289 col1\" >5ea5bb241f5f6c24cea39e063836ed4a7586bb3b163e706e1ef4c9d1a752683c</td>\n",
       "      <td id=\"T_bf4aa_row289_col2\" class=\"data row289 col2\" >ed3ff3ca1cbcd7165660213cb782f7a7d0e15b279a8d9874172f8d1267f5d427</td>\n",
       "      <td id=\"T_bf4aa_row289_col3\" class=\"data row289 col3\" >5ffc1f1d48e32ed011478c1f2824079746972ee0f82c7ad844e10077e505597e</td>\n",
       "      <td id=\"T_bf4aa_row289_col4\" class=\"data row289 col4\" >Misfits twistos with beef 105g</td>\n",
       "    </tr>\n",
       "    <tr>\n",
       "      <th id=\"T_bf4aa_level0_row290\" class=\"row_heading level0 row290\" >113</th>\n",
       "      <td id=\"T_bf4aa_row290_col0\" class=\"data row290 col0\" >8f178858267b3c6eefdc75ccbf9f1e9db9f25379f6e3274f1c5a04006d8c0770</td>\n",
       "      <td id=\"T_bf4aa_row290_col1\" class=\"data row290 col1\" >5ea5bb241f5f6c24cea39e063836ed4a7586bb3b163e706e1ef4c9d1a752683c</td>\n",
       "      <td id=\"T_bf4aa_row290_col2\" class=\"data row290 col2\" >ed3ff3ca1cbcd7165660213cb782f7a7d0e15b279a8d9874172f8d1267f5d427</td>\n",
       "      <td id=\"T_bf4aa_row290_col3\" class=\"data row290 col3\" >5ffc1f1d48e32ed011478c1f2824079746972ee0f82c7ad844e10077e505597e</td>\n",
       "      <td id=\"T_bf4aa_row290_col4\" class=\"data row290 col4\" >Pedigree dentastix medium dog x28 720g</td>\n",
       "    </tr>\n",
       "    <tr>\n",
       "      <th id=\"T_bf4aa_level0_row291\" class=\"row_heading level0 row291\" >117</th>\n",
       "      <td id=\"T_bf4aa_row291_col0\" class=\"data row291 col0\" >8f178858267b3c6eefdc75ccbf9f1e9db9f25379f6e3274f1c5a04006d8c0770</td>\n",
       "      <td id=\"T_bf4aa_row291_col1\" class=\"data row291 col1\" >5ea5bb241f5f6c24cea39e063836ed4a7586bb3b163e706e1ef4c9d1a752683c</td>\n",
       "      <td id=\"T_bf4aa_row291_col2\" class=\"data row291 col2\" >ed3ff3ca1cbcd7165660213cb782f7a7d0e15b279a8d9874172f8d1267f5d427</td>\n",
       "      <td id=\"T_bf4aa_row291_col3\" class=\"data row291 col3\" >5ffc1f1d48e32ed011478c1f2824079746972ee0f82c7ad844e10077e505597e</td>\n",
       "      <td id=\"T_bf4aa_row291_col4\" class=\"data row291 col4\" >Pedigree dentastix small dog x7 110g</td>\n",
       "    </tr>\n",
       "    <tr>\n",
       "      <th id=\"T_bf4aa_level0_row292\" class=\"row_heading level0 row292\" >88</th>\n",
       "      <td id=\"T_bf4aa_row292_col0\" class=\"data row292 col0\" >8f178858267b3c6eefdc75ccbf9f1e9db9f25379f6e3274f1c5a04006d8c0770</td>\n",
       "      <td id=\"T_bf4aa_row292_col1\" class=\"data row292 col1\" >5ea5bb241f5f6c24cea39e063836ed4a7586bb3b163e706e1ef4c9d1a752683c</td>\n",
       "      <td id=\"T_bf4aa_row292_col2\" class=\"data row292 col2\" >ed3ff3ca1cbcd7165660213cb782f7a7d0e15b279a8d9874172f8d1267f5d427</td>\n",
       "      <td id=\"T_bf4aa_row292_col3\" class=\"data row292 col3\" >5ffc1f1d48e32ed011478c1f2824079746972ee0f82c7ad844e10077e505597e</td>\n",
       "      <td id=\"T_bf4aa_row292_col4\" class=\"data row292 col4\" >Pedigree mini markies 500g</td>\n",
       "    </tr>\n",
       "    <tr>\n",
       "      <th id=\"T_bf4aa_level0_row293\" class=\"row_heading level0 row293\" >118</th>\n",
       "      <td id=\"T_bf4aa_row293_col0\" class=\"data row293 col0\" >8f178858267b3c6eefdc75ccbf9f1e9db9f25379f6e3274f1c5a04006d8c0770</td>\n",
       "      <td id=\"T_bf4aa_row293_col1\" class=\"data row293 col1\" >5ea5bb241f5f6c24cea39e063836ed4a7586bb3b163e706e1ef4c9d1a752683c</td>\n",
       "      <td id=\"T_bf4aa_row293_col2\" class=\"data row293 col2\" >ed3ff3ca1cbcd7165660213cb782f7a7d0e15b279a8d9874172f8d1267f5d427</td>\n",
       "      <td id=\"T_bf4aa_row293_col3\" class=\"data row293 col3\" >5ffc1f1d48e32ed011478c1f2824079746972ee0f82c7ad844e10077e505597e</td>\n",
       "      <td id=\"T_bf4aa_row293_col4\" class=\"data row293 col4\" >Pedigree tasty minis beef & cheese 140g</td>\n",
       "    </tr>\n",
       "    <tr>\n",
       "      <th id=\"T_bf4aa_level0_row294\" class=\"row_heading level0 row294\" >91</th>\n",
       "      <td id=\"T_bf4aa_row294_col0\" class=\"data row294 col0\" >8f178858267b3c6eefdc75ccbf9f1e9db9f25379f6e3274f1c5a04006d8c0770</td>\n",
       "      <td id=\"T_bf4aa_row294_col1\" class=\"data row294 col1\" >5ea5bb241f5f6c24cea39e063836ed4a7586bb3b163e706e1ef4c9d1a752683c</td>\n",
       "      <td id=\"T_bf4aa_row294_col2\" class=\"data row294 col2\" >ed3ff3ca1cbcd7165660213cb782f7a7d0e15b279a8d9874172f8d1267f5d427</td>\n",
       "      <td id=\"T_bf4aa_row294_col3\" class=\"data row294 col3\" >5ffc1f1d48e32ed011478c1f2824079746972ee0f82c7ad844e10077e505597e</td>\n",
       "      <td id=\"T_bf4aa_row294_col4\" class=\"data row294 col4\" >Pedigree tasty minis cubes chk/duck 130g</td>\n",
       "    </tr>\n",
       "    <tr>\n",
       "      <th id=\"T_bf4aa_level0_row295\" class=\"row_heading level0 row295\" >103</th>\n",
       "      <td id=\"T_bf4aa_row295_col0\" class=\"data row295 col0\" >8f178858267b3c6eefdc75ccbf9f1e9db9f25379f6e3274f1c5a04006d8c0770</td>\n",
       "      <td id=\"T_bf4aa_row295_col1\" class=\"data row295 col1\" >5ea5bb241f5f6c24cea39e063836ed4a7586bb3b163e706e1ef4c9d1a752683c</td>\n",
       "      <td id=\"T_bf4aa_row295_col2\" class=\"data row295 col2\" >ed3ff3ca1cbcd7165660213cb782f7a7d0e15b279a8d9874172f8d1267f5d427</td>\n",
       "      <td id=\"T_bf4aa_row295_col3\" class=\"data row295 col3\" >5ffc1f1d48e32ed011478c1f2824079746972ee0f82c7ad844e10077e505597e</td>\n",
       "      <td id=\"T_bf4aa_row295_col4\" class=\"data row295 col4\" >Pedigree tasty minis puppy 125g</td>\n",
       "    </tr>\n",
       "    <tr>\n",
       "      <th id=\"T_bf4aa_level0_row296\" class=\"row_heading level0 row296\" >111</th>\n",
       "      <td id=\"T_bf4aa_row296_col0\" class=\"data row296 col0\" >8f178858267b3c6eefdc75ccbf9f1e9db9f25379f6e3274f1c5a04006d8c0770</td>\n",
       "      <td id=\"T_bf4aa_row296_col1\" class=\"data row296 col1\" >5ea5bb241f5f6c24cea39e063836ed4a7586bb3b163e706e1ef4c9d1a752683c</td>\n",
       "      <td id=\"T_bf4aa_row296_col2\" class=\"data row296 col2\" >ed3ff3ca1cbcd7165660213cb782f7a7d0e15b279a8d9874172f8d1267f5d427</td>\n",
       "      <td id=\"T_bf4aa_row296_col3\" class=\"data row296 col3\" >5ffc1f1d48e32ed011478c1f2824079746972ee0f82c7ad844e10077e505597e</td>\n",
       "      <td id=\"T_bf4aa_row296_col4\" class=\"data row296 col4\" >Wagg low fat treats 125g</td>\n",
       "    </tr>\n",
       "    <tr>\n",
       "      <th id=\"T_bf4aa_level0_row297\" class=\"row_heading level0 row297\" >92</th>\n",
       "      <td id=\"T_bf4aa_row297_col0\" class=\"data row297 col0\" >8f178858267b3c6eefdc75ccbf9f1e9db9f25379f6e3274f1c5a04006d8c0770</td>\n",
       "      <td id=\"T_bf4aa_row297_col1\" class=\"data row297 col1\" >5ea5bb241f5f6c24cea39e063836ed4a7586bb3b163e706e1ef4c9d1a752683c</td>\n",
       "      <td id=\"T_bf4aa_row297_col2\" class=\"data row297 col2\" >ed3ff3ca1cbcd7165660213cb782f7a7d0e15b279a8d9874172f8d1267f5d427</td>\n",
       "      <td id=\"T_bf4aa_row297_col3\" class=\"data row297 col3\" >5ffc1f1d48e32ed011478c1f2824079746972ee0f82c7ad844e10077e505597e</td>\n",
       "      <td id=\"T_bf4aa_row297_col4\" class=\"data row297 col4\" >Wagg steaklets dog treats 125g</td>\n",
       "    </tr>\n",
       "    <tr>\n",
       "      <th id=\"T_bf4aa_level0_row298\" class=\"row_heading level0 row298\" >104</th>\n",
       "      <td id=\"T_bf4aa_row298_col0\" class=\"data row298 col0\" >8f178858267b3c6eefdc75ccbf9f1e9db9f25379f6e3274f1c5a04006d8c0770</td>\n",
       "      <td id=\"T_bf4aa_row298_col1\" class=\"data row298 col1\" >5ea5bb241f5f6c24cea39e063836ed4a7586bb3b163e706e1ef4c9d1a752683c</td>\n",
       "      <td id=\"T_bf4aa_row298_col2\" class=\"data row298 col2\" >ed3ff3ca1cbcd7165660213cb782f7a7d0e15b279a8d9874172f8d1267f5d427</td>\n",
       "      <td id=\"T_bf4aa_row298_col3\" class=\"data row298 col3\" >5ffc1f1d48e32ed011478c1f2824079746972ee0f82c7ad844e10077e505597e</td>\n",
       "      <td id=\"T_bf4aa_row298_col4\" class=\"data row298 col4\" >Wagg training treats 125g</td>\n",
       "    </tr>\n",
       "    <tr>\n",
       "      <th id=\"T_bf4aa_level0_row299\" class=\"row_heading level0 row299\" >106</th>\n",
       "      <td id=\"T_bf4aa_row299_col0\" class=\"data row299 col0\" >8f178858267b3c6eefdc75ccbf9f1e9db9f25379f6e3274f1c5a04006d8c0770</td>\n",
       "      <td id=\"T_bf4aa_row299_col1\" class=\"data row299 col1\" >5ea5bb241f5f6c24cea39e063836ed4a7586bb3b163e706e1ef4c9d1a752683c</td>\n",
       "      <td id=\"T_bf4aa_row299_col2\" class=\"data row299 col2\" >fe1c3939dcb78e33b8ada7ba6018c5e37ee27d61ffd1ed5ebd866c2594eca700</td>\n",
       "      <td id=\"T_bf4aa_row299_col3\" class=\"data row299 col3\" >5ffc1f1d48e32ed011478c1f2824079746972ee0f82c7ad844e10077e505597e</td>\n",
       "      <td id=\"T_bf4aa_row299_col4\" class=\"data row299 col4\" >Bonio original 1.2kg</td>\n",
       "    </tr>\n",
       "  </tbody>\n",
       "</table>\n",
       "\n",
       "        </div>\n",
       "    "
      ],
      "text/plain": [
       "<IPython.core.display.HTML object>"
      ]
     },
     "metadata": {},
     "output_type": "display_data"
    }
   ],
   "source": [
    "table(sorted_items)"
   ]
  },
  {
   "cell_type": "code",
   "execution_count": 11,
   "metadata": {},
   "outputs": [
    {
     "data": {
      "text/html": [
       "<div>\n",
       "<style scoped>\n",
       "    .dataframe tbody tr th:only-of-type {\n",
       "        vertical-align: middle;\n",
       "    }\n",
       "\n",
       "    .dataframe tbody tr th {\n",
       "        vertical-align: top;\n",
       "    }\n",
       "\n",
       "    .dataframe thead th {\n",
       "        text-align: right;\n",
       "    }\n",
       "</style>\n",
       "<table border=\"1\" class=\"dataframe\">\n",
       "  <thead>\n",
       "    <tr style=\"text-align: right;\">\n",
       "      <th></th>\n",
       "      <th>SUB_CAT</th>\n",
       "      <th>CAT</th>\n",
       "      <th>SEGMENT</th>\n",
       "      <th>SUPER_CAT</th>\n",
       "      <th>ITEM_NAME</th>\n",
       "    </tr>\n",
       "  </thead>\n",
       "  <tbody>\n",
       "    <tr>\n",
       "      <th>310</th>\n",
       "      <td>083b1bcdf8604abe9ad073177f099c2c9e45361a3c62e3...</td>\n",
       "      <td>8bf754f57d95e45c904217a724480ad69378d5ab5a9f24...</td>\n",
       "      <td>16be8024fb14038b5509cc9a49fa7ce40b5549c4e76940...</td>\n",
       "      <td>5ffc1f1d48e32ed011478c1f2824079746972ee0f82c7a...</td>\n",
       "      <td>Bio Catolet paper cat litter 12L</td>\n",
       "    </tr>\n",
       "    <tr>\n",
       "      <th>317</th>\n",
       "      <td>083b1bcdf8604abe9ad073177f099c2c9e45361a3c62e3...</td>\n",
       "      <td>8bf754f57d95e45c904217a724480ad69378d5ab5a9f24...</td>\n",
       "      <td>16be8024fb14038b5509cc9a49fa7ce40b5549c4e76940...</td>\n",
       "      <td>5ffc1f1d48e32ed011478c1f2824079746972ee0f82c7a...</td>\n",
       "      <td>Catsan hygiene cat litter 10L</td>\n",
       "    </tr>\n",
       "    <tr>\n",
       "      <th>312</th>\n",
       "      <td>083b1bcdf8604abe9ad073177f099c2c9e45361a3c62e3...</td>\n",
       "      <td>8bf754f57d95e45c904217a724480ad69378d5ab5a9f24...</td>\n",
       "      <td>16be8024fb14038b5509cc9a49fa7ce40b5549c4e76940...</td>\n",
       "      <td>5ffc1f1d48e32ed011478c1f2824079746972ee0f82c7a...</td>\n",
       "      <td>Catsan hygiene cat litter 20L</td>\n",
       "    </tr>\n",
       "    <tr>\n",
       "      <th>314</th>\n",
       "      <td>083b1bcdf8604abe9ad073177f099c2c9e45361a3c62e3...</td>\n",
       "      <td>8bf754f57d95e45c904217a724480ad69378d5ab5a9f24...</td>\n",
       "      <td>16be8024fb14038b5509cc9a49fa7ce40b5549c4e76940...</td>\n",
       "      <td>5ffc1f1d48e32ed011478c1f2824079746972ee0f82c7a...</td>\n",
       "      <td>Felight anti-bacterial cat litter 10L</td>\n",
       "    </tr>\n",
       "    <tr>\n",
       "      <th>316</th>\n",
       "      <td>083b1bcdf8604abe9ad073177f099c2c9e45361a3c62e3...</td>\n",
       "      <td>8bf754f57d95e45c904217a724480ad69378d5ab5a9f24...</td>\n",
       "      <td>16be8024fb14038b5509cc9a49fa7ce40b5549c4e76940...</td>\n",
       "      <td>5ffc1f1d48e32ed011478c1f2824079746972ee0f82c7a...</td>\n",
       "      <td>Felight anti-bacterial cat litter 20L</td>\n",
       "    </tr>\n",
       "    <tr>\n",
       "      <th>315</th>\n",
       "      <td>083b1bcdf8604abe9ad073177f099c2c9e45361a3c62e3...</td>\n",
       "      <td>8bf754f57d95e45c904217a724480ad69378d5ab5a9f24...</td>\n",
       "      <td>16be8024fb14038b5509cc9a49fa7ce40b5549c4e76940...</td>\n",
       "      <td>5ffc1f1d48e32ed011478c1f2824079746972ee0f82c7a...</td>\n",
       "      <td>JS anti-bac ultra clumping cat litter 8L</td>\n",
       "    </tr>\n",
       "    <tr>\n",
       "      <th>311</th>\n",
       "      <td>083b1bcdf8604abe9ad073177f099c2c9e45361a3c62e3...</td>\n",
       "      <td>8bf754f57d95e45c904217a724480ad69378d5ab5a9f24...</td>\n",
       "      <td>16be8024fb14038b5509cc9a49fa7ce40b5549c4e76940...</td>\n",
       "      <td>5ffc1f1d48e32ed011478c1f2824079746972ee0f82c7a...</td>\n",
       "      <td>JS odour control cat litter 10L</td>\n",
       "    </tr>\n",
       "    <tr>\n",
       "      <th>318</th>\n",
       "      <td>083b1bcdf8604abe9ad073177f099c2c9e45361a3c62e3...</td>\n",
       "      <td>8bf754f57d95e45c904217a724480ad69378d5ab5a9f24...</td>\n",
       "      <td>16be8024fb14038b5509cc9a49fa7ce40b5549c4e76940...</td>\n",
       "      <td>5ffc1f1d48e32ed011478c1f2824079746972ee0f82c7a...</td>\n",
       "      <td>JS recycled FSC wood cat litter 10L</td>\n",
       "    </tr>\n",
       "    <tr>\n",
       "      <th>313</th>\n",
       "      <td>083b1bcdf8604abe9ad073177f099c2c9e45361a3c62e3...</td>\n",
       "      <td>8bf754f57d95e45c904217a724480ad69378d5ab5a9f24...</td>\n",
       "      <td>16be8024fb14038b5509cc9a49fa7ce40b5549c4e76940...</td>\n",
       "      <td>5ffc1f1d48e32ed011478c1f2824079746972ee0f82c7a...</td>\n",
       "      <td>Stamford Street Cat Litter 10L</td>\n",
       "    </tr>\n",
       "  </tbody>\n",
       "</table>\n",
       "</div>"
      ],
      "text/plain": [
       "                                               SUB_CAT  \\\n",
       "310  083b1bcdf8604abe9ad073177f099c2c9e45361a3c62e3...   \n",
       "317  083b1bcdf8604abe9ad073177f099c2c9e45361a3c62e3...   \n",
       "312  083b1bcdf8604abe9ad073177f099c2c9e45361a3c62e3...   \n",
       "314  083b1bcdf8604abe9ad073177f099c2c9e45361a3c62e3...   \n",
       "316  083b1bcdf8604abe9ad073177f099c2c9e45361a3c62e3...   \n",
       "315  083b1bcdf8604abe9ad073177f099c2c9e45361a3c62e3...   \n",
       "311  083b1bcdf8604abe9ad073177f099c2c9e45361a3c62e3...   \n",
       "318  083b1bcdf8604abe9ad073177f099c2c9e45361a3c62e3...   \n",
       "313  083b1bcdf8604abe9ad073177f099c2c9e45361a3c62e3...   \n",
       "\n",
       "                                                   CAT  \\\n",
       "310  8bf754f57d95e45c904217a724480ad69378d5ab5a9f24...   \n",
       "317  8bf754f57d95e45c904217a724480ad69378d5ab5a9f24...   \n",
       "312  8bf754f57d95e45c904217a724480ad69378d5ab5a9f24...   \n",
       "314  8bf754f57d95e45c904217a724480ad69378d5ab5a9f24...   \n",
       "316  8bf754f57d95e45c904217a724480ad69378d5ab5a9f24...   \n",
       "315  8bf754f57d95e45c904217a724480ad69378d5ab5a9f24...   \n",
       "311  8bf754f57d95e45c904217a724480ad69378d5ab5a9f24...   \n",
       "318  8bf754f57d95e45c904217a724480ad69378d5ab5a9f24...   \n",
       "313  8bf754f57d95e45c904217a724480ad69378d5ab5a9f24...   \n",
       "\n",
       "                                               SEGMENT  \\\n",
       "310  16be8024fb14038b5509cc9a49fa7ce40b5549c4e76940...   \n",
       "317  16be8024fb14038b5509cc9a49fa7ce40b5549c4e76940...   \n",
       "312  16be8024fb14038b5509cc9a49fa7ce40b5549c4e76940...   \n",
       "314  16be8024fb14038b5509cc9a49fa7ce40b5549c4e76940...   \n",
       "316  16be8024fb14038b5509cc9a49fa7ce40b5549c4e76940...   \n",
       "315  16be8024fb14038b5509cc9a49fa7ce40b5549c4e76940...   \n",
       "311  16be8024fb14038b5509cc9a49fa7ce40b5549c4e76940...   \n",
       "318  16be8024fb14038b5509cc9a49fa7ce40b5549c4e76940...   \n",
       "313  16be8024fb14038b5509cc9a49fa7ce40b5549c4e76940...   \n",
       "\n",
       "                                             SUPER_CAT  \\\n",
       "310  5ffc1f1d48e32ed011478c1f2824079746972ee0f82c7a...   \n",
       "317  5ffc1f1d48e32ed011478c1f2824079746972ee0f82c7a...   \n",
       "312  5ffc1f1d48e32ed011478c1f2824079746972ee0f82c7a...   \n",
       "314  5ffc1f1d48e32ed011478c1f2824079746972ee0f82c7a...   \n",
       "316  5ffc1f1d48e32ed011478c1f2824079746972ee0f82c7a...   \n",
       "315  5ffc1f1d48e32ed011478c1f2824079746972ee0f82c7a...   \n",
       "311  5ffc1f1d48e32ed011478c1f2824079746972ee0f82c7a...   \n",
       "318  5ffc1f1d48e32ed011478c1f2824079746972ee0f82c7a...   \n",
       "313  5ffc1f1d48e32ed011478c1f2824079746972ee0f82c7a...   \n",
       "\n",
       "                                    ITEM_NAME  \n",
       "310          Bio Catolet paper cat litter 12L  \n",
       "317             Catsan hygiene cat litter 10L  \n",
       "312             Catsan hygiene cat litter 20L  \n",
       "314     Felight anti-bacterial cat litter 10L  \n",
       "316     Felight anti-bacterial cat litter 20L  \n",
       "315  JS anti-bac ultra clumping cat litter 8L  \n",
       "311           JS odour control cat litter 10L  \n",
       "318       JS recycled FSC wood cat litter 10L  \n",
       "313            Stamford Street Cat Litter 10L  "
      ]
     },
     "execution_count": 11,
     "metadata": {},
     "output_type": "execute_result"
    }
   ],
   "source": [
    "product = 'Catsan hygiene cat litter 10L'\n",
    "\n",
    "product_sub_cat = sorted_items[sorted_items['ITEM_NAME'].str.contains(product, case=False, na=False)]['SEGMENT'].values[0]\n",
    "\n",
    "sorted_items[sorted_items['SEGMENT'] == product_sub_cat].sort_values(by='ITEM_NAME').head(10)"
   ]
  },
  {
   "cell_type": "code",
   "execution_count": 12,
   "metadata": {},
   "outputs": [
    {
     "data": {
      "text/html": [
       "<div>\n",
       "<style scoped>\n",
       "    .dataframe tbody tr th:only-of-type {\n",
       "        vertical-align: middle;\n",
       "    }\n",
       "\n",
       "    .dataframe tbody tr th {\n",
       "        vertical-align: top;\n",
       "    }\n",
       "\n",
       "    .dataframe thead th {\n",
       "        text-align: right;\n",
       "    }\n",
       "</style>\n",
       "<table border=\"1\" class=\"dataframe\">\n",
       "  <thead>\n",
       "    <tr style=\"text-align: right;\">\n",
       "      <th></th>\n",
       "      <th>SUB_CAT</th>\n",
       "      <th>CAT</th>\n",
       "      <th>SEGMENT</th>\n",
       "      <th>SUPER_CAT</th>\n",
       "      <th>ITEM_NAME</th>\n",
       "    </tr>\n",
       "  </thead>\n",
       "  <tbody>\n",
       "    <tr>\n",
       "      <th>371</th>\n",
       "      <td>0ad85331aa7ad3e8d3f0d35796b8fad864f2ef776cbfe8...</td>\n",
       "      <td>5aa3f64d6cc1baa00b33490f1a4144a847c374a0ab8ee3...</td>\n",
       "      <td>88eb2999454ddd068b547d4b3255efc2d6632360b81441...</td>\n",
       "      <td>43223179daf7953df345450992ba73eed713013a875045...</td>\n",
       "      <td>Budweiser 18x440ml</td>\n",
       "    </tr>\n",
       "    <tr>\n",
       "      <th>367</th>\n",
       "      <td>0ad85331aa7ad3e8d3f0d35796b8fad864f2ef776cbfe8...</td>\n",
       "      <td>5aa3f64d6cc1baa00b33490f1a4144a847c374a0ab8ee3...</td>\n",
       "      <td>c586ffe82d1d944bd692e8cbf61112310929c5ade6688e...</td>\n",
       "      <td>43223179daf7953df345450992ba73eed713013a875045...</td>\n",
       "      <td>Carling Lager 18x440ml</td>\n",
       "    </tr>\n",
       "    <tr>\n",
       "      <th>370</th>\n",
       "      <td>0ad85331aa7ad3e8d3f0d35796b8fad864f2ef776cbfe8...</td>\n",
       "      <td>5aa3f64d6cc1baa00b33490f1a4144a847c374a0ab8ee3...</td>\n",
       "      <td>c586ffe82d1d944bd692e8cbf61112310929c5ade6688e...</td>\n",
       "      <td>43223179daf7953df345450992ba73eed713013a875045...</td>\n",
       "      <td>Fosters 12x440ml</td>\n",
       "    </tr>\n",
       "    <tr>\n",
       "      <th>368</th>\n",
       "      <td>0ad85331aa7ad3e8d3f0d35796b8fad864f2ef776cbfe8...</td>\n",
       "      <td>5aa3f64d6cc1baa00b33490f1a4144a847c374a0ab8ee3...</td>\n",
       "      <td>c586ffe82d1d944bd692e8cbf61112310929c5ade6688e...</td>\n",
       "      <td>43223179daf7953df345450992ba73eed713013a875045...</td>\n",
       "      <td>Fosters 18x440ml</td>\n",
       "    </tr>\n",
       "    <tr>\n",
       "      <th>369</th>\n",
       "      <td>0ad85331aa7ad3e8d3f0d35796b8fad864f2ef776cbfe8...</td>\n",
       "      <td>5aa3f64d6cc1baa00b33490f1a4144a847c374a0ab8ee3...</td>\n",
       "      <td>354c656ab28c85c76bad0aac2eb3219ac736af3ca141bb...</td>\n",
       "      <td>43223179daf7953df345450992ba73eed713013a875045...</td>\n",
       "      <td>Heineken 15x440ml</td>\n",
       "    </tr>\n",
       "    <tr>\n",
       "      <th>366</th>\n",
       "      <td>0ad85331aa7ad3e8d3f0d35796b8fad864f2ef776cbfe8...</td>\n",
       "      <td>5aa3f64d6cc1baa00b33490f1a4144a847c374a0ab8ee3...</td>\n",
       "      <td>88eb2999454ddd068b547d4b3255efc2d6632360b81441...</td>\n",
       "      <td>43223179daf7953df345450992ba73eed713013a875045...</td>\n",
       "      <td>Kronenbourg 1664 15x440ml</td>\n",
       "    </tr>\n",
       "    <tr>\n",
       "      <th>372</th>\n",
       "      <td>0ad85331aa7ad3e8d3f0d35796b8fad864f2ef776cbfe8...</td>\n",
       "      <td>5aa3f64d6cc1baa00b33490f1a4144a847c374a0ab8ee3...</td>\n",
       "      <td>88eb2999454ddd068b547d4b3255efc2d6632360b81441...</td>\n",
       "      <td>43223179daf7953df345450992ba73eed713013a875045...</td>\n",
       "      <td>Stella Artois 18x440ml</td>\n",
       "    </tr>\n",
       "  </tbody>\n",
       "</table>\n",
       "</div>"
      ],
      "text/plain": [
       "                                               SUB_CAT  \\\n",
       "371  0ad85331aa7ad3e8d3f0d35796b8fad864f2ef776cbfe8...   \n",
       "367  0ad85331aa7ad3e8d3f0d35796b8fad864f2ef776cbfe8...   \n",
       "370  0ad85331aa7ad3e8d3f0d35796b8fad864f2ef776cbfe8...   \n",
       "368  0ad85331aa7ad3e8d3f0d35796b8fad864f2ef776cbfe8...   \n",
       "369  0ad85331aa7ad3e8d3f0d35796b8fad864f2ef776cbfe8...   \n",
       "366  0ad85331aa7ad3e8d3f0d35796b8fad864f2ef776cbfe8...   \n",
       "372  0ad85331aa7ad3e8d3f0d35796b8fad864f2ef776cbfe8...   \n",
       "\n",
       "                                                   CAT  \\\n",
       "371  5aa3f64d6cc1baa00b33490f1a4144a847c374a0ab8ee3...   \n",
       "367  5aa3f64d6cc1baa00b33490f1a4144a847c374a0ab8ee3...   \n",
       "370  5aa3f64d6cc1baa00b33490f1a4144a847c374a0ab8ee3...   \n",
       "368  5aa3f64d6cc1baa00b33490f1a4144a847c374a0ab8ee3...   \n",
       "369  5aa3f64d6cc1baa00b33490f1a4144a847c374a0ab8ee3...   \n",
       "366  5aa3f64d6cc1baa00b33490f1a4144a847c374a0ab8ee3...   \n",
       "372  5aa3f64d6cc1baa00b33490f1a4144a847c374a0ab8ee3...   \n",
       "\n",
       "                                               SEGMENT  \\\n",
       "371  88eb2999454ddd068b547d4b3255efc2d6632360b81441...   \n",
       "367  c586ffe82d1d944bd692e8cbf61112310929c5ade6688e...   \n",
       "370  c586ffe82d1d944bd692e8cbf61112310929c5ade6688e...   \n",
       "368  c586ffe82d1d944bd692e8cbf61112310929c5ade6688e...   \n",
       "369  354c656ab28c85c76bad0aac2eb3219ac736af3ca141bb...   \n",
       "366  88eb2999454ddd068b547d4b3255efc2d6632360b81441...   \n",
       "372  88eb2999454ddd068b547d4b3255efc2d6632360b81441...   \n",
       "\n",
       "                                             SUPER_CAT  \\\n",
       "371  43223179daf7953df345450992ba73eed713013a875045...   \n",
       "367  43223179daf7953df345450992ba73eed713013a875045...   \n",
       "370  43223179daf7953df345450992ba73eed713013a875045...   \n",
       "368  43223179daf7953df345450992ba73eed713013a875045...   \n",
       "369  43223179daf7953df345450992ba73eed713013a875045...   \n",
       "366  43223179daf7953df345450992ba73eed713013a875045...   \n",
       "372  43223179daf7953df345450992ba73eed713013a875045...   \n",
       "\n",
       "                     ITEM_NAME  \n",
       "371         Budweiser 18x440ml  \n",
       "367     Carling Lager 18x440ml  \n",
       "370           Fosters 12x440ml  \n",
       "368           Fosters 18x440ml  \n",
       "369          Heineken 15x440ml  \n",
       "366  Kronenbourg 1664 15x440ml  \n",
       "372     Stella Artois 18x440ml  "
      ]
     },
     "execution_count": 12,
     "metadata": {},
     "output_type": "execute_result"
    }
   ],
   "source": [
    "product = 'Fosters 12x440ml'\n",
    "\n",
    "product_sub_cat = sorted_items[sorted_items['ITEM_NAME'].str.contains(product, case=False, na=False)]['SUB_CAT'].values[0]\n",
    "\n",
    "sorted_items[sorted_items['SUB_CAT'] == product_sub_cat].sort_values(by='ITEM_NAME').head(10)"
   ]
  },
  {
   "cell_type": "code",
   "execution_count": null,
   "metadata": {},
   "outputs": [
    {
     "data": {
      "application/vnd.plotly.v1+json": {
       "config": {
        "plotlyServerURL": "https://plot.ly"
       },
       "data": [
        {
         "text": {
          "bdata": "AAAAAAAARUAAAAAAAAA7QAAAAAAAADNAAAAAAAAAMUAAAAAAAAAiQAAAAAAAACJAAAAAAAAAIEAAAAAAAAAcQAAAAAAAABxAAAAAAAAAHEAAAAAAAAAYQAAAAAAAABhAAAAAAAAAFEAAAAAAAAAQQAAAAAAAABBAAAAAAAAAEEAAAAAAAAAIQAAAAAAAAAhAAAAAAAAACEAAAAAAAAAIQAAAAAAAAAhAAAAAAAAACEAAAAAAAAAIQAAAAAAAAAhAAAAAAAAACEAAAAAAAAAIQAAAAAAAAAhAAAAAAAAAAEAAAAAAAAAAQAAAAAAAAABAAAAAAAAAAEAAAAAAAAAAQAAAAAAAAABAAAAAAAAAAEAAAAAAAAAAQAAAAAAAAABAAAAAAAAAAEAAAAAAAAAAQAAAAAAAAABAAAAAAAAAAEAAAAAAAAAAQAAAAAAAAABAAAAAAAAAAEAAAAAAAAAAQAAAAAAAAABAAAAAAAAAAEAAAAAAAAAAQAAAAAAAAABAAAAAAAAAAEAAAAAAAAAAQAAAAAAAAABAAAAAAAAAAEAAAAAAAAAAQAAAAAAAAABAAAAAAAAAAEAAAAAAAADwPwAAAAAAAPA/AAAAAAAA8D8AAAAAAADwPwAAAAAAAPA/AAAAAAAA8D8AAAAAAADwPwAAAAAAAPA/AAAAAAAA8D8AAAAAAADwPwAAAAAAAPA/AAAAAAAA8D8AAAAAAADwPwAAAAAAAPA/AAAAAAAA8D8AAAAAAADwPwAAAAAAAPA/AAAAAAAA8D8AAAAAAADwPwAAAAAAAPA/AAAAAAAA8D8AAAAAAADwPwAAAAAAAPA/AAAAAAAA8D8AAAAAAADwPwAAAAAAAPA/AAAAAAAA8D8AAAAAAADwPwAAAAAAAPA/AAAAAAAA8D8AAAAAAADwPwAAAAAAAPA/AAAAAAAA8D8AAAAAAADwPwAAAAAAAPA/AAAAAAAA8D8AAAAAAADwPwAAAAAAAPA/AAAAAAAA8D8AAAAAAADwPwAAAAAAAPA/AAAAAAAA8D8AAAAAAADwPwAAAAAAAPA/AAAAAAAA8D8AAAAAAADwPwAAAAAAAPA/AAAAAAAA8D8AAAAAAADwPwAAAAAAAPA/AAAAAAAA8D8AAAAAAADwPwAAAAAAAPA/AAAAAAAA8D8AAAAAAADwPwAAAAAAAPA/AAAAAAAA8D8AAAAAAADwPwAAAAAAAPA/AAAAAAAA8D8AAAAAAADwPwAAAAAAAPA/AAAAAAAA8D8AAAAAAADwPwAAAAAAAPA/AAAAAAAA8D8AAAAAAADwPwAAAAAAAPA/AAAAAAAA8D8AAAAAAADwPwAAAAAAAPA/AAAAAAAA8D8AAAAAAADwPwAAAAAAAPA/AAAAAAAA8D8AAAAAAADwPwAAAAAAAPA/AAAAAAAA8D8AAAAAAADwPwAAAAAAAPA/AAAAAAAA8D8AAAAAAADwPwAAAAAAAPA/AAAAAAAA8D8AAAAAAADwPwAAAAAAAPA/AAAAAAAA8D8AAAAAAADwPwAAAAAAAPA/AAAAAAAA8D8AAAAAAADwPwAAAAAAAPA/AAAAAAAA8D8AAAAAAADwPwAAAAAAAPA/AAAAAAAA8D8AAAAAAADwPwAAAAAAAPA/AAAAAAAA8D8AAAAAAADwPwAAAAAAAPA/AAAAAAAA8D8AAAAAAADwPwAAAAAAAPA/AAAAAAAA8D8AAAAAAADwPwAAAAAAAPA/AAAAAAAA8D8AAAAAAADwPwAAAAAAAPA/AAAAAAAA8D8AAAAAAADwPwAAAAAAAPA/AAAAAAAA8D8AAAAAAADwPwAAAAAAAPA/AAAAAAAA8D8AAAAAAADwPwAAAAAAAPA/AAAAAAAA8D8AAAAAAADwPwAAAAAAAPA/AAAAAAAA8D8AAAAAAADwPwAAAAAAAPA/",
          "dtype": "f8"
         },
         "textposition": "auto",
         "type": "bar",
         "x": {
          "bdata": "AAABAAIAAwAEAAUABgAHAAgACQAKAAsADAANAA4ADwAQABEAEgATABQAFQAWABcAGAAZABoAGwAcAB0AHgAfACAAIQAiACMAJAAlACYAJwAoACkAKgArACwALQAuAC8AMAAxADIAMwA0ADUANgA3ADgAOQA6ADsAPAA9AD4APwBAAEEAQgBDAEQARQBGAEcASABJAEoASwBMAE0ATgBPAFAAUQBSAFMAVABVAFYAVwBYAFkAWgBbAFwAXQBeAF8AYABhAGIAYwBkAGUAZgBnAGgAaQBqAGsAbABtAG4AbwBwAHEAcgBzAHQAdQB2AHcAeAB5AHoAewB8AH0AfgB/AIAAgQCCAIMAhACFAIYAhwCIAIkAigCLAIwAjQCOAI8AkACRAJIAkwCUAJUAlgCXAJgAmQCaAJsAnACdAJ4AnwCgAKEAogCjAKQApQCmAKcAqACpAKoAqwCsAK0ArgCvALAAsQCyALMA",
          "dtype": "i2"
         },
         "y": {
          "bdata": "KhsTEQkJCAcHBwYGBQQEBAMDAwMDAwMDAwMDAgICAgICAgICAgICAgICAgICAgICAgICAgICAgEBAQEBAQEBAQEBAQEBAQEBAQEBAQEBAQEBAQEBAQEBAQEBAQEBAQEBAQEBAQEBAQEBAQEBAQEBAQEBAQEBAQEBAQEBAQEBAQEBAQEBAQEBAQEBAQEBAQEBAQEBAQEBAQEBAQEBAQEBAQEBAQEBAQEBAQEBAQEBAQEBAQEB",
          "dtype": "i1"
         }
        }
       ],
       "layout": {
        "template": {
         "data": {
          "bar": [
           {
            "error_x": {
             "color": "#2a3f5f"
            },
            "error_y": {
             "color": "#2a3f5f"
            },
            "marker": {
             "line": {
              "color": "#E5ECF6",
              "width": 0.5
             },
             "pattern": {
              "fillmode": "overlay",
              "size": 10,
              "solidity": 0.2
             }
            },
            "type": "bar"
           }
          ],
          "barpolar": [
           {
            "marker": {
             "line": {
              "color": "#E5ECF6",
              "width": 0.5
             },
             "pattern": {
              "fillmode": "overlay",
              "size": 10,
              "solidity": 0.2
             }
            },
            "type": "barpolar"
           }
          ],
          "carpet": [
           {
            "aaxis": {
             "endlinecolor": "#2a3f5f",
             "gridcolor": "white",
             "linecolor": "white",
             "minorgridcolor": "white",
             "startlinecolor": "#2a3f5f"
            },
            "baxis": {
             "endlinecolor": "#2a3f5f",
             "gridcolor": "white",
             "linecolor": "white",
             "minorgridcolor": "white",
             "startlinecolor": "#2a3f5f"
            },
            "type": "carpet"
           }
          ],
          "choropleth": [
           {
            "colorbar": {
             "outlinewidth": 0,
             "ticks": ""
            },
            "type": "choropleth"
           }
          ],
          "contour": [
           {
            "colorbar": {
             "outlinewidth": 0,
             "ticks": ""
            },
            "colorscale": [
             [
              0,
              "#0d0887"
             ],
             [
              0.1111111111111111,
              "#46039f"
             ],
             [
              0.2222222222222222,
              "#7201a8"
             ],
             [
              0.3333333333333333,
              "#9c179e"
             ],
             [
              0.4444444444444444,
              "#bd3786"
             ],
             [
              0.5555555555555556,
              "#d8576b"
             ],
             [
              0.6666666666666666,
              "#ed7953"
             ],
             [
              0.7777777777777778,
              "#fb9f3a"
             ],
             [
              0.8888888888888888,
              "#fdca26"
             ],
             [
              1,
              "#f0f921"
             ]
            ],
            "type": "contour"
           }
          ],
          "contourcarpet": [
           {
            "colorbar": {
             "outlinewidth": 0,
             "ticks": ""
            },
            "type": "contourcarpet"
           }
          ],
          "heatmap": [
           {
            "colorbar": {
             "outlinewidth": 0,
             "ticks": ""
            },
            "colorscale": [
             [
              0,
              "#0d0887"
             ],
             [
              0.1111111111111111,
              "#46039f"
             ],
             [
              0.2222222222222222,
              "#7201a8"
             ],
             [
              0.3333333333333333,
              "#9c179e"
             ],
             [
              0.4444444444444444,
              "#bd3786"
             ],
             [
              0.5555555555555556,
              "#d8576b"
             ],
             [
              0.6666666666666666,
              "#ed7953"
             ],
             [
              0.7777777777777778,
              "#fb9f3a"
             ],
             [
              0.8888888888888888,
              "#fdca26"
             ],
             [
              1,
              "#f0f921"
             ]
            ],
            "type": "heatmap"
           }
          ],
          "histogram": [
           {
            "marker": {
             "pattern": {
              "fillmode": "overlay",
              "size": 10,
              "solidity": 0.2
             }
            },
            "type": "histogram"
           }
          ],
          "histogram2d": [
           {
            "colorbar": {
             "outlinewidth": 0,
             "ticks": ""
            },
            "colorscale": [
             [
              0,
              "#0d0887"
             ],
             [
              0.1111111111111111,
              "#46039f"
             ],
             [
              0.2222222222222222,
              "#7201a8"
             ],
             [
              0.3333333333333333,
              "#9c179e"
             ],
             [
              0.4444444444444444,
              "#bd3786"
             ],
             [
              0.5555555555555556,
              "#d8576b"
             ],
             [
              0.6666666666666666,
              "#ed7953"
             ],
             [
              0.7777777777777778,
              "#fb9f3a"
             ],
             [
              0.8888888888888888,
              "#fdca26"
             ],
             [
              1,
              "#f0f921"
             ]
            ],
            "type": "histogram2d"
           }
          ],
          "histogram2dcontour": [
           {
            "colorbar": {
             "outlinewidth": 0,
             "ticks": ""
            },
            "colorscale": [
             [
              0,
              "#0d0887"
             ],
             [
              0.1111111111111111,
              "#46039f"
             ],
             [
              0.2222222222222222,
              "#7201a8"
             ],
             [
              0.3333333333333333,
              "#9c179e"
             ],
             [
              0.4444444444444444,
              "#bd3786"
             ],
             [
              0.5555555555555556,
              "#d8576b"
             ],
             [
              0.6666666666666666,
              "#ed7953"
             ],
             [
              0.7777777777777778,
              "#fb9f3a"
             ],
             [
              0.8888888888888888,
              "#fdca26"
             ],
             [
              1,
              "#f0f921"
             ]
            ],
            "type": "histogram2dcontour"
           }
          ],
          "mesh3d": [
           {
            "colorbar": {
             "outlinewidth": 0,
             "ticks": ""
            },
            "type": "mesh3d"
           }
          ],
          "parcoords": [
           {
            "line": {
             "colorbar": {
              "outlinewidth": 0,
              "ticks": ""
             }
            },
            "type": "parcoords"
           }
          ],
          "pie": [
           {
            "automargin": true,
            "type": "pie"
           }
          ],
          "scatter": [
           {
            "fillpattern": {
             "fillmode": "overlay",
             "size": 10,
             "solidity": 0.2
            },
            "type": "scatter"
           }
          ],
          "scatter3d": [
           {
            "line": {
             "colorbar": {
              "outlinewidth": 0,
              "ticks": ""
             }
            },
            "marker": {
             "colorbar": {
              "outlinewidth": 0,
              "ticks": ""
             }
            },
            "type": "scatter3d"
           }
          ],
          "scattercarpet": [
           {
            "marker": {
             "colorbar": {
              "outlinewidth": 0,
              "ticks": ""
             }
            },
            "type": "scattercarpet"
           }
          ],
          "scattergeo": [
           {
            "marker": {
             "colorbar": {
              "outlinewidth": 0,
              "ticks": ""
             }
            },
            "type": "scattergeo"
           }
          ],
          "scattergl": [
           {
            "marker": {
             "colorbar": {
              "outlinewidth": 0,
              "ticks": ""
             }
            },
            "type": "scattergl"
           }
          ],
          "scattermap": [
           {
            "marker": {
             "colorbar": {
              "outlinewidth": 0,
              "ticks": ""
             }
            },
            "type": "scattermap"
           }
          ],
          "scattermapbox": [
           {
            "marker": {
             "colorbar": {
              "outlinewidth": 0,
              "ticks": ""
             }
            },
            "type": "scattermapbox"
           }
          ],
          "scatterpolar": [
           {
            "marker": {
             "colorbar": {
              "outlinewidth": 0,
              "ticks": ""
             }
            },
            "type": "scatterpolar"
           }
          ],
          "scatterpolargl": [
           {
            "marker": {
             "colorbar": {
              "outlinewidth": 0,
              "ticks": ""
             }
            },
            "type": "scatterpolargl"
           }
          ],
          "scatterternary": [
           {
            "marker": {
             "colorbar": {
              "outlinewidth": 0,
              "ticks": ""
             }
            },
            "type": "scatterternary"
           }
          ],
          "surface": [
           {
            "colorbar": {
             "outlinewidth": 0,
             "ticks": ""
            },
            "colorscale": [
             [
              0,
              "#0d0887"
             ],
             [
              0.1111111111111111,
              "#46039f"
             ],
             [
              0.2222222222222222,
              "#7201a8"
             ],
             [
              0.3333333333333333,
              "#9c179e"
             ],
             [
              0.4444444444444444,
              "#bd3786"
             ],
             [
              0.5555555555555556,
              "#d8576b"
             ],
             [
              0.6666666666666666,
              "#ed7953"
             ],
             [
              0.7777777777777778,
              "#fb9f3a"
             ],
             [
              0.8888888888888888,
              "#fdca26"
             ],
             [
              1,
              "#f0f921"
             ]
            ],
            "type": "surface"
           }
          ],
          "table": [
           {
            "cells": {
             "fill": {
              "color": "#EBF0F8"
             },
             "line": {
              "color": "white"
             }
            },
            "header": {
             "fill": {
              "color": "#C8D4E3"
             },
             "line": {
              "color": "white"
             }
            },
            "type": "table"
           }
          ]
         },
         "layout": {
          "annotationdefaults": {
           "arrowcolor": "#2a3f5f",
           "arrowhead": 0,
           "arrowwidth": 1
          },
          "autotypenumbers": "strict",
          "coloraxis": {
           "colorbar": {
            "outlinewidth": 0,
            "ticks": ""
           }
          },
          "colorscale": {
           "diverging": [
            [
             0,
             "#8e0152"
            ],
            [
             0.1,
             "#c51b7d"
            ],
            [
             0.2,
             "#de77ae"
            ],
            [
             0.3,
             "#f1b6da"
            ],
            [
             0.4,
             "#fde0ef"
            ],
            [
             0.5,
             "#f7f7f7"
            ],
            [
             0.6,
             "#e6f5d0"
            ],
            [
             0.7,
             "#b8e186"
            ],
            [
             0.8,
             "#7fbc41"
            ],
            [
             0.9,
             "#4d9221"
            ],
            [
             1,
             "#276419"
            ]
           ],
           "sequential": [
            [
             0,
             "#0d0887"
            ],
            [
             0.1111111111111111,
             "#46039f"
            ],
            [
             0.2222222222222222,
             "#7201a8"
            ],
            [
             0.3333333333333333,
             "#9c179e"
            ],
            [
             0.4444444444444444,
             "#bd3786"
            ],
            [
             0.5555555555555556,
             "#d8576b"
            ],
            [
             0.6666666666666666,
             "#ed7953"
            ],
            [
             0.7777777777777778,
             "#fb9f3a"
            ],
            [
             0.8888888888888888,
             "#fdca26"
            ],
            [
             1,
             "#f0f921"
            ]
           ],
           "sequentialminus": [
            [
             0,
             "#0d0887"
            ],
            [
             0.1111111111111111,
             "#46039f"
            ],
            [
             0.2222222222222222,
             "#7201a8"
            ],
            [
             0.3333333333333333,
             "#9c179e"
            ],
            [
             0.4444444444444444,
             "#bd3786"
            ],
            [
             0.5555555555555556,
             "#d8576b"
            ],
            [
             0.6666666666666666,
             "#ed7953"
            ],
            [
             0.7777777777777778,
             "#fb9f3a"
            ],
            [
             0.8888888888888888,
             "#fdca26"
            ],
            [
             1,
             "#f0f921"
            ]
           ]
          },
          "colorway": [
           "#636efa",
           "#EF553B",
           "#00cc96",
           "#ab63fa",
           "#FFA15A",
           "#19d3f3",
           "#FF6692",
           "#B6E880",
           "#FF97FF",
           "#FECB52"
          ],
          "font": {
           "color": "#2a3f5f"
          },
          "geo": {
           "bgcolor": "white",
           "lakecolor": "white",
           "landcolor": "#E5ECF6",
           "showlakes": true,
           "showland": true,
           "subunitcolor": "white"
          },
          "hoverlabel": {
           "align": "left"
          },
          "hovermode": "closest",
          "mapbox": {
           "style": "light"
          },
          "paper_bgcolor": "white",
          "plot_bgcolor": "#E5ECF6",
          "polar": {
           "angularaxis": {
            "gridcolor": "white",
            "linecolor": "white",
            "ticks": ""
           },
           "bgcolor": "#E5ECF6",
           "radialaxis": {
            "gridcolor": "white",
            "linecolor": "white",
            "ticks": ""
           }
          },
          "scene": {
           "xaxis": {
            "backgroundcolor": "#E5ECF6",
            "gridcolor": "white",
            "gridwidth": 2,
            "linecolor": "white",
            "showbackground": true,
            "ticks": "",
            "zerolinecolor": "white"
           },
           "yaxis": {
            "backgroundcolor": "#E5ECF6",
            "gridcolor": "white",
            "gridwidth": 2,
            "linecolor": "white",
            "showbackground": true,
            "ticks": "",
            "zerolinecolor": "white"
           },
           "zaxis": {
            "backgroundcolor": "#E5ECF6",
            "gridcolor": "white",
            "gridwidth": 2,
            "linecolor": "white",
            "showbackground": true,
            "ticks": "",
            "zerolinecolor": "white"
           }
          },
          "shapedefaults": {
           "line": {
            "color": "#2a3f5f"
           }
          },
          "ternary": {
           "aaxis": {
            "gridcolor": "white",
            "linecolor": "white",
            "ticks": ""
           },
           "baxis": {
            "gridcolor": "white",
            "linecolor": "white",
            "ticks": ""
           },
           "bgcolor": "#E5ECF6",
           "caxis": {
            "gridcolor": "white",
            "linecolor": "white",
            "ticks": ""
           }
          },
          "title": {
           "x": 0.05
          },
          "xaxis": {
           "automargin": true,
           "gridcolor": "white",
           "linecolor": "white",
           "ticks": "",
           "title": {
            "standoff": 15
           },
           "zerolinecolor": "white",
           "zerolinewidth": 2
          },
          "yaxis": {
           "automargin": true,
           "gridcolor": "white",
           "linecolor": "white",
           "ticks": "",
           "title": {
            "standoff": 15
           },
           "zerolinecolor": "white",
           "zerolinewidth": 2
          }
         }
        },
        "title": {
         "text": "Item Counts by Segment"
        },
        "xaxis": {
         "title": {
          "text": "Segment Index"
         }
        },
        "yaxis": {
         "title": {
          "text": "Number of Items"
         }
        }
       }
      }
     },
     "metadata": {},
     "output_type": "display_data"
    },
    {
     "data": {
      "application/vnd.plotly.v1+json": {
       "config": {
        "plotlyServerURL": "https://plot.ly"
       },
       "data": [
        {
         "text": {
          "bdata": "AAAAAACAR0AAAAAAAIBGQAAAAAAAADtAAAAAAAAALEAAAAAAAAAmQAAAAAAAACZAAAAAAAAAJEAAAAAAAAAiQAAAAAAAACBAAAAAAAAAHEAAAAAAAAAcQAAAAAAAABxAAAAAAAAAGEAAAAAAAAAUQAAAAAAAABRAAAAAAAAAEEAAAAAAAAAQQAAAAAAAABBAAAAAAAAAEEAAAAAAAAAQQAAAAAAAABBAAAAAAAAAEEAAAAAAAAAQQAAAAAAAAAhAAAAAAAAACEAAAAAAAAAIQAAAAAAAAAhAAAAAAAAACEAAAAAAAAAIQAAAAAAAAAhAAAAAAAAACEAAAAAAAAAIQAAAAAAAAAhAAAAAAAAACEAAAAAAAAAIQAAAAAAAAAhAAAAAAAAACEAAAAAAAAAIQAAAAAAAAAhAAAAAAAAACEAAAAAAAAAAQAAAAAAAAABAAAAAAAAAAEAAAAAAAAAAQAAAAAAAAABAAAAAAAAAAEAAAAAAAAAAQAAAAAAAAABAAAAAAAAAAEAAAAAAAAAAQAAAAAAAAABAAAAAAAAAAEAAAAAAAAAAQAAAAAAAAABAAAAAAAAAAEAAAAAAAAAAQAAAAAAAAABAAAAAAAAA8D8AAAAAAADwPwAAAAAAAPA/AAAAAAAA8D8AAAAAAADwPwAAAAAAAPA/AAAAAAAA8D8AAAAAAADwPwAAAAAAAPA/AAAAAAAA8D8AAAAAAADwPwAAAAAAAPA/AAAAAAAA8D8AAAAAAADwPwAAAAAAAPA/AAAAAAAA8D8AAAAAAADwPwAAAAAAAPA/AAAAAAAA8D8AAAAAAADwPwAAAAAAAPA/AAAAAAAA8D8AAAAAAADwPwAAAAAAAPA/AAAAAAAA8D8AAAAAAADwPwAAAAAAAPA/AAAAAAAA8D8AAAAAAADwPwAAAAAAAPA/AAAAAAAA8D8AAAAAAADwPwAAAAAAAPA/AAAAAAAA8D8AAAAAAADwPwAAAAAAAPA/AAAAAAAA8D8AAAAAAADwPwAAAAAAAPA/AAAAAAAA8D8AAAAAAADwPwAAAAAAAPA/AAAAAAAA8D8AAAAAAADwPwAAAAAAAPA/AAAAAAAA8D8AAAAAAADwPwAAAAAAAPA/AAAAAAAA8D8AAAAAAADwPwAAAAAAAPA/AAAAAAAA8D8AAAAAAADwPwAAAAAAAPA/AAAAAAAA8D8AAAAAAADwPwAAAAAAAPA/AAAAAAAA8D8AAAAAAADwPw==",
          "dtype": "f8"
         },
         "textposition": "auto",
         "type": "bar",
         "x": {
          "bdata": "AAECAwQFBgcICQoLDA0ODxAREhMUFRYXGBkaGxwdHh8gISIjJCUmJygpKissLS4vMDEyMzQ1Njc4OTo7PD0+P0BBQkNERUZHSElKS0xNTk9QUVJTVFVWV1hZWltcXV5fYGFiY2RlZmdoaWprbG1ub3BxcnM=",
          "dtype": "i1"
         },
         "y": {
          "bdata": "Ly0bDgsLCgkIBwcHBgUFBAQEBAQEBAQDAwMDAwMDAwMDAwMDAwMDAwICAgICAgICAgICAgICAgICAQEBAQEBAQEBAQEBAQEBAQEBAQEBAQEBAQEBAQEBAQEBAQEBAQEBAQEBAQEBAQEBAQEBAQEBAQEBAQE=",
          "dtype": "i1"
         }
        }
       ],
       "layout": {
        "template": {
         "data": {
          "bar": [
           {
            "error_x": {
             "color": "#2a3f5f"
            },
            "error_y": {
             "color": "#2a3f5f"
            },
            "marker": {
             "line": {
              "color": "#E5ECF6",
              "width": 0.5
             },
             "pattern": {
              "fillmode": "overlay",
              "size": 10,
              "solidity": 0.2
             }
            },
            "type": "bar"
           }
          ],
          "barpolar": [
           {
            "marker": {
             "line": {
              "color": "#E5ECF6",
              "width": 0.5
             },
             "pattern": {
              "fillmode": "overlay",
              "size": 10,
              "solidity": 0.2
             }
            },
            "type": "barpolar"
           }
          ],
          "carpet": [
           {
            "aaxis": {
             "endlinecolor": "#2a3f5f",
             "gridcolor": "white",
             "linecolor": "white",
             "minorgridcolor": "white",
             "startlinecolor": "#2a3f5f"
            },
            "baxis": {
             "endlinecolor": "#2a3f5f",
             "gridcolor": "white",
             "linecolor": "white",
             "minorgridcolor": "white",
             "startlinecolor": "#2a3f5f"
            },
            "type": "carpet"
           }
          ],
          "choropleth": [
           {
            "colorbar": {
             "outlinewidth": 0,
             "ticks": ""
            },
            "type": "choropleth"
           }
          ],
          "contour": [
           {
            "colorbar": {
             "outlinewidth": 0,
             "ticks": ""
            },
            "colorscale": [
             [
              0,
              "#0d0887"
             ],
             [
              0.1111111111111111,
              "#46039f"
             ],
             [
              0.2222222222222222,
              "#7201a8"
             ],
             [
              0.3333333333333333,
              "#9c179e"
             ],
             [
              0.4444444444444444,
              "#bd3786"
             ],
             [
              0.5555555555555556,
              "#d8576b"
             ],
             [
              0.6666666666666666,
              "#ed7953"
             ],
             [
              0.7777777777777778,
              "#fb9f3a"
             ],
             [
              0.8888888888888888,
              "#fdca26"
             ],
             [
              1,
              "#f0f921"
             ]
            ],
            "type": "contour"
           }
          ],
          "contourcarpet": [
           {
            "colorbar": {
             "outlinewidth": 0,
             "ticks": ""
            },
            "type": "contourcarpet"
           }
          ],
          "heatmap": [
           {
            "colorbar": {
             "outlinewidth": 0,
             "ticks": ""
            },
            "colorscale": [
             [
              0,
              "#0d0887"
             ],
             [
              0.1111111111111111,
              "#46039f"
             ],
             [
              0.2222222222222222,
              "#7201a8"
             ],
             [
              0.3333333333333333,
              "#9c179e"
             ],
             [
              0.4444444444444444,
              "#bd3786"
             ],
             [
              0.5555555555555556,
              "#d8576b"
             ],
             [
              0.6666666666666666,
              "#ed7953"
             ],
             [
              0.7777777777777778,
              "#fb9f3a"
             ],
             [
              0.8888888888888888,
              "#fdca26"
             ],
             [
              1,
              "#f0f921"
             ]
            ],
            "type": "heatmap"
           }
          ],
          "histogram": [
           {
            "marker": {
             "pattern": {
              "fillmode": "overlay",
              "size": 10,
              "solidity": 0.2
             }
            },
            "type": "histogram"
           }
          ],
          "histogram2d": [
           {
            "colorbar": {
             "outlinewidth": 0,
             "ticks": ""
            },
            "colorscale": [
             [
              0,
              "#0d0887"
             ],
             [
              0.1111111111111111,
              "#46039f"
             ],
             [
              0.2222222222222222,
              "#7201a8"
             ],
             [
              0.3333333333333333,
              "#9c179e"
             ],
             [
              0.4444444444444444,
              "#bd3786"
             ],
             [
              0.5555555555555556,
              "#d8576b"
             ],
             [
              0.6666666666666666,
              "#ed7953"
             ],
             [
              0.7777777777777778,
              "#fb9f3a"
             ],
             [
              0.8888888888888888,
              "#fdca26"
             ],
             [
              1,
              "#f0f921"
             ]
            ],
            "type": "histogram2d"
           }
          ],
          "histogram2dcontour": [
           {
            "colorbar": {
             "outlinewidth": 0,
             "ticks": ""
            },
            "colorscale": [
             [
              0,
              "#0d0887"
             ],
             [
              0.1111111111111111,
              "#46039f"
             ],
             [
              0.2222222222222222,
              "#7201a8"
             ],
             [
              0.3333333333333333,
              "#9c179e"
             ],
             [
              0.4444444444444444,
              "#bd3786"
             ],
             [
              0.5555555555555556,
              "#d8576b"
             ],
             [
              0.6666666666666666,
              "#ed7953"
             ],
             [
              0.7777777777777778,
              "#fb9f3a"
             ],
             [
              0.8888888888888888,
              "#fdca26"
             ],
             [
              1,
              "#f0f921"
             ]
            ],
            "type": "histogram2dcontour"
           }
          ],
          "mesh3d": [
           {
            "colorbar": {
             "outlinewidth": 0,
             "ticks": ""
            },
            "type": "mesh3d"
           }
          ],
          "parcoords": [
           {
            "line": {
             "colorbar": {
              "outlinewidth": 0,
              "ticks": ""
             }
            },
            "type": "parcoords"
           }
          ],
          "pie": [
           {
            "automargin": true,
            "type": "pie"
           }
          ],
          "scatter": [
           {
            "fillpattern": {
             "fillmode": "overlay",
             "size": 10,
             "solidity": 0.2
            },
            "type": "scatter"
           }
          ],
          "scatter3d": [
           {
            "line": {
             "colorbar": {
              "outlinewidth": 0,
              "ticks": ""
             }
            },
            "marker": {
             "colorbar": {
              "outlinewidth": 0,
              "ticks": ""
             }
            },
            "type": "scatter3d"
           }
          ],
          "scattercarpet": [
           {
            "marker": {
             "colorbar": {
              "outlinewidth": 0,
              "ticks": ""
             }
            },
            "type": "scattercarpet"
           }
          ],
          "scattergeo": [
           {
            "marker": {
             "colorbar": {
              "outlinewidth": 0,
              "ticks": ""
             }
            },
            "type": "scattergeo"
           }
          ],
          "scattergl": [
           {
            "marker": {
             "colorbar": {
              "outlinewidth": 0,
              "ticks": ""
             }
            },
            "type": "scattergl"
           }
          ],
          "scattermap": [
           {
            "marker": {
             "colorbar": {
              "outlinewidth": 0,
              "ticks": ""
             }
            },
            "type": "scattermap"
           }
          ],
          "scattermapbox": [
           {
            "marker": {
             "colorbar": {
              "outlinewidth": 0,
              "ticks": ""
             }
            },
            "type": "scattermapbox"
           }
          ],
          "scatterpolar": [
           {
            "marker": {
             "colorbar": {
              "outlinewidth": 0,
              "ticks": ""
             }
            },
            "type": "scatterpolar"
           }
          ],
          "scatterpolargl": [
           {
            "marker": {
             "colorbar": {
              "outlinewidth": 0,
              "ticks": ""
             }
            },
            "type": "scatterpolargl"
           }
          ],
          "scatterternary": [
           {
            "marker": {
             "colorbar": {
              "outlinewidth": 0,
              "ticks": ""
             }
            },
            "type": "scatterternary"
           }
          ],
          "surface": [
           {
            "colorbar": {
             "outlinewidth": 0,
             "ticks": ""
            },
            "colorscale": [
             [
              0,
              "#0d0887"
             ],
             [
              0.1111111111111111,
              "#46039f"
             ],
             [
              0.2222222222222222,
              "#7201a8"
             ],
             [
              0.3333333333333333,
              "#9c179e"
             ],
             [
              0.4444444444444444,
              "#bd3786"
             ],
             [
              0.5555555555555556,
              "#d8576b"
             ],
             [
              0.6666666666666666,
              "#ed7953"
             ],
             [
              0.7777777777777778,
              "#fb9f3a"
             ],
             [
              0.8888888888888888,
              "#fdca26"
             ],
             [
              1,
              "#f0f921"
             ]
            ],
            "type": "surface"
           }
          ],
          "table": [
           {
            "cells": {
             "fill": {
              "color": "#EBF0F8"
             },
             "line": {
              "color": "white"
             }
            },
            "header": {
             "fill": {
              "color": "#C8D4E3"
             },
             "line": {
              "color": "white"
             }
            },
            "type": "table"
           }
          ]
         },
         "layout": {
          "annotationdefaults": {
           "arrowcolor": "#2a3f5f",
           "arrowhead": 0,
           "arrowwidth": 1
          },
          "autotypenumbers": "strict",
          "coloraxis": {
           "colorbar": {
            "outlinewidth": 0,
            "ticks": ""
           }
          },
          "colorscale": {
           "diverging": [
            [
             0,
             "#8e0152"
            ],
            [
             0.1,
             "#c51b7d"
            ],
            [
             0.2,
             "#de77ae"
            ],
            [
             0.3,
             "#f1b6da"
            ],
            [
             0.4,
             "#fde0ef"
            ],
            [
             0.5,
             "#f7f7f7"
            ],
            [
             0.6,
             "#e6f5d0"
            ],
            [
             0.7,
             "#b8e186"
            ],
            [
             0.8,
             "#7fbc41"
            ],
            [
             0.9,
             "#4d9221"
            ],
            [
             1,
             "#276419"
            ]
           ],
           "sequential": [
            [
             0,
             "#0d0887"
            ],
            [
             0.1111111111111111,
             "#46039f"
            ],
            [
             0.2222222222222222,
             "#7201a8"
            ],
            [
             0.3333333333333333,
             "#9c179e"
            ],
            [
             0.4444444444444444,
             "#bd3786"
            ],
            [
             0.5555555555555556,
             "#d8576b"
            ],
            [
             0.6666666666666666,
             "#ed7953"
            ],
            [
             0.7777777777777778,
             "#fb9f3a"
            ],
            [
             0.8888888888888888,
             "#fdca26"
            ],
            [
             1,
             "#f0f921"
            ]
           ],
           "sequentialminus": [
            [
             0,
             "#0d0887"
            ],
            [
             0.1111111111111111,
             "#46039f"
            ],
            [
             0.2222222222222222,
             "#7201a8"
            ],
            [
             0.3333333333333333,
             "#9c179e"
            ],
            [
             0.4444444444444444,
             "#bd3786"
            ],
            [
             0.5555555555555556,
             "#d8576b"
            ],
            [
             0.6666666666666666,
             "#ed7953"
            ],
            [
             0.7777777777777778,
             "#fb9f3a"
            ],
            [
             0.8888888888888888,
             "#fdca26"
            ],
            [
             1,
             "#f0f921"
            ]
           ]
          },
          "colorway": [
           "#636efa",
           "#EF553B",
           "#00cc96",
           "#ab63fa",
           "#FFA15A",
           "#19d3f3",
           "#FF6692",
           "#B6E880",
           "#FF97FF",
           "#FECB52"
          ],
          "font": {
           "color": "#2a3f5f"
          },
          "geo": {
           "bgcolor": "white",
           "lakecolor": "white",
           "landcolor": "#E5ECF6",
           "showlakes": true,
           "showland": true,
           "subunitcolor": "white"
          },
          "hoverlabel": {
           "align": "left"
          },
          "hovermode": "closest",
          "mapbox": {
           "style": "light"
          },
          "paper_bgcolor": "white",
          "plot_bgcolor": "#E5ECF6",
          "polar": {
           "angularaxis": {
            "gridcolor": "white",
            "linecolor": "white",
            "ticks": ""
           },
           "bgcolor": "#E5ECF6",
           "radialaxis": {
            "gridcolor": "white",
            "linecolor": "white",
            "ticks": ""
           }
          },
          "scene": {
           "xaxis": {
            "backgroundcolor": "#E5ECF6",
            "gridcolor": "white",
            "gridwidth": 2,
            "linecolor": "white",
            "showbackground": true,
            "ticks": "",
            "zerolinecolor": "white"
           },
           "yaxis": {
            "backgroundcolor": "#E5ECF6",
            "gridcolor": "white",
            "gridwidth": 2,
            "linecolor": "white",
            "showbackground": true,
            "ticks": "",
            "zerolinecolor": "white"
           },
           "zaxis": {
            "backgroundcolor": "#E5ECF6",
            "gridcolor": "white",
            "gridwidth": 2,
            "linecolor": "white",
            "showbackground": true,
            "ticks": "",
            "zerolinecolor": "white"
           }
          },
          "shapedefaults": {
           "line": {
            "color": "#2a3f5f"
           }
          },
          "ternary": {
           "aaxis": {
            "gridcolor": "white",
            "linecolor": "white",
            "ticks": ""
           },
           "baxis": {
            "gridcolor": "white",
            "linecolor": "white",
            "ticks": ""
           },
           "bgcolor": "#E5ECF6",
           "caxis": {
            "gridcolor": "white",
            "linecolor": "white",
            "ticks": ""
           }
          },
          "title": {
           "x": 0.05
          },
          "xaxis": {
           "automargin": true,
           "gridcolor": "white",
           "linecolor": "white",
           "ticks": "",
           "title": {
            "standoff": 15
           },
           "zerolinecolor": "white",
           "zerolinewidth": 2
          },
          "yaxis": {
           "automargin": true,
           "gridcolor": "white",
           "linecolor": "white",
           "ticks": "",
           "title": {
            "standoff": 15
           },
           "zerolinecolor": "white",
           "zerolinewidth": 2
          }
         }
        },
        "title": {
         "text": "Item Counts by Sub-Category"
        },
        "xaxis": {
         "title": {
          "text": "Sub-Category Index"
         }
        },
        "yaxis": {
         "title": {
          "text": "Number of Items"
         }
        }
       }
      }
     },
     "metadata": {},
     "output_type": "display_data"
    },
    {
     "data": {
      "application/vnd.plotly.v1+json": {
       "config": {
        "plotlyServerURL": "https://plot.ly"
       },
       "data": [
        {
         "text": {
          "bdata": "AAAAAADAV0AAAAAAAIBOQAAAAAAAADJAAAAAAAAAMEAAAAAAAAAsQAAAAAAAACZAAAAAAAAAJkAAAAAAAAAmQAAAAAAAACZAAAAAAAAAJEAAAAAAAAAgQAAAAAAAABxAAAAAAAAAFEAAAAAAAAAUQAAAAAAAABRAAAAAAAAAFEAAAAAAAAAUQAAAAAAAABBAAAAAAAAAEEAAAAAAAAAQQAAAAAAAABBAAAAAAAAAEEAAAAAAAAAQQAAAAAAAAAhAAAAAAAAACEAAAAAAAAAIQAAAAAAAAAhAAAAAAAAACEAAAAAAAAAIQAAAAAAAAAhAAAAAAAAACEAAAAAAAAAAQAAAAAAAAABAAAAAAAAAAEAAAAAAAAAAQAAAAAAAAABAAAAAAAAAAEAAAAAAAAAAQAAAAAAAAABAAAAAAAAAAEAAAAAAAADwPwAAAAAAAPA/AAAAAAAA8D8AAAAAAADwPwAAAAAAAPA/AAAAAAAA8D8AAAAAAADwPwAAAAAAAPA/AAAAAAAA8D8AAAAAAADwPwAAAAAAAPA/AAAAAAAA8D8AAAAAAADwPwAAAAAAAPA/AAAAAAAA8D8AAAAAAADwPwAAAAAAAPA/AAAAAAAA8D8AAAAAAADwPwAAAAAAAPA/AAAAAAAA8D8AAAAAAADwPwAAAAAAAPA/AAAAAAAA8D8AAAAAAADwPwAAAAAAAPA/AAAAAAAA8D8AAAAAAADwPwAAAAAAAPA/AAAAAAAA8D8AAAAAAADwPw==",
          "dtype": "f8"
         },
         "textposition": "auto",
         "type": "bar",
         "x": {
          "bdata": "AAECAwQFBgcICQoLDA0ODxAREhMUFRYXGBkaGxwdHh8gISIjJCUmJygpKissLS4vMDEyMzQ1Njc4OTo7PD0+P0BBQkNERUY=",
          "dtype": "i1"
         },
         "y": {
          "bdata": "Xz0SEA4LCwsLCggHBQUFBQUEBAQEBAQDAwMDAwMDAwICAgICAgICAgEBAQEBAQEBAQEBAQEBAQEBAQEBAQEBAQEBAQEBAQE=",
          "dtype": "i1"
         }
        }
       ],
       "layout": {
        "template": {
         "data": {
          "bar": [
           {
            "error_x": {
             "color": "#2a3f5f"
            },
            "error_y": {
             "color": "#2a3f5f"
            },
            "marker": {
             "line": {
              "color": "#E5ECF6",
              "width": 0.5
             },
             "pattern": {
              "fillmode": "overlay",
              "size": 10,
              "solidity": 0.2
             }
            },
            "type": "bar"
           }
          ],
          "barpolar": [
           {
            "marker": {
             "line": {
              "color": "#E5ECF6",
              "width": 0.5
             },
             "pattern": {
              "fillmode": "overlay",
              "size": 10,
              "solidity": 0.2
             }
            },
            "type": "barpolar"
           }
          ],
          "carpet": [
           {
            "aaxis": {
             "endlinecolor": "#2a3f5f",
             "gridcolor": "white",
             "linecolor": "white",
             "minorgridcolor": "white",
             "startlinecolor": "#2a3f5f"
            },
            "baxis": {
             "endlinecolor": "#2a3f5f",
             "gridcolor": "white",
             "linecolor": "white",
             "minorgridcolor": "white",
             "startlinecolor": "#2a3f5f"
            },
            "type": "carpet"
           }
          ],
          "choropleth": [
           {
            "colorbar": {
             "outlinewidth": 0,
             "ticks": ""
            },
            "type": "choropleth"
           }
          ],
          "contour": [
           {
            "colorbar": {
             "outlinewidth": 0,
             "ticks": ""
            },
            "colorscale": [
             [
              0,
              "#0d0887"
             ],
             [
              0.1111111111111111,
              "#46039f"
             ],
             [
              0.2222222222222222,
              "#7201a8"
             ],
             [
              0.3333333333333333,
              "#9c179e"
             ],
             [
              0.4444444444444444,
              "#bd3786"
             ],
             [
              0.5555555555555556,
              "#d8576b"
             ],
             [
              0.6666666666666666,
              "#ed7953"
             ],
             [
              0.7777777777777778,
              "#fb9f3a"
             ],
             [
              0.8888888888888888,
              "#fdca26"
             ],
             [
              1,
              "#f0f921"
             ]
            ],
            "type": "contour"
           }
          ],
          "contourcarpet": [
           {
            "colorbar": {
             "outlinewidth": 0,
             "ticks": ""
            },
            "type": "contourcarpet"
           }
          ],
          "heatmap": [
           {
            "colorbar": {
             "outlinewidth": 0,
             "ticks": ""
            },
            "colorscale": [
             [
              0,
              "#0d0887"
             ],
             [
              0.1111111111111111,
              "#46039f"
             ],
             [
              0.2222222222222222,
              "#7201a8"
             ],
             [
              0.3333333333333333,
              "#9c179e"
             ],
             [
              0.4444444444444444,
              "#bd3786"
             ],
             [
              0.5555555555555556,
              "#d8576b"
             ],
             [
              0.6666666666666666,
              "#ed7953"
             ],
             [
              0.7777777777777778,
              "#fb9f3a"
             ],
             [
              0.8888888888888888,
              "#fdca26"
             ],
             [
              1,
              "#f0f921"
             ]
            ],
            "type": "heatmap"
           }
          ],
          "histogram": [
           {
            "marker": {
             "pattern": {
              "fillmode": "overlay",
              "size": 10,
              "solidity": 0.2
             }
            },
            "type": "histogram"
           }
          ],
          "histogram2d": [
           {
            "colorbar": {
             "outlinewidth": 0,
             "ticks": ""
            },
            "colorscale": [
             [
              0,
              "#0d0887"
             ],
             [
              0.1111111111111111,
              "#46039f"
             ],
             [
              0.2222222222222222,
              "#7201a8"
             ],
             [
              0.3333333333333333,
              "#9c179e"
             ],
             [
              0.4444444444444444,
              "#bd3786"
             ],
             [
              0.5555555555555556,
              "#d8576b"
             ],
             [
              0.6666666666666666,
              "#ed7953"
             ],
             [
              0.7777777777777778,
              "#fb9f3a"
             ],
             [
              0.8888888888888888,
              "#fdca26"
             ],
             [
              1,
              "#f0f921"
             ]
            ],
            "type": "histogram2d"
           }
          ],
          "histogram2dcontour": [
           {
            "colorbar": {
             "outlinewidth": 0,
             "ticks": ""
            },
            "colorscale": [
             [
              0,
              "#0d0887"
             ],
             [
              0.1111111111111111,
              "#46039f"
             ],
             [
              0.2222222222222222,
              "#7201a8"
             ],
             [
              0.3333333333333333,
              "#9c179e"
             ],
             [
              0.4444444444444444,
              "#bd3786"
             ],
             [
              0.5555555555555556,
              "#d8576b"
             ],
             [
              0.6666666666666666,
              "#ed7953"
             ],
             [
              0.7777777777777778,
              "#fb9f3a"
             ],
             [
              0.8888888888888888,
              "#fdca26"
             ],
             [
              1,
              "#f0f921"
             ]
            ],
            "type": "histogram2dcontour"
           }
          ],
          "mesh3d": [
           {
            "colorbar": {
             "outlinewidth": 0,
             "ticks": ""
            },
            "type": "mesh3d"
           }
          ],
          "parcoords": [
           {
            "line": {
             "colorbar": {
              "outlinewidth": 0,
              "ticks": ""
             }
            },
            "type": "parcoords"
           }
          ],
          "pie": [
           {
            "automargin": true,
            "type": "pie"
           }
          ],
          "scatter": [
           {
            "fillpattern": {
             "fillmode": "overlay",
             "size": 10,
             "solidity": 0.2
            },
            "type": "scatter"
           }
          ],
          "scatter3d": [
           {
            "line": {
             "colorbar": {
              "outlinewidth": 0,
              "ticks": ""
             }
            },
            "marker": {
             "colorbar": {
              "outlinewidth": 0,
              "ticks": ""
             }
            },
            "type": "scatter3d"
           }
          ],
          "scattercarpet": [
           {
            "marker": {
             "colorbar": {
              "outlinewidth": 0,
              "ticks": ""
             }
            },
            "type": "scattercarpet"
           }
          ],
          "scattergeo": [
           {
            "marker": {
             "colorbar": {
              "outlinewidth": 0,
              "ticks": ""
             }
            },
            "type": "scattergeo"
           }
          ],
          "scattergl": [
           {
            "marker": {
             "colorbar": {
              "outlinewidth": 0,
              "ticks": ""
             }
            },
            "type": "scattergl"
           }
          ],
          "scattermap": [
           {
            "marker": {
             "colorbar": {
              "outlinewidth": 0,
              "ticks": ""
             }
            },
            "type": "scattermap"
           }
          ],
          "scattermapbox": [
           {
            "marker": {
             "colorbar": {
              "outlinewidth": 0,
              "ticks": ""
             }
            },
            "type": "scattermapbox"
           }
          ],
          "scatterpolar": [
           {
            "marker": {
             "colorbar": {
              "outlinewidth": 0,
              "ticks": ""
             }
            },
            "type": "scatterpolar"
           }
          ],
          "scatterpolargl": [
           {
            "marker": {
             "colorbar": {
              "outlinewidth": 0,
              "ticks": ""
             }
            },
            "type": "scatterpolargl"
           }
          ],
          "scatterternary": [
           {
            "marker": {
             "colorbar": {
              "outlinewidth": 0,
              "ticks": ""
             }
            },
            "type": "scatterternary"
           }
          ],
          "surface": [
           {
            "colorbar": {
             "outlinewidth": 0,
             "ticks": ""
            },
            "colorscale": [
             [
              0,
              "#0d0887"
             ],
             [
              0.1111111111111111,
              "#46039f"
             ],
             [
              0.2222222222222222,
              "#7201a8"
             ],
             [
              0.3333333333333333,
              "#9c179e"
             ],
             [
              0.4444444444444444,
              "#bd3786"
             ],
             [
              0.5555555555555556,
              "#d8576b"
             ],
             [
              0.6666666666666666,
              "#ed7953"
             ],
             [
              0.7777777777777778,
              "#fb9f3a"
             ],
             [
              0.8888888888888888,
              "#fdca26"
             ],
             [
              1,
              "#f0f921"
             ]
            ],
            "type": "surface"
           }
          ],
          "table": [
           {
            "cells": {
             "fill": {
              "color": "#EBF0F8"
             },
             "line": {
              "color": "white"
             }
            },
            "header": {
             "fill": {
              "color": "#C8D4E3"
             },
             "line": {
              "color": "white"
             }
            },
            "type": "table"
           }
          ]
         },
         "layout": {
          "annotationdefaults": {
           "arrowcolor": "#2a3f5f",
           "arrowhead": 0,
           "arrowwidth": 1
          },
          "autotypenumbers": "strict",
          "coloraxis": {
           "colorbar": {
            "outlinewidth": 0,
            "ticks": ""
           }
          },
          "colorscale": {
           "diverging": [
            [
             0,
             "#8e0152"
            ],
            [
             0.1,
             "#c51b7d"
            ],
            [
             0.2,
             "#de77ae"
            ],
            [
             0.3,
             "#f1b6da"
            ],
            [
             0.4,
             "#fde0ef"
            ],
            [
             0.5,
             "#f7f7f7"
            ],
            [
             0.6,
             "#e6f5d0"
            ],
            [
             0.7,
             "#b8e186"
            ],
            [
             0.8,
             "#7fbc41"
            ],
            [
             0.9,
             "#4d9221"
            ],
            [
             1,
             "#276419"
            ]
           ],
           "sequential": [
            [
             0,
             "#0d0887"
            ],
            [
             0.1111111111111111,
             "#46039f"
            ],
            [
             0.2222222222222222,
             "#7201a8"
            ],
            [
             0.3333333333333333,
             "#9c179e"
            ],
            [
             0.4444444444444444,
             "#bd3786"
            ],
            [
             0.5555555555555556,
             "#d8576b"
            ],
            [
             0.6666666666666666,
             "#ed7953"
            ],
            [
             0.7777777777777778,
             "#fb9f3a"
            ],
            [
             0.8888888888888888,
             "#fdca26"
            ],
            [
             1,
             "#f0f921"
            ]
           ],
           "sequentialminus": [
            [
             0,
             "#0d0887"
            ],
            [
             0.1111111111111111,
             "#46039f"
            ],
            [
             0.2222222222222222,
             "#7201a8"
            ],
            [
             0.3333333333333333,
             "#9c179e"
            ],
            [
             0.4444444444444444,
             "#bd3786"
            ],
            [
             0.5555555555555556,
             "#d8576b"
            ],
            [
             0.6666666666666666,
             "#ed7953"
            ],
            [
             0.7777777777777778,
             "#fb9f3a"
            ],
            [
             0.8888888888888888,
             "#fdca26"
            ],
            [
             1,
             "#f0f921"
            ]
           ]
          },
          "colorway": [
           "#636efa",
           "#EF553B",
           "#00cc96",
           "#ab63fa",
           "#FFA15A",
           "#19d3f3",
           "#FF6692",
           "#B6E880",
           "#FF97FF",
           "#FECB52"
          ],
          "font": {
           "color": "#2a3f5f"
          },
          "geo": {
           "bgcolor": "white",
           "lakecolor": "white",
           "landcolor": "#E5ECF6",
           "showlakes": true,
           "showland": true,
           "subunitcolor": "white"
          },
          "hoverlabel": {
           "align": "left"
          },
          "hovermode": "closest",
          "mapbox": {
           "style": "light"
          },
          "paper_bgcolor": "white",
          "plot_bgcolor": "#E5ECF6",
          "polar": {
           "angularaxis": {
            "gridcolor": "white",
            "linecolor": "white",
            "ticks": ""
           },
           "bgcolor": "#E5ECF6",
           "radialaxis": {
            "gridcolor": "white",
            "linecolor": "white",
            "ticks": ""
           }
          },
          "scene": {
           "xaxis": {
            "backgroundcolor": "#E5ECF6",
            "gridcolor": "white",
            "gridwidth": 2,
            "linecolor": "white",
            "showbackground": true,
            "ticks": "",
            "zerolinecolor": "white"
           },
           "yaxis": {
            "backgroundcolor": "#E5ECF6",
            "gridcolor": "white",
            "gridwidth": 2,
            "linecolor": "white",
            "showbackground": true,
            "ticks": "",
            "zerolinecolor": "white"
           },
           "zaxis": {
            "backgroundcolor": "#E5ECF6",
            "gridcolor": "white",
            "gridwidth": 2,
            "linecolor": "white",
            "showbackground": true,
            "ticks": "",
            "zerolinecolor": "white"
           }
          },
          "shapedefaults": {
           "line": {
            "color": "#2a3f5f"
           }
          },
          "ternary": {
           "aaxis": {
            "gridcolor": "white",
            "linecolor": "white",
            "ticks": ""
           },
           "baxis": {
            "gridcolor": "white",
            "linecolor": "white",
            "ticks": ""
           },
           "bgcolor": "#E5ECF6",
           "caxis": {
            "gridcolor": "white",
            "linecolor": "white",
            "ticks": ""
           }
          },
          "title": {
           "x": 0.05
          },
          "xaxis": {
           "automargin": true,
           "gridcolor": "white",
           "linecolor": "white",
           "ticks": "",
           "title": {
            "standoff": 15
           },
           "zerolinecolor": "white",
           "zerolinewidth": 2
          },
          "yaxis": {
           "automargin": true,
           "gridcolor": "white",
           "linecolor": "white",
           "ticks": "",
           "title": {
            "standoff": 15
           },
           "zerolinecolor": "white",
           "zerolinewidth": 2
          }
         }
        },
        "title": {
         "text": "Item Counts by Category"
        },
        "xaxis": {
         "title": {
          "text": "Category Index"
         }
        },
        "yaxis": {
         "title": {
          "text": "Number of Items"
         }
        }
       }
      }
     },
     "metadata": {},
     "output_type": "display_data"
    },
    {
     "data": {
      "application/vnd.plotly.v1+json": {
       "config": {
        "plotlyServerURL": "https://plot.ly"
       },
       "data": [
        {
         "text": {
          "bdata": "AAAAAACAY0AAAAAAAAA7QAAAAAAAADRAAAAAAAAAM0AAAAAAAAAzQAAAAAAAADJAAAAAAAAAMUAAAAAAAAAwQAAAAAAAACxAAAAAAAAAJkAAAAAAAAAmQAAAAAAAACZAAAAAAAAAIEAAAAAAAAAgQAAAAAAAABhAAAAAAAAAGEAAAAAAAAAUQAAAAAAAABBAAAAAAAAACEAAAAAAAAAIQAAAAAAAAAhAAAAAAAAAAEAAAAAAAAAAQAAAAAAAAABAAAAAAAAAAEAAAAAAAADwPwAAAAAAAPA/",
          "dtype": "f8"
         },
         "textposition": "auto",
         "type": "bar",
         "x": {
          "bdata": "AAECAwQFBgcICQoLDA0ODxAREhMUFRYXGBka",
          "dtype": "i1"
         },
         "y": {
          "bdata": "nAAbABQAEwATABIAEQAQAA4ACwALAAsACAAIAAYABgAFAAQAAwADAAMAAgACAAIAAgABAAEA",
          "dtype": "i2"
         }
        }
       ],
       "layout": {
        "template": {
         "data": {
          "bar": [
           {
            "error_x": {
             "color": "#2a3f5f"
            },
            "error_y": {
             "color": "#2a3f5f"
            },
            "marker": {
             "line": {
              "color": "#E5ECF6",
              "width": 0.5
             },
             "pattern": {
              "fillmode": "overlay",
              "size": 10,
              "solidity": 0.2
             }
            },
            "type": "bar"
           }
          ],
          "barpolar": [
           {
            "marker": {
             "line": {
              "color": "#E5ECF6",
              "width": 0.5
             },
             "pattern": {
              "fillmode": "overlay",
              "size": 10,
              "solidity": 0.2
             }
            },
            "type": "barpolar"
           }
          ],
          "carpet": [
           {
            "aaxis": {
             "endlinecolor": "#2a3f5f",
             "gridcolor": "white",
             "linecolor": "white",
             "minorgridcolor": "white",
             "startlinecolor": "#2a3f5f"
            },
            "baxis": {
             "endlinecolor": "#2a3f5f",
             "gridcolor": "white",
             "linecolor": "white",
             "minorgridcolor": "white",
             "startlinecolor": "#2a3f5f"
            },
            "type": "carpet"
           }
          ],
          "choropleth": [
           {
            "colorbar": {
             "outlinewidth": 0,
             "ticks": ""
            },
            "type": "choropleth"
           }
          ],
          "contour": [
           {
            "colorbar": {
             "outlinewidth": 0,
             "ticks": ""
            },
            "colorscale": [
             [
              0,
              "#0d0887"
             ],
             [
              0.1111111111111111,
              "#46039f"
             ],
             [
              0.2222222222222222,
              "#7201a8"
             ],
             [
              0.3333333333333333,
              "#9c179e"
             ],
             [
              0.4444444444444444,
              "#bd3786"
             ],
             [
              0.5555555555555556,
              "#d8576b"
             ],
             [
              0.6666666666666666,
              "#ed7953"
             ],
             [
              0.7777777777777778,
              "#fb9f3a"
             ],
             [
              0.8888888888888888,
              "#fdca26"
             ],
             [
              1,
              "#f0f921"
             ]
            ],
            "type": "contour"
           }
          ],
          "contourcarpet": [
           {
            "colorbar": {
             "outlinewidth": 0,
             "ticks": ""
            },
            "type": "contourcarpet"
           }
          ],
          "heatmap": [
           {
            "colorbar": {
             "outlinewidth": 0,
             "ticks": ""
            },
            "colorscale": [
             [
              0,
              "#0d0887"
             ],
             [
              0.1111111111111111,
              "#46039f"
             ],
             [
              0.2222222222222222,
              "#7201a8"
             ],
             [
              0.3333333333333333,
              "#9c179e"
             ],
             [
              0.4444444444444444,
              "#bd3786"
             ],
             [
              0.5555555555555556,
              "#d8576b"
             ],
             [
              0.6666666666666666,
              "#ed7953"
             ],
             [
              0.7777777777777778,
              "#fb9f3a"
             ],
             [
              0.8888888888888888,
              "#fdca26"
             ],
             [
              1,
              "#f0f921"
             ]
            ],
            "type": "heatmap"
           }
          ],
          "histogram": [
           {
            "marker": {
             "pattern": {
              "fillmode": "overlay",
              "size": 10,
              "solidity": 0.2
             }
            },
            "type": "histogram"
           }
          ],
          "histogram2d": [
           {
            "colorbar": {
             "outlinewidth": 0,
             "ticks": ""
            },
            "colorscale": [
             [
              0,
              "#0d0887"
             ],
             [
              0.1111111111111111,
              "#46039f"
             ],
             [
              0.2222222222222222,
              "#7201a8"
             ],
             [
              0.3333333333333333,
              "#9c179e"
             ],
             [
              0.4444444444444444,
              "#bd3786"
             ],
             [
              0.5555555555555556,
              "#d8576b"
             ],
             [
              0.6666666666666666,
              "#ed7953"
             ],
             [
              0.7777777777777778,
              "#fb9f3a"
             ],
             [
              0.8888888888888888,
              "#fdca26"
             ],
             [
              1,
              "#f0f921"
             ]
            ],
            "type": "histogram2d"
           }
          ],
          "histogram2dcontour": [
           {
            "colorbar": {
             "outlinewidth": 0,
             "ticks": ""
            },
            "colorscale": [
             [
              0,
              "#0d0887"
             ],
             [
              0.1111111111111111,
              "#46039f"
             ],
             [
              0.2222222222222222,
              "#7201a8"
             ],
             [
              0.3333333333333333,
              "#9c179e"
             ],
             [
              0.4444444444444444,
              "#bd3786"
             ],
             [
              0.5555555555555556,
              "#d8576b"
             ],
             [
              0.6666666666666666,
              "#ed7953"
             ],
             [
              0.7777777777777778,
              "#fb9f3a"
             ],
             [
              0.8888888888888888,
              "#fdca26"
             ],
             [
              1,
              "#f0f921"
             ]
            ],
            "type": "histogram2dcontour"
           }
          ],
          "mesh3d": [
           {
            "colorbar": {
             "outlinewidth": 0,
             "ticks": ""
            },
            "type": "mesh3d"
           }
          ],
          "parcoords": [
           {
            "line": {
             "colorbar": {
              "outlinewidth": 0,
              "ticks": ""
             }
            },
            "type": "parcoords"
           }
          ],
          "pie": [
           {
            "automargin": true,
            "type": "pie"
           }
          ],
          "scatter": [
           {
            "fillpattern": {
             "fillmode": "overlay",
             "size": 10,
             "solidity": 0.2
            },
            "type": "scatter"
           }
          ],
          "scatter3d": [
           {
            "line": {
             "colorbar": {
              "outlinewidth": 0,
              "ticks": ""
             }
            },
            "marker": {
             "colorbar": {
              "outlinewidth": 0,
              "ticks": ""
             }
            },
            "type": "scatter3d"
           }
          ],
          "scattercarpet": [
           {
            "marker": {
             "colorbar": {
              "outlinewidth": 0,
              "ticks": ""
             }
            },
            "type": "scattercarpet"
           }
          ],
          "scattergeo": [
           {
            "marker": {
             "colorbar": {
              "outlinewidth": 0,
              "ticks": ""
             }
            },
            "type": "scattergeo"
           }
          ],
          "scattergl": [
           {
            "marker": {
             "colorbar": {
              "outlinewidth": 0,
              "ticks": ""
             }
            },
            "type": "scattergl"
           }
          ],
          "scattermap": [
           {
            "marker": {
             "colorbar": {
              "outlinewidth": 0,
              "ticks": ""
             }
            },
            "type": "scattermap"
           }
          ],
          "scattermapbox": [
           {
            "marker": {
             "colorbar": {
              "outlinewidth": 0,
              "ticks": ""
             }
            },
            "type": "scattermapbox"
           }
          ],
          "scatterpolar": [
           {
            "marker": {
             "colorbar": {
              "outlinewidth": 0,
              "ticks": ""
             }
            },
            "type": "scatterpolar"
           }
          ],
          "scatterpolargl": [
           {
            "marker": {
             "colorbar": {
              "outlinewidth": 0,
              "ticks": ""
             }
            },
            "type": "scatterpolargl"
           }
          ],
          "scatterternary": [
           {
            "marker": {
             "colorbar": {
              "outlinewidth": 0,
              "ticks": ""
             }
            },
            "type": "scatterternary"
           }
          ],
          "surface": [
           {
            "colorbar": {
             "outlinewidth": 0,
             "ticks": ""
            },
            "colorscale": [
             [
              0,
              "#0d0887"
             ],
             [
              0.1111111111111111,
              "#46039f"
             ],
             [
              0.2222222222222222,
              "#7201a8"
             ],
             [
              0.3333333333333333,
              "#9c179e"
             ],
             [
              0.4444444444444444,
              "#bd3786"
             ],
             [
              0.5555555555555556,
              "#d8576b"
             ],
             [
              0.6666666666666666,
              "#ed7953"
             ],
             [
              0.7777777777777778,
              "#fb9f3a"
             ],
             [
              0.8888888888888888,
              "#fdca26"
             ],
             [
              1,
              "#f0f921"
             ]
            ],
            "type": "surface"
           }
          ],
          "table": [
           {
            "cells": {
             "fill": {
              "color": "#EBF0F8"
             },
             "line": {
              "color": "white"
             }
            },
            "header": {
             "fill": {
              "color": "#C8D4E3"
             },
             "line": {
              "color": "white"
             }
            },
            "type": "table"
           }
          ]
         },
         "layout": {
          "annotationdefaults": {
           "arrowcolor": "#2a3f5f",
           "arrowhead": 0,
           "arrowwidth": 1
          },
          "autotypenumbers": "strict",
          "coloraxis": {
           "colorbar": {
            "outlinewidth": 0,
            "ticks": ""
           }
          },
          "colorscale": {
           "diverging": [
            [
             0,
             "#8e0152"
            ],
            [
             0.1,
             "#c51b7d"
            ],
            [
             0.2,
             "#de77ae"
            ],
            [
             0.3,
             "#f1b6da"
            ],
            [
             0.4,
             "#fde0ef"
            ],
            [
             0.5,
             "#f7f7f7"
            ],
            [
             0.6,
             "#e6f5d0"
            ],
            [
             0.7,
             "#b8e186"
            ],
            [
             0.8,
             "#7fbc41"
            ],
            [
             0.9,
             "#4d9221"
            ],
            [
             1,
             "#276419"
            ]
           ],
           "sequential": [
            [
             0,
             "#0d0887"
            ],
            [
             0.1111111111111111,
             "#46039f"
            ],
            [
             0.2222222222222222,
             "#7201a8"
            ],
            [
             0.3333333333333333,
             "#9c179e"
            ],
            [
             0.4444444444444444,
             "#bd3786"
            ],
            [
             0.5555555555555556,
             "#d8576b"
            ],
            [
             0.6666666666666666,
             "#ed7953"
            ],
            [
             0.7777777777777778,
             "#fb9f3a"
            ],
            [
             0.8888888888888888,
             "#fdca26"
            ],
            [
             1,
             "#f0f921"
            ]
           ],
           "sequentialminus": [
            [
             0,
             "#0d0887"
            ],
            [
             0.1111111111111111,
             "#46039f"
            ],
            [
             0.2222222222222222,
             "#7201a8"
            ],
            [
             0.3333333333333333,
             "#9c179e"
            ],
            [
             0.4444444444444444,
             "#bd3786"
            ],
            [
             0.5555555555555556,
             "#d8576b"
            ],
            [
             0.6666666666666666,
             "#ed7953"
            ],
            [
             0.7777777777777778,
             "#fb9f3a"
            ],
            [
             0.8888888888888888,
             "#fdca26"
            ],
            [
             1,
             "#f0f921"
            ]
           ]
          },
          "colorway": [
           "#636efa",
           "#EF553B",
           "#00cc96",
           "#ab63fa",
           "#FFA15A",
           "#19d3f3",
           "#FF6692",
           "#B6E880",
           "#FF97FF",
           "#FECB52"
          ],
          "font": {
           "color": "#2a3f5f"
          },
          "geo": {
           "bgcolor": "white",
           "lakecolor": "white",
           "landcolor": "#E5ECF6",
           "showlakes": true,
           "showland": true,
           "subunitcolor": "white"
          },
          "hoverlabel": {
           "align": "left"
          },
          "hovermode": "closest",
          "mapbox": {
           "style": "light"
          },
          "paper_bgcolor": "white",
          "plot_bgcolor": "#E5ECF6",
          "polar": {
           "angularaxis": {
            "gridcolor": "white",
            "linecolor": "white",
            "ticks": ""
           },
           "bgcolor": "#E5ECF6",
           "radialaxis": {
            "gridcolor": "white",
            "linecolor": "white",
            "ticks": ""
           }
          },
          "scene": {
           "xaxis": {
            "backgroundcolor": "#E5ECF6",
            "gridcolor": "white",
            "gridwidth": 2,
            "linecolor": "white",
            "showbackground": true,
            "ticks": "",
            "zerolinecolor": "white"
           },
           "yaxis": {
            "backgroundcolor": "#E5ECF6",
            "gridcolor": "white",
            "gridwidth": 2,
            "linecolor": "white",
            "showbackground": true,
            "ticks": "",
            "zerolinecolor": "white"
           },
           "zaxis": {
            "backgroundcolor": "#E5ECF6",
            "gridcolor": "white",
            "gridwidth": 2,
            "linecolor": "white",
            "showbackground": true,
            "ticks": "",
            "zerolinecolor": "white"
           }
          },
          "shapedefaults": {
           "line": {
            "color": "#2a3f5f"
           }
          },
          "ternary": {
           "aaxis": {
            "gridcolor": "white",
            "linecolor": "white",
            "ticks": ""
           },
           "baxis": {
            "gridcolor": "white",
            "linecolor": "white",
            "ticks": ""
           },
           "bgcolor": "#E5ECF6",
           "caxis": {
            "gridcolor": "white",
            "linecolor": "white",
            "ticks": ""
           }
          },
          "title": {
           "x": 0.05
          },
          "xaxis": {
           "automargin": true,
           "gridcolor": "white",
           "linecolor": "white",
           "ticks": "",
           "title": {
            "standoff": 15
           },
           "zerolinecolor": "white",
           "zerolinewidth": 2
          },
          "yaxis": {
           "automargin": true,
           "gridcolor": "white",
           "linecolor": "white",
           "ticks": "",
           "title": {
            "standoff": 15
           },
           "zerolinecolor": "white",
           "zerolinewidth": 2
          }
         }
        },
        "title": {
         "text": "Item Counts by Super-Category"
        },
        "xaxis": {
         "title": {
          "text": "Super-Category Index"
         }
        },
        "yaxis": {
         "title": {
          "text": "Number of Items"
         }
        }
       }
      }
     },
     "metadata": {},
     "output_type": "display_data"
    }
   ],
   "source": [
    "segment_counts = sorted_items.groupby('SEGMENT').size().reset_index(name='ITEM_COUNT').sort_values(by='ITEM_COUNT', ascending=False).reset_index(drop=True)\n",
    "segment_counts['SEGMENT_INDEX'] = segment_counts.index\n",
    "\n",
    "sub_cat_counts = sorted_items.groupby('SUB_CAT').size().reset_index(name='ITEM_COUNT').sort_values(by='ITEM_COUNT', ascending=False).reset_index(drop=True)\n",
    "sub_cat_counts['SUB_CAT_INDEX'] = sub_cat_counts.index\n",
    "\n",
    "cat_counts = sorted_items.groupby('CAT').size().reset_index(name='ITEM_COUNT').sort_values(by='ITEM_COUNT', ascending=False).reset_index(drop=True)\n",
    "cat_counts['CAT_INDEX'] = cat_counts.index\n",
    "\n",
    "super_cat_counts = sorted_items.groupby('SUPER_CAT').size().reset_index(name='ITEM_COUNT').sort_values(by='ITEM_COUNT', ascending=False).reset_index(drop=True)\n",
    "super_cat_counts['SUPER_CAT_INDEX'] = super_cat_counts.index\n",
    "\n",
    "fig_segment = go.Figure(data=[\n",
    "    go.Bar(\n",
    "        x=segment_counts['SEGMENT_INDEX'],\n",
    "        y=segment_counts['ITEM_COUNT'],\n",
    "        text=segment_counts['ITEM_COUNT'],\n",
    "        textposition='auto'\n",
    "    )\n",
    "])\n",
    "fig_segment.update_layout(\n",
    "    title='Item Counts by Segment',\n",
    "    xaxis_title='Segment Index',\n",
    "    yaxis_title='Number of Items'\n",
    ")\n",
    "fig_segment.show()\n",
    "\n",
    "fig_sub_cat = go.Figure(data=[\n",
    "    go.Bar(\n",
    "        x=sub_cat_counts['SUB_CAT_INDEX'],\n",
    "        y=sub_cat_counts['ITEM_COUNT'],\n",
    "        text=sub_cat_counts['ITEM_COUNT'],\n",
    "        textposition='auto'\n",
    "    )\n",
    "])\n",
    "fig_sub_cat.update_layout(\n",
    "    title='Item Counts by Sub-Category',\n",
    "    xaxis_title='Sub-Category Index',\n",
    "    yaxis_title='Number of Items'\n",
    ")\n",
    "fig_sub_cat.show()\n",
    "\n",
    "fig_cat = go.Figure(data=[\n",
    "    go.Bar(\n",
    "        x=cat_counts['CAT_INDEX'],\n",
    "        y=cat_counts['ITEM_COUNT'],\n",
    "        text=cat_counts['ITEM_COUNT'],\n",
    "        textposition='auto'\n",
    "    )\n",
    "])\n",
    "fig_cat.update_layout(\n",
    "    title='Item Counts by Category',\n",
    "    xaxis_title='Category Index',\n",
    "    yaxis_title='Number of Items'\n",
    ")\n",
    "fig_cat.show()\n",
    "\n",
    "fig_super_cat = go.Figure(data=[\n",
    "    go.Bar(\n",
    "        x=super_cat_counts['SUPER_CAT_INDEX'],\n",
    "        y=super_cat_counts['ITEM_COUNT'],\n",
    "        text=super_cat_counts['ITEM_COUNT'],\n",
    "        textposition='auto'\n",
    "    )\n",
    "])\n",
    "fig_super_cat.update_layout(\n",
    "    title='Item Counts by Super-Category',\n",
    "    xaxis_title='Super-Category Index',\n",
    "    yaxis_title='Number of Items'\n",
    ")\n",
    "fig_super_cat.show()"
   ]
  },
  {
   "cell_type": "markdown",
   "metadata": {},
   "source": [
    "## Analysis of the lifts data"
   ]
  },
  {
   "cell_type": "code",
   "execution_count": 14,
   "metadata": {},
   "outputs": [
    {
     "name": "stdout",
     "output_type": "stream",
     "text": [
      "Analysing Lift Data Dataframe...\n",
      " \n",
      "Shape of Lift Data: (15754, 7)\n",
      "\n",
      "First 3 rows of Lift Data:\n",
      "      ID                                              ITEM1  \\\n",
      "0  14229  a3df705a2dffa05976b853e19106b1b43a66f606775f91...   \n",
      "1  14230  5dbea717d3f1e3431c11d0c5fb8d4694648b306fd83f4b...   \n",
      "2  14231  a8d8c3c8d56e3939e2f74e5ed488e0ac2049183ee77183...   \n",
      "\n",
      "                                               ITEM2  PAIR_COUNT  ITEM1_COUNT  \\\n",
      "0  b708452353ce5dd80fdbc427de36bb44fd2b4098e14bd2...         629         4896   \n",
      "1  bb3ce5f621f4b58b31290e459c3a5031eafddd471ca6a7...          21         1663   \n",
      "2  ee9af63abbc01197bd4dddcbf530cf3a9a332f5afdeca5...          11         1607   \n",
      "\n",
      "   ITEM2_COUNT      LIFT  \n",
      "0        35972  2.488894  \n",
      "1         8165  1.077786  \n",
      "2         3896  1.224390  \n",
      "\n",
      "Information about Lift Data:\n",
      "\n",
      "<class 'pandas.core.frame.DataFrame'>\n",
      "RangeIndex: 15754 entries, 0 to 15753\n",
      "Data columns (total 7 columns):\n",
      " #   Column       Non-Null Count  Dtype  \n",
      "---  ------       --------------  -----  \n",
      " 0   ID           15754 non-null  int64  \n",
      " 1   ITEM1        15754 non-null  object \n",
      " 2   ITEM2        15754 non-null  object \n",
      " 3   PAIR_COUNT   15754 non-null  int64  \n",
      " 4   ITEM1_COUNT  15754 non-null  int64  \n",
      " 5   ITEM2_COUNT  15754 non-null  int64  \n",
      " 6   LIFT         15754 non-null  float64\n",
      "dtypes: float64(1), int64(4), object(2)\n",
      "memory usage: 861.7+ KB\n",
      "\n",
      "Summary statistics for numeric columns in Lift Data:\n",
      "                 ID    PAIR_COUNT   ITEM1_COUNT   ITEM2_COUNT          LIFT\n",
      "count  15754.000000  15754.000000  15754.000000  15754.000000  15754.000000\n",
      "mean    7877.500000     46.380348   3060.146629   3263.441285      3.428682\n",
      "std     4547.932406    123.390833   3169.941708   3333.098599      5.680455\n",
      "min        1.000000      6.000000    258.000000    258.000000      1.000049\n",
      "25%     3939.250000      9.000000   1537.000000   1646.000000      1.300080\n",
      "50%     7877.500000     16.000000   2152.000000   2308.000000      1.919506\n",
      "75%    11815.750000     36.000000   3061.000000   3353.000000      3.656779\n",
      "max    15754.000000   4330.000000  35972.000000  35972.000000    178.173084\n",
      "\n",
      "Summary statistics for categorical/object columns in Lift Data:\n",
      "                                                    ITEM1  \\\n",
      "count                                               15754   \n",
      "unique                                                382   \n",
      "top     022884a3c80c51d1e71225e36af6647d9094aa4966782b...   \n",
      "freq                                                  191   \n",
      "\n",
      "                                                    ITEM2  \n",
      "count                                               15754  \n",
      "unique                                                389  \n",
      "top     e2c5349ff7db1878e332b58271493d35ba2823fa63d3b0...  \n",
      "freq                                                  163  \n",
      "\n",
      "Analysis complete.\n",
      "\n"
     ]
    }
   ],
   "source": [
    "analyse_dataframe(lift, \"Lift Data\")"
   ]
  },
  {
   "cell_type": "code",
   "execution_count": 15,
   "metadata": {},
   "outputs": [
    {
     "data": {
      "text/html": [
       "<div>\n",
       "<style scoped>\n",
       "    .dataframe tbody tr th:only-of-type {\n",
       "        vertical-align: middle;\n",
       "    }\n",
       "\n",
       "    .dataframe tbody tr th {\n",
       "        vertical-align: top;\n",
       "    }\n",
       "\n",
       "    .dataframe thead th {\n",
       "        text-align: right;\n",
       "    }\n",
       "</style>\n",
       "<table border=\"1\" class=\"dataframe\">\n",
       "  <thead>\n",
       "    <tr style=\"text-align: right;\">\n",
       "      <th></th>\n",
       "      <th>ITEM1_NAME</th>\n",
       "      <th>ITEM2_NAME</th>\n",
       "      <th>ITEM1_COUNT</th>\n",
       "      <th>ITEM2_COUNT</th>\n",
       "      <th>PAIR_COUNT</th>\n",
       "      <th>LIFT</th>\n",
       "    </tr>\n",
       "  </thead>\n",
       "  <tbody>\n",
       "    <tr>\n",
       "      <th>0</th>\n",
       "      <td>Stamford St Large Pork Sausages 1kg</td>\n",
       "      <td>Stamford Street Apples x6</td>\n",
       "      <td>4896</td>\n",
       "      <td>35972</td>\n",
       "      <td>629</td>\n",
       "      <td>2.488894</td>\n",
       "    </tr>\n",
       "    <tr>\n",
       "      <th>1</th>\n",
       "      <td>JS snack pockets with salmon 65g</td>\n",
       "      <td>JS Butterlicious 500g</td>\n",
       "      <td>1663</td>\n",
       "      <td>8165</td>\n",
       "      <td>21</td>\n",
       "      <td>1.077786</td>\n",
       "    </tr>\n",
       "    <tr>\n",
       "      <th>2</th>\n",
       "      <td>JS 1+ meat &amp;fish selctn in jelly 48x100g</td>\n",
       "      <td>Bakers sizzlers bacon 90g</td>\n",
       "      <td>1607</td>\n",
       "      <td>3896</td>\n",
       "      <td>11</td>\n",
       "      <td>1.224390</td>\n",
       "    </tr>\n",
       "    <tr>\n",
       "      <th>3</th>\n",
       "      <td>JS wildbird seed mix 4kg</td>\n",
       "      <td>Pedigree mini markies 500g</td>\n",
       "      <td>2752</td>\n",
       "      <td>2715</td>\n",
       "      <td>22</td>\n",
       "      <td>2.051947</td>\n",
       "    </tr>\n",
       "    <tr>\n",
       "      <th>4</th>\n",
       "      <td>Go-Cat adult chicken &amp; duck 2kg</td>\n",
       "      <td>Gourmet Perle chef's collection 12x85g</td>\n",
       "      <td>2797</td>\n",
       "      <td>1536</td>\n",
       "      <td>10</td>\n",
       "      <td>1.622102</td>\n",
       "    </tr>\n",
       "    <tr>\n",
       "      <th>...</th>\n",
       "      <td>...</td>\n",
       "      <td>...</td>\n",
       "      <td>...</td>\n",
       "      <td>...</td>\n",
       "      <td>...</td>\n",
       "      <td>...</td>\n",
       "    </tr>\n",
       "    <tr>\n",
       "      <th>15749</th>\n",
       "      <td>Kitkat 2 finger choc orange 14pk</td>\n",
       "      <td>Kit Kat 2 Finger White MPK 9x20.7g</td>\n",
       "      <td>1357</td>\n",
       "      <td>4494</td>\n",
       "      <td>32</td>\n",
       "      <td>3.656780</td>\n",
       "    </tr>\n",
       "    <tr>\n",
       "      <th>15750</th>\n",
       "      <td>Felix AGAIL favourites selection 12x100g</td>\n",
       "      <td>Felix soup fish selection 6x48g</td>\n",
       "      <td>1646</td>\n",
       "      <td>2179</td>\n",
       "      <td>14</td>\n",
       "      <td>2.720212</td>\n",
       "    </tr>\n",
       "    <tr>\n",
       "      <th>15751</th>\n",
       "      <td>Whiskas 7+ Cat Pouch Poultry JEL 12x85g</td>\n",
       "      <td>TENA Lady Discreet Normal Pads x12</td>\n",
       "      <td>2490</td>\n",
       "      <td>4546</td>\n",
       "      <td>28</td>\n",
       "      <td>1.723816</td>\n",
       "    </tr>\n",
       "    <tr>\n",
       "      <th>15752</th>\n",
       "      <td>Hubbard's Pasta Sauce 440g</td>\n",
       "      <td>Stamford Street Strawberry &amp;Vanilla Roll</td>\n",
       "      <td>1766</td>\n",
       "      <td>1430</td>\n",
       "      <td>17</td>\n",
       "      <td>4.691200</td>\n",
       "    </tr>\n",
       "    <tr>\n",
       "      <th>15753</th>\n",
       "      <td>TENA LADY EXTRA X10</td>\n",
       "      <td>JS Steak &amp; Kidney Puff Pastry Pie 150g</td>\n",
       "      <td>2898</td>\n",
       "      <td>1322</td>\n",
       "      <td>6</td>\n",
       "      <td>1.091398</td>\n",
       "    </tr>\n",
       "  </tbody>\n",
       "</table>\n",
       "<p>15754 rows × 6 columns</p>\n",
       "</div>"
      ],
      "text/plain": [
       "                                     ITEM1_NAME  \\\n",
       "0           Stamford St Large Pork Sausages 1kg   \n",
       "1              JS snack pockets with salmon 65g   \n",
       "2      JS 1+ meat &fish selctn in jelly 48x100g   \n",
       "3                      JS wildbird seed mix 4kg   \n",
       "4               Go-Cat adult chicken & duck 2kg   \n",
       "...                                         ...   \n",
       "15749          Kitkat 2 finger choc orange 14pk   \n",
       "15750  Felix AGAIL favourites selection 12x100g   \n",
       "15751   Whiskas 7+ Cat Pouch Poultry JEL 12x85g   \n",
       "15752                Hubbard's Pasta Sauce 440g   \n",
       "15753                       TENA LADY EXTRA X10   \n",
       "\n",
       "                                     ITEM2_NAME  ITEM1_COUNT  ITEM2_COUNT  \\\n",
       "0                     Stamford Street Apples x6         4896        35972   \n",
       "1                         JS Butterlicious 500g         1663         8165   \n",
       "2                     Bakers sizzlers bacon 90g         1607         3896   \n",
       "3                    Pedigree mini markies 500g         2752         2715   \n",
       "4        Gourmet Perle chef's collection 12x85g         2797         1536   \n",
       "...                                         ...          ...          ...   \n",
       "15749        Kit Kat 2 Finger White MPK 9x20.7g         1357         4494   \n",
       "15750           Felix soup fish selection 6x48g         1646         2179   \n",
       "15751        TENA Lady Discreet Normal Pads x12         2490         4546   \n",
       "15752  Stamford Street Strawberry &Vanilla Roll         1766         1430   \n",
       "15753    JS Steak & Kidney Puff Pastry Pie 150g         2898         1322   \n",
       "\n",
       "       PAIR_COUNT      LIFT  \n",
       "0             629  2.488894  \n",
       "1              21  1.077786  \n",
       "2              11  1.224390  \n",
       "3              22  2.051947  \n",
       "4              10  1.622102  \n",
       "...           ...       ...  \n",
       "15749          32  3.656780  \n",
       "15750          14  2.720212  \n",
       "15751          28  1.723816  \n",
       "15752          17  4.691200  \n",
       "15753           6  1.091398  \n",
       "\n",
       "[15754 rows x 6 columns]"
      ]
     },
     "execution_count": 15,
     "metadata": {},
     "output_type": "execute_result"
    }
   ],
   "source": [
    "items_names = items[['ITEM', 'ITEM_NAME']].copy()\n",
    "lift_with_names = lift.merge(items_names, left_on=\"ITEM1\", right_on='ITEM', how=\"left\").drop(columns=['ITEM']).rename(columns={'ITEM_NAME': 'ITEM1_NAME'})\n",
    "lift_with_names = lift_with_names.merge(items_names, left_on=\"ITEM2\", right_on='ITEM', how=\"left\").drop(columns=['ITEM']).rename(columns={'ITEM_NAME': 'ITEM2_NAME'})\n",
    "lift_with_names_reduced = lift_with_names[['ITEM1_NAME', 'ITEM2_NAME', 'ITEM1_COUNT', 'ITEM2_COUNT', 'PAIR_COUNT', 'LIFT']]\n",
    "lift_with_names_reduced"
   ]
  },
  {
   "cell_type": "code",
   "execution_count": 16,
   "metadata": {},
   "outputs": [
    {
     "data": {
      "text/html": [
       "<div>\n",
       "<style scoped>\n",
       "    .dataframe tbody tr th:only-of-type {\n",
       "        vertical-align: middle;\n",
       "    }\n",
       "\n",
       "    .dataframe tbody tr th {\n",
       "        vertical-align: top;\n",
       "    }\n",
       "\n",
       "    .dataframe thead th {\n",
       "        text-align: right;\n",
       "    }\n",
       "</style>\n",
       "<table border=\"1\" class=\"dataframe\">\n",
       "  <thead>\n",
       "    <tr style=\"text-align: right;\">\n",
       "      <th></th>\n",
       "      <th>ITEM1_NAME</th>\n",
       "      <th>ITEM2_NAME</th>\n",
       "      <th>ITEM1_COUNT</th>\n",
       "      <th>ITEM2_COUNT</th>\n",
       "      <th>PAIR_COUNT</th>\n",
       "      <th>LIFT</th>\n",
       "    </tr>\n",
       "  </thead>\n",
       "  <tbody>\n",
       "    <tr>\n",
       "      <th>5140</th>\n",
       "      <td>Stamford St Large Pork Sausages 1kg</td>\n",
       "      <td>JS Stamford Street Chips 1.5 kg</td>\n",
       "      <td>4896</td>\n",
       "      <td>3038</td>\n",
       "      <td>343</td>\n",
       "      <td>16.070400</td>\n",
       "    </tr>\n",
       "    <tr>\n",
       "      <th>11924</th>\n",
       "      <td>Stamford St Large Pork Sausages 1kg</td>\n",
       "      <td>Stamford St Mixed Portions Pack 2kg</td>\n",
       "      <td>4896</td>\n",
       "      <td>1931</td>\n",
       "      <td>191</td>\n",
       "      <td>14.078988</td>\n",
       "    </tr>\n",
       "    <tr>\n",
       "      <th>14999</th>\n",
       "      <td>Stamford St Large Pork Sausages 1kg</td>\n",
       "      <td>Stamford Street Strawberry &amp;Vanilla Roll</td>\n",
       "      <td>4896</td>\n",
       "      <td>1430</td>\n",
       "      <td>93</td>\n",
       "      <td>9.256936</td>\n",
       "    </tr>\n",
       "    <tr>\n",
       "      <th>15113</th>\n",
       "      <td>Stamford St Large Pork Sausages 1kg</td>\n",
       "      <td>Stamford Street Mini Rolls 102g</td>\n",
       "      <td>4896</td>\n",
       "      <td>2308</td>\n",
       "      <td>147</td>\n",
       "      <td>9.065711</td>\n",
       "    </tr>\n",
       "    <tr>\n",
       "      <th>5122</th>\n",
       "      <td>Stamford St Large Pork Sausages 1kg</td>\n",
       "      <td>Stamford Street Mixed Vegetables 1kg</td>\n",
       "      <td>4896</td>\n",
       "      <td>5873</td>\n",
       "      <td>294</td>\n",
       "      <td>7.125374</td>\n",
       "    </tr>\n",
       "    <tr>\n",
       "      <th>9800</th>\n",
       "      <td>Stamford St Large Pork Sausages 1kg</td>\n",
       "      <td>Stamford Street Co. Potatoes 2.5kg</td>\n",
       "      <td>4896</td>\n",
       "      <td>891</td>\n",
       "      <td>44</td>\n",
       "      <td>7.029028</td>\n",
       "    </tr>\n",
       "    <tr>\n",
       "      <th>11665</th>\n",
       "      <td>Stamford St Large Pork Sausages 1kg</td>\n",
       "      <td>Hubbards Orange Double Con NAS 750ml</td>\n",
       "      <td>4896</td>\n",
       "      <td>9701</td>\n",
       "      <td>425</td>\n",
       "      <td>6.235808</td>\n",
       "    </tr>\n",
       "    <tr>\n",
       "      <th>12732</th>\n",
       "      <td>Stamford St Large Pork Sausages 1kg</td>\n",
       "      <td>Stamford St Cheese and Onion Quiche 400g</td>\n",
       "      <td>4896</td>\n",
       "      <td>1727</td>\n",
       "      <td>73</td>\n",
       "      <td>6.016596</td>\n",
       "    </tr>\n",
       "    <tr>\n",
       "      <th>2116</th>\n",
       "      <td>Stamford St Large Pork Sausages 1kg</td>\n",
       "      <td>Hubbards White Rice 1kg</td>\n",
       "      <td>4896</td>\n",
       "      <td>4823</td>\n",
       "      <td>198</td>\n",
       "      <td>5.843436</td>\n",
       "    </tr>\n",
       "    <tr>\n",
       "      <th>4657</th>\n",
       "      <td>Stamford St Large Pork Sausages 1kg</td>\n",
       "      <td>Stamford Street Peas 850g</td>\n",
       "      <td>4896</td>\n",
       "      <td>12822</td>\n",
       "      <td>453</td>\n",
       "      <td>5.028781</td>\n",
       "    </tr>\n",
       "  </tbody>\n",
       "</table>\n",
       "</div>"
      ],
      "text/plain": [
       "                                ITEM1_NAME  \\\n",
       "5140   Stamford St Large Pork Sausages 1kg   \n",
       "11924  Stamford St Large Pork Sausages 1kg   \n",
       "14999  Stamford St Large Pork Sausages 1kg   \n",
       "15113  Stamford St Large Pork Sausages 1kg   \n",
       "5122   Stamford St Large Pork Sausages 1kg   \n",
       "9800   Stamford St Large Pork Sausages 1kg   \n",
       "11665  Stamford St Large Pork Sausages 1kg   \n",
       "12732  Stamford St Large Pork Sausages 1kg   \n",
       "2116   Stamford St Large Pork Sausages 1kg   \n",
       "4657   Stamford St Large Pork Sausages 1kg   \n",
       "\n",
       "                                     ITEM2_NAME  ITEM1_COUNT  ITEM2_COUNT  \\\n",
       "5140            JS Stamford Street Chips 1.5 kg         4896         3038   \n",
       "11924       Stamford St Mixed Portions Pack 2kg         4896         1931   \n",
       "14999  Stamford Street Strawberry &Vanilla Roll         4896         1430   \n",
       "15113           Stamford Street Mini Rolls 102g         4896         2308   \n",
       "5122       Stamford Street Mixed Vegetables 1kg         4896         5873   \n",
       "9800         Stamford Street Co. Potatoes 2.5kg         4896          891   \n",
       "11665      Hubbards Orange Double Con NAS 750ml         4896         9701   \n",
       "12732  Stamford St Cheese and Onion Quiche 400g         4896         1727   \n",
       "2116                    Hubbards White Rice 1kg         4896         4823   \n",
       "4657                  Stamford Street Peas 850g         4896        12822   \n",
       "\n",
       "       PAIR_COUNT       LIFT  \n",
       "5140          343  16.070400  \n",
       "11924         191  14.078988  \n",
       "14999          93   9.256936  \n",
       "15113         147   9.065711  \n",
       "5122          294   7.125374  \n",
       "9800           44   7.029028  \n",
       "11665         425   6.235808  \n",
       "12732          73   6.016596  \n",
       "2116          198   5.843436  \n",
       "4657          453   5.028781  "
      ]
     },
     "execution_count": 16,
     "metadata": {},
     "output_type": "execute_result"
    }
   ],
   "source": [
    "lift_with_names_reduced[lift_with_names_reduced['ITEM1_NAME'] == 'Stamford St Large Pork Sausages 1kg'].sort_values(by='LIFT', ascending=False).head(10)"
   ]
  },
  {
   "cell_type": "code",
   "execution_count": 17,
   "metadata": {},
   "outputs": [
    {
     "data": {
      "text/html": [
       "<div>\n",
       "<style scoped>\n",
       "    .dataframe tbody tr th:only-of-type {\n",
       "        vertical-align: middle;\n",
       "    }\n",
       "\n",
       "    .dataframe tbody tr th {\n",
       "        vertical-align: top;\n",
       "    }\n",
       "\n",
       "    .dataframe thead th {\n",
       "        text-align: right;\n",
       "    }\n",
       "</style>\n",
       "<table border=\"1\" class=\"dataframe\">\n",
       "  <thead>\n",
       "    <tr style=\"text-align: right;\">\n",
       "      <th></th>\n",
       "      <th>ITEM1_NAME</th>\n",
       "      <th>ITEM2_NAME</th>\n",
       "      <th>ITEM1_COUNT</th>\n",
       "      <th>ITEM2_COUNT</th>\n",
       "      <th>PAIR_COUNT</th>\n",
       "      <th>LIFT</th>\n",
       "    </tr>\n",
       "  </thead>\n",
       "  <tbody>\n",
       "    <tr>\n",
       "      <th>2202</th>\n",
       "      <td>Kitkat 2 finger choc orange 14pk</td>\n",
       "      <td>Twix biscuit 16pkt 320g</td>\n",
       "      <td>1357</td>\n",
       "      <td>2622</td>\n",
       "      <td>22</td>\n",
       "      <td>4.308954</td>\n",
       "    </tr>\n",
       "    <tr>\n",
       "      <th>15749</th>\n",
       "      <td>Kitkat 2 finger choc orange 14pk</td>\n",
       "      <td>Kit Kat 2 Finger White MPK 9x20.7g</td>\n",
       "      <td>1357</td>\n",
       "      <td>4494</td>\n",
       "      <td>32</td>\n",
       "      <td>3.656780</td>\n",
       "    </tr>\n",
       "    <tr>\n",
       "      <th>14430</th>\n",
       "      <td>Kitkat 2 finger choc orange 14pk</td>\n",
       "      <td>Pick Up Hazelnut</td>\n",
       "      <td>1357</td>\n",
       "      <td>1345</td>\n",
       "      <td>8</td>\n",
       "      <td>3.054566</td>\n",
       "    </tr>\n",
       "    <tr>\n",
       "      <th>6238</th>\n",
       "      <td>Kitkat 2 finger choc orange 14pk</td>\n",
       "      <td>McVitie's Club  Mint x7</td>\n",
       "      <td>1357</td>\n",
       "      <td>7942</td>\n",
       "      <td>38</td>\n",
       "      <td>2.457172</td>\n",
       "    </tr>\n",
       "    <tr>\n",
       "      <th>4840</th>\n",
       "      <td>Kitkat 2 finger choc orange 14pk</td>\n",
       "      <td>POLIGRIP FLV FREE DENT FIXATIVE CRM 40G</td>\n",
       "      <td>1357</td>\n",
       "      <td>1371</td>\n",
       "      <td>6</td>\n",
       "      <td>2.247479</td>\n",
       "    </tr>\n",
       "    <tr>\n",
       "      <th>3880</th>\n",
       "      <td>Kitkat 2 finger choc orange 14pk</td>\n",
       "      <td>McVitie's Club Orange Chocolate Biscuit</td>\n",
       "      <td>1357</td>\n",
       "      <td>13215</td>\n",
       "      <td>57</td>\n",
       "      <td>2.215081</td>\n",
       "    </tr>\n",
       "    <tr>\n",
       "      <th>8955</th>\n",
       "      <td>Kitkat 2 finger choc orange 14pk</td>\n",
       "      <td>Walkers Squares Variety pack 12pk</td>\n",
       "      <td>1357</td>\n",
       "      <td>2588</td>\n",
       "      <td>11</td>\n",
       "      <td>2.182782</td>\n",
       "    </tr>\n",
       "    <tr>\n",
       "      <th>14764</th>\n",
       "      <td>Kitkat 2 finger choc orange 14pk</td>\n",
       "      <td>JS Lemon Cheesecakes 3x100g</td>\n",
       "      <td>1357</td>\n",
       "      <td>2415</td>\n",
       "      <td>10</td>\n",
       "      <td>2.126497</td>\n",
       "    </tr>\n",
       "    <tr>\n",
       "      <th>2909</th>\n",
       "      <td>Kitkat 2 finger choc orange 14pk</td>\n",
       "      <td>Cadbury Timeout 6 pack</td>\n",
       "      <td>1357</td>\n",
       "      <td>5433</td>\n",
       "      <td>22</td>\n",
       "      <td>2.079529</td>\n",
       "    </tr>\n",
       "    <tr>\n",
       "      <th>8355</th>\n",
       "      <td>Kitkat 2 finger choc orange 14pk</td>\n",
       "      <td>Bonio original 1.2kg</td>\n",
       "      <td>1357</td>\n",
       "      <td>2823</td>\n",
       "      <td>11</td>\n",
       "      <td>2.001077</td>\n",
       "    </tr>\n",
       "  </tbody>\n",
       "</table>\n",
       "</div>"
      ],
      "text/plain": [
       "                             ITEM1_NAME  \\\n",
       "2202   Kitkat 2 finger choc orange 14pk   \n",
       "15749  Kitkat 2 finger choc orange 14pk   \n",
       "14430  Kitkat 2 finger choc orange 14pk   \n",
       "6238   Kitkat 2 finger choc orange 14pk   \n",
       "4840   Kitkat 2 finger choc orange 14pk   \n",
       "3880   Kitkat 2 finger choc orange 14pk   \n",
       "8955   Kitkat 2 finger choc orange 14pk   \n",
       "14764  Kitkat 2 finger choc orange 14pk   \n",
       "2909   Kitkat 2 finger choc orange 14pk   \n",
       "8355   Kitkat 2 finger choc orange 14pk   \n",
       "\n",
       "                                    ITEM2_NAME  ITEM1_COUNT  ITEM2_COUNT  \\\n",
       "2202                   Twix biscuit 16pkt 320g         1357         2622   \n",
       "15749       Kit Kat 2 Finger White MPK 9x20.7g         1357         4494   \n",
       "14430                         Pick Up Hazelnut         1357         1345   \n",
       "6238                   McVitie's Club  Mint x7         1357         7942   \n",
       "4840   POLIGRIP FLV FREE DENT FIXATIVE CRM 40G         1357         1371   \n",
       "3880   McVitie's Club Orange Chocolate Biscuit         1357        13215   \n",
       "8955         Walkers Squares Variety pack 12pk         1357         2588   \n",
       "14764              JS Lemon Cheesecakes 3x100g         1357         2415   \n",
       "2909                    Cadbury Timeout 6 pack         1357         5433   \n",
       "8355                      Bonio original 1.2kg         1357         2823   \n",
       "\n",
       "       PAIR_COUNT      LIFT  \n",
       "2202           22  4.308954  \n",
       "15749          32  3.656780  \n",
       "14430           8  3.054566  \n",
       "6238           38  2.457172  \n",
       "4840            6  2.247479  \n",
       "3880           57  2.215081  \n",
       "8955           11  2.182782  \n",
       "14764          10  2.126497  \n",
       "2909           22  2.079529  \n",
       "8355           11  2.001077  "
      ]
     },
     "execution_count": 17,
     "metadata": {},
     "output_type": "execute_result"
    }
   ],
   "source": [
    "lift_with_names_reduced[lift_with_names_reduced['ITEM1_NAME'] == 'Kitkat 2 finger choc orange 14pk'].sort_values(by='LIFT', ascending=False).head(10)"
   ]
  },
  {
   "cell_type": "code",
   "execution_count": 18,
   "metadata": {},
   "outputs": [
    {
     "data": {
      "text/html": [
       "<div>\n",
       "<style scoped>\n",
       "    .dataframe tbody tr th:only-of-type {\n",
       "        vertical-align: middle;\n",
       "    }\n",
       "\n",
       "    .dataframe tbody tr th {\n",
       "        vertical-align: top;\n",
       "    }\n",
       "\n",
       "    .dataframe thead th {\n",
       "        text-align: right;\n",
       "    }\n",
       "</style>\n",
       "<table border=\"1\" class=\"dataframe\">\n",
       "  <thead>\n",
       "    <tr style=\"text-align: right;\">\n",
       "      <th></th>\n",
       "      <th>ITEM1_count</th>\n",
       "      <th>LIFT_mean</th>\n",
       "    </tr>\n",
       "    <tr>\n",
       "      <th>ITEM1_NAME</th>\n",
       "      <th></th>\n",
       "      <th></th>\n",
       "    </tr>\n",
       "  </thead>\n",
       "  <tbody>\n",
       "    <tr>\n",
       "      <th>Fosters 12x440ml</th>\n",
       "      <td>1</td>\n",
       "      <td>24.921497</td>\n",
       "    </tr>\n",
       "    <tr>\n",
       "      <th>Webbox turkey &amp; lamb tasty sticks x6 30g</th>\n",
       "      <td>4</td>\n",
       "      <td>18.384592</td>\n",
       "    </tr>\n",
       "    <tr>\n",
       "      <th>Felix goody bag seaside/ocean mix 60g</th>\n",
       "      <td>109</td>\n",
       "      <td>9.206150</td>\n",
       "    </tr>\n",
       "    <tr>\n",
       "      <th>Webbox salmon &amp; trout tasty stick x6 30g</th>\n",
       "      <td>22</td>\n",
       "      <td>8.630465</td>\n",
       "    </tr>\n",
       "    <tr>\n",
       "      <th>Gourmet mon petit cod/sard/salmon 6x50g</th>\n",
       "      <td>35</td>\n",
       "      <td>8.442428</td>\n",
       "    </tr>\n",
       "    <tr>\n",
       "      <th>Dreamies cat treats chicken &amp; duck 60g</th>\n",
       "      <td>66</td>\n",
       "      <td>8.277531</td>\n",
       "    </tr>\n",
       "    <tr>\n",
       "      <th>Gourmet Gold Delights chicken 8x85g</th>\n",
       "      <td>30</td>\n",
       "      <td>8.117156</td>\n",
       "    </tr>\n",
       "    <tr>\n",
       "      <th>Gourmet mon petit beef/chkn/lamb 6x50g</th>\n",
       "      <td>54</td>\n",
       "      <td>8.058495</td>\n",
       "    </tr>\n",
       "    <tr>\n",
       "      <th>Webbox cat sticks with duck x6 30g</th>\n",
       "      <td>69</td>\n",
       "      <td>7.616895</td>\n",
       "    </tr>\n",
       "    <tr>\n",
       "      <th>Dreamies cat treats tuna salmon mix 60g</th>\n",
       "      <td>104</td>\n",
       "      <td>7.459246</td>\n",
       "    </tr>\n",
       "  </tbody>\n",
       "</table>\n",
       "</div>"
      ],
      "text/plain": [
       "                                          ITEM1_count  LIFT_mean\n",
       "ITEM1_NAME                                                      \n",
       "Fosters 12x440ml                                    1  24.921497\n",
       "Webbox turkey & lamb tasty sticks x6 30g            4  18.384592\n",
       "Felix goody bag seaside/ocean mix 60g             109   9.206150\n",
       "Webbox salmon & trout tasty stick x6 30g           22   8.630465\n",
       "Gourmet mon petit cod/sard/salmon 6x50g            35   8.442428\n",
       "Dreamies cat treats chicken & duck 60g             66   8.277531\n",
       "Gourmet Gold Delights chicken 8x85g                30   8.117156\n",
       "Gourmet mon petit beef/chkn/lamb 6x50g             54   8.058495\n",
       "Webbox cat sticks with duck x6 30g                 69   7.616895\n",
       "Dreamies cat treats tuna salmon mix 60g           104   7.459246"
      ]
     },
     "execution_count": 18,
     "metadata": {},
     "output_type": "execute_result"
    }
   ],
   "source": [
    "lift_with_names_reduced.groupby('ITEM1_NAME').agg(ITEM1_count=('ITEM1_NAME', 'count'), LIFT_mean=('LIFT', 'mean')).sort_values(by='LIFT_mean', ascending=False).head(10)"
   ]
  },
  {
   "cell_type": "code",
   "execution_count": 19,
   "metadata": {},
   "outputs": [
    {
     "data": {
      "text/html": [
       "<div>\n",
       "<style scoped>\n",
       "    .dataframe tbody tr th:only-of-type {\n",
       "        vertical-align: middle;\n",
       "    }\n",
       "\n",
       "    .dataframe tbody tr th {\n",
       "        vertical-align: top;\n",
       "    }\n",
       "\n",
       "    .dataframe thead th {\n",
       "        text-align: right;\n",
       "    }\n",
       "</style>\n",
       "<table border=\"1\" class=\"dataframe\">\n",
       "  <thead>\n",
       "    <tr style=\"text-align: right;\">\n",
       "      <th></th>\n",
       "      <th>ITEM1_NAME</th>\n",
       "      <th>ITEM2_NAME</th>\n",
       "      <th>ITEM1_COUNT</th>\n",
       "      <th>ITEM2_COUNT</th>\n",
       "      <th>PAIR_COUNT</th>\n",
       "      <th>LIFT</th>\n",
       "    </tr>\n",
       "  </thead>\n",
       "  <tbody>\n",
       "    <tr>\n",
       "      <th>10619</th>\n",
       "      <td>Fosters 12x440ml</td>\n",
       "      <td>JS House Malbec 225cl</td>\n",
       "      <td>258</td>\n",
       "      <td>1409</td>\n",
       "      <td>13</td>\n",
       "      <td>24.921497</td>\n",
       "    </tr>\n",
       "  </tbody>\n",
       "</table>\n",
       "</div>"
      ],
      "text/plain": [
       "             ITEM1_NAME             ITEM2_NAME  ITEM1_COUNT  ITEM2_COUNT  \\\n",
       "10619  Fosters 12x440ml  JS House Malbec 225cl          258         1409   \n",
       "\n",
       "       PAIR_COUNT       LIFT  \n",
       "10619          13  24.921497  "
      ]
     },
     "execution_count": 19,
     "metadata": {},
     "output_type": "execute_result"
    }
   ],
   "source": [
    "lift_with_names_reduced[lift_with_names_reduced['ITEM1_NAME'] == 'Fosters 12x440ml'].sort_values(by='LIFT', ascending=False).head(10)"
   ]
  },
  {
   "cell_type": "markdown",
   "metadata": {},
   "source": [
    "There is an issue because some items have few pair items"
   ]
  },
  {
   "cell_type": "code",
   "execution_count": 20,
   "metadata": {},
   "outputs": [
    {
     "data": {
      "text/html": [
       "<div>\n",
       "<style scoped>\n",
       "    .dataframe tbody tr th:only-of-type {\n",
       "        vertical-align: middle;\n",
       "    }\n",
       "\n",
       "    .dataframe tbody tr th {\n",
       "        vertical-align: top;\n",
       "    }\n",
       "\n",
       "    .dataframe thead th {\n",
       "        text-align: right;\n",
       "    }\n",
       "</style>\n",
       "<table border=\"1\" class=\"dataframe\">\n",
       "  <thead>\n",
       "    <tr style=\"text-align: right;\">\n",
       "      <th></th>\n",
       "      <th>ITEM1_NAME</th>\n",
       "      <th>ITEM2_NAME</th>\n",
       "      <th>ITEM1_COUNT</th>\n",
       "      <th>ITEM2_COUNT</th>\n",
       "      <th>PAIR_COUNT</th>\n",
       "      <th>LIFT</th>\n",
       "    </tr>\n",
       "  </thead>\n",
       "  <tbody>\n",
       "    <tr>\n",
       "      <th>10619</th>\n",
       "      <td>Fosters 12x440ml</td>\n",
       "      <td>JS House Malbec 225cl</td>\n",
       "      <td>258</td>\n",
       "      <td>1409</td>\n",
       "      <td>13</td>\n",
       "      <td>24.921497</td>\n",
       "    </tr>\n",
       "    <tr>\n",
       "      <th>6456</th>\n",
       "      <td>Fosters 18x440ml</td>\n",
       "      <td>Strongbow 18x440ml</td>\n",
       "      <td>3233</td>\n",
       "      <td>1554</td>\n",
       "      <td>65</td>\n",
       "      <td>9.016093</td>\n",
       "    </tr>\n",
       "    <tr>\n",
       "      <th>9787</th>\n",
       "      <td>Fosters 18x440ml</td>\n",
       "      <td>Carling Lager 18x440ml</td>\n",
       "      <td>3233</td>\n",
       "      <td>3662</td>\n",
       "      <td>74</td>\n",
       "      <td>4.355815</td>\n",
       "    </tr>\n",
       "    <tr>\n",
       "      <th>5601</th>\n",
       "      <td>Fosters 18x440ml</td>\n",
       "      <td>Courvoisier VS Cognac 70cl</td>\n",
       "      <td>3233</td>\n",
       "      <td>450</td>\n",
       "      <td>9</td>\n",
       "      <td>4.311080</td>\n",
       "    </tr>\n",
       "    <tr>\n",
       "      <th>4219</th>\n",
       "      <td>Fosters 18x440ml</td>\n",
       "      <td>Nescafe Original 3in1 102g</td>\n",
       "      <td>3233</td>\n",
       "      <td>1282</td>\n",
       "      <td>24</td>\n",
       "      <td>4.035332</td>\n",
       "    </tr>\n",
       "    <tr>\n",
       "      <th>11877</th>\n",
       "      <td>Fosters 18x440ml</td>\n",
       "      <td>Thatchers Gold 10x440ml</td>\n",
       "      <td>3233</td>\n",
       "      <td>1423</td>\n",
       "      <td>24</td>\n",
       "      <td>3.635485</td>\n",
       "    </tr>\n",
       "    <tr>\n",
       "      <th>5599</th>\n",
       "      <td>Fosters 18x440ml</td>\n",
       "      <td>Birra Moretti 660ml</td>\n",
       "      <td>3233</td>\n",
       "      <td>1728</td>\n",
       "      <td>25</td>\n",
       "      <td>3.118547</td>\n",
       "    </tr>\n",
       "    <tr>\n",
       "      <th>10308</th>\n",
       "      <td>Fosters 18x440ml</td>\n",
       "      <td>JS House Malbec 225cl</td>\n",
       "      <td>3233</td>\n",
       "      <td>1409</td>\n",
       "      <td>18</td>\n",
       "      <td>2.753706</td>\n",
       "    </tr>\n",
       "    <tr>\n",
       "      <th>5224</th>\n",
       "      <td>Fosters 18x440ml</td>\n",
       "      <td>JS doggy donuts with chicken 200g</td>\n",
       "      <td>3233</td>\n",
       "      <td>1986</td>\n",
       "      <td>24</td>\n",
       "      <td>2.604882</td>\n",
       "    </tr>\n",
       "    <tr>\n",
       "      <th>10694</th>\n",
       "      <td>Fosters 18x440ml</td>\n",
       "      <td>JS House Sauvignon Blanc 75cl</td>\n",
       "      <td>3233</td>\n",
       "      <td>3198</td>\n",
       "      <td>35</td>\n",
       "      <td>2.359096</td>\n",
       "    </tr>\n",
       "  </tbody>\n",
       "</table>\n",
       "</div>"
      ],
      "text/plain": [
       "             ITEM1_NAME                         ITEM2_NAME  ITEM1_COUNT  \\\n",
       "10619  Fosters 12x440ml              JS House Malbec 225cl          258   \n",
       "6456   Fosters 18x440ml                 Strongbow 18x440ml         3233   \n",
       "9787   Fosters 18x440ml             Carling Lager 18x440ml         3233   \n",
       "5601   Fosters 18x440ml         Courvoisier VS Cognac 70cl         3233   \n",
       "4219   Fosters 18x440ml         Nescafe Original 3in1 102g         3233   \n",
       "11877  Fosters 18x440ml            Thatchers Gold 10x440ml         3233   \n",
       "5599   Fosters 18x440ml                Birra Moretti 660ml         3233   \n",
       "10308  Fosters 18x440ml              JS House Malbec 225cl         3233   \n",
       "5224   Fosters 18x440ml  JS doggy donuts with chicken 200g         3233   \n",
       "10694  Fosters 18x440ml      JS House Sauvignon Blanc 75cl         3233   \n",
       "\n",
       "       ITEM2_COUNT  PAIR_COUNT       LIFT  \n",
       "10619         1409          13  24.921497  \n",
       "6456          1554          65   9.016093  \n",
       "9787          3662          74   4.355815  \n",
       "5601           450           9   4.311080  \n",
       "4219          1282          24   4.035332  \n",
       "11877         1423          24   3.635485  \n",
       "5599          1728          25   3.118547  \n",
       "10308         1409          18   2.753706  \n",
       "5224          1986          24   2.604882  \n",
       "10694         3198          35   2.359096  "
      ]
     },
     "execution_count": 20,
     "metadata": {},
     "output_type": "execute_result"
    }
   ],
   "source": [
    "lift_with_names_reduced[lift_with_names_reduced['ITEM1_NAME'].str.contains('Fosters', case=False, na=False)].sort_values(by='LIFT', ascending=False).head(10)"
   ]
  },
  {
   "cell_type": "markdown",
   "metadata": {},
   "source": [
    "Looking at reverse lift to see if this could help with replacement item recomendations"
   ]
  },
  {
   "cell_type": "code",
   "execution_count": 21,
   "metadata": {},
   "outputs": [
    {
     "data": {
      "text/html": [
       "<div>\n",
       "<style scoped>\n",
       "    .dataframe tbody tr th:only-of-type {\n",
       "        vertical-align: middle;\n",
       "    }\n",
       "\n",
       "    .dataframe tbody tr th {\n",
       "        vertical-align: top;\n",
       "    }\n",
       "\n",
       "    .dataframe thead th {\n",
       "        text-align: right;\n",
       "    }\n",
       "</style>\n",
       "<table border=\"1\" class=\"dataframe\">\n",
       "  <thead>\n",
       "    <tr style=\"text-align: right;\">\n",
       "      <th></th>\n",
       "      <th>ITEM1_NAME</th>\n",
       "      <th>ITEM2_NAME</th>\n",
       "      <th>ITEM1_COUNT</th>\n",
       "      <th>ITEM2_COUNT</th>\n",
       "      <th>PAIR_COUNT</th>\n",
       "      <th>LIFT</th>\n",
       "    </tr>\n",
       "  </thead>\n",
       "  <tbody>\n",
       "    <tr>\n",
       "      <th>9346</th>\n",
       "      <td>Caminada Malbec 75cl</td>\n",
       "      <td>JS House Sauvignon Blanc 75cl</td>\n",
       "      <td>473</td>\n",
       "      <td>3198</td>\n",
       "      <td>8</td>\n",
       "      <td>3.685634</td>\n",
       "    </tr>\n",
       "    <tr>\n",
       "      <th>7999</th>\n",
       "      <td>Caminada Malbec 75cl</td>\n",
       "      <td>Felix AGAIL mixed selectn jelly 40x100g</td>\n",
       "      <td>473</td>\n",
       "      <td>3076</td>\n",
       "      <td>7</td>\n",
       "      <td>3.352836</td>\n",
       "    </tr>\n",
       "    <tr>\n",
       "      <th>11029</th>\n",
       "      <td>JS House Malbec 225cl</td>\n",
       "      <td>JS dental sticks medium dogs x14 360g</td>\n",
       "      <td>1409</td>\n",
       "      <td>4711</td>\n",
       "      <td>18</td>\n",
       "      <td>1.889775</td>\n",
       "    </tr>\n",
       "  </tbody>\n",
       "</table>\n",
       "</div>"
      ],
      "text/plain": [
       "                  ITEM1_NAME                               ITEM2_NAME  \\\n",
       "9346    Caminada Malbec 75cl            JS House Sauvignon Blanc 75cl   \n",
       "7999    Caminada Malbec 75cl  Felix AGAIL mixed selectn jelly 40x100g   \n",
       "11029  JS House Malbec 225cl    JS dental sticks medium dogs x14 360g   \n",
       "\n",
       "       ITEM1_COUNT  ITEM2_COUNT  PAIR_COUNT      LIFT  \n",
       "9346           473         3198           8  3.685634  \n",
       "7999           473         3076           7  3.352836  \n",
       "11029         1409         4711          18  1.889775  "
      ]
     },
     "execution_count": 21,
     "metadata": {},
     "output_type": "execute_result"
    }
   ],
   "source": [
    "lift_with_names_reduced[lift_with_names_reduced['ITEM1_NAME'].str.contains('Malbec')].sort_values(by='LIFT', ascending=False).head(10)"
   ]
  },
  {
   "cell_type": "markdown",
   "metadata": {},
   "source": [
    "## PLAN\n",
    "- Look at segment, then sub cat then cat then super cat until 4 alternative items\n",
    "- if still no alternative items fill with cosine similarity\n",
    "- order by popularity (number of orders)"
   ]
  }
 ],
 "metadata": {
  "kernelspec": {
   "display_name": ".venv",
   "language": "python",
   "name": "python3"
  },
  "language_info": {
   "codemirror_mode": {
    "name": "ipython",
    "version": 3
   },
   "file_extension": ".py",
   "mimetype": "text/x-python",
   "name": "python",
   "nbconvert_exporter": "python",
   "pygments_lexer": "ipython3",
   "version": "3.11.1"
  }
 },
 "nbformat": 4,
 "nbformat_minor": 2
}
